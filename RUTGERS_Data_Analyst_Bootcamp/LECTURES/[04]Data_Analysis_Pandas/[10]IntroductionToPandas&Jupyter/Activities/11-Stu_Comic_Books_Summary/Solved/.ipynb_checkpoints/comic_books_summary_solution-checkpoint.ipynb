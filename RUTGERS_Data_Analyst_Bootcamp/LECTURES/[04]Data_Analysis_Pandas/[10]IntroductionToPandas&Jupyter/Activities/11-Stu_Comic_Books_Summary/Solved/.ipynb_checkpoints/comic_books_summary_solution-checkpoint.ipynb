{
 "cells": [
  {
   "cell_type": "code",
   "execution_count": 15,
   "metadata": {
    "tags": []
   },
   "outputs": [],
   "source": [
    "# Import Dependencies\n",
    "import pandas as pd\n",
    "from pathlib import Path"
   ]
  },
  {
   "cell_type": "code",
   "execution_count": 16,
   "metadata": {
    "scrolled": true,
    "tags": []
   },
   "outputs": [],
   "source": [
    "# File to Load\n",
    "comics_path = Path(\"Resources/books_clean.csv\")\n",
    "\n",
    "# Read the modified Comic Books csv and store into Pandas DataFrame\n",
    "comics_df = pd.read_csv(comics_path, encoding=\"utf-8\")\n",
    "# comics_df.head()"
   ]
  },
  {
   "cell_type": "code",
   "execution_count": 17,
   "metadata": {
    "tags": []
   },
   "outputs": [],
   "source": [
    "# Calculate the number of unique authors in the DataFrame\n",
    "author_count = len(comics_df[\"Author\"].unique())\n",
    "\n",
    "# Calculate the number of unique publication countries in the DataFrame\n",
    "country_count = len(comics_df[\"Country of Publication\"].unique())\n",
    "\n",
    "# Print the number of unique authors and countries. \n",
    "# print(author_count)\n",
    "# print(country_count)"
   ]
  },
  {
   "cell_type": "code",
   "execution_count": 18,
   "metadata": {
    "tags": []
   },
   "outputs": [
    {
     "name": "stdout",
     "output_type": "stream",
     "text": [
      "1941\n",
      "2021\n"
     ]
    }
   ],
   "source": [
    "# Calculate the earliest/latest year a book was published\n",
    "earliest_year = comics_df[\"Publication Year\"].min()\n",
    "latest_year = comics_df[\"Publication Year\"].max()\n",
    "\n",
    "# Print the earliest and latest year of publication.\n",
    "print(earliest_year)\n",
    "print(latest_year)"
   ]
  },
  {
   "cell_type": "code",
   "execution_count": 20,
   "metadata": {
    "tags": []
   },
   "outputs": [
    {
     "data": {
      "text/html": [
       "<div>\n",
       "<style scoped>\n",
       "    .dataframe tbody tr th:only-of-type {\n",
       "        vertical-align: middle;\n",
       "    }\n",
       "\n",
       "    .dataframe tbody tr th {\n",
       "        vertical-align: top;\n",
       "    }\n",
       "\n",
       "    .dataframe thead th {\n",
       "        text-align: right;\n",
       "    }\n",
       "</style>\n",
       "<table border=\"1\" class=\"dataframe\">\n",
       "  <thead>\n",
       "    <tr style=\"text-align: right;\">\n",
       "      <th></th>\n",
       "      <th>Total Unique Authors</th>\n",
       "      <th>Total Unique Publication Countries</th>\n",
       "      <th>Earliest Year</th>\n",
       "      <th>Latest Year</th>\n",
       "    </tr>\n",
       "  </thead>\n",
       "  <tbody>\n",
       "    <tr>\n",
       "      <th>0</th>\n",
       "      <td>4249</td>\n",
       "      <td>62</td>\n",
       "      <td>1941</td>\n",
       "      <td>2021</td>\n",
       "    </tr>\n",
       "  </tbody>\n",
       "</table>\n",
       "</div>"
      ],
      "text/plain": [
       "   Total Unique Authors  Total Unique Publication Countries  Earliest Year  \\\n",
       "0                  4249                                  62           1941   \n",
       "\n",
       "   Latest Year  \n",
       "0         2021  "
      ]
     },
     "execution_count": 20,
     "metadata": {},
     "output_type": "execute_result"
    }
   ],
   "source": [
    "# Place all of the data found into a summary DataFrame\n",
    "summary_df = pd.DataFrame({\"Total Unique Authors\": author_count,\n",
    "                              \"Total Unique Publication Countries\": country_count,\n",
    "                              \"Earliest Year\": earliest_year,\n",
    "                              \"Latest Year\": latest_year})\n",
    "summary_df"
   ]
  },
  {
   "cell_type": "code",
   "execution_count": null,
   "metadata": {},
   "outputs": [],
   "source": []
  },
  {
   "cell_type": "code",
   "execution_count": null,
   "metadata": {},
   "outputs": [],
   "source": []
  }
 ],
 "metadata": {
  "kernelspec": {
   "display_name": "Python 3 (ipykernel)",
   "language": "python",
   "name": "python3"
  },
  "language_info": {
   "codemirror_mode": {
    "name": "ipython",
    "version": 3
   },
   "file_extension": ".py",
   "mimetype": "text/x-python",
   "name": "python",
   "nbconvert_exporter": "python",
   "pygments_lexer": "ipython3",
   "version": "3.11.4"
  }
 },
 "nbformat": 4,
 "nbformat_minor": 4
}
