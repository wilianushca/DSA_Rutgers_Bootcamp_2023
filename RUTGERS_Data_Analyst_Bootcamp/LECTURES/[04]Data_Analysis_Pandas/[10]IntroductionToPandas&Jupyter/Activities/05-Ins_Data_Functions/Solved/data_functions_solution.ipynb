{
 "cells": [
  {
   "cell_type": "code",
   "execution_count": 28,
   "metadata": {
    "tags": []
   },
   "outputs": [],
   "source": [
    "# Dependencies\n",
    "import pandas as pd\n",
    "from pathlib import Path"
   ]
  },
  {
   "cell_type": "code",
   "execution_count": 29,
   "metadata": {
    "tags": []
   },
   "outputs": [],
   "source": [
    "# Save path to the data set as a variable.\n",
    "data_file = Path(\"Resources/car_purchases.csv\")"
   ]
  },
  {
   "cell_type": "code",
   "execution_count": 31,
   "metadata": {
    "tags": []
   },
   "outputs": [],
   "source": [
    "# Use Pandas to the read data.\n",
    "data_file_df = pd.read_csv(data_file)\n",
    "# data_file_df.head()"
   ]
  },
  {
   "cell_type": "code",
   "execution_count": 34,
   "metadata": {
    "inputHidden": false,
    "outputHidden": false,
    "tags": []
   },
   "outputs": [],
   "source": [
    "# # Display a statistical overview of the DataFrame.\n",
    "# data_file_df.describe()"
   ]
  },
  {
   "cell_type": "code",
   "execution_count": 37,
   "metadata": {
    "tags": []
   },
   "outputs": [],
   "source": [
    "# # Reference a single column within a DataFrame.\n",
    "# data_file_df[\"Amount\"].head()"
   ]
  },
  {
   "cell_type": "code",
   "execution_count": 39,
   "metadata": {
    "tags": []
   },
   "outputs": [],
   "source": [
    "# # Reference multiple columns within a DataFrame.\n",
    "# data_file_df[[\"Amount\", \"Gender\"]].head()"
   ]
  },
  {
   "cell_type": "code",
   "execution_count": 41,
   "metadata": {
    "tags": []
   },
   "outputs": [],
   "source": [
    "# # The mean method averages the series\n",
    "# average = data_file_df[\"Amount\"].mean()\n",
    "# average"
   ]
  },
  {
   "cell_type": "code",
   "execution_count": 43,
   "metadata": {
    "tags": []
   },
   "outputs": [],
   "source": [
    "# # The sum method adds every entry in the series\n",
    "# total = data_file_df[\"Amount\"].sum()\n",
    "# total"
   ]
  },
  {
   "cell_type": "code",
   "execution_count": 45,
   "metadata": {
    "tags": []
   },
   "outputs": [],
   "source": [
    "# # The unique method shows every element only once\n",
    "# unique = data_file_df[\"Car\"].unique()\n",
    "# unique"
   ]
  },
  {
   "cell_type": "code",
   "execution_count": 47,
   "metadata": {
    "tags": []
   },
   "outputs": [],
   "source": [
    "# # The value_counts method counts unique values in a column\n",
    "# count = data_file_df[\"Gender\"].value_counts()\n",
    "# count"
   ]
  },
  {
   "cell_type": "code",
   "execution_count": 48,
   "metadata": {
    "tags": []
   },
   "outputs": [
    {
     "data": {
      "text/html": [
       "<div>\n",
       "<style scoped>\n",
       "    .dataframe tbody tr th:only-of-type {\n",
       "        vertical-align: middle;\n",
       "    }\n",
       "\n",
       "    .dataframe tbody tr th {\n",
       "        vertical-align: top;\n",
       "    }\n",
       "\n",
       "    .dataframe thead th {\n",
       "        text-align: right;\n",
       "    }\n",
       "</style>\n",
       "<table border=\"1\" class=\"dataframe\">\n",
       "  <thead>\n",
       "    <tr style=\"text-align: right;\">\n",
       "      <th></th>\n",
       "      <th>id</th>\n",
       "      <th>Full Name</th>\n",
       "      <th>Gender</th>\n",
       "      <th>Amount</th>\n",
       "      <th>Car</th>\n",
       "      <th>Thousands of Dollars</th>\n",
       "    </tr>\n",
       "  </thead>\n",
       "  <tbody>\n",
       "    <tr>\n",
       "      <th>0</th>\n",
       "      <td>1</td>\n",
       "      <td>Minnnie Rean</td>\n",
       "      <td>male</td>\n",
       "      <td>15484.5</td>\n",
       "      <td>Jeep</td>\n",
       "      <td>15.4845</td>\n",
       "    </tr>\n",
       "    <tr>\n",
       "      <th>1</th>\n",
       "      <td>2</td>\n",
       "      <td>Ursa Torricella</td>\n",
       "      <td>female</td>\n",
       "      <td>13443.3</td>\n",
       "      <td>Saturn</td>\n",
       "      <td>13.4433</td>\n",
       "    </tr>\n",
       "    <tr>\n",
       "      <th>2</th>\n",
       "      <td>3</td>\n",
       "      <td>Joyann Pirolini</td>\n",
       "      <td>male</td>\n",
       "      <td>9095.6</td>\n",
       "      <td>Ram</td>\n",
       "      <td>9.0956</td>\n",
       "    </tr>\n",
       "    <tr>\n",
       "      <th>3</th>\n",
       "      <td>4</td>\n",
       "      <td>Sharl Ridsdell</td>\n",
       "      <td>female</td>\n",
       "      <td>11871.6</td>\n",
       "      <td>Dodge</td>\n",
       "      <td>11.8716</td>\n",
       "    </tr>\n",
       "    <tr>\n",
       "      <th>4</th>\n",
       "      <td>5</td>\n",
       "      <td>Laurence Jovasevic</td>\n",
       "      <td>male</td>\n",
       "      <td>13459.8</td>\n",
       "      <td>Chrysler</td>\n",
       "      <td>13.4598</td>\n",
       "    </tr>\n",
       "  </tbody>\n",
       "</table>\n",
       "</div>"
      ],
      "text/plain": [
       "   id           Full Name  Gender   Amount       Car  Thousands of Dollars\n",
       "0   1        Minnnie Rean    male  15484.5      Jeep               15.4845\n",
       "1   2     Ursa Torricella  female  13443.3    Saturn               13.4433\n",
       "2   3     Joyann Pirolini    male   9095.6       Ram                9.0956\n",
       "3   4      Sharl Ridsdell  female  11871.6     Dodge               11.8716\n",
       "4   5  Laurence Jovasevic    male  13459.8  Chrysler               13.4598"
      ]
     },
     "execution_count": 48,
     "metadata": {},
     "output_type": "execute_result"
    }
   ],
   "source": [
    "# # Calculations can also be performed on Series and added into DataFrames as new columns\n",
    "# thousands_of_dollars = data_file_df[\"Amount\"]/1000\n",
    "# data_file_df[\"Thousands of Dollars\"] = thousands_of_dollars\n",
    "\n",
    "# data_file_df.head()"
   ]
  },
  {
   "cell_type": "code",
   "execution_count": null,
   "metadata": {},
   "outputs": [],
   "source": []
  }
 ],
 "metadata": {
  "anaconda-cloud": {},
  "kernel_info": {
   "name": "python3"
  },
  "kernelspec": {
   "display_name": "Python 3 (ipykernel)",
   "language": "python",
   "name": "python3"
  },
  "language_info": {
   "codemirror_mode": {
    "name": "ipython",
    "version": 3
   },
   "file_extension": ".py",
   "mimetype": "text/x-python",
   "name": "python",
   "nbconvert_exporter": "python",
   "pygments_lexer": "ipython3",
   "version": "3.11.4"
  },
  "nteract": {
   "version": "0.2.0"
  }
 },
 "nbformat": 4,
 "nbformat_minor": 4
}
