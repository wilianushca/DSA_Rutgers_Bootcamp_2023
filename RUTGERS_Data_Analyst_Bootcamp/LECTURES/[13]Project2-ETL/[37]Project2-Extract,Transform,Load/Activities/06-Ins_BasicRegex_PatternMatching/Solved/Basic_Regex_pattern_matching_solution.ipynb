{
 "cells": [
  {
   "cell_type": "code",
   "execution_count": 1,
   "metadata": {},
   "outputs": [],
   "source": [
    "# Import the dependencies\n",
    "import pandas as pd\n",
    "import re\n",
    "# Set the width of the columns. \n",
    "pd.options.display.max_colwidth = 200"
   ]
  },
  {
   "cell_type": "code",
   "execution_count": 2,
   "metadata": {},
   "outputs": [
    {
     "data": {
      "text/html": [
       "<div>\n",
       "<style scoped>\n",
       "    .dataframe tbody tr th:only-of-type {\n",
       "        vertical-align: middle;\n",
       "    }\n",
       "\n",
       "    .dataframe tbody tr th {\n",
       "        vertical-align: top;\n",
       "    }\n",
       "\n",
       "    .dataframe thead th {\n",
       "        text-align: right;\n",
       "    }\n",
       "</style>\n",
       "<table border=\"1\" class=\"dataframe\">\n",
       "  <thead>\n",
       "    <tr style=\"text-align: right;\">\n",
       "      <th></th>\n",
       "      <th>upc12,item_name,cases_ordered,last_ordered</th>\n",
       "    </tr>\n",
       "  </thead>\n",
       "  <tbody>\n",
       "    <tr>\n",
       "      <th>0</th>\n",
       "      <td>#1576031803,Pasta - Fusilli,5,1622507126</td>\n",
       "    </tr>\n",
       "    <tr>\n",
       "      <th>1</th>\n",
       "      <td>#6013764351,Cheese - Cottage Cheese,2,1637781492</td>\n",
       "    </tr>\n",
       "    <tr>\n",
       "      <th>2</th>\n",
       "      <td>#6305148899,Beef - Sushi Flat Iron Steak,6,1612314977</td>\n",
       "    </tr>\n",
       "    <tr>\n",
       "      <th>3</th>\n",
       "      <td>#1307609509,Chicken - Ground,4,1607654887</td>\n",
       "    </tr>\n",
       "    <tr>\n",
       "      <th>4</th>\n",
       "      <td>#7807970757,Pasta - Penne Rigate,1,1635053801</td>\n",
       "    </tr>\n",
       "    <tr>\n",
       "      <th>5</th>\n",
       "      <td>#1607928386,Chicken - Wings,10,1616511242</td>\n",
       "    </tr>\n",
       "    <tr>\n",
       "      <th>6</th>\n",
       "      <td>#5746909635,Beef - Texas Style Burger,15,1632542090</td>\n",
       "    </tr>\n",
       "    <tr>\n",
       "      <th>7</th>\n",
       "      <td>#7750071232,Shrimp - Jumbo Gulf,12,1627642089</td>\n",
       "    </tr>\n",
       "    <tr>\n",
       "      <th>8</th>\n",
       "      <td>#3050673785,Cheese - Mozzarella,2,1629086003</td>\n",
       "    </tr>\n",
       "    <tr>\n",
       "      <th>9</th>\n",
       "      <td>#1947489471,Shrimp - Argentina Red,8,1627642089</td>\n",
       "    </tr>\n",
       "  </tbody>\n",
       "</table>\n",
       "</div>"
      ],
      "text/plain": [
       "              upc12,item_name,cases_ordered,last_ordered\n",
       "0               #1576031803,Pasta - Fusilli,5,1622507126\n",
       "1       #6013764351,Cheese - Cottage Cheese,2,1637781492\n",
       "2  #6305148899,Beef - Sushi Flat Iron Steak,6,1612314977\n",
       "3              #1307609509,Chicken - Ground,4,1607654887\n",
       "4          #7807970757,Pasta - Penne Rigate,1,1635053801\n",
       "5              #1607928386,Chicken - Wings,10,1616511242\n",
       "6    #5746909635,Beef - Texas Style Burger,15,1632542090\n",
       "7          #7750071232,Shrimp - Jumbo Gulf,12,1627642089\n",
       "8           #3050673785,Cheese - Mozzarella,2,1629086003\n",
       "9        #1947489471,Shrimp - Argentina Red,8,1627642089"
      ]
     },
     "execution_count": 2,
     "metadata": {},
     "output_type": "execute_result"
    }
   ],
   "source": [
    "# Read in the dataset\n",
    "grocery_orders_df = pd.read_excel(\"../Resources/grocery_orders.xlsx\")\n",
    "grocery_orders_df"
   ]
  },
  {
   "cell_type": "code",
   "execution_count": 3,
   "metadata": {},
   "outputs": [
    {
     "data": {
      "text/plain": [
       "'upc12,item_name,cases_ordered,last_ordered'"
      ]
     },
     "execution_count": 3,
     "metadata": {},
     "output_type": "execute_result"
    }
   ],
   "source": [
    "# Use a list comprehension to get the columns in a list.\n",
    "grocery_orders_cols = grocery_orders_df.columns.to_list()\n",
    "grocery_orders_cols[0]"
   ]
  },
  {
   "cell_type": "code",
   "execution_count": 4,
   "metadata": {},
   "outputs": [
    {
     "name": "stdout",
     "output_type": "stream",
     "text": [
      "['upc12', 'item_name', 'cases_ordered', 'last_ordered']\n"
     ]
    }
   ],
   "source": [
    "# Split the item in the list on the comma.\n",
    "column_names = re.split(',', grocery_orders_cols[0])\n",
    "print(column_names)"
   ]
  },
  {
   "cell_type": "code",
   "execution_count": 5,
   "metadata": {},
   "outputs": [
    {
     "name": "stdout",
     "output_type": "stream",
     "text": [
      "['upc12', 'item_name', 'cases_ordered', 'last_ordered']\n"
     ]
    }
   ],
   "source": [
    "# Split the column on the comma using the special sequence, `\\W`.\n",
    "column_names = re.split('\\W', grocery_orders_cols[0])\n",
    "print(column_names)"
   ]
  },
  {
   "cell_type": "code",
   "execution_count": 6,
   "metadata": {},
   "outputs": [
    {
     "name": "stdout",
     "output_type": "stream",
     "text": [
      "['upc12', 'item', 'name', 'cases', 'ordered', 'last', 'ordered']\n"
     ]
    }
   ],
   "source": [
    "# Split the column on the comma and underscore.\n",
    "column_names = re.split('\\W|_', grocery_orders_cols[0])\n",
    "print(column_names)"
   ]
  },
  {
   "cell_type": "code",
   "execution_count": 7,
   "metadata": {},
   "outputs": [
    {
     "name": "stdout",
     "output_type": "stream",
     "text": [
      "['', '1576031803', 'Pasta', '', '', 'Fusilli', '5', '1622507126']\n"
     ]
    }
   ],
   "source": [
    "# Get each row into a list.\n",
    "grocery_orders_list = grocery_orders_df.values.tolist()\n",
    "\n",
    "# Split the values of the first row in the list on the non-word character.\n",
    "first_values = re.split('\\W', grocery_orders_list[0][0])\n",
    "print(first_values)"
   ]
  },
  {
   "cell_type": "markdown",
   "metadata": {},
   "source": [
    "### Matching digit characters. "
   ]
  },
  {
   "cell_type": "code",
   "execution_count": 8,
   "metadata": {},
   "outputs": [
    {
     "name": "stdout",
     "output_type": "stream",
     "text": [
      "['1', '5', '7', '6', '0', '3', '1', '8', '0', '3', '5', '1', '6', '2', '2', '5', '0', '7', '1', '2', '6']\n"
     ]
    }
   ],
   "source": [
    "# Find all the numbers\n",
    "numbers_only = re.findall('[0-9]', grocery_orders_list[0][0])\n",
    "print(numbers_only)"
   ]
  },
  {
   "cell_type": "code",
   "execution_count": 9,
   "metadata": {},
   "outputs": [
    {
     "name": "stdout",
     "output_type": "stream",
     "text": [
      "['1576031803', '5', '1622507126']\n"
     ]
    }
   ],
   "source": [
    "# Find more one or more numbers together.\n",
    "numbers_only = re.findall('[0-9]+', grocery_orders_list[0][0])\n",
    "print(numbers_only)"
   ]
  },
  {
   "cell_type": "code",
   "execution_count": 10,
   "metadata": {},
   "outputs": [
    {
     "name": "stdout",
     "output_type": "stream",
     "text": [
      "['1576031803', '1622507126']\n"
     ]
    }
   ],
   "source": [
    "# Find the ten digit numbers\n",
    "ten_digit_numbers = re.findall('[0-9]{10}', grocery_orders_list[0][0])\n",
    "print(ten_digit_numbers)"
   ]
  },
  {
   "cell_type": "markdown",
   "metadata": {},
   "source": [
    "### Matching non-digit characters"
   ]
  },
  {
   "cell_type": "code",
   "execution_count": 11,
   "metadata": {},
   "outputs": [
    {
     "name": "stdout",
     "output_type": "stream",
     "text": [
      "['#', ',', 'P', 'a', 's', 't', 'a', ' ', '-', ' ', 'F', 'u', 's', 'i', 'l', 'l', 'i', ',', ',']\n"
     ]
    }
   ],
   "source": [
    "# Find non-digit characters only.\n",
    "non_digit_only = re.findall('[^0-9]', grocery_orders_list[0][0])\n",
    "print(non_digit_only)"
   ]
  },
  {
   "cell_type": "code",
   "execution_count": 12,
   "metadata": {},
   "outputs": [
    {
     "data": {
      "text/plain": [
       "['#', ',Pasta - Fusilli,', ',']"
      ]
     },
     "execution_count": 12,
     "metadata": {},
     "output_type": "execute_result"
    }
   ],
   "source": [
    "# Find more than one non-digit characters together.\n",
    "non_digit_only = re.findall('\\D+', grocery_orders_list[0][0])\n",
    "non_digit_only"
   ]
  },
  {
   "cell_type": "code",
   "execution_count": 13,
   "metadata": {},
   "outputs": [
    {
     "data": {
      "text/plain": [
       "['3,Pasta - Fusilli,', '5,']"
      ]
     },
     "execution_count": 13,
     "metadata": {},
     "output_type": "execute_result"
    }
   ],
   "source": [
    "# To avoid the hash-tag use [^#]. \n",
    "non_digit_only = re.findall('[^#]\\D+', grocery_orders_list[0][0])\n",
    "non_digit_only"
   ]
  },
  {
   "cell_type": "code",
   "execution_count": 14,
   "metadata": {},
   "outputs": [
    {
     "data": {
      "text/plain": [
       "[',Pasta - Fusilli,']"
      ]
     },
     "execution_count": 14,
     "metadata": {},
     "output_type": "execute_result"
    }
   ],
   "source": [
    "# To avoid the numbers use [^\\d]. \n",
    "non_digit_only = re.findall('[^\\d]\\D+', grocery_orders_list[0][0])\n",
    "non_digit_only"
   ]
  },
  {
   "cell_type": "code",
   "execution_count": 15,
   "metadata": {},
   "outputs": [
    {
     "data": {
      "text/plain": [
       "['Pasta - Fusilli,']"
      ]
     },
     "execution_count": 15,
     "metadata": {},
     "output_type": "execute_result"
    }
   ],
   "source": [
    "# To avoid the leading comma and numbers use [^\\d,]. \n",
    "non_digit_only = re.findall('[^\\d,]\\D+', grocery_orders_list[0][0])\n",
    "non_digit_only"
   ]
  },
  {
   "cell_type": "code",
   "execution_count": 16,
   "metadata": {},
   "outputs": [
    {
     "data": {
      "text/plain": [
       "['Pasta - Fusilli']"
      ]
     },
     "execution_count": 16,
     "metadata": {},
     "output_type": "execute_result"
    }
   ],
   "source": [
    "# To avoid the leading and trailing comma and numbers use [^\\d,] before and after the \\D+.\n",
    "non_digit_only = re.findall('[^\\d,]\\D+[^\\d,]', grocery_orders_list[0][0])\n",
    "non_digit_only"
   ]
  },
  {
   "cell_type": "code",
   "execution_count": 17,
   "metadata": {},
   "outputs": [
    {
     "data": {
      "text/plain": [
       "['Pasta - Fusilli']"
      ]
     },
     "execution_count": 17,
     "metadata": {},
     "output_type": "execute_result"
    }
   ],
   "source": [
    "# Find only the text without non-word characters. \n",
    "non_digit_only = re.findall('[^\\d\\W]\\D+[^\\d\\W]', grocery_orders_list[0][0])\n",
    "non_digit_only"
   ]
  },
  {
   "cell_type": "code",
   "execution_count": 18,
   "metadata": {},
   "outputs": [
    {
     "name": "stdout",
     "output_type": "stream",
     "text": [
      "Pasta - Fusilli\n",
      "Cheese - Cottage Cheese\n",
      "Beef - Sushi Flat Iron Steak\n",
      "Chicken - Ground\n",
      "Pasta - Penne Rigate\n",
      "Chicken - Wings\n",
      "Beef - Texas Style Burger\n",
      "Shrimp - Jumbo Gulf\n",
      "Cheese - Mozzarella\n",
      "Shrimp - Argentina Red\n"
     ]
    }
   ],
   "source": [
    "# Use a for loop to clean up the grocery order list.\n",
    "for item in grocery_orders_list:\n",
    "    print(re.findall('[^\\d,]\\D+[^\\d,]', item[0])[0])"
   ]
  },
  {
   "cell_type": "code",
   "execution_count": 19,
   "metadata": {},
   "outputs": [
    {
     "data": {
      "text/plain": [
       "['Pasta - Fusilli',\n",
       " 'Cheese - Cottage Cheese',\n",
       " 'Beef - Sushi Flat Iron Steak',\n",
       " 'Chicken - Ground',\n",
       " 'Pasta - Penne Rigate',\n",
       " 'Chicken - Wings',\n",
       " 'Beef - Texas Style Burger',\n",
       " 'Shrimp - Jumbo Gulf',\n",
       " 'Cheese - Mozzarella',\n",
       " 'Shrimp - Argentina Red']"
      ]
     },
     "execution_count": 19,
     "metadata": {},
     "output_type": "execute_result"
    }
   ],
   "source": [
    "# Use a list comprehension to clean up the grocery order list. \n",
    "ordered_items = [re.findall('[^\\d,]\\D+[^\\d,]', item[0])[0] for item in grocery_orders_list]\n",
    "ordered_items"
   ]
  },
  {
   "cell_type": "code",
   "execution_count": null,
   "metadata": {},
   "outputs": [],
   "source": []
  }
 ],
 "metadata": {
  "kernelspec": {
   "display_name": "Python 3 (ipykernel)",
   "language": "python",
   "name": "python3"
  },
  "language_info": {
   "codemirror_mode": {
    "name": "ipython",
    "version": 3
   },
   "file_extension": ".py",
   "mimetype": "text/x-python",
   "name": "python",
   "nbconvert_exporter": "python",
   "pygments_lexer": "ipython3",
   "version": "3.10.4"
  }
 },
 "nbformat": 4,
 "nbformat_minor": 4
}
