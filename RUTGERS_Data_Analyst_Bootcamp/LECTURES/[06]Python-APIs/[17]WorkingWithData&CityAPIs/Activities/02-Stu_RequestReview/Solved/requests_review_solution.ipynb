{
 "cells": [
  {
   "cell_type": "code",
   "execution_count": 1,
   "metadata": {},
   "outputs": [],
   "source": [
    "# Dependencies\n",
    "import json\n",
    "import requests \n",
    "from pprint import pprint"
   ]
  },
  {
   "cell_type": "code",
   "execution_count": 2,
   "metadata": {},
   "outputs": [
    {
     "data": {
      "text/plain": [
       "200"
      ]
     },
     "execution_count": 2,
     "metadata": {},
     "output_type": "execute_result"
    }
   ],
   "source": [
    "# Specify the URL\n",
    "# Create a variable to hold the URL\n",
    "url = \"https://static.bc-edx.com/data/dl-1-2/m6/lessons/2/request_review.json\"\n",
    "\n",
    "# Make request and store response \n",
    "# <requests.get()> sends an HTTP GET request to the URL specified\n",
    "response = requests.get(url)\n",
    "\n",
    "# Verify status code\n",
    "# <.status_code> status codes are three-digit numbers that indicate the outcome of an HTTP request\n",
    "response.status_code"
   ]
  },
  {
   "cell_type": "code",
   "execution_count": 3,
   "metadata": {},
   "outputs": [
    {
     "data": {
      "text/plain": [
       "'https://static.bc-edx.com/data/dl-1-2/m6/lessons/2/request_review.json'"
      ]
     },
     "execution_count": 3,
     "metadata": {},
     "output_type": "execute_result"
    }
   ],
   "source": [
    "url \n"
   ]
  },
  {
   "cell_type": "code",
   "execution_count": 4,
   "metadata": {},
   "outputs": [],
   "source": [
    "# JSON-ify response\n",
    "# <.json()> used to parse the JSON content from the HTTP response\n",
    "### and store it as a Python data structure\n",
    "response_json = response.json()"
   ]
  },
  {
   "cell_type": "code",
   "execution_count": 5,
   "metadata": {},
   "outputs": [
    {
     "data": {
      "text/plain": [
       "1000"
      ]
     },
     "execution_count": 5,
     "metadata": {},
     "output_type": "execute_result"
    }
   ],
   "source": [
    "len(response_json)"
   ]
  },
  {
   "cell_type": "code",
   "execution_count": 6,
   "metadata": {
    "scrolled": true
   },
   "outputs": [
    {
     "name": "stdout",
     "output_type": "stream",
     "text": [
      "(\"The first response is {'id': 1, 'common_name': 'Tiger cat', \"\n",
      " \"'scientific_name': 'Dasyurus maculatus', 'info': 'Curabitur at ipsum ac \"\n",
      " 'tellus semper interdum. Mauris ullamcorper purus sit amet nulla. Quisque '\n",
      " \"arcu libero, rutrum ac, lobortis vel, dapibus at, diam.', 'location': \"\n",
      " \"'Russia'}.\")\n",
      "(\"The last response is {'id': 1000, 'common_name': 'Sloth, two-toed tree', \"\n",
      " \"'scientific_name': 'Choloepus hoffmani', 'info': 'Curabitur in libero ut \"\n",
      " 'massa volutpat convallis. Morbi odio odio, elementum eu, interdum eu, '\n",
      " 'tincidunt in, leo. Maecenas pulvinar lobortis est.\\\\n\\\\nPhasellus sit amet '\n",
      " \"erat. Nulla tempus. Vivamus in felis eu sapien cursus vestibulum.', \"\n",
      " \"'location': 'United States'}.\")\n"
     ]
    }
   ],
   "source": [
    "# Print first and last articles\n",
    "# <pp.pprint()> to pretty-print the articles, along with appropriate labels.\n",
    "# <response_json[0]> access the first element (index 0) in a list or array-like data structure\n",
    "pprint(f\"The first response is {response_json[0]}.\")\n",
    "\n",
    "# <pp.pprint()> to pretty-print the articles, along with appropriate labels.\n",
    "# <response_json[-1]> will retrieve the last element from the list ([-1])\n",
    "pprint(f\"The last response is {response_json[-1]}.\")"
   ]
  },
  {
   "cell_type": "code",
   "execution_count": 7,
   "metadata": {},
   "outputs": [
    {
     "name": "stdout",
     "output_type": "stream",
     "text": [
      "We received 1000 responses.\n"
     ]
    }
   ],
   "source": [
    "# Print the number of responses\n",
    "# <len(response_json)> == 1000\n",
    "# <(f\" \")> for concatenation\n",
    "print(f\"We received {len(response_json)} responses.\")"
   ]
  },
  {
   "cell_type": "code",
   "execution_count": null,
   "metadata": {},
   "outputs": [],
   "source": []
  }
 ],
 "metadata": {
  "kernelspec": {
   "display_name": "Python 3 (ipykernel)",
   "language": "python",
   "name": "python3"
  },
  "language_info": {
   "codemirror_mode": {
    "name": "ipython",
    "version": 3
   },
   "file_extension": ".py",
   "mimetype": "text/x-python",
   "name": "python",
   "nbconvert_exporter": "python",
   "pygments_lexer": "ipython3",
   "version": "3.10.13"
  },
  "varInspector": {
   "cols": {
    "lenName": 16,
    "lenType": 16,
    "lenVar": 40
   },
   "kernels_config": {
    "python": {
     "delete_cmd_postfix": "",
     "delete_cmd_prefix": "del ",
     "library": "var_list.py",
     "varRefreshCmd": "print(var_dic_list())"
    },
    "r": {
     "delete_cmd_postfix": ") ",
     "delete_cmd_prefix": "rm(",
     "library": "var_list.r",
     "varRefreshCmd": "cat(var_dic_list()) "
    }
   },
   "types_to_exclude": [
    "module",
    "function",
    "builtin_function_or_method",
    "instance",
    "_Feature"
   ],
   "window_display": false
  }
 },
 "nbformat": 4,
 "nbformat_minor": 4
}
