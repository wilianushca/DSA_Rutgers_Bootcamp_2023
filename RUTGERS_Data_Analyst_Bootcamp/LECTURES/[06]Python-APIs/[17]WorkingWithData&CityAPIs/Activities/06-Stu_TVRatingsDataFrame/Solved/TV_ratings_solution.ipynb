{
 "cells": [
  {
   "cell_type": "code",
   "execution_count": 1,
   "metadata": {},
   "outputs": [],
   "source": [
    "# Dependencies\n",
    "import requests\n",
    "import json\n",
    "import pandas as pd\n",
    "import matplotlib.pyplot as plt"
   ]
  },
  {
   "cell_type": "code",
   "execution_count": 2,
   "metadata": {},
   "outputs": [],
   "source": [
    "# list of TV show titles to query\n",
    "# Create a variable to hold a [] \n",
    "tv_shows = [\"Altered Carbon\", \"Grey's Anatomy\", \"This is Us\", \"The Flash\",\n",
    "            \"Vikings\", \"Shameless\", \"Arrow\", \"Peaky Blinders\", \"Dirk Gently\"]\n",
    "\n",
    "# TV Maze show search base URL\n",
    "# Create a variable to hold the URL\n",
    "# <\"?q=\"> is the query parameter for shows\n",
    "base_url = \"http://api.tvmaze.com/search/shows?q=\"\n",
    "\n",
    "# set up lists to hold response data for name and rating\n",
    "# Create a variable to hold a []\n",
    "titles = []\n",
    "\n",
    "# Create a variable to hold a []\n",
    "ratings = []\n",
    "\n",
    "# loop through TV show titles, make requests and parse\n",
    "# <for show in> for loop iterates through each value in 'tv_shows'\n",
    "for show in tv_shows:\n",
    "    target_url = base_url + show\n",
    "\n",
    "    # <requests.get()> sends an HTTP GET request to the URL specified\n",
    "    # <.json()> used to parse the JSON content from the HTTP response\n",
    "    ### and store it as a Python data structure\n",
    "    response = requests.get(target_url).json()\n",
    "\n",
    "    # <response[0]['show']['name']> \n",
    "    ### accesses the \"name\" key within the \"show\" {} within the first {} of 'response'\n",
    "    # <.append()> adds the 'response[0]['show']['name']' to the 'titles' []\n",
    "    titles.append(response[0]['show']['name'])\n",
    "\n",
    "    # <response[0]['show']['rating']['average']> \n",
    "    ### accesses the \"average\" key within the \"rating\" {} within the \"show\" {} within the first {} of 'response'\n",
    "    # <.append()> adds the 'response[0]['show']['rating']['average']' to the 'ratings' []\n",
    "    ratings.append(response[0]['show']['rating']['average'])"
   ]
  },
  {
   "cell_type": "code",
   "execution_count": 3,
   "metadata": {},
   "outputs": [
    {
     "data": {
      "text/plain": [
       "'http://api.tvmaze.com/search/shows?q=Dirk Gently'"
      ]
     },
     "execution_count": 3,
     "metadata": {},
     "output_type": "execute_result"
    }
   ],
   "source": [
    "# Displaying the last of the for loop previously\n",
    "target_url"
   ]
  },
  {
   "cell_type": "code",
   "execution_count": 4,
   "metadata": {},
   "outputs": [
    {
     "data": {
      "text/html": [
       "<div>\n",
       "<style scoped>\n",
       "    .dataframe tbody tr th:only-of-type {\n",
       "        vertical-align: middle;\n",
       "    }\n",
       "\n",
       "    .dataframe tbody tr th {\n",
       "        vertical-align: top;\n",
       "    }\n",
       "\n",
       "    .dataframe thead th {\n",
       "        text-align: right;\n",
       "    }\n",
       "</style>\n",
       "<table border=\"1\" class=\"dataframe\">\n",
       "  <thead>\n",
       "    <tr style=\"text-align: right;\">\n",
       "      <th></th>\n",
       "      <th>title</th>\n",
       "      <th>rating</th>\n",
       "    </tr>\n",
       "  </thead>\n",
       "  <tbody>\n",
       "    <tr>\n",
       "      <th>0</th>\n",
       "      <td>Altered Carbon</td>\n",
       "      <td>8.0</td>\n",
       "    </tr>\n",
       "    <tr>\n",
       "      <th>1</th>\n",
       "      <td>Grey's Anatomy</td>\n",
       "      <td>7.7</td>\n",
       "    </tr>\n",
       "    <tr>\n",
       "      <th>2</th>\n",
       "      <td>This Is Us</td>\n",
       "      <td>7.9</td>\n",
       "    </tr>\n",
       "    <tr>\n",
       "      <th>3</th>\n",
       "      <td>The Flash</td>\n",
       "      <td>7.6</td>\n",
       "    </tr>\n",
       "    <tr>\n",
       "      <th>4</th>\n",
       "      <td>Vikings</td>\n",
       "      <td>8.6</td>\n",
       "    </tr>\n",
       "    <tr>\n",
       "      <th>5</th>\n",
       "      <td>Shameless</td>\n",
       "      <td>8.5</td>\n",
       "    </tr>\n",
       "    <tr>\n",
       "      <th>6</th>\n",
       "      <td>Arrow</td>\n",
       "      <td>7.4</td>\n",
       "    </tr>\n",
       "    <tr>\n",
       "      <th>7</th>\n",
       "      <td>Peaky Blinders</td>\n",
       "      <td>8.5</td>\n",
       "    </tr>\n",
       "    <tr>\n",
       "      <th>8</th>\n",
       "      <td>Dirk Gently</td>\n",
       "      <td>7.4</td>\n",
       "    </tr>\n",
       "  </tbody>\n",
       "</table>\n",
       "</div>"
      ],
      "text/plain": [
       "            title  rating\n",
       "0  Altered Carbon     8.0\n",
       "1  Grey's Anatomy     7.7\n",
       "2      This Is Us     7.9\n",
       "3       The Flash     7.6\n",
       "4         Vikings     8.6\n",
       "5       Shameless     8.5\n",
       "6           Arrow     7.4\n",
       "7  Peaky Blinders     8.5\n",
       "8     Dirk Gently     7.4"
      ]
     },
     "execution_count": 4,
     "metadata": {},
     "output_type": "execute_result"
    }
   ],
   "source": [
    "# create DataFrame\n",
    "# <pd.DataFrame()> used to create a pandas DataFrame\n",
    "# DF name is 'shows_df'\n",
    "shows_df = pd.DataFrame({\n",
    "    \"title\": titles,\n",
    "    \"rating\": ratings\n",
    "})\n",
    "\n",
    "shows_df"
   ]
  },
  {
   "cell_type": "code",
   "execution_count": 5,
   "metadata": {},
   "outputs": [
    {
     "data": {
      "text/plain": [
       "<Axes: xlabel='title'>"
      ]
     },
     "execution_count": 5,
     "metadata": {},
     "output_type": "execute_result"
    },
    {
     "data": {
      "image/png": "[encoded data removed]",
      "text/plain": [
       "<Figure size 1000x500 with 1 Axes>"
      ]
     },
     "metadata": {},
     "output_type": "display_data"
    }
   ],
   "source": [
    "# Plot the data\n",
    "# <.plot(x,y, kind=, figsize=, rot=)> used to create a bar plot from a DataFrame shows_df \n",
    "# <rot=45> sets the rotation angle of the x-axis labels to 45 degrees\n",
    "shows_df.plot('title', 'rating', kind='bar', figsize=(10,5), rot=45)"
   ]
  }
 ],
 "metadata": {
  "kernelspec": {
   "display_name": "Python 3 (ipykernel)",
   "language": "python",
   "name": "python3"
  },
  "language_info": {
   "codemirror_mode": {
    "name": "ipython",
    "version": 3
   },
   "file_extension": ".py",
   "mimetype": "text/x-python",
   "name": "python",
   "nbconvert_exporter": "python",
   "pygments_lexer": "ipython3",
   "version": "3.10.13"
  },
  "varInspector": {
   "cols": {
    "lenName": 16,
    "lenType": 16,
    "lenVar": 40
   },
   "kernels_config": {
    "python": {
     "delete_cmd_postfix": "",
     "delete_cmd_prefix": "del ",
     "library": "var_list.py",
     "varRefreshCmd": "print(var_dic_list())"
    },
    "r": {
     "delete_cmd_postfix": ") ",
     "delete_cmd_prefix": "rm(",
     "library": "var_list.r",
     "varRefreshCmd": "cat(var_dic_list()) "
    }
   },
   "types_to_exclude": [
    "module",
    "function",
    "builtin_function_or_method",
    "instance",
    "_Feature"
   ],
   "window_display": false
  }
 },
 "nbformat": 4,
 "nbformat_minor": 2
}
