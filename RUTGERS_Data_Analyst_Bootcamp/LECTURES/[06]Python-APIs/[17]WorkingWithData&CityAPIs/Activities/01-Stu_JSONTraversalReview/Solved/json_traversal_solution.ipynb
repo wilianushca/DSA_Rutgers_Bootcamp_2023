{
 "cells": [
  {
   "cell_type": "code",
   "execution_count": 1,
   "metadata": {},
   "outputs": [],
   "source": [
    "# Dependencies\n",
    "import json\n",
    "from pathlib import Path\n",
    "\n",
    "# Load JSON\n",
    "# Created a variable 'filepath' to create the <Path()> to 'video_api_response.json()'\n",
    "filepath = Path(\"../Resources/video_api_response.json\")\n",
    "\n",
    "# <open()> opens a file specified by the 'filepath'\n",
    "# <with> statement ensures that the file is properly closed after reading\n",
    "with open(filepath) as jsonfile:\n",
    "    # <json.load()> reads the JSON data from the () & parses it into a Python {} or []\n",
    "    video_json = json.load(jsonfile)"
   ]
  },
  {
   "cell_type": "code",
   "execution_count": 2,
   "metadata": {},
   "outputs": [
    {
     "name": "stdout",
     "output_type": "stream",
     "text": [
      "Title:  Introduction to Python Programming\n"
     ]
    }
   ],
   "source": [
    "# Isolate \"data items\" for easy reading\n",
    "# access the \"data\" key in the 'video_json'\n",
    "data = video_json[\"data\"]\n",
    "\n",
    "## access the \"items\" key in the 'data'\n",
    "# Saves as 'data_items'\n",
    "data_items = data[\"items\"]\n",
    "\n",
    "# Retrieve the video's title\n",
    "## access the \"title\" key in the first \"items\" from 'data_items'\n",
    "title = data_items[0][\"title\"]\n",
    "\n",
    "print(\"Title: \", title)"
   ]
  },
  {
   "cell_type": "code",
   "execution_count": 3,
   "metadata": {},
   "outputs": [
    {
     "name": "stdout",
     "output_type": "stream",
     "text": [
      "Rating: 2.35\n"
     ]
    }
   ],
   "source": [
    "# Retrieve the video's rating\n",
    "## access the \"rating\" key in the first \"items\" from 'data_items'\n",
    "rating = data_items[0][\"rating\"]\n",
    "\n",
    "print(\"Rating:\", rating)"
   ]
  },
  {
   "cell_type": "code",
   "execution_count": 4,
   "metadata": {},
   "outputs": [
    {
     "name": "stdout",
     "output_type": "stream",
     "text": [
      "Tags:  Python\n"
     ]
    }
   ],
   "source": [
    "# Retrieve the link to the video's first tag\n",
    "## access the first \"tag\" key of the first \"items\" from 'data_items'\n",
    "tag_one = data_items[0][\"tags\"][0]\n",
    "print(\"Tags: \", tag_one)"
   ]
  },
  {
   "cell_type": "code",
   "execution_count": 5,
   "metadata": {},
   "outputs": [
    {
     "name": "stdout",
     "output_type": "stream",
     "text": [
      "View count: 1350\n"
     ]
    }
   ],
   "source": [
    "# Retrieve the number of views this video has\n",
    "## access the \"viewCount\" key in the first \"items\" from 'data_items'\n",
    "view_count = data_items[0][\"viewCount\"]\n",
    "print(f\"View count: {view_count}\")"
   ]
  },
  {
   "cell_type": "code",
   "execution_count": null,
   "metadata": {},
   "outputs": [],
   "source": []
  }
 ],
 "metadata": {
  "kernelspec": {
   "display_name": "Python 3 (ipykernel)",
   "language": "python",
   "name": "python3"
  },
  "language_info": {
   "codemirror_mode": {
    "name": "ipython",
    "version": 3
   },
   "file_extension": ".py",
   "mimetype": "text/x-python",
   "name": "python",
   "nbconvert_exporter": "python",
   "pygments_lexer": "ipython3",
   "version": "3.10.13"
  },
  "varInspector": {
   "cols": {
    "lenName": 16,
    "lenType": 16,
    "lenVar": 40
   },
   "kernels_config": {
    "python": {
     "delete_cmd_postfix": "",
     "delete_cmd_prefix": "del ",
     "library": "var_list.py",
     "varRefreshCmd": "print(var_dic_list())"
    },
    "r": {
     "delete_cmd_postfix": ") ",
     "delete_cmd_prefix": "rm(",
     "library": "var_list.r",
     "varRefreshCmd": "cat(var_dic_list()) "
    }
   },
   "types_to_exclude": [
    "module",
    "function",
    "builtin_function_or_method",
    "instance",
    "_Feature"
   ],
   "window_display": false
  }
 },
 "nbformat": 4,
 "nbformat_minor": 2
}
