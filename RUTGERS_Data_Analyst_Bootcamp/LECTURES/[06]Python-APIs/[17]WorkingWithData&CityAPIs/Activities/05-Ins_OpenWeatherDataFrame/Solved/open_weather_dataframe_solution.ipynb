{
 "cells": [
  {
   "cell_type": "code",
   "execution_count": 1,
   "metadata": {},
   "outputs": [],
   "source": [
    "# Dependencies\n",
    "import matplotlib.pyplot as plt\n",
    "import requests\n",
    "import pandas as pd\n",
    "from config import api_key"
   ]
  },
  {
   "cell_type": "code",
   "execution_count": 2,
   "metadata": {},
   "outputs": [],
   "source": [
    "# Save config information.\n",
    "# Create a variable to hold the URL\n",
    "url = \"http://api.openweathermap.org/data/2.5/weather?\"\n",
    "\n",
    "# Create a variable to hold the value \"metric\"\n",
    "units = \"metric\"\n",
    "\n",
    "# Build partial query URL\n",
    "# <\"appid=\"> is the api_key parameter\n",
    "# <\"&q=\"> is the query parameter\n",
    "# <\"&units=\"> is the units parameter\n",
    "query_url = f\"{url}appid={api_key}&units={units}&q=\""
   ]
  },
  {
   "cell_type": "code",
   "execution_count": 3,
   "metadata": {},
   "outputs": [
    {
     "name": "stdout",
     "output_type": "stream",
     "text": [
      "The latitude information received is: [48.8534, 51.5085, 59.9127, 39.9075]\n",
      "The temperature information received is: [2.63, 2.23, -6.32, -5.06]\n"
     ]
    }
   ],
   "source": [
    "# List of cities\n",
    "cities = [\"Paris\", \"London\", \"Oslo\", \"Beijing\"]\n",
    "\n",
    "# set up lists to hold response info\n",
    "# Create a variable to hold a []\n",
    "lat = []\n",
    "\n",
    "# Create a variable to hold a []\n",
    "temp = []\n",
    "\n",
    "# Loop through the list of cities and perform a request for data on each\n",
    "# <for city in> for loop iterating each value in 'cities'\n",
    "for city in cities:\n",
    "\n",
    "    # <requests.get()> sends an HTTP GET request to the URL specified\n",
    "    # <.json()> used to parse the JSON content from the HTTP response\n",
    "    ### and store it as a Python data structure\n",
    "    response = requests.get(query_url + city).json()\n",
    "\n",
    "    # accesses the \"lat\" value within the \"coord\" dictionary, within the response JSON object\n",
    "    # <.append()> adds the 'response['coord']['lat']' to the 'lat' []\n",
    "    lat.append(response['coord']['lat'])\n",
    "\n",
    "    # <.append()> adds the 'response['main']['temp']' to the 'temp' []\n",
    "    temp.append(response['main']['temp'])\n",
    "\n",
    "# <(f\" \")> for concatenation\n",
    "print(f\"The latitude information received is: {lat}\")\n",
    "\n",
    "# <(f\" \")> for concatenation\n",
    "print(f\"The temperature information received is: {temp}\")"
   ]
  },
  {
   "cell_type": "code",
   "execution_count": 4,
   "metadata": {},
   "outputs": [
    {
     "data": {
      "text/plain": [
       "'http://api.openweathermap.org/data/2.5/weather?appid=a2e646057e6a616a5ccdf60228e381ff&units=metric&q=Beijing'"
      ]
     },
     "execution_count": 4,
     "metadata": {},
     "output_type": "execute_result"
    }
   ],
   "source": [
    "(query_url + city)"
   ]
  },
  {
   "cell_type": "code",
   "execution_count": 5,
   "metadata": {},
   "outputs": [
    {
     "data": {
      "text/plain": [
       "{'coord': {'lon': 116.3972, 'lat': 39.9075},\n",
       " 'weather': [{'id': 804,\n",
       "   'main': 'Clouds',\n",
       "   'description': 'overcast clouds',\n",
       "   'icon': '04n'}],\n",
       " 'base': 'stations',\n",
       " 'main': {'temp': -5.06,\n",
       "  'feels_like': -5.06,\n",
       "  'temp_min': -5.06,\n",
       "  'temp_max': -5.06,\n",
       "  'pressure': 1029,\n",
       "  'humidity': 56,\n",
       "  'sea_level': 1029,\n",
       "  'grnd_level': 1022},\n",
       " 'visibility': 10000,\n",
       " 'wind': {'speed': 0.56, 'deg': 313, 'gust': 0.62},\n",
       " 'clouds': {'all': 94},\n",
       " 'dt': 1705507571,\n",
       " 'sys': {'type': 1,\n",
       "  'id': 9609,\n",
       "  'country': 'CN',\n",
       "  'sunrise': 1705534392,\n",
       "  'sunset': 1705569324},\n",
       " 'timezone': 28800,\n",
       " 'id': 1816670,\n",
       " 'name': 'Beijing',\n",
       " 'cod': 200}"
      ]
     },
     "execution_count": 5,
     "metadata": {},
     "output_type": "execute_result"
    }
   ],
   "source": [
    "response"
   ]
  },
  {
   "cell_type": "code",
   "execution_count": 6,
   "metadata": {},
   "outputs": [
    {
     "data": {
      "text/html": [
       "<div>\n",
       "<style scoped>\n",
       "    .dataframe tbody tr th:only-of-type {\n",
       "        vertical-align: middle;\n",
       "    }\n",
       "\n",
       "    .dataframe tbody tr th {\n",
       "        vertical-align: top;\n",
       "    }\n",
       "\n",
       "    .dataframe thead th {\n",
       "        text-align: right;\n",
       "    }\n",
       "</style>\n",
       "<table border=\"1\" class=\"dataframe\">\n",
       "  <thead>\n",
       "    <tr style=\"text-align: right;\">\n",
       "      <th></th>\n",
       "      <th>city</th>\n",
       "      <th>lat</th>\n",
       "      <th>temp</th>\n",
       "    </tr>\n",
       "  </thead>\n",
       "  <tbody>\n",
       "    <tr>\n",
       "      <th>0</th>\n",
       "      <td>Paris</td>\n",
       "      <td>48.8534</td>\n",
       "      <td>2.63</td>\n",
       "    </tr>\n",
       "    <tr>\n",
       "      <th>1</th>\n",
       "      <td>London</td>\n",
       "      <td>51.5085</td>\n",
       "      <td>2.23</td>\n",
       "    </tr>\n",
       "    <tr>\n",
       "      <th>2</th>\n",
       "      <td>Oslo</td>\n",
       "      <td>59.9127</td>\n",
       "      <td>-6.32</td>\n",
       "    </tr>\n",
       "    <tr>\n",
       "      <th>3</th>\n",
       "      <td>Beijing</td>\n",
       "      <td>39.9075</td>\n",
       "      <td>-5.06</td>\n",
       "    </tr>\n",
       "  </tbody>\n",
       "</table>\n",
       "</div>"
      ],
      "text/plain": [
       "      city      lat  temp\n",
       "0    Paris  48.8534  2.63\n",
       "1   London  51.5085  2.23\n",
       "2     Oslo  59.9127 -6.32\n",
       "3  Beijing  39.9075 -5.06"
      ]
     },
     "execution_count": 6,
     "metadata": {},
     "output_type": "execute_result"
    }
   ],
   "source": [
    "# create a DataFrame from cities, lat, and temp\n",
    "# creating a dictionary named 'weather_dict'\n",
    "# dictionary has three keys: \"city,\" \"lat,\" and \"temp,\"\n",
    "weather_dict = {\n",
    "    \"city\": cities,\n",
    "    \"lat\": lat,\n",
    "    \"temp\": temp\n",
    "}\n",
    "# <pd.DataFrame()> \n",
    "# used to create a pandas DataFrame from the 'weather_dict' {}\n",
    "# Creates variable 'weather_data'\n",
    "weather_data = pd.DataFrame(weather_dict)\n",
    "weather_data"
   ]
  },
  {
   "cell_type": "code",
   "execution_count": 7,
   "metadata": {},
   "outputs": [
    {
     "data": {
      "image/png": "[encoded data removed]",
      "text/plain": [
       "<Figure size 640x480 with 1 Axes>"
      ]
     },
     "metadata": {},
     "output_type": "display_data"
    }
   ],
   "source": [
    "# Build a scatter plot for each data type\n",
    "# <plt.scatter(x,y,marker=)> is used to create a scatter plot.\n",
    "# <marker=\"o\"> == circles\n",
    "plt.scatter(weather_data[\"lat\"], weather_data[\"temp\"], marker=\"o\")\n",
    "\n",
    "# Incorporate the other graph properties\n",
    "# <plt.title()> sets the title of your scatter plot\n",
    "plt.title(\"Temperature in World Cities\")\n",
    "\n",
    "# <plt.ylabel()> sets the label for the y-axis\n",
    "plt.ylabel(\"Temperature (Celsius)\")\n",
    "\n",
    "# <plt.xlabel()> sets the label for the x-axis\n",
    "plt.xlabel(\"Latitude\")\n",
    "\n",
    "# <plt.grid()> adds gridlines to the plot\n",
    "plt.grid(True)\n",
    "\n",
    "# Save the figure\n",
    "# <plt.savefig()> used to save the current figure to a file\n",
    "# specify the file name and format (e.g., PNG, JPEG, PDF) as an argument\n",
    "plt.savefig(\"TemperatureInWorldCities.png\")\n",
    "\n",
    "# Show plot\n",
    "# <plt.show()> used to display the plot that you have configured\n",
    "plt.show()"
   ]
  }
 ],
 "metadata": {
  "kernelspec": {
   "display_name": "Python 3 (ipykernel)",
   "language": "python",
   "name": "python3"
  },
  "language_info": {
   "codemirror_mode": {
    "name": "ipython",
    "version": 3
   },
   "file_extension": ".py",
   "mimetype": "text/x-python",
   "name": "python",
   "nbconvert_exporter": "python",
   "pygments_lexer": "ipython3",
   "version": "3.10.13"
  },
  "varInspector": {
   "cols": {
    "lenName": 16,
    "lenType": 16,
    "lenVar": 40
   },
   "kernels_config": {
    "python": {
     "delete_cmd_postfix": "",
     "delete_cmd_prefix": "del ",
     "library": "var_list.py",
     "varRefreshCmd": "print(var_dic_list())"
    },
    "r": {
     "delete_cmd_postfix": ") ",
     "delete_cmd_prefix": "rm(",
     "library": "var_list.r",
     "varRefreshCmd": "cat(var_dic_list()) "
    }
   },
   "types_to_exclude": [
    "module",
    "function",
    "builtin_function_or_method",
    "instance",
    "_Feature"
   ],
   "window_display": false
  }
 },
 "nbformat": 4,
 "nbformat_minor": 2
}
