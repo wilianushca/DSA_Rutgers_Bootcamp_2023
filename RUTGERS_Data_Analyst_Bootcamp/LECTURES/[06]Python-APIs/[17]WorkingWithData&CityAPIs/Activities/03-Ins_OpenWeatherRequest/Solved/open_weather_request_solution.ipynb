{
 "cells": [
  {
   "cell_type": "code",
   "execution_count": 2,
   "metadata": {},
   "outputs": [],
   "source": [
    "# Dependencies\n",
    "import json\n",
    "import requests\n",
    "from config import api_key"
   ]
  },
  {
   "cell_type": "code",
   "execution_count": 3,
   "metadata": {},
   "outputs": [],
   "source": [
    "# Save config information\n",
    "# Create a variable to hold the URL\n",
    "url = \"http://api.openweathermap.org/data/2.5/weather?\"\n",
    "# Create a variable to hold the value \"London\"\n",
    "city = \"London\"\n",
    "\n",
    "# Build query URL\n",
    "# <\"appid=\"> is the api_key parameter\n",
    "# <\"&q=\"> is the query parameter\n",
    "query_url = url + \"appid=\" + api_key + \"&q=\" + city"
   ]
  },
  {
   "cell_type": "code",
   "execution_count": 4,
   "metadata": {},
   "outputs": [
    {
     "data": {
      "text/plain": [
       "'http://api.openweathermap.org/data/2.5/weather?appid=a2e646057e6a616a5ccdf60228e381ff&q=London'"
      ]
     },
     "execution_count": 4,
     "metadata": {},
     "output_type": "execute_result"
    }
   ],
   "source": [
    "query_url"
   ]
  },
  {
   "cell_type": "code",
   "execution_count": 5,
   "metadata": {},
   "outputs": [
    {
     "name": "stdout",
     "output_type": "stream",
     "text": [
      "The weather API responded with: {'coord': {'lon': -0.1257, 'lat': 51.5085}, 'weather': [{'id': 804, 'main': 'Clouds', 'description': 'overcast clouds', 'icon': '04d'}], 'base': 'stations', 'main': {'temp': 275.38, 'feels_like': 271.87, 'temp_min': 274.01, 'temp_max': 276.36, 'pressure': 990, 'humidity': 83}, 'visibility': 10000, 'wind': {'speed': 3.6, 'deg': 10}, 'clouds': {'all': 100}, 'dt': 1705506752, 'sys': {'type': 2, 'id': 2075535, 'country': 'GB', 'sunrise': 1705478291, 'sunset': 1705508528}, 'timezone': 0, 'id': 2643743, 'name': 'London', 'cod': 200}.\n"
     ]
    }
   ],
   "source": [
    "# Get weather data\n",
    "# <requests.get()> sends an HTTP GET request to the URL specified\n",
    "weather_response = requests.get(query_url)\n",
    "\n",
    "# <.json()> used to parse the JSON content from the HTTP response\n",
    "### and store it as a Python data structure\n",
    "weather_json = weather_response.json()\n",
    "\n",
    "# Get the temperature from the response\n",
    "# <(f\" \")> for concatenation\n",
    "print(f\"The weather API responded with: {weather_json}.\")"
   ]
  },
  {
   "cell_type": "code",
   "execution_count": null,
   "metadata": {},
   "outputs": [],
   "source": []
  }
 ],
 "metadata": {
  "kernelspec": {
   "display_name": "Python 3 (ipykernel)",
   "language": "python",
   "name": "python3"
  },
  "language_info": {
   "codemirror_mode": {
    "name": "ipython",
    "version": 3
   },
   "file_extension": ".py",
   "mimetype": "text/x-python",
   "name": "python",
   "nbconvert_exporter": "python",
   "pygments_lexer": "ipython3",
   "version": "3.10.13"
  },
  "varInspector": {
   "cols": {
    "lenName": 16,
    "lenType": 16,
    "lenVar": 40
   },
   "kernels_config": {
    "python": {
     "delete_cmd_postfix": "",
     "delete_cmd_prefix": "del ",
     "library": "var_list.py",
     "varRefreshCmd": "print(var_dic_list())"
    },
    "r": {
     "delete_cmd_postfix": ") ",
     "delete_cmd_prefix": "rm(",
     "library": "var_list.r",
     "varRefreshCmd": "cat(var_dic_list()) "
    }
   },
   "types_to_exclude": [
    "module",
    "function",
    "builtin_function_or_method",
    "instance",
    "_Feature"
   ],
   "window_display": false
  }
 },
 "nbformat": 4,
 "nbformat_minor": 2
}
