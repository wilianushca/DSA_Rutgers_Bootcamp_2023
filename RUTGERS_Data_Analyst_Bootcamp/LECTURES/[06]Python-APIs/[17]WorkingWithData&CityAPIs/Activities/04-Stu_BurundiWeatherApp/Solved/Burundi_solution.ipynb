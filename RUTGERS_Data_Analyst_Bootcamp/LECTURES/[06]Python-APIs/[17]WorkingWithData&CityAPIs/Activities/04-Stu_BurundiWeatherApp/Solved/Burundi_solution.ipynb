{
 "cells": [
  {
   "cell_type": "code",
   "execution_count": 2,
   "metadata": {},
   "outputs": [],
   "source": [
    "# Dependencies\n",
    "import requests\n",
    "from config import api_key\n",
    "\n",
    "# Save config information.\n",
    "# Create a variable to hold the URL\n",
    "url = \"http://api.openweathermap.org/data/2.5/weather?\"\n",
    "\n",
    "# Create a variable to hold the value \"Bujumbura\"\n",
    "city = \"Bujumbura\"\n",
    "\n",
    "# Create a variable to hold the value \"metric\"\n",
    "units = \"metric\""
   ]
  },
  {
   "cell_type": "code",
   "execution_count": 3,
   "metadata": {},
   "outputs": [],
   "source": [
    "# Build query URL and request your results in Celsius\n",
    "# <\"appid=\"> is the api_key parameter\n",
    "# <\"&q=\"> is the query parameter\n",
    "# <\"&units=\"> is the units parameter\n",
    "query_url = f\"{url}appid={api_key}&q={city}&units={units}\"\n",
    "\n",
    "# Get weather data\n",
    "# <requests.get()> sends an HTTP GET request to the URL specified\n",
    "weather_response = requests.get(query_url)\n",
    "\n",
    "# <.json()> used to parse the JSON content from the HTTP response\n",
    "### and store it as a Python data structure\n",
    "weather_json = weather_response.json()"
   ]
  },
  {
   "cell_type": "code",
   "execution_count": 4,
   "metadata": {},
   "outputs": [
    {
     "data": {
      "text/plain": [
       "'http://api.openweathermap.org/data/2.5/weather?appid=a2e646057e6a616a5ccdf60228e381ff&q=Bujumbura&units=metric'"
      ]
     },
     "execution_count": 4,
     "metadata": {},
     "output_type": "execute_result"
    }
   ],
   "source": [
    "query_url"
   ]
  },
  {
   "cell_type": "code",
   "execution_count": 5,
   "metadata": {},
   "outputs": [
    {
     "data": {
      "text/plain": [
       "{'coord': {'lon': 29.3644, 'lat': -3.3822},\n",
       " 'weather': [{'id': 500,\n",
       "   'main': 'Rain',\n",
       "   'description': 'light rain',\n",
       "   'icon': '10d'}],\n",
       " 'base': 'stations',\n",
       " 'main': {'temp': 23.81,\n",
       "  'feels_like': 24.44,\n",
       "  'temp_min': 23.81,\n",
       "  'temp_max': 23.81,\n",
       "  'pressure': 1013,\n",
       "  'humidity': 84,\n",
       "  'sea_level': 1013,\n",
       "  'grnd_level': 925},\n",
       " 'visibility': 10000,\n",
       " 'wind': {'speed': 2.51, 'deg': 189, 'gust': 3.26},\n",
       " 'rain': {'1h': 0.68},\n",
       " 'clouds': {'all': 99},\n",
       " 'dt': 1705507445,\n",
       " 'sys': {'country': 'BI', 'sunrise': 1705464207, 'sunset': 1705508454},\n",
       " 'timezone': 7200,\n",
       " 'id': 425378,\n",
       " 'name': 'Bujumbura',\n",
       " 'cod': 200}"
      ]
     },
     "execution_count": 5,
     "metadata": {},
     "output_type": "execute_result"
    }
   ],
   "source": [
    "weather_json"
   ]
  },
  {
   "cell_type": "code",
   "execution_count": 6,
   "metadata": {},
   "outputs": [],
   "source": [
    "# Get temperature from JSON response\n",
    "# accesses the \"temp\" value within the \"main\" dictionary, within the JSON object\n",
    "temperature = weather_json[\"main\"][\"temp\"]"
   ]
  },
  {
   "cell_type": "code",
   "execution_count": 7,
   "metadata": {},
   "outputs": [
    {
     "name": "stdout",
     "output_type": "stream",
     "text": [
      "The temperature in Bujumbura is 23.81 C.\n"
     ]
    }
   ],
   "source": [
    "# Report temperature\n",
    "# <(f\" \")> for concatenation\n",
    "print(f\"The temperature in Bujumbura is {temperature} C.\")"
   ]
  },
  {
   "cell_type": "code",
   "execution_count": 8,
   "metadata": {},
   "outputs": [
    {
     "name": "stdout",
     "output_type": "stream",
     "text": [
      "The temperature in Bujumbura is 23.81C or 74.86F.\n"
     ]
    }
   ],
   "source": [
    "# BONUS\n",
    "\n",
    "# use list of units\n",
    "# Create a variable to hold the values \"metric\" & \"imperial\"\n",
    "units = [\"metric\", \"imperial\"]\n",
    "\n",
    "# set up list to hold two different temperatures\n",
    "# Create a variable to hold a []\n",
    "temperatures = []\n",
    "\n",
    "# loop through the list of units and append them to temperatures list\n",
    "# <for unit in> for loop iterating 'units'\n",
    "for unit in units:\n",
    "\n",
    "    # Build query URL based on current element in units\n",
    "    # <\"appid=\"> is the api_key parameter\n",
    "    # <\"&q=\"> is the query parameter\n",
    "    # <\"&units=\"> is the units parameter\n",
    "    query_url = url + \"appid=\" + api_key + \"&q=\" + city + \"&units=\" + unit\n",
    "\n",
    "    # Get weather data\n",
    "    # <requests.get()> sends an HTTP GET request to the URL specified\n",
    "    weather_response = requests.get(query_url)\n",
    "\n",
    "    # <.json()> used to parse the JSON content from the HTTP response\n",
    "    ### and store it as a Python data structure\n",
    "    weather_json = weather_response.json()\n",
    "\n",
    "    # Get temperature from JSON response\n",
    "    # accesses the \"temp\" value within the \"main\" dictionary, within the JSON object\n",
    "    temperature = weather_json[\"main\"][\"temp\"]\n",
    "\n",
    "    # <.append()> adds the 'temperature' to the 'temperatures' []\n",
    "    temperatures.append(temperature)\n",
    "\n",
    "# Report temperatures by accessing each element in the list\n",
    "# <temperatures[0]> would give you the first temperature value\n",
    "# <temperatures[1]> would give you the second temperature value (0,1)\n",
    "# <(f\" \")> for concatenation\n",
    "print(\n",
    "    f\"The temperature in Bujumbura is {temperatures[0]}C or {temperatures[1]}F.\")"
   ]
  }
 ],
 "metadata": {
  "kernelspec": {
   "display_name": "Python 3 (ipykernel)",
   "language": "python",
   "name": "python3"
  },
  "language_info": {
   "codemirror_mode": {
    "name": "ipython",
    "version": 3
   },
   "file_extension": ".py",
   "mimetype": "text/x-python",
   "name": "python",
   "nbconvert_exporter": "python",
   "pygments_lexer": "ipython3",
   "version": "3.10.13"
  },
  "varInspector": {
   "cols": {
    "lenName": 16,
    "lenType": 16,
    "lenVar": 40
   },
   "kernels_config": {
    "python": {
     "delete_cmd_postfix": "",
     "delete_cmd_prefix": "del ",
     "library": "var_list.py",
     "varRefreshCmd": "print(var_dic_list())"
    },
    "r": {
     "delete_cmd_postfix": ") ",
     "delete_cmd_prefix": "rm(",
     "library": "var_list.r",
     "varRefreshCmd": "cat(var_dic_list()) "
    }
   },
   "types_to_exclude": [
    "module",
    "function",
    "builtin_function_or_method",
    "instance",
    "_Feature"
   ],
   "window_display": false
  }
 },
 "nbformat": 4,
 "nbformat_minor": 2
}
