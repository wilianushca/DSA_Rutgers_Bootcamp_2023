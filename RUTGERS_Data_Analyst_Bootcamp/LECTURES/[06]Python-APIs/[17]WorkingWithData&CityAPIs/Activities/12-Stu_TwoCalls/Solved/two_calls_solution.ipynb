{
 "cells": [
  {
   "cell_type": "code",
   "execution_count": 1,
   "metadata": {},
   "outputs": [],
   "source": [
    "# Dependencies\n",
    "import requests\n",
    "\n",
    "# Create a variable to hold the URL\n",
    "url = \"http://api.worldbank.org/v2/\""
   ]
  },
  {
   "cell_type": "code",
   "execution_count": 2,
   "metadata": {},
   "outputs": [],
   "source": [
    "# Get the list of lending types the world bank has\n",
    "# <.get()> sends an HTTP GET request to the URL specified\n",
    "# <.json()> used to parse the JSON content from the HTTP response\n",
    "### and storrequestse it as a Python data structure\n",
    "# <?format> == query parameter 'format'\n",
    "lending_response = requests.get(f\"{url}lendingTypes?format=json\").json()\n",
    "# The list comprehension collects all the \"id\" values from the dictionaries in lending_response[1] \n",
    "### and creates a new list called lending_types that contains these extracted \"id\" values\n",
    "lending_types = [lending_type[\"id\"] for lending_type in lending_response[1]]"
   ]
  },
  {
   "cell_type": "code",
   "execution_count": 3,
   "metadata": {},
   "outputs": [
    {
     "name": "stdout",
     "output_type": "stream",
     "text": [
      "http://api.worldbank.org/v2/lendingTypes?format=json\n"
     ]
    }
   ],
   "source": [
    "print(f\"{url}lendingTypes?format=json\")"
   ]
  },
  {
   "cell_type": "code",
   "execution_count": null,
   "metadata": {},
   "outputs": [],
   "source": []
  },
  {
   "cell_type": "code",
   "execution_count": 4,
   "metadata": {},
   "outputs": [],
   "source": [
    "# Next, determine how many countries fall into each lending type.\n",
    "# Hint: Look at the first element of the response array.\n",
    "# Create a variable to hold a {}\n",
    "country_count_by_type = {}\n",
    "# <for lending_type in> for loop iterates through each value in 'lending_types'\n",
    "for lending_type in lending_types:\n",
    "    # <(f\" \")> for concatenation\n",
    "    query = f\"{url}countries?lendingType={lending_type}&format=json\"\n",
    "    response = requests.get(query).json()\n",
    "    country_count_by_type[lending_type] = response[0][\"total\"]"
   ]
  },
  {
   "cell_type": "code",
   "execution_count": 5,
   "metadata": {},
   "outputs": [
    {
     "data": {
      "text/plain": [
       "'http://api.worldbank.org/v2/countries?lendingType=LNX&format=json'"
      ]
     },
     "execution_count": 5,
     "metadata": {},
     "output_type": "execute_result"
    }
   ],
   "source": [
    "query "
   ]
  },
  {
   "cell_type": "code",
   "execution_count": 6,
   "metadata": {},
   "outputs": [
    {
     "name": "stdout",
     "output_type": "stream",
     "text": [
      "The number of countries with lending type IBD is 138.\n",
      "The number of countries with lending type IDB is 30.\n",
      "The number of countries with lending type IDX is 120.\n",
      "The number of countries with lending type LNX is 73.\n"
     ]
    }
   ],
   "source": [
    "# Print the number of countries of each lending type\n",
    "for key, value in country_count_by_type.items():\n",
    "    print(f\"The number of countries with lending type {key} is {value}.\")"
   ]
  },
  {
   "cell_type": "code",
   "execution_count": 7,
   "metadata": {},
   "outputs": [
    {
     "name": "stdout",
     "output_type": "stream",
     "text": [
      "Key: apple, Value: 3\n",
      "Key: banana, Value: 2\n",
      "Key: cherry, Value: 5\n"
     ]
    }
   ],
   "source": [
    "my_dict = {'apple': 3, 'banana': 2, 'cherry': 5}\n",
    "\n",
    "for key, value in my_dict.items():\n",
    "    print(f'Key: {key}, Value: {value}')\n"
   ]
  }
 ],
 "metadata": {
  "kernelspec": {
   "display_name": "Python 3 (ipykernel)",
   "language": "python",
   "name": "python3"
  },
  "language_info": {
   "codemirror_mode": {
    "name": "ipython",
    "version": 3
   },
   "file_extension": ".py",
   "mimetype": "text/x-python",
   "name": "python",
   "nbconvert_exporter": "python",
   "pygments_lexer": "ipython3",
   "version": "3.10.13"
  },
  "varInspector": {
   "cols": {
    "lenName": 16,
    "lenType": 16,
    "lenVar": 40
   },
   "kernels_config": {
    "python": {
     "delete_cmd_postfix": "",
     "delete_cmd_prefix": "del ",
     "library": "var_list.py",
     "varRefreshCmd": "print(var_dic_list())"
    },
    "r": {
     "delete_cmd_postfix": ") ",
     "delete_cmd_prefix": "rm(",
     "library": "var_list.r",
     "varRefreshCmd": "cat(var_dic_list()) "
    }
   },
   "types_to_exclude": [
    "module",
    "function",
    "builtin_function_or_method",
    "instance",
    "_Feature"
   ],
   "window_display": false
  }
 },
 "nbformat": 4,
 "nbformat_minor": 2
}
