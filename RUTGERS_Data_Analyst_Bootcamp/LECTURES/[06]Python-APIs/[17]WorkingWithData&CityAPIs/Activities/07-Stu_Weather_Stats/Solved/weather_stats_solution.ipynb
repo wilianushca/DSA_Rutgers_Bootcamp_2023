{
 "cells": [
  {
   "cell_type": "code",
   "execution_count": 1,
   "metadata": {},
   "outputs": [],
   "source": [
    "# Dependencies\n",
    "import matplotlib.pyplot as plt\n",
    "import requests\n",
    "from scipy import stats\n",
    "import pandas as pd\n",
    "from config import api_key"
   ]
  },
  {
   "cell_type": "code",
   "execution_count": 2,
   "metadata": {},
   "outputs": [],
   "source": [
    "# Save config information.\n",
    "# Create a variable to hold the URL\n",
    "url = \"http://api.openweathermap.org/data/2.5/weather?\"\n",
    "\n",
    "# Create a variable to hold the value \"metric\"\n",
    "units = \"metric\"\n",
    "\n",
    "# Build partial query URL\n",
    "# <\"appid=\"> is the api_key parameter\n",
    "# <\"&q=\"> is the query parameter\n",
    "# <\"&units=\"> is the units parameter\n",
    "query_url = f\"{url}appid={api_key}&units={units}&q=\""
   ]
  },
  {
   "cell_type": "code",
   "execution_count": 4,
   "metadata": {},
   "outputs": [
    {
     "name": "stdout",
     "output_type": "stream",
     "text": [
      "The latitude information received is: [48.8534, 51.5085, 59.9127, 39.9075, 19.0144, 14.6042, 40.7143, 47.6062, 32.7668, 25.0478]\n",
      "The temperature information received is: [2.15, 2.18, -6.32, -5.06, 24.99, 24.82, -6.69, 0.93, -2.48, 19.91]\n"
     ]
    }
   ],
   "source": [
    "# List of cities\n",
    "cities = [\"Paris\", \"London\", \"Oslo\", \"Beijing\", \"Mumbai\", \"Manila\", \"New York\", \"Seattle\", \"Dallas\", \"Taipei\"]\n",
    "\n",
    "# set up lists to hold reponse info\n",
    "# Create a variable to hold a []\n",
    "lat = []\n",
    "\n",
    "# Create a variable to hold a []\n",
    "temp = []\n",
    "\n",
    "# Loop through the list of cities and perform a request for data on each\n",
    "# <for city in> for loop iterating each value in 'cities'\n",
    "for city in cities:\n",
    "\n",
    "     # <requests.get()> sends an HTTP GET request to the URL specified\n",
    "    # <.json()> used to parse the JSON content from the HTTP response\n",
    "    ### and store it as a Python data structure\n",
    "    response = requests.get(query_url + city).json()\n",
    "\n",
    "    # accesses the \"lat\" value within the \"coord\" dictionary, within the response JSON object\n",
    "    # <.append()> adds the 'response['coord']['lat']' to the 'lat' []\n",
    "    lat.append(response['coord']['lat'])\n",
    "\n",
    "    # <.append()> adds the 'response['main']['temp']' to the 'temp' []\n",
    "    temp.append(response['main']['temp'])\n",
    "\n",
    "# <(f\" \")> for concatenation\n",
    "print(f\"The latitude information received is: {lat}\")\n",
    "\n",
    "# <(f\" \")> for concatenation\n",
    "print(f\"The temperature information received is: {temp}\")"
   ]
  },
  {
   "cell_type": "code",
   "execution_count": 13,
   "metadata": {},
   "outputs": [
    {
     "data": {
      "text/plain": [
       "'http://api.openweathermap.org/data/2.5/weather?appid=a2e646057e6a616a5ccdf60228e381ff&units=metric&q=Taipei'"
      ]
     },
     "execution_count": 13,
     "metadata": {},
     "output_type": "execute_result"
    }
   ],
   "source": [
    "query_url + city"
   ]
  },
  {
   "cell_type": "code",
   "execution_count": 5,
   "metadata": {},
   "outputs": [
    {
     "data": {
      "text/html": [
       "<div>\n",
       "<style scoped>\n",
       "    .dataframe tbody tr th:only-of-type {\n",
       "        vertical-align: middle;\n",
       "    }\n",
       "\n",
       "    .dataframe tbody tr th {\n",
       "        vertical-align: top;\n",
       "    }\n",
       "\n",
       "    .dataframe thead th {\n",
       "        text-align: right;\n",
       "    }\n",
       "</style>\n",
       "<table border=\"1\" class=\"dataframe\">\n",
       "  <thead>\n",
       "    <tr style=\"text-align: right;\">\n",
       "      <th></th>\n",
       "      <th>city</th>\n",
       "      <th>lat</th>\n",
       "      <th>temp</th>\n",
       "    </tr>\n",
       "  </thead>\n",
       "  <tbody>\n",
       "    <tr>\n",
       "      <th>0</th>\n",
       "      <td>Paris</td>\n",
       "      <td>48.8534</td>\n",
       "      <td>2.15</td>\n",
       "    </tr>\n",
       "    <tr>\n",
       "      <th>1</th>\n",
       "      <td>London</td>\n",
       "      <td>51.5085</td>\n",
       "      <td>2.18</td>\n",
       "    </tr>\n",
       "    <tr>\n",
       "      <th>2</th>\n",
       "      <td>Oslo</td>\n",
       "      <td>59.9127</td>\n",
       "      <td>-6.32</td>\n",
       "    </tr>\n",
       "    <tr>\n",
       "      <th>3</th>\n",
       "      <td>Beijing</td>\n",
       "      <td>39.9075</td>\n",
       "      <td>-5.06</td>\n",
       "    </tr>\n",
       "    <tr>\n",
       "      <th>4</th>\n",
       "      <td>Mumbai</td>\n",
       "      <td>19.0144</td>\n",
       "      <td>24.99</td>\n",
       "    </tr>\n",
       "    <tr>\n",
       "      <th>5</th>\n",
       "      <td>Manila</td>\n",
       "      <td>14.6042</td>\n",
       "      <td>24.82</td>\n",
       "    </tr>\n",
       "    <tr>\n",
       "      <th>6</th>\n",
       "      <td>New York</td>\n",
       "      <td>40.7143</td>\n",
       "      <td>-6.69</td>\n",
       "    </tr>\n",
       "    <tr>\n",
       "      <th>7</th>\n",
       "      <td>Seattle</td>\n",
       "      <td>47.6062</td>\n",
       "      <td>0.93</td>\n",
       "    </tr>\n",
       "    <tr>\n",
       "      <th>8</th>\n",
       "      <td>Dallas</td>\n",
       "      <td>32.7668</td>\n",
       "      <td>-2.48</td>\n",
       "    </tr>\n",
       "    <tr>\n",
       "      <th>9</th>\n",
       "      <td>Taipei</td>\n",
       "      <td>25.0478</td>\n",
       "      <td>19.91</td>\n",
       "    </tr>\n",
       "  </tbody>\n",
       "</table>\n",
       "</div>"
      ],
      "text/plain": [
       "       city      lat   temp\n",
       "0     Paris  48.8534   2.15\n",
       "1    London  51.5085   2.18\n",
       "2      Oslo  59.9127  -6.32\n",
       "3   Beijing  39.9075  -5.06\n",
       "4    Mumbai  19.0144  24.99\n",
       "5    Manila  14.6042  24.82\n",
       "6  New York  40.7143  -6.69\n",
       "7   Seattle  47.6062   0.93\n",
       "8    Dallas  32.7668  -2.48\n",
       "9    Taipei  25.0478  19.91"
      ]
     },
     "execution_count": 5,
     "metadata": {},
     "output_type": "execute_result"
    }
   ],
   "source": [
    "# create a data frame from cities, lat, and temp\n",
    "# creating a dictionary named 'weather_dict'\n",
    "# dictionary has three keys: \"city,\" \"lat,\" and \"temp,\"\n",
    "weather_dict = {\n",
    "    \"city\": cities,\n",
    "    \"lat\": lat,\n",
    "    \"temp\": temp\n",
    "}\n",
    "# <pd.DataFrame()> \n",
    "# used to create a pandas DataFrame from the 'weather_dict' {}\n",
    "# Creates variable 'weather_data'\n",
    "weather_data = pd.DataFrame(weather_dict)\n",
    "weather_data"
   ]
  },
  {
   "cell_type": "code",
   "execution_count": 6,
   "metadata": {},
   "outputs": [
    {
     "data": {
      "image/png": "[encoded data removed]",
      "text/plain": [
       "<Figure size 640x480 with 1 Axes>"
      ]
     },
     "metadata": {},
     "output_type": "display_data"
    }
   ],
   "source": [
    "# Create a Scatter Plot for temperature vs latitude\n",
    "x_values = weather_data['lat']\n",
    "y_values = weather_data['temp']\n",
    "\n",
    "# <plt.scatter(x,y,marker=)> is used to create a scatter plot.\n",
    "plt.scatter(x_values,y_values)\n",
    "# <plt.xlabel()> sets the label for the x-axis\n",
    "plt.xlabel('Latitude')\n",
    "# <plt.ylabel()> sets the label for the y-axis\n",
    "plt.ylabel('Temperature')\n",
    "# <plt.show()> used to display the plot that you have configured\n",
    "plt.show()"
   ]
  },
  {
   "cell_type": "code",
   "execution_count": 7,
   "metadata": {},
   "outputs": [
    {
     "name": "stdout",
     "output_type": "stream",
     "text": [
      "0    -2.233127\n",
      "1    -4.109850\n",
      "2   -10.050253\n",
      "3     4.090170\n",
      "4    18.858194\n",
      "5    21.975488\n",
      "6     3.519893\n",
      "7    -1.351559\n",
      "8     9.137483\n",
      "9    14.593561\n",
      "Name: lat, dtype: float64\n"
     ]
    }
   ],
   "source": [
    "# Perform a linear regression on temperature vs. latitude\n",
    "# <stats.linregress()> calculates the least-squares linear regression parameters for a set of data points (x,y)\n",
    "# <slope> == the slope of the linear regression line\n",
    "# <intercept> == y-intercept of the linear regression line\n",
    "# <rvalue> == correlation coefficient between the x and y values\n",
    "# <pvalue> == the two-tailed p-value for testing the null hypothesis\n",
    "# <stderr> == the standard error of the estimate for the slope\n",
    "(slope, intercept, rvalue, pvalue, stderr) = stats.linregress(x_values, y_values)\n",
    "\n",
    "# Get regression values\n",
    "# Creating the slope equation\n",
    "regress_values = x_values * slope + intercept\n",
    "print(regress_values)"
   ]
  },
  {
   "cell_type": "code",
   "execution_count": 8,
   "metadata": {},
   "outputs": [
    {
     "name": "stdout",
     "output_type": "stream",
     "text": [
      "y = -0.71x +32.3\n"
     ]
    }
   ],
   "source": [
    "# Create line equation string\n",
    "# <round(' ',2)> rounding it to two decimal places\n",
    "# <str()> convert the value to a string representation\n",
    "line_eq = \"y = \" + str(round(slope,2)) + \"x +\" + str(round(intercept,2))\n",
    "print(line_eq)"
   ]
  },
  {
   "cell_type": "code",
   "execution_count": 9,
   "metadata": {},
   "outputs": [
    {
     "name": "stdout",
     "output_type": "stream",
     "text": [
      "The r-value is: 0.6764398485424473\n"
     ]
    },
    {
     "data": {
      "image/png": "[encoded data removed]",
      "text/plain": [
       "<Figure size 640x480 with 1 Axes>"
      ]
     },
     "metadata": {},
     "output_type": "display_data"
    }
   ],
   "source": [
    "# Create Plot\n",
    "# <plt.scatter(x,y)> function to create a scatter plot\n",
    "plt.scatter(x_values,y_values)\n",
    "# <plt.plot(x,y,style of line)>\n",
    "# <\"r-\"> red line with no markers\n",
    "plt.plot(x_values,regress_values,\"r-\")\n",
    "\n",
    "# Label plot and annotate the line equation\n",
    "# <plt.xlabel()> sets the label for the x-axis\n",
    "plt.xlabel('Latitude')\n",
    "# <plt.ylabel()> sets the label for the y-axis\n",
    "plt.ylabel('Temperature')\n",
    "# <plt.annotate(line_eq, (20, 5), fontsize=15, color=\"red\")>\n",
    "### <(20,5)> specifies  at the point with x-coordinate 20 and y-coordinate 5 on the plot.\n",
    "### <fontsize=15> font size of the annotation text to 15 pts.\n",
    "### <color=> specifies the color of the annotation text\n",
    "plt.annotate(line_eq,(20,5),fontsize=15,color=\"red\")\n",
    "\n",
    "# Print r value\n",
    "# <(f\" \")> for concatenation\n",
    "print(f\"The r-value is: {rvalue**2}\")\n",
    "\n",
    "# Show plot\n",
    "# <plt.show()> used to display the plot that you have configured\n",
    "plt.show()"
   ]
  },
  {
   "cell_type": "code",
   "execution_count": 10,
   "metadata": {},
   "outputs": [
    {
     "name": "stdout",
     "output_type": "stream",
     "text": [
      "The Predicted temperature for Florence will be 1.36.\n"
     ]
    }
   ],
   "source": [
    "# Calculate the temperature for Florence at 43.77 degrees\n",
    "# Create a variable to hold the value \"43.77\"\n",
    "florence_lat = 43.77\n",
    "\n",
    "# <round(' ',2)> rounding it to two decimal places\n",
    "florence_predicted_temp = round(slope * florence_lat + intercept,2)\n",
    "                                \n",
    "# <(f\" \")> for concatenation\n",
    "print(f\"The Predicted temperature for Florence will be {florence_predicted_temp}.\")"
   ]
  },
  {
   "cell_type": "code",
   "execution_count": 11,
   "metadata": {},
   "outputs": [
    {
     "name": "stdout",
     "output_type": "stream",
     "text": [
      "The actual temperature of Florence is 13.93\n"
     ]
    }
   ],
   "source": [
    "# Use API to determine actual temperature\n",
    "# <requests.get()> sends an HTTP GET request to the URL specified\n",
    "# <.json()> used to parse the JSON content from the HTTP response\n",
    "### and store it as a Python data structure\n",
    "response = requests.get(query_url + \"Florence\").json()\n",
    "\n",
    "# Accesses the 'temp' value within 'main' within the response data \n",
    "florence_actual_temp = response['main']['temp']\n",
    "\n",
    "# <(f\" \")> for concatenation\n",
    "print(f\"The actual temperature of Florence is {florence_actual_temp}\")"
   ]
  },
  {
   "cell_type": "code",
   "execution_count": null,
   "metadata": {},
   "outputs": [],
   "source": []
  }
 ],
 "metadata": {
  "kernelspec": {
   "display_name": "Python 3 (ipykernel)",
   "language": "python",
   "name": "python3"
  },
  "language_info": {
   "codemirror_mode": {
    "name": "ipython",
    "version": 3
   },
   "file_extension": ".py",
   "mimetype": "text/x-python",
   "name": "python",
   "nbconvert_exporter": "python",
   "pygments_lexer": "ipython3",
   "version": "3.10.13"
  }
 },
 "nbformat": 4,
 "nbformat_minor": 2
}
