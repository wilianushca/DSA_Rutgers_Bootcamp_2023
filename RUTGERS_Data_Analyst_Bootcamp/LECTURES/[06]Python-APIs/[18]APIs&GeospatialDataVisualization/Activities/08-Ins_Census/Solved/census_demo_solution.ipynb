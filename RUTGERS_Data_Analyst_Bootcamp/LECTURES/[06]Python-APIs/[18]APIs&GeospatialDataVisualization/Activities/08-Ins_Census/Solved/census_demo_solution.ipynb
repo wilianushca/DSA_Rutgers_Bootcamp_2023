{
 "cells": [
  {
   "cell_type": "markdown",
   "metadata": {},
   "source": [
    "# U.S. Census Demo"
   ]
  },
  {
   "cell_type": "code",
   "execution_count": 1,
   "metadata": {
    "tags": []
   },
   "outputs": [],
   "source": [
    "# Dependencies\n",
    "import requests\n",
    "import pandas as pd\n",
    "from census import Census"
   ]
  },
  {
   "cell_type": "code",
   "execution_count": 2,
   "metadata": {},
   "outputs": [],
   "source": [
    "# Import U.S. Census API Key\n",
    "from config import api_key\n",
    "\n",
    "# Create an instance of the Census library\n",
    "c = Census(\n",
    "    api_key,\n",
    "    year = 2013\n",
    ")"
   ]
  },
  {
   "cell_type": "markdown",
   "metadata": {},
   "source": [
    "## Retrieve data from the U.S. Census using the Census library\n",
    "\n",
    "References:\n",
    "\n",
    "* Review the following page to review the Python library documentation: <https://github.com/CommerceDataService/census-wrapper>\n",
    "\n",
    "* Review the following page to learn more about the data labels: <https://gist.github.com/afhaque/60558290d6efd892351c4b64e5c01e9b>"
   ]
  },
  {
   "cell_type": "code",
   "execution_count": 14,
   "metadata": {},
   "outputs": [
    {
     "ename": "SyntaxError",
     "evalue": "expected 'except' or 'finally' block (403325825.py, line 17)",
     "output_type": "error",
     "traceback": [
      "\u001b[0;36m  Cell \u001b[0;32mIn[14], line 17\u001b[0;36m\u001b[0m\n\u001b[0;31m    census_pd = pd.DataFrame(census_data)\u001b[0m\n\u001b[0m    ^\u001b[0m\n\u001b[0;31mSyntaxError\u001b[0m\u001b[0;31m:\u001b[0m expected 'except' or 'finally' block\n"
     ]
    }
   ],
   "source": [
    "# Run Census Search to retrieve data on all zip codes (2013 ACS5 Census)\n",
    "#! using the censusdata library to fetch data from the U.S. Census Bureau's\n",
    "#! American Community Survey (ACS) for various variables related to income, population,\n",
    "#! age, and poverty for zip code tabulation areas\n",
    "census_data = c.acs5.get(\n",
    "    (\n",
    "        \"NAME\",\n",
    "        \"B19013_001E\",\n",
    "        \"B01003_001E\",\n",
    "        \"B01002_001E\",\n",
    "        \"B19301_001E\",\n",
    "        \"B17001_002E\"\n",
    "    ),\n",
    "    {'for': 'zip code tabulation area:*'}\n",
    ")\n",
    "\n",
    "# Convert to DataFrame\n",
    "#! created a DataFrame (census_pd) using the data obtained from the Census API\n",
    "census_pd = pd.DataFrame(census_data)\n",
    "\n",
    "# Column renaming\n",
    "#! renaming the columns in the census_pd DataFrame for better readability\n",
    "census_pd = census_pd.rename(\n",
    "    columns = {\n",
    "        \"B01003_001E\": \"Population\",\n",
    "        \"B01002_001E\": \"Median Age\",\n",
    "        \"B19013_001E\": \"Household Income\",\n",
    "        \"B19301_001E\": \"Per Capita Income\",\n",
    "        \"B17001_002E\": \"Poverty Count\",\n",
    "        \"NAME\": \"Name\",\n",
    "        \"zip code tabulation area\": \"Zipcode\"\n",
    "    }\n",
    ")\n",
    "\n",
    "# Add a Poverty Rate column (Poverty Count / Population)\n",
    "#! calculating the \"Poverty Rate\" by adding a new column to the census_pd DataFrame\n",
    "census_pd[\"Poverty Rate\"] = 100 * census_pd[\"Poverty Count\"].astype(int) / census_pd[\"Population\"].astype(int)\n",
    "\n",
    "# Configure the final DataFrame\n",
    "#! selecting specific columns and creating a refined version of the census_pd \n",
    "census_pd = census_pd[\n",
    "    [\n",
    "        \"Zipcode\",\n",
    "        \"Population\",\n",
    "        \"Median Age\",\n",
    "        \"Household Income\",\n",
    "        \"Per Capita Income\",\n",
    "        \"Poverty Count\",\n",
    "        \"Poverty Rate\"\n",
    "    ]\n",
    "]\n",
    "\n",
    "# Display DataFrame length and sample data\n",
    "print(f\"Number of rows in the DataFrame: {len(census_pd)}\")\n",
    "census_pd.head()"
   ]
  },
  {
   "cell_type": "code",
   "execution_count": null,
   "metadata": {
    "tags": []
   },
   "outputs": [],
   "source": [
    "# Save the DataFrame as a CSV\n",
    "# Note: To avoid any issues later, use encoding=\"utf-8\"\n",
    "#! saved the census_pd DataFrame to a CSV file named \"census_data.csv\"\n",
    "#! with UTF-8 encoding, and you've excluded the index column from the CSV.\n",
    "census_pd.to_csv(\"census_data.csv\", encoding=\"utf-8\", index=False)"
   ]
  },
  {
   "cell_type": "code",
   "execution_count": null,
   "metadata": {},
   "outputs": [],
   "source": []
  }
 ],
 "metadata": {
  "anaconda-cloud": {},
  "kernelspec": {
   "display_name": "Python 3 (ipykernel)",
   "language": "python",
   "name": "python3"
  },
  "language_info": {
   "codemirror_mode": {
    "name": "ipython",
    "version": 3
   },
   "file_extension": ".py",
   "mimetype": "text/x-python",
   "name": "python",
   "nbconvert_exporter": "python",
   "pygments_lexer": "ipython3",
   "version": "3.10.4"
  },
  "latex_envs": {
   "LaTeX_envs_menu_present": true,
   "autoclose": false,
   "autocomplete": true,
   "bibliofile": "biblio.bib",
   "cite_by": "apalike",
   "current_citInitial": 1,
   "eqLabelWithNumbers": true,
   "eqNumInitial": 1,
   "hotkeys": {
    "equation": "Ctrl-E",
    "itemize": "Ctrl-I"
   },
   "labels_anchors": false,
   "latex_user_defs": false,
   "report_style_numbering": false,
   "user_envs_cfg": false
  }
 },
 "nbformat": 4,
 "nbformat_minor": 4
}
