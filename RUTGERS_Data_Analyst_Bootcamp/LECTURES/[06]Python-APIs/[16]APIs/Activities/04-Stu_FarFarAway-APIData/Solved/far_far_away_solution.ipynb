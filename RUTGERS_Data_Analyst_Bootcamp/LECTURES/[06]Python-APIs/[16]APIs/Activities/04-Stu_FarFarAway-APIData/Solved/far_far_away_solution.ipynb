{
 "cells": [
  {
   "cell_type": "code",
   "execution_count": 1,
   "metadata": {},
   "outputs": [],
   "source": [
    "# Dependencies\n",
    "import requests\n",
    "import json"
   ]
  },
  {
   "cell_type": "code",
   "execution_count": 2,
   "metadata": {},
   "outputs": [],
   "source": [
    "# URL for GET requests to retrieve Star Wars character data\n",
    "# Defined 'base_url' variable to a specific URL \n",
    "base_url = \"https://swapi.dev/api/people/\""
   ]
  },
  {
   "cell_type": "code",
   "execution_count": 3,
   "metadata": {},
   "outputs": [
    {
     "name": "stdout",
     "output_type": "stream",
     "text": [
      "https://swapi.dev/api/people/4\n"
     ]
    }
   ],
   "source": [
    "# Create a url with a specific character id\n",
    "# Creating an identifier of a Star War character\n",
    "character_id = '4'\n",
    "# co \n",
    "url = base_url + character_id\n",
    "print(url)"
   ]
  },
  {
   "cell_type": "code",
   "execution_count": 4,
   "metadata": {},
   "outputs": [
    {
     "name": "stdout",
     "output_type": "stream",
     "text": [
      "https://swapi.dev/api/people/4\n"
     ]
    }
   ],
   "source": [
    "# Perform a get request for this character\n",
    "# <requests.get()> function for making a GET request \n",
    "response = requests.get(url)\n",
    "# <response.url> contains the URL of the final resolved URL after any redirections\n",
    "print(response.url)"
   ]
  },
  {
   "cell_type": "code",
   "execution_count": 5,
   "metadata": {},
   "outputs": [
    {
     "name": "stdout",
     "output_type": "stream",
     "text": [
      "{\n",
      "    \"birth_year\": \"41.9BBY\",\n",
      "    \"created\": \"2014-12-10T15:18:20.704000Z\",\n",
      "    \"edited\": \"2014-12-20T21:17:50.313000Z\",\n",
      "    \"eye_color\": \"yellow\",\n",
      "    \"films\": [\n",
      "        \"https://swapi.dev/api/films/1/\",\n",
      "        \"https://swapi.dev/api/films/2/\",\n",
      "        \"https://swapi.dev/api/films/3/\",\n",
      "        \"https://swapi.dev/api/films/6/\"\n",
      "    ],\n",
      "    \"gender\": \"male\",\n",
      "    \"hair_color\": \"none\",\n",
      "    \"height\": \"202\",\n",
      "    \"homeworld\": \"https://swapi.dev/api/planets/1/\",\n",
      "    \"mass\": \"136\",\n",
      "    \"name\": \"Darth Vader\",\n",
      "    \"skin_color\": \"white\",\n",
      "    \"species\": [],\n",
      "    \"starships\": [\n",
      "        \"https://swapi.dev/api/starships/13/\"\n",
      "    ],\n",
      "    \"url\": \"https://swapi.dev/api/people/4/\",\n",
      "    \"vehicles\": []\n",
      "}\n"
     ]
    }
   ],
   "source": [
    "# Storing the JSON response within a variable\n",
    "# <type(.json())> will return the data type of JSON content obtained from HTTPS.\n",
    "data = response.json()\n",
    "# Use json.dumps to print the json\n",
    "# <json.dumps()> == formats the data to created a nicely format JSON string \n",
    "# <indent= \"# of spaces indented\">\n",
    "# <sort_keys=true sorts the keys>\n",
    "print(json.dumps(data, indent=4, sort_keys=True))"
   ]
  },
  {
   "cell_type": "code",
   "execution_count": 6,
   "metadata": {},
   "outputs": [
    {
     "name": "stdout",
     "output_type": "stream",
     "text": [
      "Darth Vader\n"
     ]
    }
   ],
   "source": [
    "# Print the name of the character retrieved\n",
    "# <data[\"name\"]> accesses the \"name\" key in the 'data' dictionary\n",
    "# Assigns it to the 'character_name' variable\n",
    "character_name = data[\"name\"]\n",
    "print(character_name)"
   ]
  },
  {
   "cell_type": "code",
   "execution_count": 7,
   "metadata": {},
   "outputs": [
    {
     "name": "stdout",
     "output_type": "stream",
     "text": [
      "4\n"
     ]
    }
   ],
   "source": [
    "# Print the number of films that they were in (hint: use len())\n",
    "# <data[\"film\"]> accesses the \"film\" key in the 'data' dictionary\n",
    "### <len(data[\"films\"])> calculates the length of the list obtained in step 1\n",
    "film_number = len(data[\"films\"])\n",
    "# <print()> to show the variable\n",
    "print(film_number)"
   ]
  },
  {
   "cell_type": "code",
   "execution_count": 8,
   "metadata": {},
   "outputs": [
    {
     "data": {
      "text/plain": [
       "{'name': 'TIE Advanced x1',\n",
       " 'model': 'Twin Ion Engine Advanced x1',\n",
       " 'manufacturer': 'Sienar Fleet Systems',\n",
       " 'cost_in_credits': 'unknown',\n",
       " 'length': '9.2',\n",
       " 'max_atmosphering_speed': '1200',\n",
       " 'crew': '1',\n",
       " 'passengers': '0',\n",
       " 'cargo_capacity': '150',\n",
       " 'consumables': '5 days',\n",
       " 'hyperdrive_rating': '1.0',\n",
       " 'MGLT': '105',\n",
       " 'starship_class': 'Starfighter',\n",
       " 'pilots': ['https://swapi.dev/api/people/4/'],\n",
       " 'films': ['https://swapi.dev/api/films/1/'],\n",
       " 'created': '2014-12-12T11:21:32.991000Z',\n",
       " 'edited': '2014-12-20T21:23:49.889000Z',\n",
       " 'url': 'https://swapi.dev/api/starships/13/'}"
      ]
     },
     "execution_count": 8,
     "metadata": {},
     "output_type": "execute_result"
    }
   ],
   "source": [
    "# Request the starships URI found in the starships property of the\n",
    "# previously retreived json, then use the response to figure out what this \n",
    "# character's first starship was\n",
    "\n",
    "# <data[\"starships\"]> accesses the \"starships\" key in the 'data' dictionary\n",
    "#### <[0]> The index used to access the first item\n",
    "first_ship_url = data[\"starships\"][0]\n",
    "\n",
    "# <requests.get()> function for making a GET request \n",
    "# <.json()> converts the response content into a json object. Common approach to retrieve json data\n",
    "ship_response = requests.get(first_ship_url).json()\n",
    "ship_response"
   ]
  },
  {
   "cell_type": "code",
   "execution_count": 9,
   "metadata": {},
   "outputs": [
    {
     "name": "stdout",
     "output_type": "stream",
     "text": [
      "Their first ship: TIE Advanced x1\n"
     ]
    }
   ],
   "source": [
    "# Print the name of the character's first starship\n",
    "# <ship_response[\"name\"]> accesses the \"name\" key in the 'ship_response' dictionary.\n",
    "first_ship = ship_response[\"name\"]\n",
    "# <f\" \"\"> to print out the results\n",
    "print(f\"Their first ship: {first_ship}\")"
   ]
  },
  {
   "cell_type": "code",
   "execution_count": 10,
   "metadata": {},
   "outputs": [
    {
     "name": "stdout",
     "output_type": "stream",
     "text": [
      "Darth Vader was in:\n",
      "['A New Hope', 'The Empire Strikes Back', 'Return of the Jedi', 'Revenge of the Sith']\n"
     ]
    }
   ],
   "source": [
    "# BONUS\n",
    "# Created a list [] to store film data in \n",
    "films = []\n",
    "# For loop \n",
    "# <for film in data['films']:> sets up a for loop to iterate through each fil URL in the \"films\" list of thge 'data' dictionary\n",
    "# <cur_film = requests.get(film).json()> inside the loop, you make a GET request to 'film' \n",
    "# and parses the JSON response to obtain data!\n",
    "# The film data is stored in the 'cur_film' dictionary\n",
    "# <film_title = cur_film[\"title\"]> accesses the \"title\" attribute of 'cur_film'\n",
    "# <films.append(film_title)> the film title is appended to the 'films' list\n",
    "for film in data['films']:\n",
    "    cur_film = requests.get(film).json()\n",
    "    film_title = cur_film[\"title\"]\n",
    "    films.append(film_title)\n",
    "    \n",
    "print(f\"{character_name} was in:\")\n",
    "print(films)"
   ]
  },
  {
   "cell_type": "code",
   "execution_count": null,
   "metadata": {
    "collapsed": true
   },
   "outputs": [],
   "source": []
  }
 ],
 "metadata": {
  "kernelspec": {
   "display_name": "Python 3 (ipykernel)",
   "language": "python",
   "name": "python3"
  },
  "language_info": {
   "codemirror_mode": {
    "name": "ipython",
    "version": 3
   },
   "file_extension": ".py",
   "mimetype": "text/x-python",
   "name": "python",
   "nbconvert_exporter": "python",
   "pygments_lexer": "ipython3",
   "version": "3.10.13"
  },
  "varInspector": {
   "cols": {
    "lenName": 16,
    "lenType": 16,
    "lenVar": 40
   },
   "kernels_config": {
    "python": {
     "delete_cmd_postfix": "",
     "delete_cmd_prefix": "del ",
     "library": "var_list.py",
     "varRefreshCmd": "print(var_dic_list())"
    },
    "r": {
     "delete_cmd_postfix": ") ",
     "delete_cmd_prefix": "rm(",
     "library": "var_list.r",
     "varRefreshCmd": "cat(var_dic_list()) "
    }
   },
   "types_to_exclude": [
    "module",
    "function",
    "builtin_function_or_method",
    "instance",
    "_Feature"
   ],
   "window_display": false
  }
 },
 "nbformat": 4,
 "nbformat_minor": 2
}
