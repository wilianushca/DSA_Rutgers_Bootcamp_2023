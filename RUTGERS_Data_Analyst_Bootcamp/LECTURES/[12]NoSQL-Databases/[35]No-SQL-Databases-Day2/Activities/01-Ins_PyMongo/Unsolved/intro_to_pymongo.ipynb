{
 "cells": [
  {
   "cell_type": "code",
   "execution_count": 1,
   "metadata": {},
   "outputs": [],
   "source": [
    "# Module used to connect Python with MongoDB\n"
   ]
  },
  {
   "cell_type": "code",
   "execution_count": 2,
   "metadata": {},
   "outputs": [],
   "source": [
    "# The default port used by MongoDB is 27017\n",
    "# https://docs.mongodb.com/manual/reference/default-mongodb-port/\n",
    "\n",
    "\n",
    "# Define the 'classDB' database in Mongo\n"
   ]
  },
  {
   "cell_type": "code",
   "execution_count": 3,
   "metadata": {},
   "outputs": [
    {
     "name": "stdout",
     "output_type": "stream",
     "text": [
      "{'_id': ObjectId('63c864eed7e2430dba0803a2'), 'name': 'Mariah', 'age': 23, 'favorite_python_library': 'Seaborn', 'hobbies': ['Coding', 'Reading', 'Running']}\n",
      "{'_id': ObjectId('63c864f4d7e2430dba0803a3'), 'name': 'Ricky', 'age': 34, 'favorite_python_library': 'Matplotlib', 'hobbies': ['Not Coding', 'Not Reading', 'Not Running', 'Guitar']}\n",
      "{'_id': ObjectId('63c864f6d7e2430dba0803a4'), 'name': 'Srikanth', 'age': 28, 'favorite_python_library': 'Pandas', 'hobbies': ['Netflix', 'Guitar', 'Traveling']}\n",
      "{'_id': ObjectId('63c86b37abfb810a59678569'), 'name': 'Ahmed', 'row': 3, 'favorite_python_library': 'Matplotlib', 'hobbies': ['Running', 'Stargazing', 'Reading']}\n"
     ]
    }
   ],
   "source": [
    "# Insert a document into the 'classroom' collection\n",
    "\n",
    "\n",
    "# Query the classroom collection.\n",
    "\n",
    "\n",
    "# See the data in collection\n"
   ]
  },
  {
   "cell_type": "code",
   "execution_count": 4,
   "metadata": {},
   "outputs": [
    {
     "name": "stdout",
     "output_type": "stream",
     "text": [
      "{'_id': ObjectId('63c864eed7e2430dba0803a2'), 'name': 'Mariah', 'age': 23, 'favorite_python_library': 'Seaborn', 'hobbies': ['Coding', 'Reading', 'Running']}\n",
      "{'_id': ObjectId('63c864f4d7e2430dba0803a3'), 'name': 'Ricky', 'age': 34, 'favorite_python_library': 'Matplotlib', 'hobbies': ['Not Coding', 'Not Reading', 'Not Running', 'Guitar']}\n",
      "{'_id': ObjectId('63c864f6d7e2430dba0803a4'), 'name': 'Srikanth', 'age': 28, 'favorite_python_library': 'Pandas', 'hobbies': ['Netflix', 'Guitar', 'Traveling']}\n",
      "{'_id': ObjectId('63c86b37abfb810a59678569'), 'name': 'Ahmed', 'row': 4, 'favorite_python_library': 'Matplotlib', 'hobbies': ['Running', 'Stargazing', 'Reading']}\n"
     ]
    }
   ],
   "source": [
    "# Update a document\n",
    "\n",
    "\n",
    "# Query the classroom collection\n",
    "\n",
    "\n",
    "# See the change in collection.\n"
   ]
  },
  {
   "cell_type": "code",
   "execution_count": 5,
   "metadata": {},
   "outputs": [
    {
     "name": "stdout",
     "output_type": "stream",
     "text": [
      "{'_id': ObjectId('63c864eed7e2430dba0803a2'), 'name': 'Mariah', 'age': 23, 'favorite_python_library': 'Seaborn', 'hobbies': ['Coding', 'Reading', 'Running']}\n",
      "{'_id': ObjectId('63c864f4d7e2430dba0803a3'), 'name': 'Ricky', 'age': 34, 'favorite_python_library': 'Matplotlib', 'hobbies': ['Not Coding', 'Not Reading', 'Not Running', 'Guitar']}\n",
      "{'_id': ObjectId('63c864f6d7e2430dba0803a4'), 'name': 'Srikanth', 'age': 28, 'favorite_python_library': 'Pandas', 'hobbies': ['Netflix', 'Guitar', 'Traveling']}\n",
      "{'_id': ObjectId('63c86b37abfb810a59678569'), 'name': 'Ahmed', 'row': 4, 'favorite_python_library': 'Matplotlib', 'hobbies': ['Running', 'Stargazing', 'Reading', 'Listening to country music']}\n"
     ]
    }
   ],
   "source": [
    "# Add an item to a document array\n",
    "\n",
    "\n",
    "# Query the classroom collection.\n",
    "\n",
    "\n",
    "# See the change in collection.\n"
   ]
  },
  {
   "cell_type": "code",
   "execution_count": 6,
   "metadata": {},
   "outputs": [
    {
     "name": "stdout",
     "output_type": "stream",
     "text": [
      "{'_id': ObjectId('63c864eed7e2430dba0803a2'), 'name': 'Mariah', 'age': 23, 'favorite_python_library': 'Seaborn', 'hobbies': ['Coding', 'Reading', 'Running']}\n",
      "{'_id': ObjectId('63c864f4d7e2430dba0803a3'), 'name': 'Ricky', 'age': 34, 'favorite_python_library': 'Matplotlib', 'hobbies': ['Not Coding', 'Not Reading', 'Not Running', 'Guitar']}\n",
      "{'_id': ObjectId('63c864f6d7e2430dba0803a4'), 'name': 'Srikanth', 'age': 28, 'favorite_python_library': 'Pandas', 'hobbies': ['Netflix', 'Guitar', 'Traveling']}\n",
      "{'_id': ObjectId('63c86b37abfb810a59678569'), 'name': 'Ahmed', 'favorite_python_library': 'Matplotlib', 'hobbies': ['Running', 'Stargazing', 'Reading', 'Listening to country music']}\n"
     ]
    }
   ],
   "source": [
    "# Delete a field from a document\n",
    "\n",
    "\n",
    "# Query the classroom collection\n",
    "\n",
    "\n",
    "# See the change in collection.\n"
   ]
  },
  {
   "cell_type": "code",
   "execution_count": 7,
   "metadata": {},
   "outputs": [
    {
     "name": "stdout",
     "output_type": "stream",
     "text": [
      "{'_id': ObjectId('63c864eed7e2430dba0803a2'), 'name': 'Mariah', 'age': 23, 'favorite_python_library': 'Seaborn', 'hobbies': ['Coding', 'Reading', 'Running']}\n",
      "{'_id': ObjectId('63c864f4d7e2430dba0803a3'), 'name': 'Ricky', 'age': 34, 'favorite_python_library': 'Matplotlib', 'hobbies': ['Not Coding', 'Not Reading', 'Not Running', 'Guitar']}\n",
      "{'_id': ObjectId('63c864f6d7e2430dba0803a4'), 'name': 'Srikanth', 'age': 28, 'favorite_python_library': 'Pandas', 'hobbies': ['Netflix', 'Guitar', 'Traveling']}\n"
     ]
    }
   ],
   "source": [
    "# Delete a document from a collection\n",
    "\n",
    "\n",
    "# Query the classroom collection\n",
    "\n",
    "\n",
    "# See the change in collection.\n"
   ]
  },
  {
   "cell_type": "code",
   "execution_count": null,
   "metadata": {},
   "outputs": [],
   "source": []
  }
 ],
 "metadata": {
  "kernelspec": {
   "display_name": "Python 3 (ipykernel)",
   "language": "python",
   "name": "python3"
  },
  "language_info": {
   "codemirror_mode": {
    "name": "ipython",
    "version": 3
   },
   "file_extension": ".py",
   "mimetype": "text/x-python",
   "name": "python",
   "nbconvert_exporter": "python",
   "pygments_lexer": "ipython3",
   "version": "3.10.4"
  }
 },
 "nbformat": 4,
 "nbformat_minor": 2
}
