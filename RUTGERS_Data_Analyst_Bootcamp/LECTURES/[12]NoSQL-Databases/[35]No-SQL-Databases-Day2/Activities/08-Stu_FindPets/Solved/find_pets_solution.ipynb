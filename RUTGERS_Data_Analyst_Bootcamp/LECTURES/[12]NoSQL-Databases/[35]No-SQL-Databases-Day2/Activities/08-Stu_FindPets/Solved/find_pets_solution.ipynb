{
 "cells": [
  {
   "cell_type": "code",
   "execution_count": 1,
   "id": "932766e9",
   "metadata": {},
   "outputs": [],
   "source": [
    "# Import dependencies\n",
    "from pymongo import MongoClient\n",
    "from pprint import pprint"
   ]
  },
  {
   "cell_type": "code",
   "execution_count": 2,
   "id": "9e27c2de",
   "metadata": {},
   "outputs": [],
   "source": [
    "# Create an instance of MongoClient\n",
    "mongo = MongoClient(port=27017)"
   ]
  },
  {
   "cell_type": "code",
   "execution_count": 3,
   "id": "7fcd88f2",
   "metadata": {},
   "outputs": [
    {
     "name": "stdout",
     "output_type": "stream",
     "text": [
      "['admin', 'autosaurus', 'classDB', 'config', 'epa', 'local', 'petsitly_marketing']\n"
     ]
    }
   ],
   "source": [
    "# confirm that the \"petsitly_marketing\" database is in MongoDB\n",
    "print(mongo.list_database_names())"
   ]
  },
  {
   "cell_type": "code",
   "execution_count": 4,
   "id": "d40c1869",
   "metadata": {},
   "outputs": [],
   "source": [
    "# assign the database to a variable name\n",
    "db = mongo['petsitly_marketing']"
   ]
  },
  {
   "cell_type": "code",
   "execution_count": 5,
   "id": "c9f586b6",
   "metadata": {},
   "outputs": [
    {
     "name": "stdout",
     "output_type": "stream",
     "text": [
      "['customer_list']\n"
     ]
    }
   ],
   "source": [
    "# review the collections in our new database\n",
    "print(db.list_collection_names())"
   ]
  },
  {
   "cell_type": "code",
   "execution_count": 6,
   "id": "41bd682a",
   "metadata": {},
   "outputs": [],
   "source": [
    "# assign the collection to a variable\n",
    "customers = db['customer_list']"
   ]
  },
  {
   "cell_type": "code",
   "execution_count": 7,
   "id": "bdd6a32b",
   "metadata": {},
   "outputs": [
    {
     "name": "stdout",
     "output_type": "stream",
     "text": [
      "{'2021_Total_Spend': 1017.75,\n",
      " '2021_Visits': 59,\n",
      " 'Address': '5123 Preston Plain',\n",
      " 'Customer_First': 'Victoriano',\n",
      " 'Customer_Last': 'McClure',\n",
      " 'Email': 'christopher91@yahoo.com',\n",
      " 'Pet_Type': 'dog',\n",
      " '_id': ObjectId('63c87d702592ed1be8cae5df')}\n",
      "{'2021_Total_Spend': 1483.5,\n",
      " '2021_Visits': 86,\n",
      " 'Address': '096 Jimenez Turnpike Apt. 451',\n",
      " 'Customer_First': 'Leesa',\n",
      " 'Customer_Last': 'White',\n",
      " 'Email': 'kmassey@gmail.com',\n",
      " 'Pet_Type': 'cat',\n",
      " '_id': ObjectId('63c87d702592ed1be8cae5e0')}\n"
     ]
    }
   ],
   "source": [
    "# Create a query that finds the customers who had over 50 visits in 2021\n",
    "query = {'2021_Visits': {'$gt': 50}}\n",
    "\n",
    "# Capture the results to a variable\n",
    "results = customers.find(query)\n",
    "\n",
    "# Pretty print the first two results\n",
    "for i in range(2):\n",
    "    pprint(results[i])"
   ]
  },
  {
   "cell_type": "code",
   "execution_count": 8,
   "id": "77fa0f78",
   "metadata": {},
   "outputs": [
    {
     "name": "stdout",
     "output_type": "stream",
     "text": [
      "{'2021_Total_Spend': 172.5,\n",
      " '2021_Visits': 10,\n",
      " 'Address': '68369 Harris Motorway Apt. 444',\n",
      " 'Customer_First': 'Braulio',\n",
      " 'Customer_Last': 'Daniel',\n",
      " 'Email': 'georgedavid@yahoo.com',\n",
      " 'Pet_Type': 'dog',\n",
      " '_id': ObjectId('63c87d702592ed1be8cae5eb')}\n",
      "{'2021_Total_Spend': 224.25,\n",
      " '2021_Visits': 13,\n",
      " 'Address': '8959 Juan Courts',\n",
      " 'Customer_First': 'Terrence',\n",
      " 'Customer_Last': 'Trantow',\n",
      " 'Email': 'ujohnson@hotmail.com',\n",
      " 'Pet_Type': 'fish',\n",
      " '_id': ObjectId('63c87d702592ed1be8cae5ee')}\n"
     ]
    }
   ],
   "source": [
    "# Create a query that finds the customers who spent $250 or less in 2021\n",
    "query = {'2021_Total_Spend': {'$lt': 250}}\n",
    "\n",
    "# Capture the results to a variable\n",
    "results = customers.find(query)\n",
    "\n",
    "# Pretty print the first two results\n",
    "for i in range(2):\n",
    "    pprint(results[i])"
   ]
  },
  {
   "cell_type": "code",
   "execution_count": 9,
   "id": "79f88a50",
   "metadata": {},
   "outputs": [
    {
     "name": "stdout",
     "output_type": "stream",
     "text": [
      "{'2021_Total_Spend': 1397.25,\n",
      " '2021_Visits': 81,\n",
      " 'Address': '2529 Anthony Streets Suite 146',\n",
      " 'Customer_First': 'Ines',\n",
      " 'Customer_Last': 'Monahan',\n",
      " 'Email': 'hoffmantimothy@yahoo.com',\n",
      " 'Pet_Type': 'cat',\n",
      " '_id': ObjectId('63c87d702592ed1be8cae5e3')}\n",
      "{'2021_Total_Spend': 448.5,\n",
      " '2021_Visits': 26,\n",
      " 'Address': '5359 Wilson Trafficway Suite 562',\n",
      " 'Customer_First': 'Grady',\n",
      " 'Customer_Last': 'Wyman',\n",
      " 'Email': 'garciaangela@yahoo.com',\n",
      " 'Pet_Type': 'cat',\n",
      " '_id': ObjectId('63c87d702592ed1be8cae5e5')}\n",
      "{'2021_Total_Spend': 741.75,\n",
      " '2021_Visits': 43,\n",
      " 'Address': '38128 Reyes Passage Suite 762',\n",
      " 'Customer_First': 'Charline',\n",
      " 'Customer_Last': 'Reilly',\n",
      " 'Email': 'callahancarolyn@yahoo.com',\n",
      " 'Pet_Type': 'cat',\n",
      " '_id': ObjectId('63c87d702592ed1be8cae5ef')}\n"
     ]
    }
   ],
   "source": [
    "# Create a query that finds the customer(s) who live in an apartment with \"Suite\" in the address\n",
    "query = {'Address': {'$regex': \"Suite\"}}\n",
    "\n",
    "# Capture the results to a variable\n",
    "results = customers.find(query)\n",
    "\n",
    "# Pretty print the first three results\n",
    "for i in range(3):\n",
    "    pprint(results[i])"
   ]
  },
  {
   "cell_type": "code",
   "execution_count": 10,
   "id": "50443591",
   "metadata": {},
   "outputs": [
    {
     "name": "stdout",
     "output_type": "stream",
     "text": [
      "{'2021_Total_Spend': 1311.0,\n",
      " '2021_Visits': 76,\n",
      " 'Address': '10609 Joanna Manor',\n",
      " 'Customer_First': 'Loni',\n",
      " 'Customer_Last': 'Hauck',\n",
      " 'Email': 'sjohnson@hotmail.com',\n",
      " 'Pet_Type': 'turtle',\n",
      " '_id': ObjectId('63c87d702592ed1be8cae5e9')}\n",
      "{'2021_Total_Spend': 448.5,\n",
      " '2021_Visits': 26,\n",
      " 'Address': '34500 Acevedo Plains',\n",
      " 'Customer_First': 'Consuela',\n",
      " 'Customer_Last': 'Kunze',\n",
      " 'Email': 'ycruz@gmail.com',\n",
      " 'Pet_Type': 'turtle',\n",
      " '_id': ObjectId('63c87d702592ed1be8cae5ea')}\n",
      "{'2021_Total_Spend': 224.25,\n",
      " '2021_Visits': 13,\n",
      " 'Address': '8959 Juan Courts',\n",
      " 'Customer_First': 'Terrence',\n",
      " 'Customer_Last': 'Trantow',\n",
      " 'Email': 'ujohnson@hotmail.com',\n",
      " 'Pet_Type': 'fish',\n",
      " '_id': ObjectId('63c87d702592ed1be8cae5ee')}\n"
     ]
    }
   ],
   "source": [
    "# Create a query that finds the customers who have turtles or fish\n",
    "query = {'Pet_Type': {'$in': [\"turtle\", \"fish\"]}}\n",
    "\n",
    "# Capture the results to a variable\n",
    "results = customers.find(query)\n",
    "\n",
    "# Pretty print the first three results\n",
    "for i in range(3):\n",
    "    pprint(results[i])"
   ]
  },
  {
   "cell_type": "code",
   "execution_count": null,
   "id": "fcb5f9b3",
   "metadata": {},
   "outputs": [],
   "source": []
  }
 ],
 "metadata": {
  "kernelspec": {
   "display_name": "Python 3 (ipykernel)",
   "language": "python",
   "name": "python3"
  },
  "language_info": {
   "codemirror_mode": {
    "name": "ipython",
    "version": 3
   },
   "file_extension": ".py",
   "mimetype": "text/x-python",
   "name": "python",
   "nbconvert_exporter": "python",
   "pygments_lexer": "ipython3",
   "version": "3.10.4"
  }
 },
 "nbformat": 4,
 "nbformat_minor": 5
}
