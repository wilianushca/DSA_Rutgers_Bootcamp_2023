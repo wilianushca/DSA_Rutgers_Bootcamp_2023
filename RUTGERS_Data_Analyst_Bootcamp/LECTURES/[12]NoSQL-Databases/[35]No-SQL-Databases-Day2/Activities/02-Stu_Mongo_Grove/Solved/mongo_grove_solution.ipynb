{
 "cells": [
  {
   "cell_type": "code",
   "execution_count": 1,
   "metadata": {},
   "outputs": [],
   "source": [
    "# Import dependencies\n",
    "from pymongo import MongoClient\n",
    "import datetime"
   ]
  },
  {
   "cell_type": "code",
   "execution_count": 2,
   "metadata": {},
   "outputs": [],
   "source": [
    "# The default port used by MongoDB is 27017\n",
    "# https://docs.mongodb.com/manual/reference/default-mongodb-port/\n",
    "mongo = MongoClient(port=27017)\n",
    "\n",
    "# Declare the database\n",
    "db = mongo.fruits_db\n",
    "\n",
    "# Declare the collection\n",
    "fruits = db.fruits"
   ]
  },
  {
   "cell_type": "code",
   "execution_count": 3,
   "metadata": {},
   "outputs": [
    {
     "data": {
      "text/plain": [
       "<pymongo.results.InsertOneResult at 0x7fa8027b7800>"
      ]
     },
     "execution_count": 3,
     "metadata": {},
     "output_type": "execute_result"
    }
   ],
   "source": [
    "# A dictionary that represents the document to be inserted\n",
    "post = {\n",
    "    'vendor': 'fruit star',\n",
    "    'fruit': 'raspberry',\n",
    "    'case_quantity': 21,\n",
    "    'ripeness': 2,\n",
    "    'date': datetime.datetime.utcnow()\n",
    "}\n",
    "# Pass the dictionary into `insert_one` to insert the document into the database\n",
    "# The database and collection, if they don't already exist, will be created at this point.\n",
    "fruits.insert_one(post)"
   ]
  },
  {
   "cell_type": "code",
   "execution_count": 4,
   "metadata": {},
   "outputs": [
    {
     "name": "stdout",
     "output_type": "stream",
     "text": [
      "What is the vendor name: Geo Gardeners\n",
      "What is the type of fruit: blueberries\n",
      "How many cases were received: 4\n",
      "What is the ripeness of fruit (1 is unripe; 2 is ripe, 3 is over-ripe): 1\n"
     ]
    },
    {
     "data": {
      "text/plain": [
       "<pymongo.results.InsertOneResult at 0x7fa7f08482c0>"
      ]
     },
     "execution_count": 4,
     "metadata": {},
     "output_type": "execute_result"
    }
   ],
   "source": [
    "# Ask the user for input. Store information into variables.\n",
    "vendor = input('What is the vendor name: ')\n",
    "fruit_type = input('What is the type of fruit: ')\n",
    "quantity = input('How many cases were received: ')\n",
    "ripeness = input('What is the ripeness of fruit (1 is unripe; 2 is ripe, 3 is over-ripe): ')\n",
    "\n",
    "# A dictionary that will become a MongoDB document\n",
    "post = {\n",
    "    'vendor': vendor,\n",
    "    'fruit': fruit_type,\n",
    "    'case_quantity': quantity,\n",
    "    'ripeness': ripeness,\n",
    "    'date': datetime.datetime.utcnow()\n",
    "}\n",
    "\n",
    "\n",
    "# Insert document into collection\n",
    "fruits.insert_one(post)"
   ]
  },
  {
   "cell_type": "code",
   "execution_count": 5,
   "metadata": {},
   "outputs": [
    {
     "name": "stdout",
     "output_type": "stream",
     "text": [
      "{'_id': ObjectId('63c86f1d5a7650d74cf7e29f'), 'vendor': 'fruit star', 'fruit': 'raspberry', 'case_quantity': 21, 'ripeness': 2, 'date': datetime.datetime(2023, 1, 18, 22, 13, 49, 862000)}\n",
      "{'_id': ObjectId('63c86f265a7650d74cf7e2a0'), 'vendor': 'Geo Gardeners', 'fruit': 'blueberries', 'case_quantity': '4', 'ripeness': '1', 'date': datetime.datetime(2023, 1, 18, 22, 13, 58, 17000)}\n"
     ]
    }
   ],
   "source": [
    "# Verify results:\n",
    "results = fruits.find()\n",
    "for result in results:\n",
    "    print(result)"
   ]
  },
  {
   "cell_type": "code",
   "execution_count": null,
   "metadata": {},
   "outputs": [],
   "source": []
  }
 ],
 "metadata": {
  "kernelspec": {
   "display_name": "Python 3 (ipykernel)",
   "language": "python",
   "name": "python3"
  },
  "language_info": {
   "codemirror_mode": {
    "name": "ipython",
    "version": 3
   },
   "file_extension": ".py",
   "mimetype": "text/x-python",
   "name": "python",
   "nbconvert_exporter": "python",
   "pygments_lexer": "ipython3",
   "version": "3.10.4"
  }
 },
 "nbformat": 4,
 "nbformat_minor": 2
}
