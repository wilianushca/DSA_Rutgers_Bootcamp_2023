{
 "cells": [
  {
   "cell_type": "markdown",
   "id": "6607ba1a",
   "metadata": {},
   "source": [
    "# Introduction to Mongo"
   ]
  },
  {
   "cell_type": "markdown",
   "id": "6df4e62d",
   "metadata": {},
   "source": [
    "Import the data first:\n",
    "\n",
    "```shell\n",
    "mongoimport --type csv -d petsitly_marketing -c customer_list --headerline --drop customer_database.csv\n",
    "```"
   ]
  },
  {
   "cell_type": "code",
   "execution_count": 1,
   "id": "1fce4f22",
   "metadata": {},
   "outputs": [],
   "source": [
    "from pymongo import MongoClient"
   ]
  },
  {
   "cell_type": "code",
   "execution_count": 2,
   "id": "9dc8826d",
   "metadata": {},
   "outputs": [],
   "source": [
    "# Create an instance of MongoClient\n"
   ]
  },
  {
   "cell_type": "code",
   "execution_count": 3,
   "id": "60ebdfc9",
   "metadata": {},
   "outputs": [
    {
     "name": "stdout",
     "output_type": "stream",
     "text": [
      "['admin', 'classDB', 'config', 'local', 'petsitly_marketing']\n"
     ]
    }
   ],
   "source": [
    "# confirm that our new database was created\n"
   ]
  },
  {
   "cell_type": "code",
   "execution_count": 4,
   "id": "3cab0c81",
   "metadata": {},
   "outputs": [],
   "source": [
    "# assign the database to a variable name\n"
   ]
  },
  {
   "cell_type": "code",
   "execution_count": 5,
   "id": "3f57b567",
   "metadata": {},
   "outputs": [
    {
     "name": "stdout",
     "output_type": "stream",
     "text": [
      "['customer_list']\n"
     ]
    }
   ],
   "source": [
    "# review the collections in our new database\n"
   ]
  },
  {
   "cell_type": "code",
   "execution_count": 6,
   "id": "6360d848",
   "metadata": {},
   "outputs": [
    {
     "name": "stdout",
     "output_type": "stream",
     "text": [
      "{'_id': ObjectId('63c871a34f6850e97153ffca'), 'Customer_First': 'Tyrese', 'Customer_Last': 'Buckridge', 'Address': '2533 Ford Views', 'Email': 'wcastro@yahoo.com', '2021_Visits': 27, '2021_Total_Spend': 465.75, 'Pet_Type': 'bird'}\n"
     ]
    }
   ],
   "source": [
    "# review a document in the customer_list collection\n"
   ]
  },
  {
   "cell_type": "code",
   "execution_count": 7,
   "id": "c6d8a4fd",
   "metadata": {},
   "outputs": [],
   "source": [
    "# assign the collection to a variable\n"
   ]
  },
  {
   "cell_type": "code",
   "execution_count": 8,
   "id": "e6f7a0ee",
   "metadata": {},
   "outputs": [
    {
     "data": {
      "text/plain": [
       "<pymongo.results.InsertOneResult at 0x7f9f6aa30900>"
      ]
     },
     "execution_count": 8,
     "metadata": {},
     "output_type": "execute_result"
    }
   ],
   "source": [
    "# insert a new customer\n"
   ]
  },
  {
   "cell_type": "code",
   "execution_count": 9,
   "id": "e526b7c3",
   "metadata": {},
   "outputs": [
    {
     "name": "stdout",
     "output_type": "stream",
     "text": [
      "{'_id': 3, 'Customer_First': 'Data', 'Customer_Last': 'Viz', 'Address': '55882 Valley Fields Dr', 'Email': 'dataviz@bootcamp.edu', '2021_Visits': 75, '2021_Total_Spend': 2017.75, 'Pet_Type': 'cat'}\n"
     ]
    }
   ],
   "source": [
    "# Filter results by name\n"
   ]
  },
  {
   "cell_type": "code",
   "execution_count": 10,
   "id": "b11e18fd",
   "metadata": {},
   "outputs": [
    {
     "name": "stdout",
     "output_type": "stream",
     "text": [
      "{'_id': ObjectId('63c871a34f6850e971540008'), 'Customer_First': 'Robbie', 'Customer_Last': 'Schaden', 'Address': '431 Grant Extensions Apt. 754', 'Email': 'millertara@yahoo.com', '2021_Visits': 62, '2021_Total_Spend': 1069.5, 'Pet_Type': 'hamster'}\n",
      "{'_id': ObjectId('63c871a34f6850e97154002d'), 'Customer_First': 'Antwan', 'Customer_Last': 'Abernathy', 'Address': '511 Howell Spurs Apt. 193', 'Email': 'jennifer86@gmail.com', '2021_Visits': 12, '2021_Total_Spend': 207.0, 'Pet_Type': 'hamster'}\n",
      "{'_id': ObjectId('63c871a34f6850e97154002f'), 'Customer_First': 'Leonor', 'Customer_Last': 'Heller', 'Address': '44296 Johnson Tunnel', 'Email': 'shaun33@yahoo.com', '2021_Visits': 74, '2021_Total_Spend': 1276.5, 'Pet_Type': 'hamster'}\n",
      "{'_id': ObjectId('63c871a34f6850e971540030'), 'Customer_First': 'Cherilyn', 'Customer_Last': 'Parisian', 'Address': '980 Lewis Village Apt. 056', 'Email': 'scottdecker@gmail.com', '2021_Visits': 30, '2021_Total_Spend': 517.5, 'Pet_Type': 'hamster'}\n",
      "{'_id': ObjectId('63c871a34f6850e971540031'), 'Customer_First': 'Shaniya', 'Customer_Last': 'Kuphal', 'Address': '4078 Smith Garden', 'Email': 'zachary29@yahoo.com', '2021_Visits': 59, '2021_Total_Spend': 1017.75, 'Pet_Type': 'hamster'}\n",
      "{'_id': ObjectId('63c871a34f6850e971540035'), 'Customer_First': 'Olar', 'Customer_Last': 'Rice', 'Address': '5162 Romero Springs', 'Email': 'tgilmore@yahoo.com', '2021_Visits': 47, '2021_Total_Spend': 810.75, 'Pet_Type': 'hamster'}\n",
      "{'_id': ObjectId('63c871a34f6850e97154004b'), 'Customer_First': 'Izabelle', 'Customer_Last': 'Rodriguez', 'Address': '25823 Moreno Bridge', 'Email': 'rebecca31@hotmail.com', '2021_Visits': 63, '2021_Total_Spend': 1086.75, 'Pet_Type': 'hamster'}\n",
      "{'_id': ObjectId('63c871a34f6850e9715400a5'), 'Customer_First': 'Kennedy', 'Customer_Last': 'Doyle', 'Address': '9829 Lisa Manors Suite 209', 'Email': 'ohull@yahoo.com', '2021_Visits': 30, '2021_Total_Spend': 517.5, 'Pet_Type': 'hamster'}\n"
     ]
    }
   ],
   "source": [
    "# Find the number of customers with hamsters\n"
   ]
  },
  {
   "cell_type": "code",
   "execution_count": 11,
   "id": "9113832a",
   "metadata": {},
   "outputs": [],
   "source": [
    "# Delete all the customers who have hamsters\n"
   ]
  },
  {
   "cell_type": "code",
   "execution_count": 12,
   "id": "2f1a4f4f",
   "metadata": {},
   "outputs": [
    {
     "data": {
      "text/plain": [
       "[]"
      ]
     },
     "execution_count": 12,
     "metadata": {},
     "output_type": "execute_result"
    }
   ],
   "source": [
    "# Delete a collection\n"
   ]
  },
  {
   "cell_type": "code",
   "execution_count": 13,
   "id": "61fcd315",
   "metadata": {},
   "outputs": [
    {
     "data": {
      "text/plain": [
       "['admin', 'classDB', 'config', 'local']"
      ]
     },
     "execution_count": 13,
     "metadata": {},
     "output_type": "execute_result"
    }
   ],
   "source": [
    "# Delete the database\n"
   ]
  },
  {
   "cell_type": "code",
   "execution_count": null,
   "id": "e1f35bc9",
   "metadata": {},
   "outputs": [],
   "source": []
  }
 ],
 "metadata": {
  "kernelspec": {
   "display_name": "Python 3 (ipykernel)",
   "language": "python",
   "name": "python3"
  },
  "language_info": {
   "codemirror_mode": {
    "name": "ipython",
    "version": 3
   },
   "file_extension": ".py",
   "mimetype": "text/x-python",
   "name": "python",
   "nbconvert_exporter": "python",
   "pygments_lexer": "ipython3",
   "version": "3.10.4"
  }
 },
 "nbformat": 4,
 "nbformat_minor": 5
}
