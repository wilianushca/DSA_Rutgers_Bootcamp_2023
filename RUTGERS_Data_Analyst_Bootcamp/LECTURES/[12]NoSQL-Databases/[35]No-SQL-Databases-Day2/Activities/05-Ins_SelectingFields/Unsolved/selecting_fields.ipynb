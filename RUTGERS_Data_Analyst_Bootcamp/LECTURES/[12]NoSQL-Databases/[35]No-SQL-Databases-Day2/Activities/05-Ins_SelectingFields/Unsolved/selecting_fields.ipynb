{
 "cells": [
  {
   "cell_type": "code",
   "execution_count": 1,
   "id": "747a0d11",
   "metadata": {},
   "outputs": [],
   "source": [
    "# Import dependencies\n",
    "from pymongo import MongoClient\n",
    "from pprint import pprint"
   ]
  },
  {
   "cell_type": "code",
   "execution_count": 2,
   "id": "638a4467",
   "metadata": {},
   "outputs": [],
   "source": [
    "# Create an instance of MongoClient\n",
    "mongo = MongoClient(port=27017)"
   ]
  },
  {
   "cell_type": "code",
   "execution_count": 3,
   "id": "22f2d463",
   "metadata": {},
   "outputs": [
    {
     "name": "stdout",
     "output_type": "stream",
     "text": [
      "['admin', 'autosaurus', 'classDB', 'config', 'local']\n"
     ]
    }
   ],
   "source": [
    "# confirm that the \"autosaurus\" database is in MongoDB\n",
    "print(mongo.list_database_names())"
   ]
  },
  {
   "cell_type": "code",
   "execution_count": 4,
   "id": "67be1866",
   "metadata": {},
   "outputs": [],
   "source": [
    "# assign the database to a variable name\n",
    "db = mongo['autosaurus']"
   ]
  },
  {
   "cell_type": "code",
   "execution_count": 5,
   "id": "f45f011a",
   "metadata": {},
   "outputs": [
    {
     "name": "stdout",
     "output_type": "stream",
     "text": [
      "['customers', 'mechanics']\n"
     ]
    }
   ],
   "source": [
    "# review the collections in our new database\n",
    "print(db.list_collection_names())"
   ]
  },
  {
   "cell_type": "code",
   "execution_count": 6,
   "id": "21f07dba",
   "metadata": {},
   "outputs": [],
   "source": [
    "# assign each collection to a variable\n",
    "customers = db['customers']\n",
    "mechanics = db['mechanics']"
   ]
  },
  {
   "cell_type": "code",
   "execution_count": 7,
   "id": "41dc94d3",
   "metadata": {},
   "outputs": [
    {
     "name": "stdout",
     "output_type": "stream",
     "text": [
      "Number of documents in result: 49\n"
     ]
    }
   ],
   "source": [
    "# Create a query that finds the customers who have a Toyota\n",
    "\n",
    "\n",
    "# Print the number of results\n"
   ]
  },
  {
   "cell_type": "code",
   "execution_count": 8,
   "id": "d0a01c12",
   "metadata": {},
   "outputs": [
    {
     "data": {
      "text/plain": [
       "1000"
      ]
     },
     "execution_count": 8,
     "metadata": {},
     "output_type": "execute_result"
    }
   ],
   "source": [
    "# Display the number of documents in the customers collection\n"
   ]
  },
  {
   "cell_type": "code",
   "execution_count": 9,
   "id": "c65b7797",
   "metadata": {},
   "outputs": [
    {
     "name": "stdout",
     "output_type": "stream",
     "text": [
      "Number of documents in result: 7\n"
     ]
    }
   ],
   "source": [
    "# Create a query that finds the mechanics who work 40 hours a week\n",
    "\n",
    "\n",
    "# Print the number of results\n"
   ]
  },
  {
   "cell_type": "code",
   "execution_count": 10,
   "id": "dc60e75b",
   "metadata": {},
   "outputs": [
    {
     "name": "stdout",
     "output_type": "stream",
     "text": [
      "First result:\n",
      "{'_id': ObjectId('63c8761f4872e0cb6ba4d72e'),\n",
      " 'car_specialties': ['Cadillac',\n",
      "                     'BMW',\n",
      "                     'Mazda',\n",
      "                     'MINI',\n",
      "                     'Audi',\n",
      "                     'Eagle',\n",
      "                     'Dodge',\n",
      "                     'Toyota',\n",
      "                     'Pontiac'],\n",
      " 'contact': {'email': 'khatrip@autosaurus.com', 'phone': '555-876-8756'},\n",
      " 'hours': {'Friday': '10am-6pm',\n",
      "           'Monday': '11am-7pm',\n",
      "           'Saturday': '8am-4pm',\n",
      "           'Sunday': '8am-4pm',\n",
      "           'Tuesday': '10am-6pm'},\n",
      " 'mechanic_name': 'Parvati Khatri',\n",
      " 'wages': {'hourly_rate': '43.50', 'weekly_hours': 40}}\n"
     ]
    }
   ],
   "source": [
    "# Print just the first result from the query\n"
   ]
  },
  {
   "cell_type": "code",
   "execution_count": 11,
   "id": "267acb65",
   "metadata": {},
   "outputs": [
    {
     "data": {
      "text/plain": [
       "<pymongo.results.UpdateResult at 0x7fec4a629880>"
      ]
     },
     "execution_count": 11,
     "metadata": {},
     "output_type": "execute_result"
    }
   ],
   "source": [
    "# Change the data type from String to Double for wages.hourly_rate\n"
   ]
  },
  {
   "cell_type": "code",
   "execution_count": 12,
   "id": "0585f652",
   "metadata": {},
   "outputs": [
    {
     "name": "stdout",
     "output_type": "stream",
     "text": [
      "{'_id': ObjectId('63c8761f4872e0cb6ba4d72e'),\n",
      " 'mechanic_name': 'Parvati Khatri',\n",
      " 'wages': {'hourly_rate': 43.5}}\n",
      "{'_id': ObjectId('63c8761f4872e0cb6ba4d72f'),\n",
      " 'mechanic_name': 'Quenti Yupanqui',\n",
      " 'wages': {'hourly_rate': 46.75}}\n",
      "{'_id': ObjectId('63c8761f4872e0cb6ba4d730'),\n",
      " 'mechanic_name': 'Dacey Cocom',\n",
      " 'wages': {'hourly_rate': 48.1}}\n",
      "{'_id': ObjectId('63c8761f4872e0cb6ba4d731'),\n",
      " 'mechanic_name': 'Taiwo Sani',\n",
      " 'wages': {'hourly_rate': 42.0}}\n",
      "{'_id': ObjectId('63c8761f4872e0cb6ba4d732'),\n",
      " 'mechanic_name': 'Ai Tanaka',\n",
      " 'wages': {'hourly_rate': 50.0}}\n",
      "{'_id': ObjectId('63c8761f4872e0cb6ba4d733'),\n",
      " 'mechanic_name': 'Spanner McGee',\n",
      " 'wages': {'hourly_rate': 40.0}}\n",
      "{'_id': ObjectId('63c8761f4872e0cb6ba4d734'),\n",
      " 'mechanic_name': 'Gwan Jun-ho',\n",
      " 'wages': {'hourly_rate': 40.0}}\n"
     ]
    }
   ],
   "source": [
    "# Select only the mechanic_name and wages.hourly_rate fields from the mechanics collection\n",
    "\n",
    "\n",
    "# Capture the results to a variable\n",
    "\n",
    "\n",
    "# Pretty print the results\n"
   ]
  },
  {
   "cell_type": "code",
   "execution_count": 13,
   "id": "7cbd9692",
   "metadata": {},
   "outputs": [
    {
     "name": "stdout",
     "output_type": "stream",
     "text": [
      "{'_id': ObjectId('63c8761f4872e0cb6ba4d72e'),\n",
      " 'contact': {'email': 'khatrip@autosaurus.com', 'phone': '555-876-8756'},\n",
      " 'hours': {'Friday': '10am-6pm',\n",
      "           'Monday': '11am-7pm',\n",
      "           'Saturday': '8am-4pm',\n",
      "           'Sunday': '8am-4pm',\n",
      "           'Tuesday': '10am-6pm'},\n",
      " 'mechanic_name': 'Parvati Khatri',\n",
      " 'wages': {'hourly_rate': 43.5, 'weekly_hours': 40}}\n",
      "{'_id': ObjectId('63c8761f4872e0cb6ba4d72f'),\n",
      " 'contact': {'email': 'yupanquiq@autosaurus.com', 'phone': '555-876-8759'},\n",
      " 'hours': {'Friday': '8am-4pm',\n",
      "           'Monday': '8am-4pm',\n",
      "           'Thursday': '8am-4pm',\n",
      "           'Tuesday': '11am-7pm',\n",
      "           'Wednesday': '10am-6pm'},\n",
      " 'mechanic_name': 'Quenti Yupanqui',\n",
      " 'wages': {'hourly_rate': 46.75, 'weekly_hours': 40}}\n"
     ]
    }
   ],
   "source": [
    "# Select every field from the mechanics collection except the car_specialties field\n",
    "\n",
    "\n",
    "# Capture the results to a variable\n",
    "\n",
    "\n",
    "# Pretty print the first two results\n"
   ]
  },
  {
   "cell_type": "code",
   "execution_count": null,
   "id": "980357b1",
   "metadata": {},
   "outputs": [],
   "source": []
  }
 ],
 "metadata": {
  "kernelspec": {
   "display_name": "Python 3 (ipykernel)",
   "language": "python",
   "name": "python3"
  },
  "language_info": {
   "codemirror_mode": {
    "name": "ipython",
    "version": 3
   },
   "file_extension": ".py",
   "mimetype": "text/x-python",
   "name": "python",
   "nbconvert_exporter": "python",
   "pygments_lexer": "ipython3",
   "version": "3.10.4"
  }
 },
 "nbformat": 4,
 "nbformat_minor": 5
}
