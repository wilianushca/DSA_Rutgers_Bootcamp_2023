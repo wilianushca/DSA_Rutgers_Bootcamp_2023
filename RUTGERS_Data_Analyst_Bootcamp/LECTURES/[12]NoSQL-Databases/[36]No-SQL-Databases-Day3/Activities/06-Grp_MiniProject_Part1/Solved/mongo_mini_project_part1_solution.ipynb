{
 "cells": [
  {
   "cell_type": "markdown",
   "id": "c032679c",
   "metadata": {},
   "source": [
    "# Met Animals"
   ]
  },
  {
   "cell_type": "markdown",
   "id": "60a42d90",
   "metadata": {},
   "source": [
    "## Part 1: Connect to the Database"
   ]
  },
  {
   "cell_type": "code",
   "execution_count": 1,
   "id": "0f7aa920",
   "metadata": {},
   "outputs": [],
   "source": [
    "# Import dependencies\n",
    "from pymongo import MongoClient\n",
    "import json\n",
    "import requests \n",
    "from pprint import pprint"
   ]
  },
  {
   "cell_type": "code",
   "execution_count": 2,
   "id": "c0adbad6",
   "metadata": {},
   "outputs": [],
   "source": [
    "# Create an instance of MongoClient\n",
    "mongo = MongoClient(port=27017)"
   ]
  },
  {
   "cell_type": "code",
   "execution_count": 3,
   "id": "7ea204dc",
   "metadata": {},
   "outputs": [],
   "source": [
    "# assign the met database to a variable name\n",
    "db = mongo['met']"
   ]
  },
  {
   "cell_type": "code",
   "execution_count": 4,
   "id": "d15d07d6",
   "metadata": {},
   "outputs": [],
   "source": [
    "# assign the collection to a variable\n",
    "artifacts = db['artifacts']"
   ]
  },
  {
   "cell_type": "markdown",
   "id": "233b5108",
   "metadata": {},
   "source": [
    "## Part 2: Collect the Data"
   ]
  },
  {
   "cell_type": "code",
   "execution_count": 5,
   "id": "dd78125a",
   "metadata": {},
   "outputs": [
    {
     "name": "stdout",
     "output_type": "stream",
     "text": [
      "Number of IDs: 38\n",
      "Length of returned collection artifacts: 38\n"
     ]
    }
   ],
   "source": [
    "# Artifacts from department 5 and search string \"cave\"\n",
    "# https://collectionapi.metmuseum.org/public/collection/v1/search?departmentId=5&q=cave\n",
    "cave_ids = [313726,313724,312602,310364,318345,313256,310542,313240,310551,314557,\n",
    "            310384,317901,317902,318730,310343,309557,307443,312268,778892,317619,\n",
    "            312595,312915,317697,313325,310480,310644,309404,314142,317121,317120,\n",
    "            316299,317430,317429,313151,317760,309960,313262,314217]\n",
    "\n",
    "# Print the number of IDs\n",
    "print(f'Number of IDs: {len(cave_ids)}')\n",
    "\n",
    "# Initialize a list to store the returned documents\n",
    "returned_data_list = []\n",
    "\n",
    "# Create a loop to make API calls about each artifact we're interested in\n",
    "for i in range(len(cave_ids)):\n",
    "    # API URL\n",
    "    url = \"https://collectionapi.metmuseum.org/public/collection/v1/objects/\" + str(cave_ids[i])\n",
    "    \n",
    "    # Make the API request\n",
    "    response = requests.get(url)\n",
    "    \n",
    "    # Extract the json result\n",
    "    extract_json = response.json()\n",
    "    \n",
    "    # Add the returned json to the end of the list\n",
    "    returned_data_list.append(extract_json)\n",
    "\n",
    "# Print the length of the results to ensure it matches the cave_ids list length\n",
    "print(f'Length of returned collection artifacts: {len(returned_data_list)}')"
   ]
  },
  {
   "cell_type": "markdown",
   "id": "2d6abfcc",
   "metadata": {},
   "source": [
    "Now we have our list of additional artifacts we want to add to our database, but we need to check that these artifacts are not already in our collection before we add them"
   ]
  },
  {
   "cell_type": "markdown",
   "id": "3cc43ce2",
   "metadata": {},
   "source": [
    "## Part 3: Update the Database"
   ]
  },
  {
   "cell_type": "code",
   "execution_count": 6,
   "id": "83d4964e",
   "metadata": {},
   "outputs": [
    {
     "name": "stdout",
     "output_type": "stream",
     "text": [
      "{'GalleryNumber': '',\n",
      " 'accessionNumber': '1979.206.1535',\n",
      " 'accessionYear': '1979',\n",
      " 'additionalImages': [],\n",
      " 'artistAlphaSort': '',\n",
      " 'artistBeginDate': '',\n",
      " 'artistDisplayBio': '',\n",
      " 'artistDisplayName': '',\n",
      " 'artistEndDate': '',\n",
      " 'artistGender': '',\n",
      " 'artistNationality': '',\n",
      " 'artistPrefix': '',\n",
      " 'artistRole': '',\n",
      " 'artistSuffix': '',\n",
      " 'artistULAN_URL': '',\n",
      " 'artistWikidata_URL': '',\n",
      " 'city': '',\n",
      " 'classification': 'Wood-Sculpture',\n",
      " 'constituents': None,\n",
      " 'country': 'Australia',\n",
      " 'county': '',\n",
      " 'creditLine': 'The Michael C. Rockefeller Memorial Collection, Bequest of '\n",
      "               'Nelson A. Rockefeller, 1979',\n",
      " 'culture': 'Mulga Downs Cave',\n",
      " 'department': 'The Michael C. Rockefeller Wing',\n",
      " 'dimensions': 'H. 3 1/4 x 46 1/4 in. (8.3 x 117.5 cm)',\n",
      " 'dynasty': '',\n",
      " 'excavation': '',\n",
      " 'geographyType': '',\n",
      " 'isHighlight': False,\n",
      " 'isPublicDomain': False,\n",
      " 'isTimelineWork': False,\n",
      " 'linkResource': '',\n",
      " 'locale': '',\n",
      " 'locus': '',\n",
      " 'measurements': [{'elementDescription': None,\n",
      "                   'elementMeasurements': {'Depth': 0.94},\n",
      "                   'elementName': 'Other'},\n",
      "                  {'elementDescription': None,\n",
      "                   'elementMeasurements': {'Depth': 117.475, 'Width': 8.26},\n",
      "                   'elementName': 'Overall'}],\n",
      " 'medium': 'Wood',\n",
      " 'metadataDate': '2022-12-15T08:50:39.81Z',\n",
      " 'objectBeginDate': 1800,\n",
      " 'objectDate': '19th–early 20th century',\n",
      " 'objectEndDate': 2000,\n",
      " 'objectID': 313724,\n",
      " 'objectName': 'Ceremonial object',\n",
      " 'objectURL': 'https://www.metmuseum.org/art/collection/search/313724',\n",
      " 'objectWikidata_URL': '',\n",
      " 'period': '',\n",
      " 'portfolio': '',\n",
      " 'primaryImage': '',\n",
      " 'primaryImageSmall': '',\n",
      " 'region': 'Western Desert',\n",
      " 'reign': '',\n",
      " 'repository': 'Metropolitan Museum of Art, New York, NY',\n",
      " 'rightsAndReproduction': '',\n",
      " 'river': '',\n",
      " 'state': 'Western Australia',\n",
      " 'subregion': '',\n",
      " 'tags': None,\n",
      " 'title': 'Churinga'}\n"
     ]
    }
   ],
   "source": [
    "# Choose just one item from our returned data and set it to a variable\n",
    "item_to_add = returned_data_list[1]\n",
    "\n",
    "# Pretty print item_to_add\n",
    "pprint(item_to_add)"
   ]
  },
  {
   "cell_type": "code",
   "execution_count": 7,
   "id": "a12c5bcf",
   "metadata": {},
   "outputs": [
    {
     "name": "stdout",
     "output_type": "stream",
     "text": [
      "None\n"
     ]
    }
   ],
   "source": [
    "# Check if objectID is already in collection\n",
    "pprint(artifacts.find_one({\"objectID\":item_to_add['objectID']}))"
   ]
  },
  {
   "cell_type": "code",
   "execution_count": 8,
   "id": "65598f7f",
   "metadata": {},
   "outputs": [
    {
     "name": "stdout",
     "output_type": "stream",
     "text": [
      "Adding object with objectID: 313724\n"
     ]
    }
   ],
   "source": [
    "# Check if objectID not found\n",
    "if artifacts.find_one({\"objectID\":item_to_add[\"objectID\"]}) == None:\n",
    "    # Insert the new data into the collection\n",
    "    artifacts.insert_one(item_to_add)\n",
    "    \n",
    "    # Print objectID when inserted\n",
    "    print(f'Adding object with objectID: {item_to_add[\"objectID\"]}')"
   ]
  },
  {
   "cell_type": "code",
   "execution_count": 9,
   "id": "28156b34",
   "metadata": {
    "scrolled": true
   },
   "outputs": [
    {
     "name": "stdout",
     "output_type": "stream",
     "text": [
      "{'GalleryNumber': '',\n",
      " '_id': ObjectId('63c88cc643c938acd8b6dfc0'),\n",
      " 'accessionNumber': '1979.206.1535',\n",
      " 'accessionYear': '1979',\n",
      " 'additionalImages': [],\n",
      " 'artistAlphaSort': '',\n",
      " 'artistBeginDate': '',\n",
      " 'artistDisplayBio': '',\n",
      " 'artistDisplayName': '',\n",
      " 'artistEndDate': '',\n",
      " 'artistGender': '',\n",
      " 'artistNationality': '',\n",
      " 'artistPrefix': '',\n",
      " 'artistRole': '',\n",
      " 'artistSuffix': '',\n",
      " 'artistULAN_URL': '',\n",
      " 'artistWikidata_URL': '',\n",
      " 'city': '',\n",
      " 'classification': 'Wood-Sculpture',\n",
      " 'constituents': None,\n",
      " 'country': 'Australia',\n",
      " 'county': '',\n",
      " 'creditLine': 'The Michael C. Rockefeller Memorial Collection, Bequest of '\n",
      "               'Nelson A. Rockefeller, 1979',\n",
      " 'culture': 'Mulga Downs Cave',\n",
      " 'department': 'The Michael C. Rockefeller Wing',\n",
      " 'dimensions': 'H. 3 1/4 x 46 1/4 in. (8.3 x 117.5 cm)',\n",
      " 'dynasty': '',\n",
      " 'excavation': '',\n",
      " 'geographyType': '',\n",
      " 'isHighlight': False,\n",
      " 'isPublicDomain': False,\n",
      " 'isTimelineWork': False,\n",
      " 'linkResource': '',\n",
      " 'locale': '',\n",
      " 'locus': '',\n",
      " 'measurements': [{'elementDescription': None,\n",
      "                   'elementMeasurements': {'Depth': 0.94},\n",
      "                   'elementName': 'Other'},\n",
      "                  {'elementDescription': None,\n",
      "                   'elementMeasurements': {'Depth': 117.475, 'Width': 8.26},\n",
      "                   'elementName': 'Overall'}],\n",
      " 'medium': 'Wood',\n",
      " 'metadataDate': '2022-12-15T08:50:39.81Z',\n",
      " 'objectBeginDate': 1800,\n",
      " 'objectDate': '19th–early 20th century',\n",
      " 'objectEndDate': 2000,\n",
      " 'objectID': 313724,\n",
      " 'objectName': 'Ceremonial object',\n",
      " 'objectURL': 'https://www.metmuseum.org/art/collection/search/313724',\n",
      " 'objectWikidata_URL': '',\n",
      " 'period': '',\n",
      " 'portfolio': '',\n",
      " 'primaryImage': '',\n",
      " 'primaryImageSmall': '',\n",
      " 'region': 'Western Desert',\n",
      " 'reign': '',\n",
      " 'repository': 'Metropolitan Museum of Art, New York, NY',\n",
      " 'rightsAndReproduction': '',\n",
      " 'river': '',\n",
      " 'state': 'Western Australia',\n",
      " 'subregion': '',\n",
      " 'tags': None,\n",
      " 'title': 'Churinga'}\n"
     ]
    }
   ],
   "source": [
    "# Check that the new artifact was inserted\n",
    "pprint(artifacts.find_one({\"objectID\":item_to_add['objectID']}))"
   ]
  },
  {
   "cell_type": "code",
   "execution_count": 10,
   "id": "48da2236",
   "metadata": {},
   "outputs": [
    {
     "name": "stdout",
     "output_type": "stream",
     "text": [
      "Adding object with objectID: 313726\n",
      "Object is already in the database.\n",
      "Adding object with objectID: 312602\n",
      "Object is already in the database.\n",
      "Object is already in the database.\n",
      "Object is already in the database.\n",
      "Object is already in the database.\n",
      "Object is already in the database.\n",
      "Object is already in the database.\n",
      "Object is already in the database.\n",
      "Adding object with objectID: 310384\n",
      "Adding object with objectID: 317901\n",
      "Adding object with objectID: 317902\n",
      "Adding object with objectID: 318730\n",
      "Adding object with objectID: 310343\n",
      "Object is already in the database.\n",
      "Object is already in the database.\n",
      "Object is already in the database.\n",
      "Object is already in the database.\n",
      "Object is already in the database.\n",
      "Object is already in the database.\n",
      "Object is already in the database.\n",
      "Object is already in the database.\n",
      "Object is already in the database.\n",
      "Object is already in the database.\n",
      "Object is already in the database.\n",
      "Object is already in the database.\n",
      "Adding object with objectID: 314142\n",
      "Object is already in the database.\n",
      "Object is already in the database.\n",
      "Object is already in the database.\n",
      "Object is already in the database.\n",
      "Object is already in the database.\n",
      "Object is already in the database.\n",
      "Object is already in the database.\n",
      "Object is already in the database.\n",
      "Object is already in the database.\n",
      "Object is already in the database.\n"
     ]
    }
   ],
   "source": [
    "# Combine the above steps to loop through the whole list of data contained in returned_data_list\n",
    "# only adding to the collection when the artifact does not yet exist in the database\n",
    "\n",
    "# Loop through returned_data_list\n",
    "for item_to_add in returned_data_list:\n",
    "    # Check if the artifact already exists in the collection\n",
    "    if artifacts.find_one({\"objectID\":item_to_add[\"objectID\"]}) == None:\n",
    "        # Insert the new data into the collection\n",
    "        artifacts.insert_one(item_to_add)\n",
    "        \n",
    "        \n",
    "        # Print objectID when inserted\n",
    "        print(f'Adding object with objectID: {item_to_add[\"objectID\"]}')\n",
    "              \n",
    "    # Optional: Print a statement if the object is in the database. \n",
    "    else: print(f'Object is already in the database.')"
   ]
  },
  {
   "cell_type": "markdown",
   "id": "6c07286a",
   "metadata": {},
   "source": [
    "Data Source: [The Metropolitan Museum of Art](https://www.metmuseum.org/) (2022). The Metropolitan Museum of Art Collection API https://metmuseum.github.io/. Licensed under the [Creative Commons 0 License](https://creativecommons.org/publicdomain/zero/1.0/).<br />\n",
    "Accessed Oct 3, 2022. Data collected from departmentId=5 (\"Arts of Africa, Oceania, and the Americas\") and search string \"animal\"."
   ]
  },
  {
   "cell_type": "code",
   "execution_count": null,
   "id": "9700042f",
   "metadata": {},
   "outputs": [],
   "source": []
  },
  {
   "cell_type": "code",
   "execution_count": null,
   "id": "1bdee597",
   "metadata": {},
   "outputs": [],
   "source": []
  }
 ],
 "metadata": {
  "kernelspec": {
   "display_name": "Python 3 (ipykernel)",
   "language": "python",
   "name": "python3"
  },
  "language_info": {
   "codemirror_mode": {
    "name": "ipython",
    "version": 3
   },
   "file_extension": ".py",
   "mimetype": "text/x-python",
   "name": "python",
   "nbconvert_exporter": "python",
   "pygments_lexer": "ipython3",
   "version": "3.10.4"
  }
 },
 "nbformat": 4,
 "nbformat_minor": 5
}
