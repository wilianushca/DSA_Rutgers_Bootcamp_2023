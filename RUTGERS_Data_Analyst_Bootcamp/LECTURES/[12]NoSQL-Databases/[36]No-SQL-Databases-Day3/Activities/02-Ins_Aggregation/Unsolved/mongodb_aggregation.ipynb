{
 "cells": [
  {
   "cell_type": "code",
   "execution_count": 1,
   "id": "799e9a11",
   "metadata": {},
   "outputs": [],
   "source": [
    "# Import dependencies\n",
    "from pymongo import MongoClient\n",
    "from pprint import pprint\n",
    "import pandas as pd"
   ]
  },
  {
   "cell_type": "code",
   "execution_count": 2,
   "id": "1241a7ee",
   "metadata": {},
   "outputs": [],
   "source": [
    "# Create an instance of MongoClient\n",
    "mongo = MongoClient(port=27017)\n",
    "\n",
    "# assign the met database to a variable name\n",
    "db = mongo['met']\n",
    "\n",
    "# assign the collection to a variable\n",
    "artifacts = db['artifacts']"
   ]
  },
  {
   "cell_type": "code",
   "execution_count": 3,
   "id": "0ee73701",
   "metadata": {},
   "outputs": [],
   "source": [
    "# Write an aggregation query that counts the number of documents, grouped by \"country\"\n"
   ]
  },
  {
   "cell_type": "code",
   "execution_count": 4,
   "id": "27929407",
   "metadata": {},
   "outputs": [],
   "source": [
    "# Run the query with the aggregate method and save the results to a variable\n"
   ]
  },
  {
   "cell_type": "code",
   "execution_count": 5,
   "id": "b012b377",
   "metadata": {},
   "outputs": [
    {
     "name": "stdout",
     "output_type": "stream",
     "text": [
      "Number of countries in result:  80\n"
     ]
    }
   ],
   "source": [
    "# Print the number of countries in the result\n"
   ]
  },
  {
   "cell_type": "code",
   "execution_count": 6,
   "id": "741062ca",
   "metadata": {},
   "outputs": [
    {
     "name": "stdout",
     "output_type": "stream",
     "text": [
      "[{'_id': 'India', 'count': 3},\n",
      " {'_id': 'Argentina', 'count': 3},\n",
      " {'_id': 'Democratic Republic of Congo', 'count': 1},\n",
      " {'_id': 'Ghana', 'count': 15},\n",
      " {'_id': 'Borneo', 'count': 2},\n",
      " {'_id': 'Madagascar', 'count': 3},\n",
      " {'_id': 'Marquesas Islands', 'count': 1},\n",
      " {'_id': 'Angola or Democratic Republic of the Congo', 'count': 3},\n",
      " {'_id': 'Dominican Republic', 'count': 1},\n",
      " {'_id': 'Philippines', 'count': 2}]\n"
     ]
    }
   ],
   "source": [
    "# Print the first 10 results\n"
   ]
  },
  {
   "cell_type": "code",
   "execution_count": 7,
   "id": "7c9f17af",
   "metadata": {},
   "outputs": [
    {
     "name": "stdout",
     "output_type": "stream",
     "text": [
      "Rows in DataFrame:  80\n"
     ]
    },
    {
     "data": {
      "text/html": [
       "<div>\n",
       "<style scoped>\n",
       "    .dataframe tbody tr th:only-of-type {\n",
       "        vertical-align: middle;\n",
       "    }\n",
       "\n",
       "    .dataframe tbody tr th {\n",
       "        vertical-align: top;\n",
       "    }\n",
       "\n",
       "    .dataframe thead th {\n",
       "        text-align: right;\n",
       "    }\n",
       "</style>\n",
       "<table border=\"1\" class=\"dataframe\">\n",
       "  <thead>\n",
       "    <tr style=\"text-align: right;\">\n",
       "      <th></th>\n",
       "      <th>_id</th>\n",
       "      <th>count</th>\n",
       "    </tr>\n",
       "  </thead>\n",
       "  <tbody>\n",
       "    <tr>\n",
       "      <th>0</th>\n",
       "      <td>India</td>\n",
       "      <td>3</td>\n",
       "    </tr>\n",
       "    <tr>\n",
       "      <th>1</th>\n",
       "      <td>Argentina</td>\n",
       "      <td>3</td>\n",
       "    </tr>\n",
       "    <tr>\n",
       "      <th>2</th>\n",
       "      <td>Democratic Republic of Congo</td>\n",
       "      <td>1</td>\n",
       "    </tr>\n",
       "    <tr>\n",
       "      <th>3</th>\n",
       "      <td>Ghana</td>\n",
       "      <td>15</td>\n",
       "    </tr>\n",
       "    <tr>\n",
       "      <th>4</th>\n",
       "      <td>Borneo</td>\n",
       "      <td>2</td>\n",
       "    </tr>\n",
       "    <tr>\n",
       "      <th>5</th>\n",
       "      <td>Madagascar</td>\n",
       "      <td>3</td>\n",
       "    </tr>\n",
       "    <tr>\n",
       "      <th>6</th>\n",
       "      <td>Marquesas Islands</td>\n",
       "      <td>1</td>\n",
       "    </tr>\n",
       "    <tr>\n",
       "      <th>7</th>\n",
       "      <td>Angola or Democratic Republic of the Congo</td>\n",
       "      <td>3</td>\n",
       "    </tr>\n",
       "    <tr>\n",
       "      <th>8</th>\n",
       "      <td>Dominican Republic</td>\n",
       "      <td>1</td>\n",
       "    </tr>\n",
       "    <tr>\n",
       "      <th>9</th>\n",
       "      <td>Philippines</td>\n",
       "      <td>2</td>\n",
       "    </tr>\n",
       "  </tbody>\n",
       "</table>\n",
       "</div>"
      ],
      "text/plain": [
       "                                          _id  count\n",
       "0                                       India      3\n",
       "1                                   Argentina      3\n",
       "2                Democratic Republic of Congo      1\n",
       "3                                       Ghana     15\n",
       "4                                      Borneo      2\n",
       "5                                  Madagascar      3\n",
       "6                           Marquesas Islands      1\n",
       "7  Angola or Democratic Republic of the Congo      3\n",
       "8                          Dominican Republic      1\n",
       "9                                 Philippines      2"
      ]
     },
     "execution_count": 7,
     "metadata": {},
     "output_type": "execute_result"
    }
   ],
   "source": [
    "# Convert mongo result to Pandas DataFrame\n"
   ]
  },
  {
   "cell_type": "code",
   "execution_count": null,
   "id": "b7c10dfe",
   "metadata": {},
   "outputs": [],
   "source": []
  },
  {
   "cell_type": "markdown",
   "id": "8b367b10",
   "metadata": {},
   "source": [
    "Data Source: [The Metropolitan Museum of Art](https://www.metmuseum.org/) (2022). The Metropolitan Museum of Art Collection API https://metmuseum.github.io/. Licensed under the [Creative Commons 0 License](https://creativecommons.org/publicdomain/zero/1.0/).<br />\n",
    "Accessed Oct 3, 2022. Data collected from departmentId=5 (\"Arts of Africa, Oceania, and the Americas\") and search string \"animal\"."
   ]
  },
  {
   "cell_type": "code",
   "execution_count": null,
   "id": "a40b6978",
   "metadata": {},
   "outputs": [],
   "source": []
  }
 ],
 "metadata": {
  "kernelspec": {
   "display_name": "Python 3 (ipykernel)",
   "language": "python",
   "name": "python3"
  },
  "language_info": {
   "codemirror_mode": {
    "name": "ipython",
    "version": 3
   },
   "file_extension": ".py",
   "mimetype": "text/x-python",
   "name": "python",
   "nbconvert_exporter": "python",
   "pygments_lexer": "ipython3",
   "version": "3.10.4"
  }
 },
 "nbformat": 4,
 "nbformat_minor": 5
}
