{
 "cells": [
  {
   "cell_type": "code",
   "execution_count": 1,
   "id": "160d69c3",
   "metadata": {},
   "outputs": [],
   "source": [
    "# Import dependencies\n",
    "from pymongo import MongoClient\n",
    "from pprint import pprint\n",
    "import pandas as pd"
   ]
  },
  {
   "cell_type": "code",
   "execution_count": 2,
   "id": "6545e857",
   "metadata": {},
   "outputs": [],
   "source": [
    "# Create an instance of MongoClient\n",
    "mongo = MongoClient(port=27017)\n",
    "\n",
    "# assign the met database to a variable name\n",
    "db = mongo['met']\n",
    "\n",
    "# assign the collection to a variable\n",
    "artifacts = db['artifacts']"
   ]
  },
  {
   "cell_type": "code",
   "execution_count": 3,
   "id": "b6969c6b",
   "metadata": {},
   "outputs": [],
   "source": [
    "# Build the aggregation pipeline\n",
    "# Write a match query to find only the documents about artifacts that\n",
    "# have a classification where \"Wood\" is the value.\n",
    "match_query = {'$match': {'classification': {'$regex': \"Wood\"}}}\n",
    "\n",
    "# Write an aggregation query that counts the number of documents and finds the maximum height,\n",
    "# grouped by \"classification\"\n",
    "group_query = {'$group': {'_id': \"$classification\", \n",
    "                          'count': { '$sum': 1 },\n",
    "                          'max_height': { '$max': '$measurements.elementMeasurements.Height' }}}\n",
    "\n",
    "# Create a dictionary that will allow the pipeline to sort by count in descending order, \n",
    "# then sort by classification in alphabetical order\n",
    "sort_values = {'$sort': { 'count': -1, '_id': 1 }}\n",
    "\n",
    "# Put the pipeline together\n",
    "pipeline = [match_query, group_query, sort_values]"
   ]
  },
  {
   "cell_type": "code",
   "execution_count": 4,
   "id": "d1717983",
   "metadata": {},
   "outputs": [],
   "source": [
    "# Run the pipeline through the aggregate method and save the results to a variable\n",
    "results = list(artifacts.aggregate(pipeline))"
   ]
  },
  {
   "cell_type": "code",
   "execution_count": 5,
   "id": "242f3c1b",
   "metadata": {},
   "outputs": [
    {
     "name": "stdout",
     "output_type": "stream",
     "text": [
      "Number of classifications in result:  14\n"
     ]
    }
   ],
   "source": [
    "# Print the number of classifications in the result\n",
    "print(\"Number of classifications in result: \", len(results))"
   ]
  },
  {
   "cell_type": "code",
   "execution_count": 6,
   "id": "ec644d2a",
   "metadata": {},
   "outputs": [
    {
     "name": "stdout",
     "output_type": "stream",
     "text": [
      "[{'_id': 'Wood-Sculpture', 'count': 217, 'max_height': [274.3205]},\n",
      " {'_id': 'Wood-Implements', 'count': 27, 'max_height': [181.9279]},\n",
      " {'_id': 'Wood-Architectural', 'count': 11, 'max_height': [289.5606]},\n",
      " {'_id': 'Wood-Containers', 'count': 11, 'max_height': [67.9451]},\n",
      " {'_id': 'Wood-Furniture', 'count': 10, 'max_height': [99.06]},\n",
      " {'_id': 'Wood-Musical Instruments', 'count': 10, 'max_height': [157.48032]},\n",
      " {'_id': 'Wood-Ornaments', 'count': 5, 'max_height': [30.48006]},\n",
      " {'_id': 'Wood-Costumes', 'count': 3, 'max_height': [114.935]},\n",
      " {'_id': 'Wood', 'count': 1, 'max_height': [88.90018]},\n",
      " {'_id': 'Wood-Paintings', 'count': 1, 'max_height': [70.00889]}]\n"
     ]
    }
   ],
   "source": [
    "# Print the first 10 results\n",
    "pprint(results[0:10])"
   ]
  },
  {
   "cell_type": "code",
   "execution_count": 7,
   "id": "9f416e1d",
   "metadata": {},
   "outputs": [
    {
     "name": "stdout",
     "output_type": "stream",
     "text": [
      "Rows in DataFrame:  14\n"
     ]
    },
    {
     "data": {
      "text/html": [
       "<div>\n",
       "<style scoped>\n",
       "    .dataframe tbody tr th:only-of-type {\n",
       "        vertical-align: middle;\n",
       "    }\n",
       "\n",
       "    .dataframe tbody tr th {\n",
       "        vertical-align: top;\n",
       "    }\n",
       "\n",
       "    .dataframe thead th {\n",
       "        text-align: right;\n",
       "    }\n",
       "</style>\n",
       "<table border=\"1\" class=\"dataframe\">\n",
       "  <thead>\n",
       "    <tr style=\"text-align: right;\">\n",
       "      <th></th>\n",
       "      <th>_id</th>\n",
       "      <th>count</th>\n",
       "      <th>max_height</th>\n",
       "    </tr>\n",
       "  </thead>\n",
       "  <tbody>\n",
       "    <tr>\n",
       "      <th>0</th>\n",
       "      <td>Wood-Sculpture</td>\n",
       "      <td>217</td>\n",
       "      <td>[274.3205]</td>\n",
       "    </tr>\n",
       "    <tr>\n",
       "      <th>1</th>\n",
       "      <td>Wood-Implements</td>\n",
       "      <td>27</td>\n",
       "      <td>[181.9279]</td>\n",
       "    </tr>\n",
       "    <tr>\n",
       "      <th>2</th>\n",
       "      <td>Wood-Architectural</td>\n",
       "      <td>11</td>\n",
       "      <td>[289.5606]</td>\n",
       "    </tr>\n",
       "    <tr>\n",
       "      <th>3</th>\n",
       "      <td>Wood-Containers</td>\n",
       "      <td>11</td>\n",
       "      <td>[67.9451]</td>\n",
       "    </tr>\n",
       "    <tr>\n",
       "      <th>4</th>\n",
       "      <td>Wood-Furniture</td>\n",
       "      <td>10</td>\n",
       "      <td>[99.06]</td>\n",
       "    </tr>\n",
       "    <tr>\n",
       "      <th>5</th>\n",
       "      <td>Wood-Musical Instruments</td>\n",
       "      <td>10</td>\n",
       "      <td>[157.48032]</td>\n",
       "    </tr>\n",
       "    <tr>\n",
       "      <th>6</th>\n",
       "      <td>Wood-Ornaments</td>\n",
       "      <td>5</td>\n",
       "      <td>[30.48006]</td>\n",
       "    </tr>\n",
       "    <tr>\n",
       "      <th>7</th>\n",
       "      <td>Wood-Costumes</td>\n",
       "      <td>3</td>\n",
       "      <td>[114.935]</td>\n",
       "    </tr>\n",
       "    <tr>\n",
       "      <th>8</th>\n",
       "      <td>Wood</td>\n",
       "      <td>1</td>\n",
       "      <td>[88.90018]</td>\n",
       "    </tr>\n",
       "    <tr>\n",
       "      <th>9</th>\n",
       "      <td>Wood-Paintings</td>\n",
       "      <td>1</td>\n",
       "      <td>[70.00889]</td>\n",
       "    </tr>\n",
       "  </tbody>\n",
       "</table>\n",
       "</div>"
      ],
      "text/plain": [
       "                        _id  count   max_height\n",
       "0            Wood-Sculpture    217   [274.3205]\n",
       "1           Wood-Implements     27   [181.9279]\n",
       "2        Wood-Architectural     11   [289.5606]\n",
       "3           Wood-Containers     11    [67.9451]\n",
       "4            Wood-Furniture     10      [99.06]\n",
       "5  Wood-Musical Instruments     10  [157.48032]\n",
       "6            Wood-Ornaments      5   [30.48006]\n",
       "7             Wood-Costumes      3    [114.935]\n",
       "8                      Wood      1   [88.90018]\n",
       "9            Wood-Paintings      1   [70.00889]"
      ]
     },
     "execution_count": 7,
     "metadata": {},
     "output_type": "execute_result"
    }
   ],
   "source": [
    "# Convert mongo result to Pandas DataFrame\n",
    "result_df = pd.DataFrame(results)\n",
    "\n",
    "# Print out the length of the DataFrame\n",
    "print(\"Rows in DataFrame: \", len(result_df))\n",
    "\n",
    "# Display the first 10 rows of the DataFrame\n",
    "result_df.head(10)"
   ]
  },
  {
   "cell_type": "code",
   "execution_count": null,
   "id": "b9ad439b",
   "metadata": {},
   "outputs": [],
   "source": []
  },
  {
   "cell_type": "markdown",
   "id": "50edb901",
   "metadata": {},
   "source": [
    "Data Source: [The Metropolitan Museum of Art](https://www.metmuseum.org/) (2022). The Metropolitan Museum of Art Collection API https://metmuseum.github.io/. Licensed under the [Creative Commons 0 License](https://creativecommons.org/publicdomain/zero/1.0/).<br />\n",
    "Accessed Oct 3, 2022. Data collected from departmentId=5 (\"Arts of Africa, Oceania, and the Americas\") and search string \"animal\"."
   ]
  },
  {
   "cell_type": "code",
   "execution_count": null,
   "id": "5c92f1ba",
   "metadata": {},
   "outputs": [],
   "source": []
  }
 ],
 "metadata": {
  "kernelspec": {
   "display_name": "Python 3 (ipykernel)",
   "language": "python",
   "name": "python3"
  },
  "language_info": {
   "codemirror_mode": {
    "name": "ipython",
    "version": 3
   },
   "file_extension": ".py",
   "mimetype": "text/x-python",
   "name": "python",
   "nbconvert_exporter": "python",
   "pygments_lexer": "ipython3",
   "version": "3.10.4"
  }
 },
 "nbformat": 4,
 "nbformat_minor": 5
}
