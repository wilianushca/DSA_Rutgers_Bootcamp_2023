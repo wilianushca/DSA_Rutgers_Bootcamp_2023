{
 "cells": [
  {
   "cell_type": "code",
   "execution_count": 1,
   "metadata": {
    "colab": {
     "base_uri": "https://localhost:8080/"
    },
    "id": "w1m9uEbLTfhq",
    "outputId": "9f64db53-e961-4c38-9705-8921d895d682"
   },
   "outputs": [],
   "source": [
    "# Import findspark and initialize. \n",
    "import findspark\n",
    "findspark.init()"
   ]
  },
  {
   "cell_type": "code",
   "execution_count": 2,
   "metadata": {
    "id": "wdpzXrYLTgcq"
   },
   "outputs": [
    {
     "name": "stderr",
     "output_type": "stream",
     "text": [
      "Setting default log level to \"WARN\".\n",
      "To adjust logging level use sc.setLogLevel(newLevel). For SparkR, use setLogLevel(newLevel).\n"
     ]
    },
    {
     "name": "stdout",
     "output_type": "stream",
     "text": [
      "23/02/08 13:15:24 WARN NativeCodeLoader: Unable to load native-hadoop library for your platform... using builtin-java classes where applicable\n"
     ]
    }
   ],
   "source": [
    "# Import packages\n",
    "from pyspark.sql import SparkSession\n",
    "import time\n",
    "\n",
    "# Create a SparkSession\n",
    "spark = SparkSession.builder\\\n",
    "    .appName(\"SparkSQL\")\\\n",
    "    .config(\"spark.sql.debug.maxToStringFields\", 2000)\\\n",
    "    .config(\"spark.driver.memory\", \"2g\")\\\n",
    "    .getOrCreate()"
   ]
  },
  {
   "cell_type": "code",
   "execution_count": 3,
   "metadata": {
    "colab": {
     "base_uri": "https://localhost:8080/"
    },
    "id": "SyGdKF4mTguN",
    "outputId": "f7cb05ec-19b3-4215-8283-5b770230f08e"
   },
   "outputs": [
    {
     "name": "stderr",
     "output_type": "stream",
     "text": [
      "                                                                                \r"
     ]
    },
    {
     "name": "stdout",
     "output_type": "stream",
     "text": [
      "+---+----+-----+----------+---------+-------+----------+-------+----------+-------------+---------+-------+-----------------+--------------+-------+--------+--------+------+----+--------+------+-------+---------+----------------+--------+------------+------------+--------+-------------+-----------------+\n",
      "| id|Year|Month|DayofMonth|DayOfWeek|DepTime|CRSDepTime|ArrTime|CRSArrTime|UniqueCarrier|FlightNum|TailNum|ActualElapsedTime|CRSElapsedTime|AirTime|ArrDelay|DepDelay|Origin|Dest|Distance|TaxiIn|TaxiOut|Cancelled|CancellationCode|Diverted|CarrierDelay|WeatherDelay|NASDelay|SecurityDelay|LateAircraftDelay|\n",
      "+---+----+-----+----------+---------+-------+----------+-------+----------+-------------+---------+-------+-----------------+--------------+-------+--------+--------+------+----+--------+------+-------+---------+----------------+--------+------------+------------+--------+-------------+-----------------+\n",
      "|  0|2008|    1|         3|        4|   2003|      1955|   2211|      2225|           WN|      335| N712SW|              128|           150|    116|     -14|       8|   IAD| TPA|     810|     4|      8|        0|               N|       0|        null|        null|    null|         null|             null|\n",
      "|  1|2008|    1|         3|        4|    754|       735|   1002|      1000|           WN|     3231| N772SW|              128|           145|    113|       2|      19|   IAD| TPA|     810|     5|     10|        0|               N|       0|        null|        null|    null|         null|             null|\n",
      "|  2|2008|    1|         3|        4|    628|       620|    804|       750|           WN|      448| N428WN|               96|            90|     76|      14|       8|   IND| BWI|     515|     3|     17|        0|               N|       0|        null|        null|    null|         null|             null|\n",
      "|  4|2008|    1|         3|        4|   1829|      1755|   1959|      1925|           WN|     3920| N464WN|               90|            90|     77|      34|      34|   IND| BWI|     515|     3|     10|        0|               N|       0|           2|           0|       0|            0|               32|\n",
      "|  5|2008|    1|         3|        4|   1940|      1915|   2121|      2110|           WN|      378| N726SW|              101|           115|     87|      11|      25|   IND| JAX|     688|     4|     10|        0|               N|       0|        null|        null|    null|         null|             null|\n",
      "|  6|2008|    1|         3|        4|   1937|      1830|   2037|      1940|           WN|      509| N763SW|              240|           250|    230|      57|      67|   IND| LAS|    1591|     3|      7|        0|               N|       0|          10|           0|       0|            0|               47|\n",
      "| 10|2008|    1|         3|        4|    706|       700|    916|       915|           WN|      100| N690SW|              130|           135|    106|       1|       6|   IND| MCO|     828|     5|     19|        0|               N|       0|        null|        null|    null|         null|             null|\n",
      "| 11|2008|    1|         3|        4|   1644|      1510|   1845|      1725|           WN|     1333| N334SW|              121|           135|    107|      80|      94|   IND| MCO|     828|     6|      8|        0|               N|       0|           8|           0|       0|            0|               72|\n",
      "| 15|2008|    1|         3|        4|   1029|      1020|   1021|      1010|           WN|     2272| N263WN|               52|            50|     37|      11|       9|   IND| MDW|     162|     6|      9|        0|               N|       0|        null|        null|    null|         null|             null|\n",
      "| 16|2008|    1|         3|        4|   1452|      1425|   1640|      1625|           WN|      675| N286WN|              228|           240|    213|      15|      27|   IND| PHX|    1489|     7|      8|        0|               N|       0|           3|           0|       0|            0|               12|\n",
      "| 17|2008|    1|         3|        4|    754|       745|    940|       955|           WN|     1144| N778SW|              226|           250|    205|     -15|       9|   IND| PHX|    1489|     5|     16|        0|               N|       0|        null|        null|    null|         null|             null|\n",
      "| 18|2008|    1|         3|        4|   1323|      1255|   1526|      1510|           WN|        4| N674AA|              123|           135|    110|      16|      28|   IND| TPA|     838|     4|      9|        0|               N|       0|           0|           0|       0|            0|               16|\n",
      "| 19|2008|    1|         3|        4|   1416|      1325|   1512|      1435|           WN|       54| N643SW|               56|            70|     49|      37|      51|   ISP| BWI|     220|     2|      5|        0|               N|       0|          12|           0|       0|            0|               25|\n",
      "| 21|2008|    1|         3|        4|   1657|      1625|   1754|      1735|           WN|      623| N724SW|               57|            70|     47|      19|      32|   ISP| BWI|     220|     5|      5|        0|               N|       0|           7|           0|       0|            0|               12|\n",
      "| 22|2008|    1|         3|        4|   1900|      1840|   1956|      1950|           WN|      717| N786SW|               56|            70|     49|       6|      20|   ISP| BWI|     220|     2|      5|        0|               N|       0|        null|        null|    null|         null|             null|\n",
      "| 23|2008|    1|         3|        4|   1039|      1030|   1133|      1140|           WN|     1244| N714CB|               54|            70|     47|      -7|       9|   ISP| BWI|     220|     2|      5|        0|               N|       0|        null|        null|    null|         null|             null|\n",
      "| 25|2008|    1|         3|        4|   1520|      1455|   1619|      1605|           WN|     2553| N394SW|               59|            70|     50|      14|      25|   ISP| BWI|     220|     2|      7|        0|               N|       0|        null|        null|    null|         null|             null|\n",
      "| 26|2008|    1|         3|        4|   1422|      1255|   1657|      1610|           WN|      188| N215WN|              155|           195|    143|      47|      87|   ISP| FLL|    1093|     6|      6|        0|               N|       0|          40|           0|       0|            0|                7|\n",
      "| 27|2008|    1|         3|        4|   1954|      1925|   2239|      2235|           WN|     1754| N243WN|              165|           190|    155|       4|      29|   ISP| FLL|    1093|     3|      7|        0|               N|       0|        null|        null|    null|         null|             null|\n",
      "| 30|2008|    1|         3|        4|   2107|      1945|   2334|      2230|           WN|      362| N798SW|              147|           165|    134|      64|      82|   ISP| MCO|     972|     6|      7|        0|               N|       0|           5|           0|       0|            0|               59|\n",
      "+---+----+-----+----------+---------+-------+----------+-------+----------+-------------+---------+-------+-----------------+--------------+-------+--------+--------+------+----+--------+------+-------+---------+----------------+--------+------------+------------+--------+-------------+-----------------+\n",
      "only showing top 20 rows\n",
      "\n"
     ]
    }
   ],
   "source": [
    "# Read in data from S3 Bucket\n",
    "from pyspark import SparkFiles\n",
    "url = \"https://2u-data-curriculum-team.s3.amazonaws.com/dataviz-classroom/v1.2/22-big-data/3/DelayedFlights.csv\"\n",
    "spark.sparkContext.addFile(url)\n",
    "df = spark.read.csv(SparkFiles.get(\"DelayedFlights.csv\"), sep=\",\", header=True)\n",
    "df.show()"
   ]
  },
  {
   "cell_type": "code",
   "execution_count": 4,
   "metadata": {
    "colab": {
     "base_uri": "https://localhost:8080/"
    },
    "id": "daHsHUbSTzaj",
    "outputId": "6a846ad7-d0e3-4eb2-b9a1-0fbc9bb9bcd2"
   },
   "outputs": [
    {
     "name": "stderr",
     "output_type": "stream",
     "text": [
      "[Stage 2:======================>                                    (3 + 5) / 8]\r"
     ]
    },
    {
     "name": "stdout",
     "output_type": "stream",
     "text": [
      "+------+----+-------------+--------+\n",
      "|Origin|Dest|sum(Distance)|count(1)|\n",
      "+------+----+-------------+--------+\n",
      "|   LAS| LIT|      72520.0|      56|\n",
      "|   PHL| MCO|     986706.0|    1146|\n",
      "|   SMF| BUR|     178284.0|     498|\n",
      "|   SNA| PHX|     218010.0|     645|\n",
      "|   MCI| IAH|     156249.0|     243|\n",
      "|   BFL| SAN|       4515.0|      21|\n",
      "|   ROC| CLE|      39935.0|     163|\n",
      "|   SPI| ORD|      34104.0|     196|\n",
      "|   ATL| GSP|      54621.0|     357|\n",
      "|   SFO| PMD|      26860.0|      85|\n",
      "|   LAX| OXR|       6958.0|     142|\n",
      "|   ORD| PDX|     909497.0|     523|\n",
      "|   PBI| DCA|      99412.0|     116|\n",
      "|   FSD| ATL|      56286.0|      59|\n",
      "|   MLI| MCO|      25900.0|      25|\n",
      "|   SJC| ONT|     145521.0|     437|\n",
      "|   AUS| ELP|     112992.0|     214|\n",
      "|   ICT| IAH|      97560.0|     180|\n",
      "|   CLE| MCI|     129084.0|     186|\n",
      "|   CPR| DEN|      31510.0|     137|\n",
      "+------+----+-------------+--------+\n",
      "only showing top 20 rows\n",
      "\n",
      "--- 4.247038841247559 seconds ---\n"
     ]
    },
    {
     "name": "stderr",
     "output_type": "stream",
     "text": [
      "\r",
      "                                                                                \r"
     ]
    }
   ],
   "source": [
    "# Create temp view named \"delays\"\n",
    "df.createOrReplaceTempView('delays')\n",
    "\n",
    "# Start the runtime\n",
    "start_time = time.time()\n",
    "\n",
    "# Using spark.sql write a query that gives you the total distance \n",
    "# and the count of every unique Origin, Dest combination.\n",
    "spark.sql(\"\"\"select Origin, Dest ,sum(Distance), count(*) from delays group by 1,2\"\"\").show()\n",
    "\n",
    "# Print out the runtime.\n",
    "print(\"--- %s seconds ---\" % (time.time() - start_time))"
   ]
  },
  {
   "cell_type": "code",
   "execution_count": 5,
   "metadata": {
    "id": "EVQQPzgiUgTg"
   },
   "outputs": [
    {
     "name": "stderr",
     "output_type": "stream",
     "text": [
      "                                                                                \r"
     ]
    }
   ],
   "source": [
    "# Write out the data in parquet format\n",
    "df.write.parquet('parquet_delay_basic', mode='overwrite')"
   ]
  },
  {
   "cell_type": "code",
   "execution_count": 6,
   "metadata": {
    "id": "1fjWZBkMUuIQ"
   },
   "outputs": [],
   "source": [
    "# Read in our new parquet formatted data\n",
    "p_df=spark.read.parquet('parquet_delay_basic')"
   ]
  },
  {
   "cell_type": "code",
   "execution_count": 7,
   "metadata": {
    "id": "O9Vj-1tAVMxZ"
   },
   "outputs": [],
   "source": [
    "# Convert the DataFrame to a view.\n",
    "p_df.createOrReplaceTempView('p_delays')"
   ]
  },
  {
   "cell_type": "code",
   "execution_count": 8,
   "metadata": {
    "colab": {
     "base_uri": "https://localhost:8080/"
    },
    "id": "W1upPNu4VFnm",
    "outputId": "057ad222-d456-417a-b289-3fde6ec04229"
   },
   "outputs": [
    {
     "name": "stderr",
     "output_type": "stream",
     "text": [
      "[Stage 7:=======>                                                   (1 + 7) / 8]\r"
     ]
    },
    {
     "name": "stdout",
     "output_type": "stream",
     "text": [
      "+------+----+-------------+--------+\n",
      "|Origin|Dest|sum(Distance)|count(1)|\n",
      "+------+----+-------------+--------+\n",
      "|   FSD| ATL|      56286.0|      59|\n",
      "|   ATL| GSP|      54621.0|     357|\n",
      "|   MSP| AVL|      24969.0|      29|\n",
      "|   ORD| PDX|     909497.0|     523|\n",
      "|   BQN| MCO|      48547.0|      43|\n",
      "|   MCI| IAH|     156249.0|     243|\n",
      "|   EWR| STT|      73530.0|      45|\n",
      "|   PHL| MCO|     986706.0|    1146|\n",
      "|   SNA| PHX|     218010.0|     645|\n",
      "|   LAS| LIT|      72520.0|      56|\n",
      "|   SMF| BUR|     178284.0|     498|\n",
      "|   ROC| CLE|      39935.0|     163|\n",
      "|   SPI| ORD|      34104.0|     196|\n",
      "|   LAX| OXR|       6958.0|     142|\n",
      "|   SFO| PMD|      26860.0|      85|\n",
      "|   PBI| DCA|      99412.0|     116|\n",
      "|   JFK| ORD|     494320.0|     668|\n",
      "|   TPA| CVG|      90441.0|     117|\n",
      "|   CVG| BDL|     109065.0|     165|\n",
      "|   BTV| MCO|      19120.0|      16|\n",
      "+------+----+-------------+--------+\n",
      "only showing top 20 rows\n",
      "\n",
      "--- 1.615084171295166 seconds ---\n"
     ]
    },
    {
     "name": "stderr",
     "output_type": "stream",
     "text": [
      "\r",
      "                                                                                \r"
     ]
    }
   ],
   "source": [
    "# Start the runtime\n",
    "start_time = time.time()\n",
    "\n",
    "# Run the same query here\n",
    "spark.sql(\"\"\"select Origin, Dest ,sum(Distance), count(*) from p_delays group by 1,2\"\"\").show()\n",
    "\n",
    "# Print out the runtime\n",
    "print(\"--- %s seconds ---\" % (time.time() - start_time))"
   ]
  },
  {
   "cell_type": "code",
   "execution_count": 9,
   "metadata": {
    "id": "RxtycEtOVQrZ"
   },
   "outputs": [
    {
     "name": "stderr",
     "output_type": "stream",
     "text": [
      "                                                                                \r"
     ]
    }
   ],
   "source": [
    "# Write out your parquet data, partitioning on the Origin column\n",
    "df.write.partitionBy(\"Origin\").mode(\"overwrite\").parquet(\"delayed_partitioned\")"
   ]
  },
  {
   "cell_type": "code",
   "execution_count": 10,
   "metadata": {
    "id": "TMpsNLamXM9N"
   },
   "outputs": [
    {
     "name": "stderr",
     "output_type": "stream",
     "text": [
      "                                                                                \r"
     ]
    }
   ],
   "source": [
    "# Read in our new parquet formatted data\n",
    "p_df_p=spark.read.parquet('delayed_partitioned')"
   ]
  },
  {
   "cell_type": "code",
   "execution_count": 11,
   "metadata": {
    "id": "KX3wglAtWEbI"
   },
   "outputs": [],
   "source": [
    "# Convert the dataframe to a view.\n",
    "p_df_p.createOrReplaceTempView('p_delays_p')"
   ]
  },
  {
   "cell_type": "code",
   "execution_count": 12,
   "metadata": {
    "colab": {
     "base_uri": "https://localhost:8080/"
    },
    "id": "LOR5HfhRVzmG",
    "outputId": "d39a81cb-c213-4dc2-d3a3-0a9b32390d9b"
   },
   "outputs": [
    {
     "name": "stderr",
     "output_type": "stream",
     "text": [
      "[Stage 13:=====================================================>  (63 + 3) / 66]\r"
     ]
    },
    {
     "name": "stdout",
     "output_type": "stream",
     "text": [
      "+------+----+-------------+--------+\n",
      "|Origin|Dest|sum(Distance)|count(1)|\n",
      "+------+----+-------------+--------+\n",
      "|   ATL| GSP|      54621.0|     357|\n",
      "|   ORD| PDX|     909497.0|     523|\n",
      "|   LAX| OXR|       6958.0|     142|\n",
      "|   EWR| STT|      73530.0|      45|\n",
      "|   ATL| HDN|      30820.0|      23|\n",
      "|   ORD| FWA|      89961.0|     573|\n",
      "|   DFW| PNS|     228916.0|     379|\n",
      "|   DFW| SDF|     142202.0|     194|\n",
      "|   LAX| PIT|      49128.0|      23|\n",
      "|   ORD| CAE|     225108.0|     338|\n",
      "|   ORD| BUF|     332992.0|     704|\n",
      "|   DFW| HOU|     102258.0|     414|\n",
      "|   DEN| ANC|     235788.0|      98|\n",
      "|   EWR| CMH|     134442.0|     291|\n",
      "|   DEN| ABQ|     225105.0|     645|\n",
      "|   DEN| RAP|      69230.0|     230|\n",
      "|   LAX| SBP|      46965.0|     303|\n",
      "|   PHX| TUL|     163625.0|     175|\n",
      "|   IAH| LIT|      72930.0|     195|\n",
      "|   LAX| MCO|     540948.0|     244|\n",
      "+------+----+-------------+--------+\n",
      "only showing top 20 rows\n",
      "\n",
      "--- 5.463308811187744 seconds ---\n"
     ]
    },
    {
     "name": "stderr",
     "output_type": "stream",
     "text": [
      "\r",
      "                                                                                \r"
     ]
    }
   ],
   "source": [
    "# Start the runtime\n",
    "start_time = time.time()\n",
    "\n",
    "# Run your query against your partitioned data one more time.\n",
    "spark.sql(\"\"\"select Origin, Dest ,sum(Distance), count(*) from p_delays_p group by 1,2\"\"\").show()\n",
    "\n",
    "# Print out the runtime\n",
    "print(\"--- %s seconds ---\" % (time.time() - start_time))"
   ]
  },
  {
   "cell_type": "code",
   "execution_count": 13,
   "metadata": {
    "colab": {
     "base_uri": "https://localhost:8080/"
    },
    "id": "w1LbeemvWsRa",
    "outputId": "a9efe10f-32e4-49f0-a8d4-3c91acdc97d4"
   },
   "outputs": [
    {
     "name": "stdout",
     "output_type": "stream",
     "text": [
      "+------+-------+\n",
      "|Origin|TailNum|\n",
      "+------+-------+\n",
      "|   MSY| N712SW|\n",
      "|   MDW| N712SW|\n",
      "|   ABQ| N712SW|\n",
      "|   BUR| N712SW|\n",
      "|   PIT| N712SW|\n",
      "|   MCO| N712SW|\n",
      "|   TPA| N712SW|\n",
      "|   BNA| N712SW|\n",
      "|   SNA| N712SW|\n",
      "|   SMF| N712SW|\n",
      "|   JAN| N712SW|\n",
      "|   SFO| N712SW|\n",
      "|   AUS| N712SW|\n",
      "|   PHX| N712SW|\n",
      "|   SAN| N712SW|\n",
      "|   SLC| N712SW|\n",
      "|   DAL| N712SW|\n",
      "|   OAK| N712SW|\n",
      "|   HOU| N712SW|\n",
      "|   DEN| N712SW|\n",
      "+------+-------+\n",
      "only showing top 20 rows\n",
      "\n",
      "--- 0.5014269351959229 seconds ---\n"
     ]
    }
   ],
   "source": [
    "# Start  the runtime\n",
    "start_time = time.time()\n",
    "\n",
    "# Filter the data on something that selects your partition choice.\n",
    "spark.sql(\"\"\"Select distinct Origin, TailNum from p_delays where TailNum='N712SW' \"\"\").show()\n",
    "\n",
    "# Print out the runtime.\n",
    "print(\"--- %s seconds ---\" % (time.time() - start_time))"
   ]
  },
  {
   "cell_type": "code",
   "execution_count": 14,
   "metadata": {
    "colab": {
     "base_uri": "https://localhost:8080/"
    },
    "id": "e3wGOJK3Xrnu",
    "outputId": "9a46cbfc-6c17-452d-c585-4115c9e41063"
   },
   "outputs": [
    {
     "name": "stderr",
     "output_type": "stream",
     "text": [
      "[Stage 19:===============================================>        (56 + 8) / 66]\r"
     ]
    },
    {
     "name": "stdout",
     "output_type": "stream",
     "text": [
      "+----+-------+\n",
      "|Dest|TailNum|\n",
      "+----+-------+\n",
      "| RNO| N712SW|\n",
      "| MDW| N712SW|\n",
      "| STL| N712SW|\n",
      "| BNA| N712SW|\n",
      "| SNA| N712SW|\n",
      "| SMF| N712SW|\n",
      "| OMA| N712SW|\n",
      "| ONT| N712SW|\n",
      "| PHX| N712SW|\n",
      "| LAS| N712SW|\n",
      "| LAX| N712SW|\n",
      "| MCI| N712SW|\n",
      "| RDU| N712SW|\n",
      "| ABQ| N712SW|\n",
      "| BUR| N712SW|\n",
      "| MCO| N712SW|\n",
      "| TPA| N712SW|\n",
      "| ELP| N712SW|\n",
      "| BUF| N712SW|\n",
      "| BHM| N712SW|\n",
      "+----+-------+\n",
      "only showing top 20 rows\n",
      "\n",
      "--- 2.738379955291748 seconds ---\n"
     ]
    },
    {
     "name": "stderr",
     "output_type": "stream",
     "text": [
      "\r",
      "[Stage 19:======================================================> (64 + 2) / 66]\r",
      "\r",
      "                                                                                \r"
     ]
    }
   ],
   "source": [
    "# Start  the runtime\n",
    "start_time = time.time()\n",
    "\n",
    "# Filter the data on something that has nothing to do with your partition choice.\n",
    "spark.sql(\"\"\"Select distinct Dest, TailNum from p_delays_p where TailNum='N712SW' \"\"\").show()\n",
    "\n",
    "# Print out the runtime.\n",
    "print(\"--- %s seconds ---\" % (time.time() - start_time))"
   ]
  },
  {
   "cell_type": "code",
   "execution_count": null,
   "metadata": {},
   "outputs": [],
   "source": []
  }
 ],
 "metadata": {
  "colab": {
   "collapsed_sections": [],
   "name": "Practicing_Partitions_Solved.ipynb",
   "provenance": []
  },
  "kernelspec": {
   "display_name": "Python 3 (ipykernel)",
   "language": "python",
   "name": "python3"
  },
  "language_info": {
   "codemirror_mode": {
    "name": "ipython",
    "version": 3
   },
   "file_extension": ".py",
   "mimetype": "text/x-python",
   "name": "python",
   "nbconvert_exporter": "python",
   "pygments_lexer": "ipython3",
   "version": "3.10.4"
  },
  "vscode": {
   "interpreter": {
    "hash": "aee8b7b246df8f9039afb4144a1f6fd8d2ca17a180786b69acc140d282b71a49"
   }
  }
 },
 "nbformat": 4,
 "nbformat_minor": 1
}
