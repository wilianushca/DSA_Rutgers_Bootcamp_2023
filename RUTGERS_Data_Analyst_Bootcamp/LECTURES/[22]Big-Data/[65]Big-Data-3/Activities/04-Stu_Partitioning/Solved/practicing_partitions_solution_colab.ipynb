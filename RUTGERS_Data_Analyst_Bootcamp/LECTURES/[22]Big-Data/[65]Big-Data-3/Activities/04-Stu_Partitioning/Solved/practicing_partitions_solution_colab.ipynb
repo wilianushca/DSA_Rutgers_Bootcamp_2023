{
 "cells": [
  {
   "cell_type": "code",
   "execution_count": 1,
   "metadata": {
    "colab": {
     "base_uri": "https://localhost:8080/"
    },
    "id": "w1m9uEbLTfhq",
    "outputId": "5b162657-51b2-4dff-a4ff-3d7b21ace296"
   },
   "outputs": [
    {
     "name": "stdout",
     "output_type": "stream",
     "text": [
      "\r",
      "0% [Working]\r",
      "            \r",
      "Get:1 https://cloud.r-project.org/bin/linux/ubuntu focal-cran40/ InRelease [3,622 B]\n",
      "\r",
      "0% [Connecting to archive.ubuntu.com (185.125.190.39)] [Connecting to security.\r",
      "0% [Connecting to archive.ubuntu.com (185.125.190.39)] [Connecting to security.\r",
      "                                                                               \r",
      "Get:2 http://security.ubuntu.com/ubuntu focal-security InRelease [114 kB]\n",
      "\r",
      "                                                                               \r",
      "Get:3 http://ppa.launchpad.net/c2d4u.team/c2d4u4.0+/ubuntu focal InRelease [18.1 kB]\n",
      "\r",
      "0% [Waiting for headers] [2 InRelease 14.2 kB/114 kB 12%] [Connected to develop\r",
      "                                                                               \r",
      "Hit:4 http://archive.ubuntu.com/ubuntu focal InRelease\n",
      "Get:5 http://archive.ubuntu.com/ubuntu focal-updates InRelease [114 kB]\n",
      "Hit:6 http://ppa.launchpad.net/cran/libgit2/ubuntu focal InRelease\n",
      "Get:7 http://ppa.launchpad.net/deadsnakes/ppa/ubuntu focal InRelease [18.1 kB]\n",
      "Get:8 http://archive.ubuntu.com/ubuntu focal-backports InRelease [108 kB]\n",
      "Hit:9 http://ppa.launchpad.net/graphics-drivers/ppa/ubuntu focal InRelease\n",
      "Ign:10 https://developer.download.nvidia.com/compute/machine-learning/repos/ubuntu2004/x86_64  InRelease\n",
      "Hit:11 https://developer.download.nvidia.com/compute/cuda/repos/ubuntu2004/x86_64  InRelease\n",
      "Hit:12 https://developer.download.nvidia.com/compute/machine-learning/repos/ubuntu2004/x86_64  Release\n",
      "Get:13 http://ppa.launchpad.net/c2d4u.team/c2d4u4.0+/ubuntu focal/main Sources [2,381 kB]\n",
      "Get:14 http://ppa.launchpad.net/c2d4u.team/c2d4u4.0+/ubuntu focal/main amd64 Packages [1,127 kB]\n",
      "Get:15 http://security.ubuntu.com/ubuntu focal-security/universe amd64 Packages [988 kB]\n",
      "Get:16 http://security.ubuntu.com/ubuntu focal-security/main amd64 Packages [2,442 kB]\n",
      "Get:17 http://archive.ubuntu.com/ubuntu focal-updates/universe amd64 Packages [1,290 kB]\n",
      "Get:18 http://archive.ubuntu.com/ubuntu focal-updates/main amd64 Packages [2,920 kB]\n",
      "Get:19 http://ppa.launchpad.net/deadsnakes/ppa/ubuntu focal/main amd64 Packages [29.5 kB]\n",
      "Fetched 11.6 MB in 9s (1,248 kB/s)\n",
      "Reading package lists... Done\n"
     ]
    }
   ],
   "source": [
    "import os\n",
    "# Find the latest version of spark 3.x  from http://www.apache.org/dist/spark/ and enter as the spark version\n",
    "# For example:\n",
    "# spark_version = 'spark-3.4.0'\n",
    "spark_version = 'spark-3.4.0'\n",
    "os.environ['SPARK_VERSION']=spark_version\n",
    "\n",
    "# Install Spark and Java\n",
    "!apt-get update\n",
    "!apt-get install openjdk-11-jdk-headless -qq > /dev/null\n",
    "!wget -q http://www.apache.org/dist/spark/$SPARK_VERSION/$SPARK_VERSION-bin-hadoop3.tgz\n",
    "!tar xf $SPARK_VERSION-bin-hadoop3.tgz\n",
    "!pip install -q findspark\n",
    "\n",
    "# Set Environment Variables\n",
    "os.environ[\"JAVA_HOME\"] = \"/usr/lib/jvm/java-11-openjdk-amd64\"\n",
    "os.environ[\"SPARK_HOME\"] = f\"/content/{spark_version}-bin-hadoop3\"\n",
    "\n",
    "# Start a SparkSession\n",
    "import findspark\n",
    "findspark.init()"
   ]
  },
  {
   "cell_type": "code",
   "execution_count": 2,
   "metadata": {
    "id": "wdpzXrYLTgcq"
   },
   "outputs": [],
   "source": [
    "# Import packages\n",
    "from pyspark.sql import SparkSession\n",
    "import time\n",
    "\n",
    "# Create a SparkSession\n",
    "spark = SparkSession.builder\\\n",
    "    .appName(\"SparkSQL\")\\\n",
    "    .config(\"spark.sql.debug.maxToStringFields\", 2000)\\\n",
    "    .config(\"spark.driver.memory\", \"2g\")\\\n",
    "    .getOrCreate()"
   ]
  },
  {
   "cell_type": "code",
   "execution_count": 3,
   "metadata": {
    "colab": {
     "base_uri": "https://localhost:8080/"
    },
    "id": "SyGdKF4mTguN",
    "outputId": "9d6fd84d-54b3-4333-dc62-58b2cc2c4531"
   },
   "outputs": [
    {
     "name": "stdout",
     "output_type": "stream",
     "text": [
      "+---+----+-----+----------+---------+-------+----------+-------+----------+-------------+---------+-------+-----------------+--------------+-------+--------+--------+------+----+--------+------+-------+---------+----------------+--------+------------+------------+--------+-------------+-----------------+\n",
      "| id|Year|Month|DayofMonth|DayOfWeek|DepTime|CRSDepTime|ArrTime|CRSArrTime|UniqueCarrier|FlightNum|TailNum|ActualElapsedTime|CRSElapsedTime|AirTime|ArrDelay|DepDelay|Origin|Dest|Distance|TaxiIn|TaxiOut|Cancelled|CancellationCode|Diverted|CarrierDelay|WeatherDelay|NASDelay|SecurityDelay|LateAircraftDelay|\n",
      "+---+----+-----+----------+---------+-------+----------+-------+----------+-------------+---------+-------+-----------------+--------------+-------+--------+--------+------+----+--------+------+-------+---------+----------------+--------+------------+------------+--------+-------------+-----------------+\n",
      "|  0|2008|    1|         3|        4|   2003|      1955|   2211|      2225|           WN|      335| N712SW|              128|           150|    116|     -14|       8|   IAD| TPA|     810|     4|      8|        0|               N|       0|        null|        null|    null|         null|             null|\n",
      "|  1|2008|    1|         3|        4|    754|       735|   1002|      1000|           WN|     3231| N772SW|              128|           145|    113|       2|      19|   IAD| TPA|     810|     5|     10|        0|               N|       0|        null|        null|    null|         null|             null|\n",
      "|  2|2008|    1|         3|        4|    628|       620|    804|       750|           WN|      448| N428WN|               96|            90|     76|      14|       8|   IND| BWI|     515|     3|     17|        0|               N|       0|        null|        null|    null|         null|             null|\n",
      "|  4|2008|    1|         3|        4|   1829|      1755|   1959|      1925|           WN|     3920| N464WN|               90|            90|     77|      34|      34|   IND| BWI|     515|     3|     10|        0|               N|       0|           2|           0|       0|            0|               32|\n",
      "|  5|2008|    1|         3|        4|   1940|      1915|   2121|      2110|           WN|      378| N726SW|              101|           115|     87|      11|      25|   IND| JAX|     688|     4|     10|        0|               N|       0|        null|        null|    null|         null|             null|\n",
      "|  6|2008|    1|         3|        4|   1937|      1830|   2037|      1940|           WN|      509| N763SW|              240|           250|    230|      57|      67|   IND| LAS|    1591|     3|      7|        0|               N|       0|          10|           0|       0|            0|               47|\n",
      "| 10|2008|    1|         3|        4|    706|       700|    916|       915|           WN|      100| N690SW|              130|           135|    106|       1|       6|   IND| MCO|     828|     5|     19|        0|               N|       0|        null|        null|    null|         null|             null|\n",
      "| 11|2008|    1|         3|        4|   1644|      1510|   1845|      1725|           WN|     1333| N334SW|              121|           135|    107|      80|      94|   IND| MCO|     828|     6|      8|        0|               N|       0|           8|           0|       0|            0|               72|\n",
      "| 15|2008|    1|         3|        4|   1029|      1020|   1021|      1010|           WN|     2272| N263WN|               52|            50|     37|      11|       9|   IND| MDW|     162|     6|      9|        0|               N|       0|        null|        null|    null|         null|             null|\n",
      "| 16|2008|    1|         3|        4|   1452|      1425|   1640|      1625|           WN|      675| N286WN|              228|           240|    213|      15|      27|   IND| PHX|    1489|     7|      8|        0|               N|       0|           3|           0|       0|            0|               12|\n",
      "| 17|2008|    1|         3|        4|    754|       745|    940|       955|           WN|     1144| N778SW|              226|           250|    205|     -15|       9|   IND| PHX|    1489|     5|     16|        0|               N|       0|        null|        null|    null|         null|             null|\n",
      "| 18|2008|    1|         3|        4|   1323|      1255|   1526|      1510|           WN|        4| N674AA|              123|           135|    110|      16|      28|   IND| TPA|     838|     4|      9|        0|               N|       0|           0|           0|       0|            0|               16|\n",
      "| 19|2008|    1|         3|        4|   1416|      1325|   1512|      1435|           WN|       54| N643SW|               56|            70|     49|      37|      51|   ISP| BWI|     220|     2|      5|        0|               N|       0|          12|           0|       0|            0|               25|\n",
      "| 21|2008|    1|         3|        4|   1657|      1625|   1754|      1735|           WN|      623| N724SW|               57|            70|     47|      19|      32|   ISP| BWI|     220|     5|      5|        0|               N|       0|           7|           0|       0|            0|               12|\n",
      "| 22|2008|    1|         3|        4|   1900|      1840|   1956|      1950|           WN|      717| N786SW|               56|            70|     49|       6|      20|   ISP| BWI|     220|     2|      5|        0|               N|       0|        null|        null|    null|         null|             null|\n",
      "| 23|2008|    1|         3|        4|   1039|      1030|   1133|      1140|           WN|     1244| N714CB|               54|            70|     47|      -7|       9|   ISP| BWI|     220|     2|      5|        0|               N|       0|        null|        null|    null|         null|             null|\n",
      "| 25|2008|    1|         3|        4|   1520|      1455|   1619|      1605|           WN|     2553| N394SW|               59|            70|     50|      14|      25|   ISP| BWI|     220|     2|      7|        0|               N|       0|        null|        null|    null|         null|             null|\n",
      "| 26|2008|    1|         3|        4|   1422|      1255|   1657|      1610|           WN|      188| N215WN|              155|           195|    143|      47|      87|   ISP| FLL|    1093|     6|      6|        0|               N|       0|          40|           0|       0|            0|                7|\n",
      "| 27|2008|    1|         3|        4|   1954|      1925|   2239|      2235|           WN|     1754| N243WN|              165|           190|    155|       4|      29|   ISP| FLL|    1093|     3|      7|        0|               N|       0|        null|        null|    null|         null|             null|\n",
      "| 30|2008|    1|         3|        4|   2107|      1945|   2334|      2230|           WN|      362| N798SW|              147|           165|    134|      64|      82|   ISP| MCO|     972|     6|      7|        0|               N|       0|           5|           0|       0|            0|               59|\n",
      "+---+----+-----+----------+---------+-------+----------+-------+----------+-------------+---------+-------+-----------------+--------------+-------+--------+--------+------+----+--------+------+-------+---------+----------------+--------+------------+------------+--------+-------------+-----------------+\n",
      "only showing top 20 rows\n",
      "\n"
     ]
    }
   ],
   "source": [
    "# Read in data from S3 Bucket\n",
    "from pyspark import SparkFiles\n",
    "url = \"https://2u-data-curriculum-team.s3.amazonaws.com/dataviz-classroom/v1.2/22-big-data/3/DelayedFlights.csv\"\n",
    "spark.sparkContext.addFile(url)\n",
    "df = spark.read.csv(SparkFiles.get(\"DelayedFlights.csv\"), sep=\",\", header=True)\n",
    "df.show()"
   ]
  },
  {
   "cell_type": "code",
   "execution_count": 4,
   "metadata": {
    "id": "SDIRdbad1r2X"
   },
   "outputs": [],
   "source": [
    "# Create a temporary view\n",
    "df.createOrReplaceTempView('delays')"
   ]
  },
  {
   "cell_type": "code",
   "execution_count": 5,
   "metadata": {
    "colab": {
     "base_uri": "https://localhost:8080/"
    },
    "id": "daHsHUbSTzaj",
    "outputId": "ea59cd44-1ad0-48ea-9631-6780ef82b6e2"
   },
   "outputs": [
    {
     "name": "stdout",
     "output_type": "stream",
     "text": [
      "+------+----+-------------+--------+\n",
      "|Origin|Dest|sum(Distance)|count(1)|\n",
      "+------+----+-------------+--------+\n",
      "|   LAS| LIT|      72520.0|      56|\n",
      "|   PHL| MCO|     986706.0|    1146|\n",
      "|   SMF| BUR|     178284.0|     498|\n",
      "|   SNA| PHX|     218010.0|     645|\n",
      "|   MCI| IAH|     156249.0|     243|\n",
      "|   BFL| SAN|       4515.0|      21|\n",
      "|   ROC| CLE|      39935.0|     163|\n",
      "|   SPI| ORD|      34104.0|     196|\n",
      "|   ATL| GSP|      54621.0|     357|\n",
      "|   SFO| PMD|      26860.0|      85|\n",
      "|   LAX| OXR|       6958.0|     142|\n",
      "|   ORD| PDX|     909497.0|     523|\n",
      "|   PBI| DCA|      99412.0|     116|\n",
      "|   FSD| ATL|      56286.0|      59|\n",
      "|   MLI| MCO|      25900.0|      25|\n",
      "|   MSP| AVL|      24969.0|      29|\n",
      "|   BQN| MCO|      48547.0|      43|\n",
      "|   EWR| STT|      73530.0|      45|\n",
      "|   CLE| SJU|       1839.0|       1|\n",
      "|   MCI| MKE|        436.0|       1|\n",
      "+------+----+-------------+--------+\n",
      "only showing top 20 rows\n",
      "\n",
      "--- 6.0708253383636475 seconds ---\n"
     ]
    }
   ],
   "source": [
    "# Start the runtime\n",
    "start_time = time.time()\n",
    "\n",
    "# Using spark.sql write a query that gives you the total distance \n",
    "# and the count of every unique Origin, Dest combination.\n",
    "spark.sql(\"\"\"select Origin, Dest ,sum(Distance), count(*) from delays group by 1,2\"\"\").show()\n",
    "\n",
    "# Print out the runtime.\n",
    "print(\"--- %s seconds ---\" % (time.time() - start_time))"
   ]
  },
  {
   "cell_type": "code",
   "execution_count": 6,
   "metadata": {
    "id": "EVQQPzgiUgTg"
   },
   "outputs": [],
   "source": [
    "# Write out the data in parquet format\n",
    "df.write.parquet('parquet_delay_basic', mode='overwrite')"
   ]
  },
  {
   "cell_type": "code",
   "execution_count": 7,
   "metadata": {
    "id": "1fjWZBkMUuIQ"
   },
   "outputs": [],
   "source": [
    "# Read in our new parquet formatted data\n",
    "p_df=spark.read.parquet('parquet_delay_basic')"
   ]
  },
  {
   "cell_type": "code",
   "execution_count": 8,
   "metadata": {
    "id": "urA5IuH3Ecfq"
   },
   "outputs": [],
   "source": [
    "# Convert the DataFrame to a view.\n",
    "p_df.createOrReplaceTempView('p_delays')"
   ]
  },
  {
   "cell_type": "code",
   "execution_count": 9,
   "metadata": {
    "colab": {
     "base_uri": "https://localhost:8080/"
    },
    "id": "W1upPNu4VFnm",
    "outputId": "b4254380-68d9-4818-e689-b9902e8f9a69"
   },
   "outputs": [
    {
     "name": "stdout",
     "output_type": "stream",
     "text": [
      "+------+----+-------------+--------+\n",
      "|Origin|Dest|sum(Distance)|count(1)|\n",
      "+------+----+-------------+--------+\n",
      "|   LAS| LIT|      72520.0|      56|\n",
      "|   PHL| MCO|     986706.0|    1146|\n",
      "|   SMF| BUR|     178284.0|     498|\n",
      "|   SNA| PHX|     218010.0|     645|\n",
      "|   MCI| IAH|     156249.0|     243|\n",
      "|   BFL| SAN|       4515.0|      21|\n",
      "|   ROC| CLE|      39935.0|     163|\n",
      "|   SPI| ORD|      34104.0|     196|\n",
      "|   ATL| GSP|      54621.0|     357|\n",
      "|   SFO| PMD|      26860.0|      85|\n",
      "|   LAX| OXR|       6958.0|     142|\n",
      "|   ORD| PDX|     909497.0|     523|\n",
      "|   PBI| DCA|      99412.0|     116|\n",
      "|   FSD| ATL|      56286.0|      59|\n",
      "|   MLI| MCO|      25900.0|      25|\n",
      "|   MSP| AVL|      24969.0|      29|\n",
      "|   BQN| MCO|      48547.0|      43|\n",
      "|   EWR| STT|      73530.0|      45|\n",
      "|   CLE| SJU|       1839.0|       1|\n",
      "|   MCI| MKE|        436.0|       1|\n",
      "+------+----+-------------+--------+\n",
      "only showing top 20 rows\n",
      "\n",
      "--- 2.5319392681121826 seconds ---\n"
     ]
    }
   ],
   "source": [
    "# Start the runtime\n",
    "start_time = time.time()\n",
    "\n",
    "# Run the same query here\n",
    "spark.sql(\"\"\"select Origin, Dest ,sum(Distance), count(*) from p_delays group by 1,2\"\"\").show()\n",
    "\n",
    "# Print out the runtime\n",
    "print(\"--- %s seconds ---\" % (time.time() - start_time))"
   ]
  },
  {
   "cell_type": "code",
   "execution_count": 10,
   "metadata": {
    "id": "dYigWiix1_vm"
   },
   "outputs": [],
   "source": [
    "# Write out your parquet data, partitioning on the Origin column\n",
    "df.write.partitionBy(\"Origin\").mode(\"overwrite\").parquet(\"delayed_partitioned\")"
   ]
  },
  {
   "cell_type": "code",
   "execution_count": 11,
   "metadata": {
    "id": "RxtycEtOVQrZ"
   },
   "outputs": [],
   "source": [
    "# Read in our new parquet formatted data\n",
    "p_df_p=spark.read.parquet('delayed_partitioned')"
   ]
  },
  {
   "cell_type": "code",
   "execution_count": 12,
   "metadata": {
    "id": "KX3wglAtWEbI"
   },
   "outputs": [],
   "source": [
    "# Convert the dataframe to a view.\n",
    "p_df_p.createOrReplaceTempView('p_delays_p')"
   ]
  },
  {
   "cell_type": "code",
   "execution_count": 13,
   "metadata": {
    "colab": {
     "base_uri": "https://localhost:8080/"
    },
    "id": "LOR5HfhRVzmG",
    "outputId": "fbd62d1d-8406-4bca-c456-493aa6175fc0"
   },
   "outputs": [
    {
     "name": "stdout",
     "output_type": "stream",
     "text": [
      "+------+----+-------------+--------+\n",
      "|Origin|Dest|sum(Distance)|count(1)|\n",
      "+------+----+-------------+--------+\n",
      "|   ORD| PDX|     909497.0|     523|\n",
      "|   ATL| GSP|      54621.0|     357|\n",
      "|   LAX| OXR|       6958.0|     142|\n",
      "|   LAS| LIT|      72520.0|      56|\n",
      "|   EWR| STT|      73530.0|      45|\n",
      "|   SFO| PMD|      26860.0|      85|\n",
      "|   MSP| AVL|      24969.0|      29|\n",
      "|   SFO| TUS|      51068.0|      68|\n",
      "|   CLT| ATW|        742.0|       1|\n",
      "|   ORD| FWA|      89961.0|     573|\n",
      "|   ATL| HDN|      30820.0|      23|\n",
      "|   DFW| PNS|     228916.0|     379|\n",
      "|   DFW| SDF|     142202.0|     194|\n",
      "|   LAX| PIT|      49128.0|      23|\n",
      "|   DTW| MKE|      62118.0|     261|\n",
      "|   MCO| PVD|     386280.0|     360|\n",
      "|   MCO| SFO|     110025.0|      45|\n",
      "|   MSP| BOI|     113058.0|      99|\n",
      "|   ORD| BUF|     332992.0|     704|\n",
      "|   ORD| CAE|     225108.0|     338|\n",
      "+------+----+-------------+--------+\n",
      "only showing top 20 rows\n",
      "\n",
      "--- 5.246726751327515 seconds ---\n"
     ]
    }
   ],
   "source": [
    "# Start the runtime\n",
    "start_time = time.time()\n",
    "\n",
    "# Run your query against your partitioned data one more time.\n",
    "spark.sql(\"\"\"select Origin, Dest ,sum(Distance), count(*) from p_delays_p group by 1,2\"\"\").show()\n",
    "\n",
    "# Print out the runtime\n",
    "print(\"--- %s seconds ---\" % (time.time() - start_time))"
   ]
  },
  {
   "cell_type": "code",
   "execution_count": 14,
   "metadata": {
    "colab": {
     "base_uri": "https://localhost:8080/"
    },
    "id": "w1LbeemvWsRa",
    "outputId": "b3a54fde-b296-4559-aa17-d39f71e9b089"
   },
   "outputs": [
    {
     "name": "stdout",
     "output_type": "stream",
     "text": [
      "+------+-------+\n",
      "|Origin|TailNum|\n",
      "+------+-------+\n",
      "|   MSY| N712SW|\n",
      "|   RNO| N712SW|\n",
      "|   RDU| N712SW|\n",
      "|   MDW| N712SW|\n",
      "|   IAD| N712SW|\n",
      "|   ABQ| N712SW|\n",
      "|   STL| N712SW|\n",
      "|   MHT| N712SW|\n",
      "|   BUR| N712SW|\n",
      "|   PIT| N712SW|\n",
      "|   MCO| N712SW|\n",
      "|   JAX| N712SW|\n",
      "|   HRL| N712SW|\n",
      "|   TPA| N712SW|\n",
      "|   BNA| N712SW|\n",
      "|   SNA| N712SW|\n",
      "|   SMF| N712SW|\n",
      "|   BUF| N712SW|\n",
      "|   ELP| N712SW|\n",
      "|   BDL| N712SW|\n",
      "+------+-------+\n",
      "only showing top 20 rows\n",
      "\n",
      "--- 0.8149929046630859 seconds ---\n"
     ]
    }
   ],
   "source": [
    "# Start  the runtime\n",
    "start_time = time.time()\n",
    "\n",
    "# Filter the data on something that selects your partition choice.\n",
    "spark.sql(\"\"\"Select distinct Origin, TailNum from p_delays where TailNum='N712SW' \"\"\").show()\n",
    "\n",
    "# Print out the runtime.\n",
    "print(\"--- %s seconds ---\" % (time.time() - start_time))"
   ]
  },
  {
   "cell_type": "code",
   "execution_count": 15,
   "metadata": {
    "colab": {
     "base_uri": "https://localhost:8080/"
    },
    "id": "e3wGOJK3Xrnu",
    "outputId": "8fa1a049-e311-4cc4-d7d9-c0363a2e8b4e"
   },
   "outputs": [
    {
     "name": "stdout",
     "output_type": "stream",
     "text": [
      "+----+-------+\n",
      "|Dest|TailNum|\n",
      "+----+-------+\n",
      "| MSY| N712SW|\n",
      "| RNO| N712SW|\n",
      "| RDU| N712SW|\n",
      "| MDW| N712SW|\n",
      "| IAD| N712SW|\n",
      "| ABQ| N712SW|\n",
      "| STL| N712SW|\n",
      "| BUR| N712SW|\n",
      "| PIT| N712SW|\n",
      "| MCO| N712SW|\n",
      "| TPA| N712SW|\n",
      "| BNA| N712SW|\n",
      "| IND| N712SW|\n",
      "| SNA| N712SW|\n",
      "| SMF| N712SW|\n",
      "| ELP| N712SW|\n",
      "| BUF| N712SW|\n",
      "| OMA| N712SW|\n",
      "| BHM| N712SW|\n",
      "| SFO| N712SW|\n",
      "+----+-------+\n",
      "only showing top 20 rows\n",
      "\n",
      "--- 3.4078776836395264 seconds ---\n"
     ]
    }
   ],
   "source": [
    "# Start  the runtime\n",
    "start_time = time.time()\n",
    "\n",
    "# Filter the data on something that has nothing to do with your partition choice.\n",
    "spark.sql(\"\"\"Select distinct Dest, TailNum from p_delays_p where TailNum='N712SW' \"\"\").show()\n",
    "\n",
    "# Print out the runtime.\n",
    "print(\"--- %s seconds ---\" % (time.time() - start_time))"
   ]
  },
  {
   "cell_type": "code",
   "execution_count": 15,
   "metadata": {
    "id": "9652Mii42hya"
   },
   "outputs": [],
   "source": []
  }
 ],
 "metadata": {
  "colab": {
   "provenance": []
  },
  "kernelspec": {
   "display_name": "Python 3 (ipykernel)",
   "language": "python",
   "name": "python3"
  },
  "language_info": {
   "codemirror_mode": {
    "name": "ipython",
    "version": 3
   },
   "file_extension": ".py",
   "mimetype": "text/x-python",
   "name": "python",
   "nbconvert_exporter": "python",
   "pygments_lexer": "ipython3",
   "version": "3.10.4"
  }
 },
 "nbformat": 4,
 "nbformat_minor": 1
}
