{
 "cells": [
  {
   "cell_type": "code",
   "execution_count": 1,
   "metadata": {
    "colab": {
     "base_uri": "https://localhost:8080/"
    },
    "id": "s2U0y6_MtZ9I",
    "outputId": "dd97d0d4-742f-4915-b071-e44ec5eaec5a"
   },
   "outputs": [
    {
     "name": "stdout",
     "output_type": "stream",
     "text": [
      "\r",
      "0% [Working]\r",
      "            \r",
      "Get:1 http://security.ubuntu.com/ubuntu focal-security InRelease [114 kB]\n",
      "Get:2 https://cloud.r-project.org/bin/linux/ubuntu focal-cran40/ InRelease [3,622 B]\n",
      "Ign:3 https://developer.download.nvidia.com/compute/machine-learning/repos/ubuntu2004/x86_64  InRelease\n",
      "Hit:4 http://archive.ubuntu.com/ubuntu focal InRelease\n",
      "Hit:5 https://developer.download.nvidia.com/compute/cuda/repos/ubuntu2004/x86_64  InRelease\n",
      "Hit:6 https://developer.download.nvidia.com/compute/machine-learning/repos/ubuntu2004/x86_64  Release\n",
      "Get:7 http://archive.ubuntu.com/ubuntu focal-updates InRelease [114 kB]\n",
      "Get:8 http://ppa.launchpad.net/c2d4u.team/c2d4u4.0+/ubuntu focal InRelease [18.1 kB]\n",
      "Get:9 http://archive.ubuntu.com/ubuntu focal-backports InRelease [108 kB]\n",
      "Hit:10 http://ppa.launchpad.net/cran/libgit2/ubuntu focal InRelease\n",
      "Get:11 http://ppa.launchpad.net/deadsnakes/ppa/ubuntu focal InRelease [18.1 kB]\n",
      "Hit:12 http://ppa.launchpad.net/graphics-drivers/ppa/ubuntu focal InRelease\n",
      "Get:14 http://security.ubuntu.com/ubuntu focal-security/main amd64 Packages [2,442 kB]\n",
      "Get:15 http://security.ubuntu.com/ubuntu focal-security/universe amd64 Packages [988 kB]\n",
      "Get:16 http://archive.ubuntu.com/ubuntu focal-updates/main amd64 Packages [2,920 kB]\n",
      "Get:17 http://archive.ubuntu.com/ubuntu focal-updates/universe amd64 Packages [1,290 kB]\n",
      "Get:18 http://ppa.launchpad.net/c2d4u.team/c2d4u4.0+/ubuntu focal/main Sources [2,381 kB]\n",
      "Get:19 http://ppa.launchpad.net/c2d4u.team/c2d4u4.0+/ubuntu focal/main amd64 Packages [1,127 kB]\n",
      "Get:20 http://ppa.launchpad.net/deadsnakes/ppa/ubuntu focal/main amd64 Packages [29.5 kB]\n",
      "Fetched 11.6 MB in 9s (1,298 kB/s)\n",
      "Reading package lists... Done\n"
     ]
    }
   ],
   "source": [
    "import os\n",
    "# Find the latest version of spark 3.x  from http://www.apache.org/dist/spark/ and enter as the spark version\n",
    "# For example:\n",
    "# spark_version = 'spark-3.4.0'\n",
    "spark_version = 'spark-3.4.0'\n",
    "os.environ['SPARK_VERSION']=spark_version\n",
    "\n",
    "# Install Spark and Java\n",
    "!apt-get update\n",
    "!apt-get install openjdk-11-jdk-headless -qq > /dev/null\n",
    "!wget -q http://www.apache.org/dist/spark/$SPARK_VERSION/$SPARK_VERSION-bin-hadoop3.tgz\n",
    "!tar xf $SPARK_VERSION-bin-hadoop3.tgz\n",
    "!pip install -q findspark\n",
    "\n",
    "# Set Environment Variables\n",
    "os.environ[\"JAVA_HOME\"] = \"/usr/lib/jvm/java-11-openjdk-amd64\"\n",
    "os.environ[\"SPARK_HOME\"] = f\"/content/{spark_version}-bin-hadoop3\"\n",
    "\n",
    "# Start a SparkSession\n",
    "import findspark\n",
    "findspark.init()"
   ]
  },
  {
   "cell_type": "code",
   "execution_count": 2,
   "metadata": {
    "id": "KLz5M7sFpO0W"
   },
   "outputs": [],
   "source": [
    "# Import packages\n",
    "from pyspark.sql import SparkSession\n",
    "import time\n",
    "\n",
    "# Create a SparkSession\n",
    "spark = SparkSession.builder.appName(\"SparkSQL\").config(\"spark.driver.memory\", \"2g\").getOrCreate()"
   ]
  },
  {
   "cell_type": "code",
   "execution_count": 3,
   "metadata": {
    "colab": {
     "base_uri": "https://localhost:8080/"
    },
    "id": "CahJMb3cpWdW",
    "outputId": "8efdd222-1dc3-4a6a-af73-bc946dd749db"
   },
   "outputs": [
    {
     "name": "stdout",
     "output_type": "stream",
     "text": [
      "+----------------------+--------------------+------------------+------+--------------+--------------+--------------------+-------------+--------------------+------+--------+----------+----------------+\n",
      "|service_request_number|         description|   method_received|status|  created_date|   closed_date|            location|street_number|         street_name|  city|zip_code|    county|council_dsitrict|\n",
      "+----------------------+--------------------+------------------+------+--------------+--------------+--------------------+-------------+--------------------+------+--------+----------+----------------+\n",
      "|           19-00090956|Animal - Proper Care|             Phone|Closed| 3/14/19 15:02|11/23/20 13:41|4609 RIBBECKE AVE...|         4609|            RIBBECKE|AUSTIN|   78721|    TRAVIS|               1|\n",
      "|           20-00135805|      Tree Issue ROW|     Mobile Device|Closed|  4/7/20 19:06| 11/23/20 0:02|3521 WEST AVE, AU...|         3521|                WEST|AUSTIN|   78705|    TRAVIS|               9|\n",
      "|           20-00052942|      Pothole Repair|               Web|Closed|  2/12/20 1:55| 2/12/20 12:57|7900 E BEN WHITE ...|         7900|   BEN WHITE BLVD WB|AUSTIN|   78741|    TRAVIS|               3|\n",
      "|           19-00467964|ARR Dead Animal C...|             Phone|Closed|12/10/19 14:17| 12/11/19 9:57|7100 METROPOLIS D...|         7100|          METROPOLIS|AUSTIN|   78744|    TRAVIS|               2|\n",
      "|           19-00468033|Austin Code - Req...|             Phone|Closed|12/10/19 14:51|12/10/19 15:00|2401 GROVE BLVD, ...|         2401|               GROVE|AUSTIN|   78741|    TRAVIS|               3|\n",
      "|           20-00053025|      Tree Issue ROW|CSR - Follow On SR|Closed|  2/12/20 7:28| 2/12/20 13:52|MUELLER BLVD & AL...|         null|MUELLER BLVD & AL...|AUSTIN|   78723|    TRAVIS|               9|\n",
      "|           19-00468074|Austin Code - Sig...|             Phone|Closed|12/10/19 15:11|12/10/19 15:23|115 E DEAN KEETON...|          115|         DEAN KEETON|AUSTIN|   78712|    TRAVIS|               9|\n",
      "|           19-00280355|Austin Code - Req...| Spot311 Interface|Closed|  7/24/19 7:12|  7/24/19 7:21|1700 WILLOW CREEK...|         1700|        WILLOW CREEK|AUSTIN|   78741|    TRAVIS|               3|\n",
      "|           19-00351755|Austin Code - Req...|             Phone|Closed| 9/13/19 12:22| 9/13/19 12:31|8401 SEMINARY RID...|         8401|      SEMINARY RIDGE|AUSTIN|   78745|    TRAVIS|               5|\n",
      "|           19-00354934|Austin Code - Req...|             Phone|Closed|  9/16/19 9:51| 9/16/19 10:01|4720 S CONGRESS A...|         4720|            CONGRESS|AUSTIN|   78745|    TRAVIS|               3|\n",
      "|           19-00404388|         Animal Bite|             Phone|Closed|10/20/19 22:25| 11/21/19 9:23|12201 METRIC BLVD...|        12201|              METRIC|AUSTIN|   78758|    TRAVIS|               7|\n",
      "|           16-00033203|Animal Control - ...|             Phone|Closed| 2/14/16 12:01|10/24/19 12:08|4713 CLAWSON RD, ...|         4713|             CLAWSON|AUSTIN|   78745|    TRAVIS|               5|\n",
      "|           16-00067102|Animal Control - ...|             Phone|Closed| 3/24/16 15:15| 10/24/19 9:47|7515 BETHUNE AVE,...|         7515|             BETHUNE|AUSTIN|   78752|    TRAVIS|               4|\n",
      "|           16-00112695|Animal Control - ...|             Phone|Closed| 5/11/16 14:34|10/24/19 12:11|4713 CLAWSON RD, ...|         4713|             CLAWSON|AUSTIN|   78745|    TRAVIS|               5|\n",
      "|           19-00411696|Austin Code - Req...|             Phone|Closed|10/25/19 14:54|10/25/19 15:04|1401 WARRIOR LN, ...|         1401|             WARRIOR|AUSTIN|   78617|    TRAVIS|               2|\n",
      "|           19-00412473|Sign - Traffic Si...|             Phone|Closed| 10/26/19 8:47|11/21/19 11:26|BARSTOW AVE & RUX...|         null|BARSTOW AVE & RUX...|AUSTIN|   78749|    TRAVIS|               8|\n",
      "|           20-00037593|ARR Dead Animal C...|             Phone|Closed| 1/30/20 13:16| 1/31/20 11:39|11801 NENE DR, AU...|        11801|                NENE|AUSTIN|   78750|WILLIAMSON|               6|\n",
      "|           19-00445899|           Loose Dog|             Phone|Closed|11/21/19 14:07|11/21/19 15:47|7014 ELROY RD, AU...|         7014|               ELROY|AUSTIN|   78617|    TRAVIS|               2|\n",
      "|           19-00456919|Animal Control - ...|             Phone|Closed| 12/2/19 12:39| 12/6/19 18:44|6013 OAKCLAIRE DR...|         6013|           OAKCLAIRE|AUSTIN|   78735|    TRAVIS|               8|\n",
      "|           20-00053039|     Sidewalk Repair| Spot311 Interface|Closed|  2/12/20 7:37|  8/11/20 1:03|2616 W WILLIAM CA...|         2616|      WILLIAM CANNON|AUSTIN|   78745|    TRAVIS|               5|\n",
      "+----------------------+--------------------+------------------+------+--------------+--------------+--------------------+-------------+--------------------+------+--------+----------+----------------+\n",
      "only showing top 20 rows\n",
      "\n"
     ]
    }
   ],
   "source": [
    "# Read in data from S3 Bucket\n",
    "from pyspark import SparkFiles\n",
    "url = \"https://2u-data-curriculum-team.s3.amazonaws.com/dataviz-classroom/v1.2/22-big-data/3/Austin_311_Public_Data.csv\"\n",
    "spark.sparkContext.addFile(url)\n",
    "df = spark.read.csv(SparkFiles.get(\"Austin_311_Public_Data.csv\"), sep=\",\", header=True)\n",
    "df.show()"
   ]
  },
  {
   "cell_type": "code",
   "execution_count": 4,
   "metadata": {
    "colab": {
     "base_uri": "https://localhost:8080/"
    },
    "id": "T7fsnqRDqG2C",
    "outputId": "397faf62-101c-4cd1-e73c-d599f2377f89"
   },
   "outputs": [
    {
     "name": "stdout",
     "output_type": "stream",
     "text": [
      "+---------------------------------------------------+--------+\n",
      "|description                                        |count(1)|\n",
      "+---------------------------------------------------+--------+\n",
      "|Tree Issue ROW/Maintenance (PW)                    |4688    |\n",
      "|Austin Code - Short Term Rental (STR) Appointment  |848     |\n",
      "|Park Maintenance - Grounds Plumbing Issues         |2690    |\n",
      "|Austin Code - Short Term Rental Complaint SR       |9865    |\n",
      "|Lane/Road Closure Notification                     |9836    |\n",
      "|ZZZ ARR Missed Recycling                           |20      |\n",
      "|ATD - Booting Complaint                            |245     |\n",
      "|Obstruction in ROW                                 |9453    |\n",
      "|Park Maintenance - Grounds Electrical Issues       |1646    |\n",
      "|Parking Ticket Complaint                           |407     |\n",
      "|Parking Machine Issue                              |10756   |\n",
      "|School Zone Flasher - Timing/Maintenance           |2956    |\n",
      "|ATD - Shared Micromobility                         |717     |\n",
      "|Residential Parking Permit Enforcement             |153     |\n",
      "|Bat Complaint                                      |1074    |\n",
      "|AW - Water Conservation Violation                  |58      |\n",
      "|Street Light Issue- Multiple poles/multiple streets|2052    |\n",
      "|Austin Code - Construction Ordinance SR            |125     |\n",
      "|Channels/Creeks/Drainage Easement                  |5410    |\n",
      "|Barricade Request                                  |228     |\n",
      "+---------------------------------------------------+--------+\n",
      "only showing top 20 rows\n",
      "\n",
      "--- 5.737816333770752 seconds ---\n"
     ]
    }
   ],
   "source": [
    "# Lets create a view with our DataFrame that counts the occurances of the service request description of the 311 issues. \n",
    "# Record the runtime using time.time() method.\n",
    "\n",
    "df.createOrReplaceTempView('311description')\n",
    "\n",
    "start_time = time.time()\n",
    "\n",
    "spark.sql(\"\"\"select description, count(*) from 311description group by 1\"\"\").show(truncate=False)\n",
    "\n",
    "print(\"--- %s seconds ---\" % (time.time() - start_time))"
   ]
  },
  {
   "cell_type": "code",
   "execution_count": 5,
   "metadata": {
    "id": "g04Evw2jqHoK"
   },
   "outputs": [],
   "source": [
    "# write out the data in parquet format\n",
    "df.write.parquet('parquet_descriptions',mode='overwrite')"
   ]
  },
  {
   "cell_type": "markdown",
   "metadata": {
    "id": "lYiTD19bHuV4"
   },
   "source": [
    "\n",
    "\n",
    "*   click the folder icon on the left and notice that a new folder is present with the same name as your parquet file\n",
    "*   inside of it you will find 'part_x.parquet' files\n",
    "*  these are binary files that store your compressed data in columnar format\n",
    "\n",
    "\n",
    "\n"
   ]
  },
  {
   "cell_type": "code",
   "execution_count": 6,
   "metadata": {
    "id": "2SaDjaQXqnPI"
   },
   "outputs": [],
   "source": [
    "# read in our new parquet formatted data\n",
    "p_df=spark.read.parquet('parquet_descriptions')"
   ]
  },
  {
   "cell_type": "code",
   "execution_count": 7,
   "metadata": {
    "id": "sT7d4hu-q32d"
   },
   "outputs": [],
   "source": [
    "# a parquet formatted dataframe has all the same methods as a row-based dataframe\n",
    "# we can convert the dataframe to a view.\n",
    "p_df.createOrReplaceTempView('p_descriptions')"
   ]
  },
  {
   "cell_type": "code",
   "execution_count": 8,
   "metadata": {
    "colab": {
     "base_uri": "https://localhost:8080/"
    },
    "id": "nwpUfAoeq71b",
    "outputId": "21846edf-d1ff-4d0e-e940-548caa29dfea"
   },
   "outputs": [
    {
     "name": "stdout",
     "output_type": "stream",
     "text": [
      "+---------------------------------------------------+--------+\n",
      "|description                                        |count(1)|\n",
      "+---------------------------------------------------+--------+\n",
      "|Tree Issue ROW/Maintenance (PW)                    |4688    |\n",
      "|Austin Code - Short Term Rental (STR) Appointment  |848     |\n",
      "|Park Maintenance - Grounds Plumbing Issues         |2690    |\n",
      "|Austin Code - Short Term Rental Complaint SR       |9865    |\n",
      "|Lane/Road Closure Notification                     |9836    |\n",
      "|ZZZ ARR Missed Recycling                           |20      |\n",
      "|ATD - Booting Complaint                            |245     |\n",
      "|Obstruction in ROW                                 |9453    |\n",
      "|Park Maintenance - Grounds Electrical Issues       |1646    |\n",
      "|Parking Ticket Complaint                           |407     |\n",
      "|Parking Machine Issue                              |10756   |\n",
      "|School Zone Flasher - Timing/Maintenance           |2956    |\n",
      "|ATD - Shared Micromobility                         |717     |\n",
      "|Residential Parking Permit Enforcement             |153     |\n",
      "|Bat Complaint                                      |1074    |\n",
      "|AW - Water Conservation Violation                  |58      |\n",
      "|Street Light Issue- Multiple poles/multiple streets|2052    |\n",
      "|Austin Code - Construction Ordinance SR            |125     |\n",
      "|Channels/Creeks/Drainage Easement                  |5410    |\n",
      "|Barricade Request                                  |228     |\n",
      "+---------------------------------------------------+--------+\n",
      "only showing top 20 rows\n",
      "\n",
      "--- 1.5519342422485352 seconds ---\n"
     ]
    }
   ],
   "source": [
    "# Run the same sql as above.  (Note: Due to small datasets it IS possible that times may be very close, however this is not the case in larger sets.)\n",
    "start_time = time.time()\n",
    "spark.sql(\"\"\"select description, count(*) from p_descriptions group by 1 \"\"\").show(truncate=False)\n",
    "print(\"--- %s seconds ---\" % (time.time() - start_time))"
   ]
  },
  {
   "cell_type": "code",
   "execution_count": 8,
   "metadata": {
    "id": "zit0gXHn4Hf2"
   },
   "outputs": [],
   "source": []
  }
 ],
 "metadata": {
  "colab": {
   "provenance": []
  },
  "kernelspec": {
   "display_name": "Python 3 (ipykernel)",
   "language": "python",
   "name": "python3"
  },
  "language_info": {
   "codemirror_mode": {
    "name": "ipython",
    "version": 3
   },
   "file_extension": ".py",
   "mimetype": "text/x-python",
   "name": "python",
   "nbconvert_exporter": "python",
   "pygments_lexer": "ipython3",
   "version": "3.10.4"
  }
 },
 "nbformat": 4,
 "nbformat_minor": 1
}
