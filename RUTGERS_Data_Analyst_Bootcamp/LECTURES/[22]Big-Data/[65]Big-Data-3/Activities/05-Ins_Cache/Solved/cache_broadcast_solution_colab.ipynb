{
 "cells": [
  {
   "cell_type": "code",
   "execution_count": 1,
   "metadata": {
    "colab": {
     "base_uri": "https://localhost:8080/"
    },
    "id": "eGA5-htN6oEN",
    "outputId": "44189e29-889a-4e0f-c9db-de27c7c2b8d9"
   },
   "outputs": [
    {
     "name": "stdout",
     "output_type": "stream",
     "text": [
      "\r",
      "0% [Working]\r",
      "            \r",
      "Hit:1 http://archive.ubuntu.com/ubuntu focal InRelease\n",
      "\r",
      "0% [Connecting to security.ubuntu.com] [Waiting for headers] [Waiting for heade\r",
      "                                                                               \r",
      "Get:2 http://archive.ubuntu.com/ubuntu focal-updates InRelease [114 kB]\n",
      "\r",
      "                                                                               \r",
      "Get:3 http://security.ubuntu.com/ubuntu focal-security InRelease [114 kB]\n",
      "\r",
      "                                                                               \r",
      "Get:4 https://cloud.r-project.org/bin/linux/ubuntu focal-cran40/ InRelease [3,622 B]\n",
      "\r",
      "                                                                               \r",
      "Ign:5 https://developer.download.nvidia.com/compute/machine-learning/repos/ubuntu2004/x86_64  InRelease\n",
      "\r",
      "0% [2 InRelease 62.0 kB/114 kB 54%] [3 InRelease 25.8 kB/114 kB 23%] [Waiting f\r",
      "                                                                               \r",
      "Get:6 http://ppa.launchpad.net/c2d4u.team/c2d4u4.0+/ubuntu focal InRelease [18.1 kB]\n",
      "\r",
      "0% [2 InRelease 62.0 kB/114 kB 54%] [3 InRelease 28.6 kB/114 kB 25%] [Waiting f\r",
      "                                                                               \r",
      "Hit:7 https://developer.download.nvidia.com/compute/cuda/repos/ubuntu2004/x86_64  InRelease\n",
      "\r",
      "0% [2 InRelease 75.0 kB/114 kB 66%] [3 InRelease 40.2 kB/114 kB 35%] [6 InRelea\r",
      "                                                                               \r",
      "Hit:8 https://developer.download.nvidia.com/compute/machine-learning/repos/ubuntu2004/x86_64  Release\n",
      "Get:9 http://archive.ubuntu.com/ubuntu focal-backports InRelease [108 kB]\n",
      "Hit:10 http://ppa.launchpad.net/cran/libgit2/ubuntu focal InRelease\n",
      "Get:11 http://ppa.launchpad.net/deadsnakes/ppa/ubuntu focal InRelease [18.1 kB]\n",
      "Hit:12 http://ppa.launchpad.net/graphics-drivers/ppa/ubuntu focal InRelease\n",
      "Get:14 http://archive.ubuntu.com/ubuntu focal-updates/universe amd64 Packages [1,290 kB]\n",
      "Get:15 http://archive.ubuntu.com/ubuntu focal-updates/main amd64 Packages [2,920 kB]\n",
      "Get:16 http://security.ubuntu.com/ubuntu focal-security/main amd64 Packages [2,442 kB]\n",
      "Get:17 http://security.ubuntu.com/ubuntu focal-security/universe amd64 Packages [988 kB]\n",
      "Get:18 http://ppa.launchpad.net/c2d4u.team/c2d4u4.0+/ubuntu focal/main Sources [2,381 kB]\n",
      "Get:19 http://ppa.launchpad.net/c2d4u.team/c2d4u4.0+/ubuntu focal/main amd64 Packages [1,127 kB]\n",
      "Get:20 http://ppa.launchpad.net/deadsnakes/ppa/ubuntu focal/main amd64 Packages [29.5 kB]\n",
      "Fetched 11.6 MB in 9s (1,236 kB/s)\n",
      "Reading package lists... Done\n"
     ]
    }
   ],
   "source": [
    "import os\n",
    "# Find the latest version of spark 3.x  from http://www.apache.org/dist/spark/ and enter as the spark version\n",
    "# For example:\n",
    "# spark_version = 'spark-3.4.0'\n",
    "spark_version = 'spark-3.4.0'\n",
    "os.environ['SPARK_VERSION']=spark_version\n",
    "\n",
    "# Install Spark and Java\n",
    "!apt-get update\n",
    "!apt-get install openjdk-11-jdk-headless -qq > /dev/null\n",
    "!wget -q http://www.apache.org/dist/spark/$SPARK_VERSION/$SPARK_VERSION-bin-hadoop3.tgz\n",
    "!tar xf $SPARK_VERSION-bin-hadoop3.tgz\n",
    "!pip install -q findspark\n",
    "\n",
    "# Set Environment Variables\n",
    "os.environ[\"JAVA_HOME\"] = \"/usr/lib/jvm/java-11-openjdk-amd64\"\n",
    "os.environ[\"SPARK_HOME\"] = f\"/content/{spark_version}-bin-hadoop3\"\n",
    "\n",
    "# Start a SparkSession\n",
    "import findspark\n",
    "findspark.init()"
   ]
  },
  {
   "cell_type": "code",
   "execution_count": 2,
   "metadata": {
    "id": "pIUo9MYO6vlj"
   },
   "outputs": [],
   "source": [
    "# Import packages\n",
    "from pyspark.sql import SparkSession\n",
    "import time\n",
    "\n",
    "# Create a SparkSession\n",
    "spark = SparkSession.builder\\\n",
    "    .appName(\"SparkSQL\")\\\n",
    "    .config(\"spark.sql.debug.maxToStringFields\", 2000)\\\n",
    "    .config(\"spark.driver.memory\", \"2g\")\\\n",
    "    .getOrCreate()"
   ]
  },
  {
   "cell_type": "code",
   "execution_count": 3,
   "metadata": {
    "colab": {
     "base_uri": "https://localhost:8080/"
    },
    "id": "Ej6Sabcd-1At",
    "outputId": "b4b77b55-5042-47ce-8271-53139b10eef4"
   },
   "outputs": [
    {
     "name": "stdout",
     "output_type": "stream",
     "text": [
      "+---+----+-----+----------+---------+-------+----------+-------+----------+-------------+---------+-------+-----------------+--------------+-------+--------+--------+------+----+--------+------+-------+---------+----------------+--------+------------+------------+--------+-------------+-----------------+\n",
      "| id|Year|Month|DayofMonth|DayOfWeek|DepTime|CRSDepTime|ArrTime|CRSArrTime|UniqueCarrier|FlightNum|TailNum|ActualElapsedTime|CRSElapsedTime|AirTime|ArrDelay|DepDelay|Origin|Dest|Distance|TaxiIn|TaxiOut|Cancelled|CancellationCode|Diverted|CarrierDelay|WeatherDelay|NASDelay|SecurityDelay|LateAircraftDelay|\n",
      "+---+----+-----+----------+---------+-------+----------+-------+----------+-------------+---------+-------+-----------------+--------------+-------+--------+--------+------+----+--------+------+-------+---------+----------------+--------+------------+------------+--------+-------------+-----------------+\n",
      "|  0|2008|    1|         3|        4|   2003|      1955|   2211|      2225|           WN|      335| N712SW|              128|           150|    116|     -14|       8|   IAD| TPA|     810|     4|      8|        0|               N|       0|        null|        null|    null|         null|             null|\n",
      "|  1|2008|    1|         3|        4|    754|       735|   1002|      1000|           WN|     3231| N772SW|              128|           145|    113|       2|      19|   IAD| TPA|     810|     5|     10|        0|               N|       0|        null|        null|    null|         null|             null|\n",
      "|  2|2008|    1|         3|        4|    628|       620|    804|       750|           WN|      448| N428WN|               96|            90|     76|      14|       8|   IND| BWI|     515|     3|     17|        0|               N|       0|        null|        null|    null|         null|             null|\n",
      "|  4|2008|    1|         3|        4|   1829|      1755|   1959|      1925|           WN|     3920| N464WN|               90|            90|     77|      34|      34|   IND| BWI|     515|     3|     10|        0|               N|       0|           2|           0|       0|            0|               32|\n",
      "|  5|2008|    1|         3|        4|   1940|      1915|   2121|      2110|           WN|      378| N726SW|              101|           115|     87|      11|      25|   IND| JAX|     688|     4|     10|        0|               N|       0|        null|        null|    null|         null|             null|\n",
      "|  6|2008|    1|         3|        4|   1937|      1830|   2037|      1940|           WN|      509| N763SW|              240|           250|    230|      57|      67|   IND| LAS|    1591|     3|      7|        0|               N|       0|          10|           0|       0|            0|               47|\n",
      "| 10|2008|    1|         3|        4|    706|       700|    916|       915|           WN|      100| N690SW|              130|           135|    106|       1|       6|   IND| MCO|     828|     5|     19|        0|               N|       0|        null|        null|    null|         null|             null|\n",
      "| 11|2008|    1|         3|        4|   1644|      1510|   1845|      1725|           WN|     1333| N334SW|              121|           135|    107|      80|      94|   IND| MCO|     828|     6|      8|        0|               N|       0|           8|           0|       0|            0|               72|\n",
      "| 15|2008|    1|         3|        4|   1029|      1020|   1021|      1010|           WN|     2272| N263WN|               52|            50|     37|      11|       9|   IND| MDW|     162|     6|      9|        0|               N|       0|        null|        null|    null|         null|             null|\n",
      "| 16|2008|    1|         3|        4|   1452|      1425|   1640|      1625|           WN|      675| N286WN|              228|           240|    213|      15|      27|   IND| PHX|    1489|     7|      8|        0|               N|       0|           3|           0|       0|            0|               12|\n",
      "| 17|2008|    1|         3|        4|    754|       745|    940|       955|           WN|     1144| N778SW|              226|           250|    205|     -15|       9|   IND| PHX|    1489|     5|     16|        0|               N|       0|        null|        null|    null|         null|             null|\n",
      "| 18|2008|    1|         3|        4|   1323|      1255|   1526|      1510|           WN|        4| N674AA|              123|           135|    110|      16|      28|   IND| TPA|     838|     4|      9|        0|               N|       0|           0|           0|       0|            0|               16|\n",
      "| 19|2008|    1|         3|        4|   1416|      1325|   1512|      1435|           WN|       54| N643SW|               56|            70|     49|      37|      51|   ISP| BWI|     220|     2|      5|        0|               N|       0|          12|           0|       0|            0|               25|\n",
      "| 21|2008|    1|         3|        4|   1657|      1625|   1754|      1735|           WN|      623| N724SW|               57|            70|     47|      19|      32|   ISP| BWI|     220|     5|      5|        0|               N|       0|           7|           0|       0|            0|               12|\n",
      "| 22|2008|    1|         3|        4|   1900|      1840|   1956|      1950|           WN|      717| N786SW|               56|            70|     49|       6|      20|   ISP| BWI|     220|     2|      5|        0|               N|       0|        null|        null|    null|         null|             null|\n",
      "| 23|2008|    1|         3|        4|   1039|      1030|   1133|      1140|           WN|     1244| N714CB|               54|            70|     47|      -7|       9|   ISP| BWI|     220|     2|      5|        0|               N|       0|        null|        null|    null|         null|             null|\n",
      "| 25|2008|    1|         3|        4|   1520|      1455|   1619|      1605|           WN|     2553| N394SW|               59|            70|     50|      14|      25|   ISP| BWI|     220|     2|      7|        0|               N|       0|        null|        null|    null|         null|             null|\n",
      "| 26|2008|    1|         3|        4|   1422|      1255|   1657|      1610|           WN|      188| N215WN|              155|           195|    143|      47|      87|   ISP| FLL|    1093|     6|      6|        0|               N|       0|          40|           0|       0|            0|                7|\n",
      "| 27|2008|    1|         3|        4|   1954|      1925|   2239|      2235|           WN|     1754| N243WN|              165|           190|    155|       4|      29|   ISP| FLL|    1093|     3|      7|        0|               N|       0|        null|        null|    null|         null|             null|\n",
      "| 30|2008|    1|         3|        4|   2107|      1945|   2334|      2230|           WN|      362| N798SW|              147|           165|    134|      64|      82|   ISP| MCO|     972|     6|      7|        0|               N|       0|           5|           0|       0|            0|               59|\n",
      "+---+----+-----+----------+---------+-------+----------+-------+----------+-------------+---------+-------+-----------------+--------------+-------+--------+--------+------+----+--------+------+-------+---------+----------------+--------+------------+------------+--------+-------------+-----------------+\n",
      "only showing top 20 rows\n",
      "\n"
     ]
    }
   ],
   "source": [
    "# Read in data from S3 Bucket\n",
    "from pyspark import SparkFiles\n",
    "flights_url = \"https://2u-data-curriculum-team.s3.amazonaws.com/dataviz-classroom/v1.2/22-big-data/3/DelayedFlights.csv\"\n",
    "spark.sparkContext.addFile(flights_url)\n",
    "flights_df = spark.read.csv(SparkFiles.get(\"DelayedFlights.csv\"), sep=\",\", header=True)\n",
    "\n",
    "# Show the delayed flight data.\n",
    "flights_df.show()"
   ]
  },
  {
   "cell_type": "code",
   "execution_count": 4,
   "metadata": {
    "colab": {
     "base_uri": "https://localhost:8080/"
    },
    "id": "q0mhM9KxQkXS",
    "outputId": "ad358614-0f4a-428d-f664-079c3291933c"
   },
   "outputs": [
    {
     "name": "stdout",
     "output_type": "stream",
     "text": [
      "+--------------+--------------------+-----------+\n",
      "|          City|             country|airportCode|\n",
      "+--------------+--------------------+-----------+\n",
      "|       Aalborg|             Denmark|        AAL|\n",
      "|      Aalesund|              Norway|        AES|\n",
      "|        Aarhus|             Denmark|        AAR|\n",
      "|Abbotsford, BC|              Canada|        YXX|\n",
      "|Abbotsford, BC|              Canada|        YXX|\n",
      "|      Aberdeen|            Scotland|        ABZ|\n",
      "|  Aberdeen, SD|                 USA|        ABR|\n",
      "|       Abidjan|         Ivory Coast|        ABJ|\n",
      "|   Abilene, TX|                 USA|        ABI|\n",
      "|     Abu Dhabi|United Arab Emirates|        AUH|\n",
      "|         Abuja|             Nigeria|        ABV|\n",
      "|      Acapulco|              Mexico|        ACA|\n",
      "|         Accra|               Ghana|        ACC|\n",
      "|         Adana|              Turkey|        ADA|\n",
      "|   Addis Ababa|            Ethiopia|        ADD|\n",
      "|Adelaide, S.A.|           Australia|        ADL|\n",
      "|          Aden|               Yemen|        ADE|\n",
      "|      Adiyaman|              Turkey|        ADF|\n",
      "|        Agadir|             Morocco|        AGA|\n",
      "|         Agana|                Guam|        GUM|\n",
      "+--------------+--------------------+-----------+\n",
      "only showing top 20 rows\n",
      "\n"
     ]
    }
   ],
   "source": [
    "# Read in the airport codes from an S3 Bucket\n",
    "airportCodes_url = \"https://2u-data-curriculum-team.s3.amazonaws.com/dataviz-classroom/v1.2/22-big-data/3/airportCodes.csv\"\n",
    "spark.sparkContext.addFile(airportCodes_url)\n",
    "\n",
    "# The airport codes will be a lookup DataFrame\n",
    "airportCodes_lookup = spark.read.csv(SparkFiles.get(\"airportCodes.csv\"), sep=',', header=True)\n",
    "\n",
    "#  Show the lookup table data.\n",
    "airportCodes_lookup.show()"
   ]
  },
  {
   "cell_type": "code",
   "execution_count": 5,
   "metadata": {
    "id": "qDfaP9NvQnh9"
   },
   "outputs": [],
   "source": [
    "# Recall that the default shuffle partitions is 200.  \n",
    "# We want to bring that down to a reasonable size for both our data and our Spark cluster\n",
    "# A good rule of thumb is two times the number of cores. \n",
    "spark.conf.set(\"spark.sql.shuffle.partitions\", 8)"
   ]
  },
  {
   "cell_type": "code",
   "execution_count": 6,
   "metadata": {
    "id": "1LV1-sZ2QpZB"
   },
   "outputs": [],
   "source": [
    "# Create temporary views for each of our dataframes\n",
    "flights_df.createOrReplaceTempView('delayed')\n",
    "\n",
    "airportCodes_lookup.createOrReplaceTempView('lookup')"
   ]
  },
  {
   "cell_type": "code",
   "execution_count": 7,
   "metadata": {
    "colab": {
     "base_uri": "https://localhost:8080/"
    },
    "id": "L_hKqNbW_EnA",
    "outputId": "a2340e4e-a078-47e0-bf04-8eef607534b5"
   },
   "outputs": [
    {
     "name": "stdout",
     "output_type": "stream",
     "text": [
      "+----+-----+----------+---------+-------+----------+-------+----------+-------------+---------+-------+-----------------+--------------+-------+--------+--------+------+---------------+----+---------------+--------+------+-------+---------+----------------+--------+------------+------------+--------+-------------+-----------------+\n",
      "|Year|Month|DayofMonth|DayOfWeek|DepTime|CRSDepTime|ArrTime|CRSArrTime|UniqueCarrier|FlightNum|TailNum|ActualElapsedTime|CRSElapsedTime|AirTime|ArrDelay|DepDelay|Origin|    Origin_City|Dest|      Dest_City|Distance|TaxiIn|TaxiOut|Cancelled|CancellationCode|Diverted|CarrierDelay|WeatherDelay|NASDelay|SecurityDelay|LateAircraftDelay|\n",
      "+----+-----+----------+---------+-------+----------+-------+----------+-------------+---------+-------+-----------------+--------------+-------+--------+--------+------+---------------+----+---------------+--------+------+-------+---------+----------------+--------+------------+------------+--------+-------------+-----------------+\n",
      "|2008|    1|         4|        5|   2003|      1845|   2207|      2040|           WN|      746| N667SW|               64|            55|     44|      87|      78|   ABQ|Albuquerque, NM| AMA|   Amarillo, TX|     277|     5|     15|        0|               N|       0|           0|           0|       9|            0|               78|\n",
      "|2008|    1|         4|        5|   1332|      1325|   1437|      1440|           WN|      182| N313SW|               65|            75|     54|      -3|       7|   ALB|     Albany, NY| BWI|  Baltimore, MD|     288|     3|      8|        0|               N|       0|        null|        null|    null|         null|             null|\n",
      "|2008|    1|         4|        5|   1020|      1005|   1128|      1120|           WN|      733| N650SW|               68|            75|     58|       8|      15|   ALB|     Albany, NY| BWI|  Baltimore, MD|     288|     3|      7|        0|               N|       0|        null|        null|    null|         null|             null|\n",
      "|2008|    1|         4|        5|   1831|      1820|   1941|      1935|           WN|     1861| N783SW|               70|            75|     57|       6|      11|   ALB|     Albany, NY| BWI|  Baltimore, MD|     288|     3|     10|        0|               N|       0|        null|        null|    null|         null|             null|\n",
      "|2008|    1|         4|        5|   1758|      1750|   2051|      2040|           WN|     2036| N660SW|              113|           110|    100|      11|       8|   BHM| Birmingham, AL| BWI|  Baltimore, MD|     682|     3|     10|        0|               N|       0|        null|        null|    null|         null|             null|\n",
      "|2008|    1|         4|        5|    836|       830|    943|       940|           WN|      922| N650SW|               67|            70|     55|       3|       6|   BWI|  Baltimore, MD| ALB|     Albany, NY|     288|     2|     10|        0|               N|       0|        null|        null|    null|         null|             null|\n",
      "|2008|    1|         4|        5|   1652|      1645|   1755|      1755|           WN|     1774| N783SW|               63|            70|     51|       0|       7|   BWI|  Baltimore, MD| ALB|     Albany, NY|     288|     5|      7|        0|               N|       0|        null|        null|    null|         null|             null|\n",
      "|2008|    1|         4|        5|   1035|      1025|   1143|      1135|           WN|     3569| N276WN|               68|            70|     53|       8|      10|   BWI|  Baltimore, MD| ALB|     Albany, NY|     288|     5|     10|        0|               N|       0|        null|        null|    null|         null|             null|\n",
      "|2008|    1|         4|        5|   1828|      1805|   1917|      1915|           WN|      623| N757LV|              109|           130|     97|       2|      23|   BWI|  Baltimore, MD| BHM| Birmingham, AL|     682|     3|      9|        0|               N|       0|        null|        null|    null|         null|             null|\n",
      "|2008|    1|         4|        5|   1317|      1310|   1401|      1420|           WN|     1857| N280WN|              104|           130|     95|     -19|       7|   BWI|  Baltimore, MD| BHM| Birmingham, AL|     682|     2|      7|        0|               N|       0|        null|        null|    null|         null|             null|\n",
      "|2008|    1|         5|        6|   2001|      1845|   2150|      2040|           WN|      746| N412WN|               49|            55|     39|      70|      76|   ABQ|Albuquerque, NM| AMA|   Amarillo, TX|     277|     4|      6|        0|               N|       0|           3|           0|       0|            0|               67|\n",
      "|2008|    1|         5|        6|   1124|      1005|   1227|      1120|           WN|      733| N794SW|               63|            75|     50|      67|      79|   ALB|     Albany, NY| BWI|  Baltimore, MD|     288|     3|     10|        0|               N|       0|          67|           0|       0|            0|                0|\n",
      "|2008|    1|         5|        6|   1544|      1515|   1654|      1630|           WN|     3046| N723SW|               70|            75|     56|      24|      29|   ALB|     Albany, NY| BWI|  Baltimore, MD|     288|     4|     10|        0|               N|       0|          11|           0|       0|            0|               13|\n",
      "|2008|    1|         5|        6|   1426|      1415|   1832|      1815|           WN|     1001| N366SW|              186|           180|    164|      17|      11|   AUS|     Austin, TX| BWI|  Baltimore, MD|    1342|     4|     18|        0|               N|       0|           0|           0|       6|            0|               11|\n",
      "|2008|    1|         5|        6|   1806|      1750|   2047|      2040|           WN|     2036| N614SW|              101|           110|     88|       7|      16|   BHM| Birmingham, AL| BWI|  Baltimore, MD|     682|     3|     10|        0|               N|       0|        null|        null|    null|         null|             null|\n",
      "|2008|    1|         5|        6|   1508|      1425|   1719|      1655|           WN|      644| N737JW|              251|           270|    237|      24|      43|   BWI|  Baltimore, MD| ABQ|Albuquerque, NM|    1670|     5|      9|        0|               N|       0|           8|           0|       0|            0|               16|\n",
      "|2008|    1|         5|        6|   1808|      1755|   1909|      1905|           WN|      236| N708SA|               61|            70|     49|       4|      13|   BWI|  Baltimore, MD| ALB|     Albany, NY|     288|     3|      9|        0|               N|       0|        null|        null|    null|         null|             null|\n",
      "|2008|    1|         5|        6|   1359|      1340|   1506|      1450|           WN|      323| N723SW|               67|            70|     53|      16|      19|   BWI|  Baltimore, MD| ALB|     Albany, NY|     288|     3|     11|        0|               N|       0|           6|           0|       0|            0|               10|\n",
      "|2008|    1|         5|        6|   1433|      1420|   1700|      1710|           WN|      160| N264LV|              207|           230|    196|     -10|      13|   BWI|  Baltimore, MD| AUS|     Austin, TX|    1342|     4|      7|        0|               N|       0|        null|        null|    null|         null|             null|\n",
      "|2008|    1|         5|        6|   1814|      1805|   1910|      1915|           WN|      623| N624SW|              116|           130|    105|      -5|       9|   BWI|  Baltimore, MD| BHM| Birmingham, AL|     682|     4|      7|        0|               N|       0|        null|        null|    null|         null|             null|\n",
      "+----+-----+----------+---------+-------+----------+-------+----------+-------------+---------+-------+-----------------+--------------+-------+--------+--------+------+---------------+----+---------------+--------+------+-------+---------+----------------+--------+------------+------------+--------+-------------+-----------------+\n",
      "only showing top 20 rows\n",
      "\n",
      "--- 2.234532117843628 seconds ---\n"
     ]
    }
   ],
   "source": [
    "# This first query joins our airport code lookup data to our delayed fligts table\n",
    "# By default Spark does a broadcast join when the Join table is < 10MB.  This is configurable\n",
    "# but since our table is VERY small, it will auto-broadcast. \n",
    "\n",
    "start_time = time.time()\n",
    "\n",
    "spark.sql(\"\"\"\n",
    "select a.Year,\n",
    "a.Month,\n",
    "a.DayofMonth,\n",
    "a.DayOfWeek,\n",
    "a.DepTime,\n",
    "a.CRSDepTime,\n",
    "a.ArrTime,\n",
    "a.CRSArrTime,\n",
    "a.UniqueCarrier,\n",
    "a.FlightNum,\n",
    "a.TailNum,\n",
    "a.ActualElapsedTime,\n",
    "a.CRSElapsedTime,\n",
    "a.AirTime,\n",
    "a.ArrDelay,\n",
    "a.DepDelay,\n",
    "a.Origin,\n",
    "b.City as Origin_City,\n",
    "a.Dest,\n",
    "c.City as Dest_City,\n",
    "a.Distance,\n",
    "a.TaxiIn,\n",
    "a.TaxiOut,\n",
    "a.Cancelled,\n",
    "a.CancellationCode,\n",
    "a.Diverted,\n",
    "a.CarrierDelay,\n",
    "a.WeatherDelay,\n",
    "a.NASDelay,\n",
    "a.SecurityDelay,\n",
    "a.LateAircraftDelay from delayed a \n",
    "  inner join lookup b\n",
    "    on a.Origin=b.airportCode\n",
    "  inner join lookup c\n",
    "    on a.Dest=c.airportCode\n",
    "\"\"\").show()\n",
    "\n",
    "print(\"--- %s seconds ---\" % (time.time() - start_time))"
   ]
  },
  {
   "cell_type": "code",
   "execution_count": 8,
   "metadata": {
    "colab": {
     "base_uri": "https://localhost:8080/"
    },
    "id": "vujvlsjxSj7N",
    "outputId": "0cf8f8c9-8d72-42c5-fa20-4877eda82aa9"
   },
   "outputs": [
    {
     "name": "stdout",
     "output_type": "stream",
     "text": [
      "+----+-----+----------+---------+-------+----------+-------+----------+-------------+---------+-------+-----------------+--------------+-------+--------+--------+------+---------------+----+---------------+--------+------+-------+---------+----------------+--------+------------+------------+--------+-------------+-----------------+\n",
      "|Year|Month|DayofMonth|DayOfWeek|DepTime|CRSDepTime|ArrTime|CRSArrTime|UniqueCarrier|FlightNum|TailNum|ActualElapsedTime|CRSElapsedTime|AirTime|ArrDelay|DepDelay|Origin|    Origin_City|Dest|       Dep_City|Distance|TaxiIn|TaxiOut|Cancelled|CancellationCode|Diverted|CarrierDelay|WeatherDelay|NASDelay|SecurityDelay|LateAircraftDelay|\n",
      "+----+-----+----------+---------+-------+----------+-------+----------+-------------+---------+-------+-----------------+--------------+-------+--------+--------+------+---------------+----+---------------+--------+------+-------+---------+----------------+--------+------------+------------+--------+-------------+-----------------+\n",
      "|2008|    1|         4|        5|   2003|      1845|   2207|      2040|           WN|      746| N667SW|               64|            55|     44|      87|      78|   ABQ|Albuquerque, NM| AMA|   Amarillo, TX|     277|     5|     15|        0|               N|       0|           0|           0|       9|            0|               78|\n",
      "|2008|    1|         4|        5|   1332|      1325|   1437|      1440|           WN|      182| N313SW|               65|            75|     54|      -3|       7|   ALB|     Albany, NY| BWI|  Baltimore, MD|     288|     3|      8|        0|               N|       0|        null|        null|    null|         null|             null|\n",
      "|2008|    1|         4|        5|   1020|      1005|   1128|      1120|           WN|      733| N650SW|               68|            75|     58|       8|      15|   ALB|     Albany, NY| BWI|  Baltimore, MD|     288|     3|      7|        0|               N|       0|        null|        null|    null|         null|             null|\n",
      "|2008|    1|         4|        5|   1831|      1820|   1941|      1935|           WN|     1861| N783SW|               70|            75|     57|       6|      11|   ALB|     Albany, NY| BWI|  Baltimore, MD|     288|     3|     10|        0|               N|       0|        null|        null|    null|         null|             null|\n",
      "|2008|    1|         4|        5|   1758|      1750|   2051|      2040|           WN|     2036| N660SW|              113|           110|    100|      11|       8|   BHM| Birmingham, AL| BWI|  Baltimore, MD|     682|     3|     10|        0|               N|       0|        null|        null|    null|         null|             null|\n",
      "|2008|    1|         4|        5|    836|       830|    943|       940|           WN|      922| N650SW|               67|            70|     55|       3|       6|   BWI|  Baltimore, MD| ALB|     Albany, NY|     288|     2|     10|        0|               N|       0|        null|        null|    null|         null|             null|\n",
      "|2008|    1|         4|        5|   1652|      1645|   1755|      1755|           WN|     1774| N783SW|               63|            70|     51|       0|       7|   BWI|  Baltimore, MD| ALB|     Albany, NY|     288|     5|      7|        0|               N|       0|        null|        null|    null|         null|             null|\n",
      "|2008|    1|         4|        5|   1035|      1025|   1143|      1135|           WN|     3569| N276WN|               68|            70|     53|       8|      10|   BWI|  Baltimore, MD| ALB|     Albany, NY|     288|     5|     10|        0|               N|       0|        null|        null|    null|         null|             null|\n",
      "|2008|    1|         4|        5|   1828|      1805|   1917|      1915|           WN|      623| N757LV|              109|           130|     97|       2|      23|   BWI|  Baltimore, MD| BHM| Birmingham, AL|     682|     3|      9|        0|               N|       0|        null|        null|    null|         null|             null|\n",
      "|2008|    1|         4|        5|   1317|      1310|   1401|      1420|           WN|     1857| N280WN|              104|           130|     95|     -19|       7|   BWI|  Baltimore, MD| BHM| Birmingham, AL|     682|     2|      7|        0|               N|       0|        null|        null|    null|         null|             null|\n",
      "|2008|    1|         5|        6|   2001|      1845|   2150|      2040|           WN|      746| N412WN|               49|            55|     39|      70|      76|   ABQ|Albuquerque, NM| AMA|   Amarillo, TX|     277|     4|      6|        0|               N|       0|           3|           0|       0|            0|               67|\n",
      "|2008|    1|         5|        6|   1124|      1005|   1227|      1120|           WN|      733| N794SW|               63|            75|     50|      67|      79|   ALB|     Albany, NY| BWI|  Baltimore, MD|     288|     3|     10|        0|               N|       0|          67|           0|       0|            0|                0|\n",
      "|2008|    1|         5|        6|   1544|      1515|   1654|      1630|           WN|     3046| N723SW|               70|            75|     56|      24|      29|   ALB|     Albany, NY| BWI|  Baltimore, MD|     288|     4|     10|        0|               N|       0|          11|           0|       0|            0|               13|\n",
      "|2008|    1|         5|        6|   1426|      1415|   1832|      1815|           WN|     1001| N366SW|              186|           180|    164|      17|      11|   AUS|     Austin, TX| BWI|  Baltimore, MD|    1342|     4|     18|        0|               N|       0|           0|           0|       6|            0|               11|\n",
      "|2008|    1|         5|        6|   1806|      1750|   2047|      2040|           WN|     2036| N614SW|              101|           110|     88|       7|      16|   BHM| Birmingham, AL| BWI|  Baltimore, MD|     682|     3|     10|        0|               N|       0|        null|        null|    null|         null|             null|\n",
      "|2008|    1|         5|        6|   1508|      1425|   1719|      1655|           WN|      644| N737JW|              251|           270|    237|      24|      43|   BWI|  Baltimore, MD| ABQ|Albuquerque, NM|    1670|     5|      9|        0|               N|       0|           8|           0|       0|            0|               16|\n",
      "|2008|    1|         5|        6|   1808|      1755|   1909|      1905|           WN|      236| N708SA|               61|            70|     49|       4|      13|   BWI|  Baltimore, MD| ALB|     Albany, NY|     288|     3|      9|        0|               N|       0|        null|        null|    null|         null|             null|\n",
      "|2008|    1|         5|        6|   1359|      1340|   1506|      1450|           WN|      323| N723SW|               67|            70|     53|      16|      19|   BWI|  Baltimore, MD| ALB|     Albany, NY|     288|     3|     11|        0|               N|       0|           6|           0|       0|            0|               10|\n",
      "|2008|    1|         5|        6|   1433|      1420|   1700|      1710|           WN|      160| N264LV|              207|           230|    196|     -10|      13|   BWI|  Baltimore, MD| AUS|     Austin, TX|    1342|     4|      7|        0|               N|       0|        null|        null|    null|         null|             null|\n",
      "|2008|    1|         5|        6|   1814|      1805|   1910|      1915|           WN|      623| N624SW|              116|           130|    105|      -5|       9|   BWI|  Baltimore, MD| BHM| Birmingham, AL|     682|     4|      7|        0|               N|       0|        null|        null|    null|         null|             null|\n",
      "+----+-----+----------+---------+-------+----------+-------+----------+-------------+---------+-------+-----------------+--------------+-------+--------+--------+------+---------------+----+---------------+--------+------+-------+---------+----------------+--------+------------+------------+--------+-------------+-----------------+\n",
      "only showing top 20 rows\n",
      "\n",
      "--- 1.1251513957977295 seconds ---\n"
     ]
    }
   ],
   "source": [
    "# Here we have added the hint to Broadcast the lookup table.  \n",
    "start_time = time.time()\n",
    "\n",
    "spark.sql(\"\"\"\n",
    "select /*+ BROADCAST(lookup) */ \n",
    "a.Year,\n",
    "a.Month,\n",
    "a.DayofMonth,\n",
    "a.DayOfWeek,\n",
    "a.DepTime,\n",
    "a.CRSDepTime,\n",
    "a.ArrTime,\n",
    "a.CRSArrTime,\n",
    "a.UniqueCarrier,\n",
    "a.FlightNum,\n",
    "a.TailNum,\n",
    "a.ActualElapsedTime,\n",
    "a.CRSElapsedTime,\n",
    "a.AirTime,\n",
    "a.ArrDelay,\n",
    "a.DepDelay,\n",
    "a.Origin,\n",
    "b.City as Origin_City,\n",
    "a.Dest,\n",
    "c.City as Dep_City,\n",
    "a.Distance,\n",
    "a.TaxiIn,\n",
    "a.TaxiOut,\n",
    "a.Cancelled,\n",
    "a.CancellationCode,\n",
    "a.Diverted,\n",
    "a.CarrierDelay,\n",
    "a.WeatherDelay,\n",
    "a.NASDelay,\n",
    "a.SecurityDelay,\n",
    "a.LateAircraftDelay from  delayed a \n",
    "  inner join lookup b\n",
    "    on a.Origin=b.airportCode\n",
    "  inner join lookup c\n",
    "    on a.Dest=c.airportCode\n",
    "\"\"\").show()\n",
    "\n",
    "print(\"--- %s seconds ---\" % (time.time() - start_time))"
   ]
  },
  {
   "cell_type": "code",
   "execution_count": 9,
   "metadata": {
    "colab": {
     "base_uri": "https://localhost:8080/"
    },
    "id": "5DFhjm5Z_O5Z",
    "outputId": "747d811f-4e4b-4373-d845-e01416134c31"
   },
   "outputs": [
    {
     "name": "stdout",
     "output_type": "stream",
     "text": [
      "+-----------------+------------------+\n",
      "|      Origin_City|          avgDelay|\n",
      "+-----------------+------------------+\n",
      "|     Amarillo, TX|              63.3|\n",
      "|    Allentown, PA| 50.94957983193277|\n",
      "|    Asheville, NC|58.392405063291136|\n",
      "|  Bloomington, IL| 46.89930555555556|\n",
      "|    Anchorage, AK| 37.14423076923077|\n",
      "|      Atlanta, GA| 37.90491635370434|\n",
      "|       Bangor, ME| 50.27329192546584|\n",
      "|      Augusta, GA| 55.65714285714286|\n",
      "|      Bozeman, MT| 38.42857142857143|\n",
      "|  Albuquerque, NM| 32.54347826086956|\n",
      "|       Austin, TX|       37.19140625|\n",
      "|  Baton Rouge, LA|          65.50625|\n",
      "|    Baltimore, MD|  39.0767004341534|\n",
      "|       Albany, GA| 50.25352112676056|\n",
      "|        Aspen, CO|              85.0|\n",
      "|       Albany, NY| 39.14365671641791|\n",
      "|       Boston, MA| 47.71041369472183|\n",
      "|        Akron, OH|55.928196147110334|\n",
      "|Atlantic City, NJ| 64.64285714285714|\n",
      "|   Birmingham, AL| 43.17042606516291|\n",
      "+-----------------+------------------+\n",
      "only showing top 20 rows\n",
      "\n",
      "--- 8.23275899887085 seconds ---\n"
     ]
    }
   ],
   "source": [
    "# In this query we are trying to give the cluster some work to do.  \n",
    "# We are creating a a common table expression (CTE) (with allColumns) that joins the two tables together \n",
    "# and then an aggregation by averaging the delays.\n",
    "\n",
    "start_time = time.time()\n",
    "\n",
    "spark.sql(\"\"\"\n",
    "with allColumns\n",
    "(select /*+ BROADCAST(lookup) */ \n",
    "a.Year,\n",
    "a.Month,\n",
    "a.DayofMonth,\n",
    "a.DayOfWeek,\n",
    "a.DepTime,\n",
    "a.CRSDepTime,\n",
    "a.ArrTime,\n",
    "a.CRSArrTime,\n",
    "a.UniqueCarrier,\n",
    "a.FlightNum,\n",
    "a.TailNum,\n",
    "a.ActualElapsedTime,\n",
    "a.CRSElapsedTime,\n",
    "a.AirTime,\n",
    "a.ArrDelay,\n",
    "a.DepDelay,\n",
    "a.Origin,\n",
    "b.City as Origin_City,\n",
    "a.Dest,\n",
    "c.City as Dep_City,\n",
    "a.Distance,\n",
    "a.TaxiIn,\n",
    "a.TaxiOut,\n",
    "a.Cancelled,\n",
    "a.CancellationCode,\n",
    "a.Diverted,\n",
    "a.CarrierDelay,\n",
    "a.WeatherDelay,\n",
    "a.NASDelay,\n",
    "a.SecurityDelay,\n",
    "a.LateAircraftDelay from  delayed a \n",
    "  inner join lookup b\n",
    "    on a.Origin=b.airportCode\n",
    "  inner join lookup c\n",
    "    on a.Dest=c.airportCode\n",
    ")\n",
    "select Origin_City, avg(ArrDelay) avgDelay from allColumns group by 1\n",
    "\"\"\").show()\n",
    "\n",
    "print(\"--- %s seconds ---\" % (time.time() - start_time))"
   ]
  },
  {
   "cell_type": "code",
   "execution_count": 10,
   "metadata": {
    "colab": {
     "base_uri": "https://localhost:8080/"
    },
    "id": "XZdAUFJ3bDKQ",
    "outputId": "007c2c69-1a3d-4dae-c37b-afb97795efe3"
   },
   "outputs": [
    {
     "data": {
      "text/plain": [
       "DataFrame[]"
      ]
     },
     "execution_count": 10,
     "metadata": {},
     "output_type": "execute_result"
    }
   ],
   "source": [
    "# Next, we are use SparkSQL to cache our table\n",
    "# Note: when we use SparkSQL to cache a table, the table is immediately cached (no lazy evaluation).\n",
    "# When using PySpark it will not be cached until an action is run.\n",
    "spark.sql(\"cache table delayed\")"
   ]
  },
  {
   "cell_type": "code",
   "execution_count": 11,
   "metadata": {
    "colab": {
     "base_uri": "https://localhost:8080/"
    },
    "id": "0eq0zGP4ciPp",
    "outputId": "31337318-d233-4580-fcab-e7bddf740ef0"
   },
   "outputs": [
    {
     "data": {
      "text/plain": [
       "True"
      ]
     },
     "execution_count": 11,
     "metadata": {},
     "output_type": "execute_result"
    }
   ],
   "source": [
    "# This command checks that our table is cached\n",
    "# It will return True if it is cached.\n",
    "spark.catalog.isCached(\"delayed\")"
   ]
  },
  {
   "cell_type": "code",
   "execution_count": 12,
   "metadata": {
    "colab": {
     "base_uri": "https://localhost:8080/"
    },
    "id": "kzMGI_BfXSc8",
    "outputId": "328ffd75-e28c-4699-8880-b69c8333948c"
   },
   "outputs": [
    {
     "name": "stdout",
     "output_type": "stream",
     "text": [
      "+-----------------+------------------+\n",
      "|      Origin_City|          avgDelay|\n",
      "+-----------------+------------------+\n",
      "|     Amarillo, TX|              63.3|\n",
      "|    Allentown, PA| 50.94957983193277|\n",
      "|    Asheville, NC|58.392405063291136|\n",
      "|  Bloomington, IL| 46.89930555555556|\n",
      "|    Anchorage, AK| 37.14423076923077|\n",
      "|      Atlanta, GA| 37.90491635370434|\n",
      "|       Bangor, ME| 50.27329192546584|\n",
      "|      Augusta, GA| 55.65714285714286|\n",
      "|      Bozeman, MT| 38.42857142857143|\n",
      "|  Albuquerque, NM| 32.54347826086956|\n",
      "|       Austin, TX|       37.19140625|\n",
      "|  Baton Rouge, LA|          65.50625|\n",
      "|    Baltimore, MD|  39.0767004341534|\n",
      "|       Albany, GA| 50.25352112676056|\n",
      "|        Aspen, CO|              85.0|\n",
      "|       Albany, NY| 39.14365671641791|\n",
      "|       Boston, MA| 47.71041369472183|\n",
      "|        Akron, OH|55.928196147110334|\n",
      "|Atlantic City, NJ| 64.64285714285714|\n",
      "|   Birmingham, AL| 43.17042606516291|\n",
      "+-----------------+------------------+\n",
      "only showing top 20 rows\n",
      "\n",
      "--- 2.024932384490967 seconds ---\n"
     ]
    }
   ],
   "source": [
    "# Using the cached data, run the same query with the common table expression (CTE).\n",
    "# The performance time should improve.\n",
    "\n",
    "start_time = time.time()\n",
    "\n",
    "spark.sql(\"\"\"\n",
    "with allColumns\n",
    "(select /*+ BROADCAST(lookup) */ \n",
    "a.Year,\n",
    "a.Month,\n",
    "a.DayofMonth,\n",
    "a.DayOfWeek,\n",
    "a.DepTime,\n",
    "a.CRSDepTime,\n",
    "a.ArrTime,\n",
    "a.CRSArrTime,\n",
    "a.UniqueCarrier,\n",
    "a.FlightNum,\n",
    "a.TailNum,\n",
    "a.ActualElapsedTime,\n",
    "a.CRSElapsedTime,\n",
    "a.AirTime,\n",
    "a.ArrDelay,\n",
    "a.DepDelay,\n",
    "a.Origin,\n",
    "b.City as Origin_City,\n",
    "a.Dest,\n",
    "c.City as Dep_City,\n",
    "a.Distance,\n",
    "a.TaxiIn,\n",
    "a.TaxiOut,\n",
    "a.Cancelled,\n",
    "a.CancellationCode,\n",
    "a.Diverted,\n",
    "a.CarrierDelay,\n",
    "a.WeatherDelay,\n",
    "a.NASDelay,\n",
    "a.SecurityDelay,\n",
    "a.LateAircraftDelay from  delayed a \n",
    "  inner join lookup b\n",
    "    on a.Origin=b.airportCode\n",
    "  inner join lookup c\n",
    "    on a.Dest=c.airportCode\n",
    ")\n",
    "select Origin_City, avg(ArrDelay) avgDelay from allColumns group by 1\"\"\").show()\n",
    "\n",
    "print(\"--- %s seconds ---\" % (time.time() - start_time))\n"
   ]
  },
  {
   "cell_type": "code",
   "execution_count": 13,
   "metadata": {
    "colab": {
     "base_uri": "https://localhost:8080/"
    },
    "id": "EgJRNc8h_bHI",
    "outputId": "225869a2-b52d-46e5-a2c5-4394401ef6f1"
   },
   "outputs": [
    {
     "data": {
      "text/plain": [
       "DataFrame[]"
      ]
     },
     "execution_count": 13,
     "metadata": {},
     "output_type": "execute_result"
    }
   ],
   "source": [
    "# Remember to uncache the table as soon as you are done.\n",
    "spark.sql(\"uncache table delayed\")"
   ]
  },
  {
   "cell_type": "code",
   "execution_count": 14,
   "metadata": {
    "colab": {
     "base_uri": "https://localhost:8080/"
    },
    "id": "fhgb2iFihRbW",
    "outputId": "69f57423-a411-467b-a1ea-61edd94a097d"
   },
   "outputs": [
    {
     "data": {
      "text/plain": [
       "False"
      ]
     },
     "execution_count": 14,
     "metadata": {},
     "output_type": "execute_result"
    }
   ],
   "source": [
    "#Verify that the table is no longer cached\n",
    "spark.catalog.isCached(\"delayed\")"
   ]
  },
  {
   "cell_type": "code",
   "execution_count": 14,
   "metadata": {
    "id": "3XLLlG2kx4s3"
   },
   "outputs": [],
   "source": []
  }
 ],
 "metadata": {
  "colab": {
   "provenance": []
  },
  "kernelspec": {
   "display_name": "Python 3 (ipykernel)",
   "language": "python",
   "name": "python3"
  },
  "language_info": {
   "codemirror_mode": {
    "name": "ipython",
    "version": 3
   },
   "file_extension": ".py",
   "mimetype": "text/x-python",
   "name": "python",
   "nbconvert_exporter": "python",
   "pygments_lexer": "ipython3",
   "version": "3.10.4"
  }
 },
 "nbformat": 4,
 "nbformat_minor": 1
}
