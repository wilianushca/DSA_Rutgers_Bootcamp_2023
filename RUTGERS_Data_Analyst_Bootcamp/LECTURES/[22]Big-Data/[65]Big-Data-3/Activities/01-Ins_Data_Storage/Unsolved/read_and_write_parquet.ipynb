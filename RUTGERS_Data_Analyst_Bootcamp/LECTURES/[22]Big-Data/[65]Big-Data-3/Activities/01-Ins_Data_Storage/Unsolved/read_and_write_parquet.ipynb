{
 "cells": [
  {
   "cell_type": "code",
   "execution_count": 1,
   "metadata": {
    "colab": {
     "base_uri": "https://localhost:8080/"
    },
    "id": "s2U0y6_MtZ9I",
    "outputId": "8dce3897-0149-490c-fe59-8be822fcaa8a"
   },
   "outputs": [],
   "source": [
    "# Import findspark and initialize. \n",
    "import findspark\n",
    "findspark.init()"
   ]
  },
  {
   "cell_type": "code",
   "execution_count": 2,
   "metadata": {
    "id": "KLz5M7sFpO0W"
   },
   "outputs": [
    {
     "name": "stderr",
     "output_type": "stream",
     "text": [
      "Using Spark's default log4j profile: org/apache/spark/log4j-defaults.properties\n",
      "Setting default log level to \"WARN\".\n",
      "To adjust logging level use sc.setLogLevel(newLevel). For SparkR, use setLogLevel(newLevel).\n",
      "22/11/15 14:14:43 WARN NativeCodeLoader: Unable to load native-hadoop library for your platform... using builtin-java classes where applicable\n"
     ]
    }
   ],
   "source": [
    "# Import packages\n",
    "from pyspark.sql import SparkSession\n",
    "# Import the time module so we can time our queries.\n",
    "import time\n",
    "\n",
    "# Create a SparkSession\n",
    "spark = SparkSession.builder.appName(\"SparkSQL\").config(\"spark.driver.memory\", \"2g\").getOrCreate()"
   ]
  },
  {
   "cell_type": "code",
   "execution_count": 3,
   "metadata": {
    "colab": {
     "base_uri": "https://localhost:8080/"
    },
    "id": "CahJMb3cpWdW",
    "outputId": "4d0c57d7-87c3-4463-d0f5-3abfbd2a9e16"
   },
   "outputs": [
    {
     "name": "stderr",
     "output_type": "stream",
     "text": [
      "                                                                                \r"
     ]
    },
    {
     "name": "stdout",
     "output_type": "stream",
     "text": [
      "+----------------+----+-------+-----+-----+----------+-------------------+----------------+------------+--------------------+----------------+--------------------+-------------+--------------------+----------+--------------------+--------------------+--------------------+\n",
      "|ISN_DOB_BIS_VIOL|BORO|    BIN|BLOCK|  LOT|ISSUE_DATE|VIOLATION_TYPE_CODE|VIOLATION_NUMBER|HOUSE_NUMBER|              STREET|DISPOSITION_DATE|DISPOSITION_COMMENTS|DEVICE_NUMBER|         DESCRIPTION|ECB_NUMBER|              NUMBER|  VIOLATION_CATEGORY|      VIOLATION_TYPE|\n",
      "+----------------+----+-------+-----+-----+----------+-------------------+----------------+------------+--------------------+----------------+--------------------+-------------+--------------------+----------+--------------------+--------------------+--------------------+\n",
      "|         2286033|   1|1009713|00577|00019|  20180507|                  E|     9027/627971|          34|        WEST 14TH ST|        20220509|PPN203 AOC SUB 05...|      1P13420|                null|      null|V*050718E9027/627971|V*-DOB VIOLATION ...|E-ELEVATOR       ...|\n",
      "|         2533639|   1|1082666|00333|00001|  20210629|                  E|     9027/705433|          77|     COLUMBIA STREET|        20220509|PPN203 AOC SUB 05...|      1P27474|                null|      null|V*062921E9027/705433|V*-DOB VIOLATION ...|E-ELEVATOR       ...|\n",
      "|         2347979|   1|1083846|01130|00001|  20190423|                  E|     9028/648125|         200|   CENTRAL PARK WEST|        20220509|PPN203 AOC SUBMIT...|      1P40861|                null|      null|V*042319E9028/648125|V*-DOB VIOLATION ...|E-ELEVATOR       ...|\n",
      "|         2566336|   1|1057155|01889|07502|  20211123|                  E|     9028/710097|         845|        WEST END AVE|        20220509|PPN203 AOC SUB 05...|      1P14972|                null|      null|V*112321E9028/710097|V*-DOB VIOLATION ...|E-ELEVATOR       ...|\n",
      "|         2487351|   1|1041456|01387|00021|  20200925|                  E|     9028/689200|          31|             E 72 ST|        20220509|PPN203 AOC SUB 05...|      1P10910|                null|      null|V*092520E9028/689200|V*-DOB VIOLATION ...|E-ELEVATOR       ...|\n",
      "|         2579117|   3|3212907|07717|00054|  20220427|            AEUHAZ1|           00322|        3420|        QUENTIN ROAD|        20220509|000810 PAID INVOI...|         null|FAILURE TO CERTIF...| 39055131L|V*042722AEUHAZ100322|V*-DOB VIOLATION ...|AEUHAZ1-FAIL TO C...|\n",
      "|         2224356|   4|4445407|16155|00021|  20171206|                  E|     9027/617490|         320|    BEACH 100 STREET|        20220509|PPN203 AOC SUBMIT...|       4P4846|                null|      null|V*120617E9027/617490|V*-DOB VIOLATION ...|E-ELEVATOR       ...|\n",
      "|         1501541|   1|1010847|00611|00053|  20100706|             LANDMK|         11-0004|          10|      CHARLES STREET|        20220509|                null|         null|                null|      null|V*070610LANDMK11-...|V*-DOB VIOLATION ...|LANDMK-LANDMARK  ...|\n",
      "|         2435215|   1|1012256|00662|00011|  20200115|                  E|     9028/667509|     PIER 59|         NORTH RIVER|        20220509|PPN203 AOC SUB 05...|      1W10006|                null|      null|V*011520E9028/667509|V*-DOB VIOLATION ...|E-ELEVATOR       ...|\n",
      "|         2504960|   3|3379016|01220|00019|  20210123|                  E|     9028/696197|         715|         ST MARKS AV|        20220509|PPN203 AOC SUB 05...|       3P3165|                null|      null|V*012321E9028/696197|V*-DOB VIOLATION ...|E-ELEVATOR       ...|\n",
      "|         2579114|   3|3212907|07717|00054|  20220427|            AEUHAZ1|           00319|        3420|        QUENTIN ROAD|        20220509|000810 PAID INVOI...|         null|FAILURE TO CERTIF...| 39055126R|V*042722AEUHAZ100319|V*-DOB VIOLATION ...|AEUHAZ1-FAIL TO C...|\n",
      "|         2347971|   1|1083846|01130|00001|  20190424|                  E|     9028/650040|         200|   CENTRAL PARK WEST|        20220509|PPN203 AOC SUBMIT...|      1P29222|                null|      null|V*042419E9028/650040|V*-DOB VIOLATION ...|E-ELEVATOR       ...|\n",
      "|         2347976|   1|1083846|01130|00001|  20190423|                  E|     9028/650049|         200|   CENTRAL PARK WEST|        20220509|PPN203 AOC SUBMIT...|      1P40856|                null|      null|V*042319E9028/650049|V*-DOB VIOLATION ...|E-ELEVATOR       ...|\n",
      "|         2310631|   3|3079907|03439|00020|  20180809|            AEUHAZ1|           00316|         76A|       COOPER STREET|        20220509|            90252351|         null|FAILURE TO CERTIF...| 35331209P|V*080918AEUHAZ100316|V*-DOB VIOLATION ...|AEUHAZ1-FAIL TO C...|\n",
      "|         2582207|   4|4227230|10640|00029|  20220430|                  C|          ER02MA|       91-17|          215 STREET|            null|                null|         null|STRUCTURE RENDERE...|      null|      V043022CER02MA|V-DOB VIOLATION -...|C-CONSTRUCTION   ...|\n",
      "|         2539906|   1|1038758|01337|07502|  20210723|                  E|     9028/704512|           1|UNITED NATIONS PLAZA|        20220509|PPN203 AOC SUBMIT...|      1P37657|                null|      null|V*072321E9028/704512|V*-DOB VIOLATION ...|E-ELEVATOR       ...|\n",
      "|         2428141|   3|3425712|06766|07503|  20191102|              BENCH|           01025|        2068|        OCEAN AVENUE|        20220509|  CHALLENGE APPROVED|         null|FAILURE TO FILE B...|      null|  V*110219BENCH01025|V*-DOB VIOLATION ...|BENCH-FAILURE TO ...|\n",
      "|         2543985|   3|3116537|05080|00036|  20210824|                  E|     9028/706976|          21|         ST PAULS CT|        20220509|PPN203 AOC SUB 05...|       3P2286|                null|      null|V*082421E9028/706976|V*-DOB VIOLATION ...|E-ELEVATOR       ...|\n",
      "|         1705186|   1|1010847|00611|00053|  20120926|             LANDMK|         13-0202|          10|      CHARLES STREET|        20220509|                null|         null|                null|      null|V*092612LANDMK13-...|V*-DOB VIOLATION ...|LANDMK-LANDMARK  ...|\n",
      "|         2533638|   1|1082666|00333|00001|  20210629|                  E|     9027/705432|          77|     COLUMBIA STREET|        20220509|PPN203 AOC SUB 05...|      1P27473|                null|      null|V*062921E9027/705432|V*-DOB VIOLATION ...|E-ELEVATOR       ...|\n",
      "+----------------+----+-------+-----+-----+----------+-------------------+----------------+------------+--------------------+----------------+--------------------+-------------+--------------------+----------+--------------------+--------------------+--------------------+\n",
      "only showing top 20 rows\n",
      "\n"
     ]
    }
   ],
   "source": [
    "# Read in data from S3 Bucket\n",
    "from pyspark import SparkFiles\n",
    "url = \"https://2u-data-curriculum-team.s3.amazonaws.com/dataviz-classroom/v1.2/22-big-data/3/NYC_Building_Violations.csv\"\n",
    "spark.sparkContext.addFile(url)\n",
    "df = spark.read.csv(SparkFiles.get(\"NYC_Building_Violations.csv\"), sep=\",\", header=True)\n",
    "df.show()"
   ]
  },
  {
   "cell_type": "code",
   "execution_count": 4,
   "metadata": {
    "colab": {
     "base_uri": "https://localhost:8080/"
    },
    "id": "S62v26TZLHso",
    "outputId": "5480a615-9014-42fe-ebd9-406add28c876"
   },
   "outputs": [
    {
     "name": "stderr",
     "output_type": "stream",
     "text": [
      "[Stage 4:>                                                          (0 + 1) / 1]\r"
     ]
    },
    {
     "name": "stdout",
     "output_type": "stream",
     "text": [
      "+-------+------------------+------------------+------------------+------------------+------------------+-------------------+-------------------+----------------+------------------+------------------+--------------------+--------------------+--------------------+--------------------+--------------------+------------------+--------------------+--------------------+\n",
      "|summary|  ISN_DOB_BIS_VIOL|              BORO|               BIN|             BLOCK|               LOT|         ISSUE_DATE|VIOLATION_TYPE_CODE|VIOLATION_NUMBER|      HOUSE_NUMBER|            STREET|    DISPOSITION_DATE|DISPOSITION_COMMENTS|       DEVICE_NUMBER|         DESCRIPTION|          ECB_NUMBER|            NUMBER|  VIOLATION_CATEGORY|      VIOLATION_TYPE|\n",
      "+-------+------------------+------------------+------------------+------------------+------------------+-------------------+-------------------+----------------+------------------+------------------+--------------------+--------------------+--------------------+--------------------+--------------------+------------------+--------------------+--------------------+\n",
      "|  count|           2249357|           2249355|           2246031|           2236515|           2237197|            2249356|            2249357|         2249352|           2248990|           2231958|             1689545|             1648487|             1657117|              709389|              201989|           2249316|             2249316|             2249302|\n",
      "|   mean|1306787.2474680543|2.3464668843595082| 2456521.062597088|2859.5119176387343|466.57405826225846|2.007073744908509E7|               null|             NaN|2783.2523214543485|          53.40625|2.0102321098843772E7| 3.162820579273005E7|            Infinity|            Infinity|       2.104617042E8|              null|                null|                null|\n",
      "| stddev| 743549.2550104044|1.2299498217016909|1297759.7392980368| 2880.056827063871|1742.3216172954671|  103289.9051134158|               null|             NaN| 31076.99272583018|20.639547655395816|    76857.2515043989|1.2270720877515714E8|                 NaN|                 NaN|1.9213306030514506E8|              null|                null|                null|\n",
      "|    min|                 1|                 0|           0000000|             .   6|                 0|           0   0612|                 7A|     #326375C301|            #G25FP|     '\\t15 AVENUE'|            12231998|\"DISMISSED, BC SW...| OBTAIN ALL PERMI...|                   #|                0000|V%*010110UB3135/10|C-CONSTRUCTION   ...|A-SEU            ...|\n",
      "|    25%|          669666.0|               1.0|         1055265.0|             950.0|              10.0|        2.0000207E7|               null|          1465.0|             137.0|              58.0|         2.0051104E7|            266001.0|             60232.0|                 1.0|                 0.0|              null|                null|                null|\n",
      "|    50%|         1309696.0|               2.0|         2806528.0|            1856.0|              30.0|        2.0080305E7|               null|          7535.0|             377.0|              63.0|         2.0120315E7|           1.33388E7|             87139.0|                 1.0|        3.48751536E8|              null|                null|                null|\n",
      "|    75%|         1947706.0|               3.0|         3331545.0|            3767.0|              55.0|        2.0150303E7|               null|         18931.0|            1095.0|              63.0|         2.0160718E7|         6.2037385E7|            815398.0|                 2.0|        3.49874984E8|              null|                null|                null|\n",
      "|    max|            999999|                 `|           9999993|             \\0459|             Q0007|           Y9990120|                  Z|            ¬TVW|               ¦04|       MAIN STREET|            20220619|                   ¦|              X10070|{74}REPLACE MISSI...|                   \\|VWH121602PL106HB01|VWH-VIOLATION WOR...|Z-ZONING         ...|\n",
      "+-------+------------------+------------------+------------------+------------------+------------------+-------------------+-------------------+----------------+------------------+------------------+--------------------+--------------------+--------------------+--------------------+--------------------+------------------+--------------------+--------------------+\n",
      "\n"
     ]
    },
    {
     "name": "stderr",
     "output_type": "stream",
     "text": [
      "\r",
      "                                                                                \r"
     ]
    }
   ],
   "source": [
    "# Get a summary of the data. \n"
   ]
  },
  {
   "cell_type": "code",
   "execution_count": 5,
   "metadata": {
    "colab": {
     "base_uri": "https://localhost:8080/"
    },
    "id": "T7fsnqRDqG2C",
    "outputId": "95a31a73-2ffb-430d-fb22-ec062d106ec6"
   },
   "outputs": [
    {
     "name": "stderr",
     "output_type": "stream",
     "text": [
      "[Stage 5:==============>                                            (2 + 6) / 8]\r"
     ]
    },
    {
     "name": "stdout",
     "output_type": "stream",
     "text": [
      "+--------------------+---------+\n",
      "|      VIOLATION_TYPE|sum(BORO)|\n",
      "+--------------------+---------+\n",
      "|LL10/80-LOCAL LAW...|   3609.0|\n",
      "|LL11/98-LOCAL LAW...|   9285.0|\n",
      "|HVIOS-NYCHA ELEV ...|    969.0|\n",
      "|P-PLUMBING       ...|  29480.0|\n",
      "|ACH1-(NYCHA) - EL...|   4949.0|\n",
      "|LANDMRK-LANDMARK ...|   5599.0|\n",
      "|LL5-LOCAL LAW 5/7...|   1363.0|\n",
      "|IMD-IMMEDIATE EME...|     13.0|\n",
      "|B-BOILER         ...|  17042.0|\n",
      "|FISP-FACADE SAFET...|   6889.0|\n",
      "|EGNCY-EMERGENCY  ...|  12607.0|\n",
      "|ES-ELECTRIC SIGNS...|  18378.0|\n",
      "|                null|    148.0|\n",
      "|L1198-LOCAL LAW 1...|  10656.0|\n",
      "|HBLVIO-HIGH PRESS...|  14628.0|\n",
      "|BENCH-FAILURE TO ...| 110285.0|\n",
      "|RWNRF-RETAINING W...|   4007.0|\n",
      "|FISPNRF-NO REPORT...|  21017.0|\n",
      "|LL2604-PHOTOLUMIN...|    679.0|\n",
      "|LL2604S-SPRINKLER...|   1513.0|\n",
      "+--------------------+---------+\n",
      "only showing top 20 rows\n",
      "\n",
      "--- 2.8327789306640625 seconds ---\n"
     ]
    },
    {
     "name": "stderr",
     "output_type": "stream",
     "text": [
      "\r",
      "                                                                                \r"
     ]
    }
   ],
   "source": [
    " # Let's create a view with our DataFrame and run SQL that will sum up the boroughs by the type of violation.\n",
    "# We can output the time this step runs in seconds.\n",
    "# Because we are timing the executions, remember to run twice to eliminate the \"load time\" from the discussion.\n",
    "\n",
    "\n",
    "\n",
    "\n"
   ]
  },
  {
   "cell_type": "code",
   "execution_count": 6,
   "metadata": {
    "id": "g04Evw2jqHoK"
   },
   "outputs": [
    {
     "name": "stderr",
     "output_type": "stream",
     "text": [
      "                                                                                \r"
     ]
    }
   ],
   "source": [
    "# Write out the data in parquet format\n",
    "# Note: That this is pretty much the same as writing out to a csv to your local directory.\n",
    "# We are telling Spark to overwrite all of the data if it already exists\n"
   ]
  },
  {
   "cell_type": "markdown",
   "metadata": {
    "id": "lYiTD19bHuV4"
   },
   "source": [
    "\n",
    "\n",
    "*   click the folder icon on the left of the notebook to expose the folders and files stored in your colab enviornment.  Notice that a new folder is present with the same name as your parquet file (parquet_title_basic)\n",
    "*   inside of it you will find 'part-*.parquet' files and a '_SUCCESS' file. \n",
    "*  The '_SUCCESS' file is created when Spark creates a Parquet folder\n",
    "*  the part-* files are binary files that store your compressed data in columnar format\n",
    "\n",
    "\n",
    "\n"
   ]
  },
  {
   "cell_type": "code",
   "execution_count": 7,
   "metadata": {
    "id": "2SaDjaQXqnPI"
   },
   "outputs": [],
   "source": [
    "# Read in our new parquet formatted data\n"
   ]
  },
  {
   "cell_type": "code",
   "execution_count": 8,
   "metadata": {
    "id": "sT7d4hu-q32d"
   },
   "outputs": [],
   "source": [
    "# A parquet formatted DataFrame has all the same methods as a row-based DataFrame\n",
    "# We can convert the DataFrame to a view.\n"
   ]
  },
  {
   "cell_type": "code",
   "execution_count": 9,
   "metadata": {
    "colab": {
     "base_uri": "https://localhost:8080/"
    },
    "id": "nwpUfAoeq71b",
    "outputId": "d6850e76-4e87-4478-bb41-922a51edc6ce"
   },
   "outputs": [
    {
     "name": "stderr",
     "output_type": "stream",
     "text": [
      "\r",
      "[Stage 10:>                                                         (0 + 8) / 8]\r"
     ]
    },
    {
     "name": "stdout",
     "output_type": "stream",
     "text": [
      "+--------------------+---------+\n",
      "|      VIOLATION_TYPE|sum(BORO)|\n",
      "+--------------------+---------+\n",
      "|LL10/80-LOCAL LAW...|   3609.0|\n",
      "|LL11/98-LOCAL LAW...|   9285.0|\n",
      "|HVIOS-NYCHA ELEV ...|    969.0|\n",
      "|P-PLUMBING       ...|  29480.0|\n",
      "|ACH1-(NYCHA) - EL...|   4949.0|\n",
      "|LANDMRK-LANDMARK ...|   5599.0|\n",
      "|LL5-LOCAL LAW 5/7...|   1363.0|\n",
      "|IMD-IMMEDIATE EME...|     13.0|\n",
      "|B-BOILER         ...|  17042.0|\n",
      "|FISP-FACADE SAFET...|   6889.0|\n",
      "|EGNCY-EMERGENCY  ...|  12607.0|\n",
      "|ES-ELECTRIC SIGNS...|  18378.0|\n",
      "|                null|    148.0|\n",
      "|L1198-LOCAL LAW 1...|  10656.0|\n",
      "|HBLVIO-HIGH PRESS...|  14628.0|\n",
      "|BENCH-FAILURE TO ...| 110285.0|\n",
      "|RWNRF-RETAINING W...|   4007.0|\n",
      "|FISPNRF-NO REPORT...|  21017.0|\n",
      "|LL2604-PHOTOLUMIN...|    679.0|\n",
      "|LL2604S-SPRINKLER...|   1513.0|\n",
      "+--------------------+---------+\n",
      "only showing top 20 rows\n",
      "\n",
      "--- 1.0396668910980225 seconds ---\n"
     ]
    },
    {
     "name": "stderr",
     "output_type": "stream",
     "text": [
      "\r",
      "                                                                                \r"
     ]
    }
   ],
   "source": [
    "# Run the same sql as above.  (Note: If you have small datasets it IS possible that times may be very close.)\n",
    "# Because we are timing the executions, remember to run twice to eliminate the \"load time\" from the discussion.\n",
    "\n"
   ]
  },
  {
   "cell_type": "code",
   "execution_count": 11,
   "metadata": {
    "id": "yZY1lKBHrjLg"
   },
   "outputs": [
    {
     "name": "stderr",
     "output_type": "stream",
     "text": [
      "                                                                                \r"
     ]
    }
   ],
   "source": [
    "# Writing out a csv file from Spark will also create a folder with \"part\" files.\n",
    "# These files are not binary or compressed and in reality are just normal csv files broken into partitions.\n",
    "# You can see the folder 'out_violations.csv' in your local directory.\n"
   ]
  },
  {
   "cell_type": "markdown",
   "metadata": {},
   "source": [
    "### Read a parquet file into a Pandas DataFrame"
   ]
  },
  {
   "cell_type": "code",
   "execution_count": 12,
   "metadata": {
    "id": "zit0gXHn4Hf2"
   },
   "outputs": [],
   "source": [
    "import pandas as pd"
   ]
  },
  {
   "cell_type": "code",
   "execution_count": 14,
   "metadata": {},
   "outputs": [
    {
     "data": {
      "text/html": [
       "<div>\n",
       "<style scoped>\n",
       "    .dataframe tbody tr th:only-of-type {\n",
       "        vertical-align: middle;\n",
       "    }\n",
       "\n",
       "    .dataframe tbody tr th {\n",
       "        vertical-align: top;\n",
       "    }\n",
       "\n",
       "    .dataframe thead th {\n",
       "        text-align: right;\n",
       "    }\n",
       "</style>\n",
       "<table border=\"1\" class=\"dataframe\">\n",
       "  <thead>\n",
       "    <tr style=\"text-align: right;\">\n",
       "      <th></th>\n",
       "      <th>ISN_DOB_BIS_VIOL</th>\n",
       "      <th>BORO</th>\n",
       "      <th>BIN</th>\n",
       "      <th>BLOCK</th>\n",
       "      <th>LOT</th>\n",
       "      <th>ISSUE_DATE</th>\n",
       "      <th>VIOLATION_TYPE_CODE</th>\n",
       "      <th>VIOLATION_NUMBER</th>\n",
       "      <th>HOUSE_NUMBER</th>\n",
       "      <th>STREET</th>\n",
       "      <th>DISPOSITION_DATE</th>\n",
       "      <th>DISPOSITION_COMMENTS</th>\n",
       "      <th>DEVICE_NUMBER</th>\n",
       "      <th>DESCRIPTION</th>\n",
       "      <th>ECB_NUMBER</th>\n",
       "      <th>NUMBER</th>\n",
       "      <th>VIOLATION_CATEGORY</th>\n",
       "      <th>VIOLATION_TYPE</th>\n",
       "    </tr>\n",
       "  </thead>\n",
       "  <tbody>\n",
       "    <tr>\n",
       "      <th>0</th>\n",
       "      <td>2286033</td>\n",
       "      <td>1</td>\n",
       "      <td>1009713</td>\n",
       "      <td>00577</td>\n",
       "      <td>00019</td>\n",
       "      <td>20180507</td>\n",
       "      <td>E</td>\n",
       "      <td>9027/627971</td>\n",
       "      <td>34</td>\n",
       "      <td>WEST 14TH ST</td>\n",
       "      <td>20220509</td>\n",
       "      <td>PPN203 AOC SUB 050322 BY BP ELEV CO           ...</td>\n",
       "      <td>1P13420</td>\n",
       "      <td>None</td>\n",
       "      <td>None</td>\n",
       "      <td>V*050718E9027/627971</td>\n",
       "      <td>V*-DOB VIOLATION - Resolved</td>\n",
       "      <td>E-ELEVATOR                                    ...</td>\n",
       "    </tr>\n",
       "    <tr>\n",
       "      <th>1</th>\n",
       "      <td>2533639</td>\n",
       "      <td>1</td>\n",
       "      <td>1082666</td>\n",
       "      <td>00333</td>\n",
       "      <td>00001</td>\n",
       "      <td>20210629</td>\n",
       "      <td>E</td>\n",
       "      <td>9027/705433</td>\n",
       "      <td>77</td>\n",
       "      <td>COLUMBIA STREET</td>\n",
       "      <td>20220509</td>\n",
       "      <td>PPN203 AOC SUB 050222 BY MIDTOWN ELEV CO INC  ...</td>\n",
       "      <td>1P27474</td>\n",
       "      <td>None</td>\n",
       "      <td>None</td>\n",
       "      <td>V*062921E9027/705433</td>\n",
       "      <td>V*-DOB VIOLATION - Resolved</td>\n",
       "      <td>E-ELEVATOR                                    ...</td>\n",
       "    </tr>\n",
       "    <tr>\n",
       "      <th>2</th>\n",
       "      <td>2347979</td>\n",
       "      <td>1</td>\n",
       "      <td>1083846</td>\n",
       "      <td>01130</td>\n",
       "      <td>00001</td>\n",
       "      <td>20190423</td>\n",
       "      <td>E</td>\n",
       "      <td>9028/648125</td>\n",
       "      <td>200</td>\n",
       "      <td>CENTRAL PARK WEST</td>\n",
       "      <td>20220509</td>\n",
       "      <td>PPN203 AOC SUBMITTED ON 050522 BY CENTENNIAL E...</td>\n",
       "      <td>1P40861</td>\n",
       "      <td>None</td>\n",
       "      <td>None</td>\n",
       "      <td>V*042319E9028/648125</td>\n",
       "      <td>V*-DOB VIOLATION - Resolved</td>\n",
       "      <td>E-ELEVATOR                                    ...</td>\n",
       "    </tr>\n",
       "    <tr>\n",
       "      <th>3</th>\n",
       "      <td>2566336</td>\n",
       "      <td>1</td>\n",
       "      <td>1057155</td>\n",
       "      <td>01889</td>\n",
       "      <td>07502</td>\n",
       "      <td>20211123</td>\n",
       "      <td>E</td>\n",
       "      <td>9028/710097</td>\n",
       "      <td>845</td>\n",
       "      <td>WEST END AVE</td>\n",
       "      <td>20220509</td>\n",
       "      <td>PPN203 AOC SUB 050322 BY BP ELEV CO           ...</td>\n",
       "      <td>1P14972</td>\n",
       "      <td>None</td>\n",
       "      <td>None</td>\n",
       "      <td>V*112321E9028/710097</td>\n",
       "      <td>V*-DOB VIOLATION - Resolved</td>\n",
       "      <td>E-ELEVATOR                                    ...</td>\n",
       "    </tr>\n",
       "    <tr>\n",
       "      <th>4</th>\n",
       "      <td>2487351</td>\n",
       "      <td>1</td>\n",
       "      <td>1041456</td>\n",
       "      <td>01387</td>\n",
       "      <td>00021</td>\n",
       "      <td>20200925</td>\n",
       "      <td>E</td>\n",
       "      <td>9028/689200</td>\n",
       "      <td>31</td>\n",
       "      <td>E 72 ST</td>\n",
       "      <td>20220509</td>\n",
       "      <td>PPN203 AOC SUB 050322 BY BP ELEV CO           ...</td>\n",
       "      <td>1P10910</td>\n",
       "      <td>None</td>\n",
       "      <td>None</td>\n",
       "      <td>V*092520E9028/689200</td>\n",
       "      <td>V*-DOB VIOLATION - Resolved</td>\n",
       "      <td>E-ELEVATOR                                    ...</td>\n",
       "    </tr>\n",
       "  </tbody>\n",
       "</table>\n",
       "</div>"
      ],
      "text/plain": [
       "  ISN_DOB_BIS_VIOL BORO      BIN  BLOCK    LOT ISSUE_DATE VIOLATION_TYPE_CODE  \\\n",
       "0          2286033    1  1009713  00577  00019   20180507                   E   \n",
       "1          2533639    1  1082666  00333  00001   20210629                   E   \n",
       "2          2347979    1  1083846  01130  00001   20190423                   E   \n",
       "3          2566336    1  1057155  01889  07502   20211123                   E   \n",
       "4          2487351    1  1041456  01387  00021   20200925                   E   \n",
       "\n",
       "  VIOLATION_NUMBER HOUSE_NUMBER             STREET DISPOSITION_DATE  \\\n",
       "0      9027/627971           34       WEST 14TH ST         20220509   \n",
       "1      9027/705433           77    COLUMBIA STREET         20220509   \n",
       "2      9028/648125          200  CENTRAL PARK WEST         20220509   \n",
       "3      9028/710097          845       WEST END AVE         20220509   \n",
       "4      9028/689200           31            E 72 ST         20220509   \n",
       "\n",
       "                                DISPOSITION_COMMENTS DEVICE_NUMBER  \\\n",
       "0  PPN203 AOC SUB 050322 BY BP ELEV CO           ...       1P13420   \n",
       "1  PPN203 AOC SUB 050222 BY MIDTOWN ELEV CO INC  ...       1P27474   \n",
       "2  PPN203 AOC SUBMITTED ON 050522 BY CENTENNIAL E...       1P40861   \n",
       "3  PPN203 AOC SUB 050322 BY BP ELEV CO           ...       1P14972   \n",
       "4  PPN203 AOC SUB 050322 BY BP ELEV CO           ...       1P10910   \n",
       "\n",
       "  DESCRIPTION ECB_NUMBER                NUMBER           VIOLATION_CATEGORY  \\\n",
       "0        None       None  V*050718E9027/627971  V*-DOB VIOLATION - Resolved   \n",
       "1        None       None  V*062921E9027/705433  V*-DOB VIOLATION - Resolved   \n",
       "2        None       None  V*042319E9028/648125  V*-DOB VIOLATION - Resolved   \n",
       "3        None       None  V*112321E9028/710097  V*-DOB VIOLATION - Resolved   \n",
       "4        None       None  V*092520E9028/689200  V*-DOB VIOLATION - Resolved   \n",
       "\n",
       "                                      VIOLATION_TYPE  \n",
       "0  E-ELEVATOR                                    ...  \n",
       "1  E-ELEVATOR                                    ...  \n",
       "2  E-ELEVATOR                                    ...  \n",
       "3  E-ELEVATOR                                    ...  \n",
       "4  E-ELEVATOR                                    ...  "
      ]
     },
     "execution_count": 14,
     "metadata": {},
     "output_type": "execute_result"
    }
   ],
   "source": [
    "# Open the parquet_violations folder and get the name of a file and edit the path to the parquet file.  \n",
    "# Check for the correct file name, since the file number will change.\n",
    "\n",
    "\n",
    "# Convert the parquet file to a Pandas DataFrame. \n"
   ]
  },
  {
   "cell_type": "code",
   "execution_count": null,
   "metadata": {},
   "outputs": [],
   "source": []
  }
 ],
 "metadata": {
  "colab": {
   "collapsed_sections": [],
   "name": "Read_and_Write_Parquet_2.ipynb",
   "provenance": []
  },
  "kernelspec": {
   "display_name": "Python 3 (ipykernel)",
   "language": "python",
   "name": "python3"
  },
  "language_info": {
   "codemirror_mode": {
    "name": "ipython",
    "version": 3
   },
   "file_extension": ".py",
   "mimetype": "text/x-python",
   "name": "python",
   "nbconvert_exporter": "python",
   "pygments_lexer": "ipython3",
   "version": "3.10.4"
  },
  "vscode": {
   "interpreter": {
    "hash": "aee8b7b246df8f9039afb4144a1f6fd8d2ca17a180786b69acc140d282b71a49"
   }
  }
 },
 "nbformat": 4,
 "nbformat_minor": 1
}
