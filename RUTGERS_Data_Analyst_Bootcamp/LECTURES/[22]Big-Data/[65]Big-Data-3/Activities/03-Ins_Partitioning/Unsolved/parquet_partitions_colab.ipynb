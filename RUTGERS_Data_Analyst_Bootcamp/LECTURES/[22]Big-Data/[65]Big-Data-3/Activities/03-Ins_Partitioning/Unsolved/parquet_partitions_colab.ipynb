{
 "cells": [
  {
   "cell_type": "code",
   "execution_count": null,
   "metadata": {
    "id": "w1m9uEbLTfhq"
   },
   "outputs": [],
   "source": [
    "import os\n",
    "# Find the latest version of spark 3.x  from http://www.apache.org/dist/spark/ and enter as the spark version\n",
    "# For example:\n",
    "# spark_version = 'spark-3.4.0'\n",
    "spark_version = 'spark-3.4.0'\n",
    "os.environ['SPARK_VERSION']=spark_version\n",
    "\n",
    "# Install Spark and Java\n",
    "!apt-get update\n",
    "!apt-get install openjdk-11-jdk-headless -qq > /dev/null\n",
    "!wget -q http://www.apache.org/dist/spark/$SPARK_VERSION/$SPARK_VERSION-bin-hadoop3.tgz\n",
    "!tar xf $SPARK_VERSION-bin-hadoop3.tgz\n",
    "!pip install -q findspark\n",
    "\n",
    "# Set Environment Variables\n",
    "os.environ[\"JAVA_HOME\"] = \"/usr/lib/jvm/java-11-openjdk-amd64\"\n",
    "os.environ[\"SPARK_HOME\"] = f\"/content/{spark_version}-bin-hadoop3\"\n",
    "\n",
    "# Start a SparkSession\n",
    "import findspark\n",
    "findspark.init()"
   ]
  },
  {
   "cell_type": "code",
   "execution_count": null,
   "metadata": {
    "id": "wdpzXrYLTgcq",
    "outputId": "d67ed0fb-a6af-493e-9317-c35ac7707798"
   },
   "outputs": [
    {
     "name": "stderr",
     "output_type": "stream",
     "text": [
      "Using Spark's default log4j profile: org/apache/spark/log4j-defaults.properties\n",
      "Setting default log level to \"WARN\".\n",
      "To adjust logging level use sc.setLogLevel(newLevel). For SparkR, use setLogLevel(newLevel).\n",
      "22/11/16 14:01:18 WARN NativeCodeLoader: Unable to load native-hadoop library for your platform... using builtin-java classes where applicable\n"
     ]
    }
   ],
   "source": [
    "# Import packages\n",
    "from pyspark.sql import SparkSession\n",
    "import time\n",
    "\n",
    "# Create a SparkSession\n",
    "spark = SparkSession.builder\\\n",
    "    .appName(\"SparkSQL\")\\\n",
    "    .config(\"spark.sql.debug.maxToStringFields\", 2000)\\\n",
    "    .config(\"spark.driver.memory\", \"2g\")\\\n",
    "    .getOrCreate()"
   ]
  },
  {
   "cell_type": "code",
   "execution_count": null,
   "metadata": {
    "colab": {
     "base_uri": "https://localhost:8080/"
    },
    "id": "SyGdKF4mTguN",
    "outputId": "3ce868d5-a38b-4b39-a569-1bc58966ab2a"
   },
   "outputs": [
    {
     "name": "stderr",
     "output_type": "stream",
     "text": [
      "                                                                                \r"
     ]
    },
    {
     "name": "stdout",
     "output_type": "stream",
     "text": [
      "+---+----+-----+----------+---------+-------+----------+-------+----------+-------------+---------+-------+-----------------+--------------+-------+--------+--------+------+----+--------+------+-------+---------+----------------+--------+------------+------------+--------+-------------+-----------------+\n",
      "| id|Year|Month|DayofMonth|DayOfWeek|DepTime|CRSDepTime|ArrTime|CRSArrTime|UniqueCarrier|FlightNum|TailNum|ActualElapsedTime|CRSElapsedTime|AirTime|ArrDelay|DepDelay|Origin|Dest|Distance|TaxiIn|TaxiOut|Cancelled|CancellationCode|Diverted|CarrierDelay|WeatherDelay|NASDelay|SecurityDelay|LateAircraftDelay|\n",
      "+---+----+-----+----------+---------+-------+----------+-------+----------+-------------+---------+-------+-----------------+--------------+-------+--------+--------+------+----+--------+------+-------+---------+----------------+--------+------------+------------+--------+-------------+-----------------+\n",
      "|  0|2008|    1|         3|        4|   2003|      1955|   2211|      2225|           WN|      335| N712SW|              128|           150|    116|     -14|       8|   IAD| TPA|     810|     4|      8|        0|               N|       0|        null|        null|    null|         null|             null|\n",
      "|  1|2008|    1|         3|        4|    754|       735|   1002|      1000|           WN|     3231| N772SW|              128|           145|    113|       2|      19|   IAD| TPA|     810|     5|     10|        0|               N|       0|        null|        null|    null|         null|             null|\n",
      "|  2|2008|    1|         3|        4|    628|       620|    804|       750|           WN|      448| N428WN|               96|            90|     76|      14|       8|   IND| BWI|     515|     3|     17|        0|               N|       0|        null|        null|    null|         null|             null|\n",
      "|  4|2008|    1|         3|        4|   1829|      1755|   1959|      1925|           WN|     3920| N464WN|               90|            90|     77|      34|      34|   IND| BWI|     515|     3|     10|        0|               N|       0|           2|           0|       0|            0|               32|\n",
      "|  5|2008|    1|         3|        4|   1940|      1915|   2121|      2110|           WN|      378| N726SW|              101|           115|     87|      11|      25|   IND| JAX|     688|     4|     10|        0|               N|       0|        null|        null|    null|         null|             null|\n",
      "|  6|2008|    1|         3|        4|   1937|      1830|   2037|      1940|           WN|      509| N763SW|              240|           250|    230|      57|      67|   IND| LAS|    1591|     3|      7|        0|               N|       0|          10|           0|       0|            0|               47|\n",
      "| 10|2008|    1|         3|        4|    706|       700|    916|       915|           WN|      100| N690SW|              130|           135|    106|       1|       6|   IND| MCO|     828|     5|     19|        0|               N|       0|        null|        null|    null|         null|             null|\n",
      "| 11|2008|    1|         3|        4|   1644|      1510|   1845|      1725|           WN|     1333| N334SW|              121|           135|    107|      80|      94|   IND| MCO|     828|     6|      8|        0|               N|       0|           8|           0|       0|            0|               72|\n",
      "| 15|2008|    1|         3|        4|   1029|      1020|   1021|      1010|           WN|     2272| N263WN|               52|            50|     37|      11|       9|   IND| MDW|     162|     6|      9|        0|               N|       0|        null|        null|    null|         null|             null|\n",
      "| 16|2008|    1|         3|        4|   1452|      1425|   1640|      1625|           WN|      675| N286WN|              228|           240|    213|      15|      27|   IND| PHX|    1489|     7|      8|        0|               N|       0|           3|           0|       0|            0|               12|\n",
      "| 17|2008|    1|         3|        4|    754|       745|    940|       955|           WN|     1144| N778SW|              226|           250|    205|     -15|       9|   IND| PHX|    1489|     5|     16|        0|               N|       0|        null|        null|    null|         null|             null|\n",
      "| 18|2008|    1|         3|        4|   1323|      1255|   1526|      1510|           WN|        4| N674AA|              123|           135|    110|      16|      28|   IND| TPA|     838|     4|      9|        0|               N|       0|           0|           0|       0|            0|               16|\n",
      "| 19|2008|    1|         3|        4|   1416|      1325|   1512|      1435|           WN|       54| N643SW|               56|            70|     49|      37|      51|   ISP| BWI|     220|     2|      5|        0|               N|       0|          12|           0|       0|            0|               25|\n",
      "| 21|2008|    1|         3|        4|   1657|      1625|   1754|      1735|           WN|      623| N724SW|               57|            70|     47|      19|      32|   ISP| BWI|     220|     5|      5|        0|               N|       0|           7|           0|       0|            0|               12|\n",
      "| 22|2008|    1|         3|        4|   1900|      1840|   1956|      1950|           WN|      717| N786SW|               56|            70|     49|       6|      20|   ISP| BWI|     220|     2|      5|        0|               N|       0|        null|        null|    null|         null|             null|\n",
      "| 23|2008|    1|         3|        4|   1039|      1030|   1133|      1140|           WN|     1244| N714CB|               54|            70|     47|      -7|       9|   ISP| BWI|     220|     2|      5|        0|               N|       0|        null|        null|    null|         null|             null|\n",
      "| 25|2008|    1|         3|        4|   1520|      1455|   1619|      1605|           WN|     2553| N394SW|               59|            70|     50|      14|      25|   ISP| BWI|     220|     2|      7|        0|               N|       0|        null|        null|    null|         null|             null|\n",
      "| 26|2008|    1|         3|        4|   1422|      1255|   1657|      1610|           WN|      188| N215WN|              155|           195|    143|      47|      87|   ISP| FLL|    1093|     6|      6|        0|               N|       0|          40|           0|       0|            0|                7|\n",
      "| 27|2008|    1|         3|        4|   1954|      1925|   2239|      2235|           WN|     1754| N243WN|              165|           190|    155|       4|      29|   ISP| FLL|    1093|     3|      7|        0|               N|       0|        null|        null|    null|         null|             null|\n",
      "| 30|2008|    1|         3|        4|   2107|      1945|   2334|      2230|           WN|      362| N798SW|              147|           165|    134|      64|      82|   ISP| MCO|     972|     6|      7|        0|               N|       0|           5|           0|       0|            0|               59|\n",
      "+---+----+-----+----------+---------+-------+----------+-------+----------+-------------+---------+-------+-----------------+--------------+-------+--------+--------+------+----+--------+------+-------+---------+----------------+--------+------------+------------+--------+-------------+-----------------+\n",
      "only showing top 20 rows\n",
      "\n"
     ]
    }
   ],
   "source": [
    "# Read in data from S3 Bucket\n",
    "from pyspark import SparkFiles\n",
    "url = \"https://2u-data-curriculum-team.s3.amazonaws.com/dataviz-classroom/v1.2/22-big-data/3/DelayedFlights.csv\"\n",
    "spark.sparkContext.addFile(url)\n",
    "df = spark.read.csv(SparkFiles.get(\"DelayedFlights.csv\"), sep=\",\", header=True)\n",
    "df.show()"
   ]
  },
  {
   "cell_type": "code",
   "execution_count": null,
   "metadata": {
    "id": "HpggJrEFzX1K"
   },
   "outputs": [],
   "source": [
    "# Create a temporary view\n"
   ]
  },
  {
   "cell_type": "code",
   "execution_count": null,
   "metadata": {
    "colab": {
     "base_uri": "https://localhost:8080/"
    },
    "id": "daHsHUbSTzaj",
    "outputId": "e8dff404-644c-402e-b702-b1ebd8bbfa5b"
   },
   "outputs": [
    {
     "name": "stderr",
     "output_type": "stream",
     "text": [
      "\r\n",
      "[Stage 5:=======>                                                   (1 + 7) / 8]\r"
     ]
    },
    {
     "name": "stdout",
     "output_type": "stream",
     "text": [
      "+-------------+-------------------+--------+\n",
      "|UniqueCarrier|sum(CRSElapsedTime)|count(1)|\n",
      "+-------------+-------------------+--------+\n",
      "|           UA|        1.3998834E7|   82022|\n",
      "|           NW|          6761017.0|   48410|\n",
      "|           EV|          4284049.0|   42782|\n",
      "|           DL|          8245701.0|   48888|\n",
      "|           OO|          6883377.0|   73680|\n",
      "|           F9|          2338358.0|   16006|\n",
      "|           YV|          3216400.0|   34890|\n",
      "|           US|          8759953.0|   53873|\n",
      "|           MQ|          7710479.0|   82505|\n",
      "|           OH|          3318613.0|   29152|\n",
      "|           HA|           345580.0|    2597|\n",
      "|           XE|          7386620.0|   62539|\n",
      "|           FL|          4807695.0|   37201|\n",
      "|           WN|        2.4182455E7|  214624|\n",
      "|           AA|        1.7721836E7|  103120|\n",
      "|           B6|          4169064.0|   22868|\n",
      "|           AQ|            99698.0|     750|\n",
      "|           AS|          2527656.0|   16553|\n",
      "|           CO|          8693653.0|   44282|\n",
      "|           9E|          3255692.0|   31833|\n",
      "+-------------+-------------------+--------+\n",
      "\n",
      "--- 1.0277519226074219 seconds ---\n"
     ]
    },
    {
     "name": "stderr",
     "output_type": "stream",
     "text": [
      "\r\n",
      "[Stage 5:===================================================>       (7 + 1) / 8]\r\n",
      "\r\n",
      "                                                                                \r"
     ]
    }
   ],
   "source": [
    "# Run a sql query that groups the data on UniqueCarrier\n",
    "# note the time functions will track the time it takes to load and run the data\n",
    "# we are only interested in the time it take to run so run this cell twice.\n",
    "start_time = time.time()\n",
    "\n",
    "\n",
    "\n",
    "print(\"--- %s seconds ---\" % (time.time() - start_time))"
   ]
  },
  {
   "cell_type": "code",
   "execution_count": null,
   "metadata": {
    "id": "EVQQPzgiUgTg",
    "outputId": "8c6663c7-8421-40a4-f483-87b88a531ef1"
   },
   "outputs": [
    {
     "name": "stderr",
     "output_type": "stream",
     "text": [
      "                                                                                \r"
     ]
    }
   ],
   "source": [
    "# Write out the data in parquet format\n"
   ]
  },
  {
   "cell_type": "code",
   "execution_count": null,
   "metadata": {
    "id": "1fjWZBkMUuIQ"
   },
   "outputs": [],
   "source": [
    "# Read in our new parquet formatted data\n"
   ]
  },
  {
   "cell_type": "code",
   "execution_count": null,
   "metadata": {
    "id": "O9Vj-1tAVMxZ"
   },
   "outputs": [],
   "source": [
    "# A parquet formatted DataFrame has all the same methods as a row-based dataframe\n",
    "# We can convert the dataframe to a view.\n"
   ]
  },
  {
   "cell_type": "code",
   "execution_count": null,
   "metadata": {
    "colab": {
     "base_uri": "https://localhost:8080/"
    },
    "id": "W1upPNu4VFnm",
    "outputId": "225dd903-e8be-4818-90ba-30c443f2c4ec"
   },
   "outputs": [
    {
     "name": "stdout",
     "output_type": "stream",
     "text": [
      "+-------------+--------+\n",
      "|UniqueCarrier|count(1)|\n",
      "+-------------+--------+\n",
      "|           UA|   82022|\n",
      "|           AA|  103120|\n",
      "|           NW|   48410|\n",
      "|           EV|   42782|\n",
      "|           B6|   22868|\n",
      "|           DL|   48888|\n",
      "|           OO|   73680|\n",
      "|           F9|   16006|\n",
      "|           YV|   34890|\n",
      "|           US|   53873|\n",
      "|           OH|   29152|\n",
      "|           XE|   62539|\n",
      "|           AS|   16553|\n",
      "|           CO|   44282|\n",
      "|           WN|  214624|\n",
      "|           9E|   31833|\n",
      "|           MQ|   82505|\n",
      "|           HA|    2597|\n",
      "|           FL|   37201|\n",
      "|           AQ|     750|\n",
      "+-------------+--------+\n",
      "\n",
      "--- 0.2640209197998047 seconds ---\n"
     ]
    }
   ],
   "source": [
    "start_time = time.time()\n",
    "\n",
    "\n",
    "\n",
    "print(\"--- %s seconds ---\" % (time.time() - start_time))"
   ]
  },
  {
   "cell_type": "code",
   "execution_count": null,
   "metadata": {
    "colab": {
     "base_uri": "https://localhost:8080/"
    },
    "id": "1_gD0-7QW7Sm",
    "outputId": "6b92c266-54de-4fe1-f420-813d1ffb0199"
   },
   "outputs": [
    {
     "name": "stdout",
     "output_type": "stream",
     "text": [
      "+-------------+-------------------+--------+\n",
      "|UniqueCarrier|sum(CRSElapsedTime)|count(1)|\n",
      "+-------------+-------------------+--------+\n",
      "|           UA|        1.3998834E7|   82022|\n",
      "|           AA|        1.7721836E7|  103120|\n",
      "|           NW|          6761017.0|   48410|\n",
      "|           EV|          4284049.0|   42782|\n",
      "|           B6|          4169064.0|   22868|\n",
      "|           DL|          8245701.0|   48888|\n",
      "|           OO|          6883377.0|   73680|\n",
      "|           F9|          2338358.0|   16006|\n",
      "|           YV|          3216400.0|   34890|\n",
      "|           US|          8759953.0|   53873|\n",
      "|           OH|          3318613.0|   29152|\n",
      "|           XE|          7386620.0|   62539|\n",
      "|           AS|          2527656.0|   16553|\n",
      "|           CO|          8693653.0|   44282|\n",
      "|           WN|        2.4182455E7|  214624|\n",
      "|           9E|          3255692.0|   31833|\n",
      "|           MQ|          7710479.0|   82505|\n",
      "|           HA|           345580.0|    2597|\n",
      "|           FL|          4807695.0|   37201|\n",
      "|           AQ|            99698.0|     750|\n",
      "+-------------+-------------------+--------+\n",
      "\n",
      "--- 0.27622318267822266 seconds ---\n"
     ]
    }
   ],
   "source": [
    "# Here is another sample\n",
    "start_time = time.time()\n",
    "\n",
    "\n",
    "print(\"--- %s seconds ---\" % (time.time() - start_time))"
   ]
  },
  {
   "cell_type": "code",
   "execution_count": null,
   "metadata": {
    "id": "RxtycEtOVQrZ",
    "outputId": "d134eb71-d49d-4e6f-f3f0-e3aae4d4a118"
   },
   "outputs": [
    {
     "name": "stderr",
     "output_type": "stream",
     "text": [
      "                                                                                \r"
     ]
    }
   ],
   "source": [
    "# Partition our data by UniqueCarrier\n"
   ]
  },
  {
   "cell_type": "code",
   "execution_count": null,
   "metadata": {
    "id": "TMpsNLamXM9N"
   },
   "outputs": [],
   "source": [
    "# Read in our new parquet formatted data\n"
   ]
  },
  {
   "cell_type": "code",
   "execution_count": null,
   "metadata": {
    "id": "KX3wglAtWEbI"
   },
   "outputs": [],
   "source": [
    "# Convert the DataFrame to a view.\n"
   ]
  },
  {
   "cell_type": "code",
   "execution_count": null,
   "metadata": {
    "colab": {
     "base_uri": "https://localhost:8080/"
    },
    "id": "LOR5HfhRVzmG",
    "outputId": "12a27bce-605a-4356-b4da-5c6ec1cb39b6"
   },
   "outputs": [
    {
     "name": "stdout",
     "output_type": "stream",
     "text": [
      "+-------------+--------+\n",
      "|UniqueCarrier|count(1)|\n",
      "+-------------+--------+\n",
      "|           UA|   82022|\n",
      "|           AA|  103120|\n",
      "|           OO|   73680|\n",
      "|           WN|  214624|\n",
      "|           MQ|   82505|\n",
      "|           XE|   62539|\n",
      "|           NW|   48410|\n",
      "|           DL|   48888|\n",
      "|           US|   53873|\n",
      "|           CO|   44282|\n",
      "|           EV|   42782|\n",
      "|           YV|   34890|\n",
      "|           FL|   37201|\n",
      "|           9E|   31833|\n",
      "|           B6|   22868|\n",
      "|           OH|   29152|\n",
      "|           AS|   16553|\n",
      "|           F9|   16006|\n",
      "|           AQ|     750|\n",
      "|           HA|    2597|\n",
      "+-------------+--------+\n",
      "\n",
      "--- 0.3317570686340332 seconds ---\n"
     ]
    }
   ],
   "source": [
    "# Query the partitioned data on the Partition key.\n",
    "start_time = time.time()\n",
    "\n",
    "\n",
    "\n",
    "print(\"--- %s seconds ---\" % (time.time() - start_time))"
   ]
  },
  {
   "cell_type": "code",
   "execution_count": null,
   "metadata": {
    "colab": {
     "base_uri": "https://localhost:8080/"
    },
    "id": "SCGlK9xOXd6_",
    "outputId": "df80abef-4da0-45b0-d45c-bd15e88e12fc"
   },
   "outputs": [
    {
     "name": "stdout",
     "output_type": "stream",
     "text": [
      "+-------------+-------------------+\n",
      "|UniqueCarrier|sum(CRSElapsedTime)|\n",
      "+-------------+-------------------+\n",
      "|           UA|        1.3998834E7|\n",
      "|           AA|        1.7721836E7|\n",
      "|           OO|          6883377.0|\n",
      "|           WN|        2.4182455E7|\n",
      "|           MQ|          7710479.0|\n",
      "|           XE|          7386620.0|\n",
      "|           NW|          6761017.0|\n",
      "|           DL|          8245701.0|\n",
      "|           US|          8759953.0|\n",
      "|           CO|          8693653.0|\n",
      "|           EV|          4284049.0|\n",
      "|           YV|          3216400.0|\n",
      "|           FL|          4807695.0|\n",
      "|           9E|          3255692.0|\n",
      "|           B6|          4169064.0|\n",
      "|           OH|          3318613.0|\n",
      "|           AS|          2527656.0|\n",
      "|           F9|          2338358.0|\n",
      "|           AQ|            99698.0|\n",
      "|           HA|           345580.0|\n",
      "+-------------+-------------------+\n",
      "\n",
      "--- 0.46139001846313477 seconds ---\n"
     ]
    }
   ],
   "source": [
    "# Grouping by partition key and aggregating data.\n",
    "start_time = time.time()\n",
    "\n",
    "\n",
    "\n",
    "print(\"--- %s seconds ---\" % (time.time() - start_time))"
   ]
  },
  {
   "cell_type": "code",
   "execution_count": null,
   "metadata": {
    "colab": {
     "base_uri": "https://localhost:8080/"
    },
    "id": "bvYRnpLGWJ_-",
    "outputId": "c0b36093-0f2a-4e51-d5ad-664d5064d097"
   },
   "outputs": [
    {
     "name": "stdout",
     "output_type": "stream",
     "text": [
      "+-------------+-------------+\n",
      "|UniqueCarrier|total_delayed|\n",
      "+-------------+-------------+\n",
      "|           US|    2077273.0|\n",
      "+-------------+-------------+\n",
      "\n",
      "--- 0.20259594917297363 seconds ---\n"
     ]
    }
   ],
   "source": [
    "# Another query filtering on the key.\n",
    "start_time = time.time()\n",
    "\n",
    "\n",
    "print(\"--- %s seconds ---\" % (time.time() - start_time))"
   ]
  },
  {
   "cell_type": "code",
   "execution_count": null,
   "metadata": {
    "colab": {
     "base_uri": "https://localhost:8080/"
    },
    "id": "KoDXPqfaWmsd",
    "outputId": "12dc98c1-18e3-4164-d7c3-a393d5a3499c"
   },
   "outputs": [
    {
     "name": "stdout",
     "output_type": "stream",
     "text": [
      "+-------------+-------------+\n",
      "|UniqueCarrier|total_delayed|\n",
      "+-------------+-------------+\n",
      "|           US|    2077273.0|\n",
      "+-------------+-------------+\n",
      "\n",
      "--- 0.3114919662475586 seconds ---\n"
     ]
    }
   ],
   "source": [
    "# Same query as above against the parquet (non-partitioned) data.\n",
    "start_time = time.time()\n",
    "\n",
    "\n",
    "\n",
    "print(\"--- %s seconds ---\" % (time.time() - start_time))"
   ]
  },
  {
   "cell_type": "code",
   "execution_count": null,
   "metadata": {
    "colab": {
     "base_uri": "https://localhost:8080/"
    },
    "id": "w1LbeemvWsRa",
    "outputId": "2037bd17-368f-4f13-850a-5fea354b57cb"
   },
   "outputs": [
    {
     "name": "stdout",
     "output_type": "stream",
     "text": [
      "+-------------+-------+\n",
      "|UniqueCarrier|TailNum|\n",
      "+-------------+-------+\n",
      "|           WN| N712SW|\n",
      "+-------------+-------+\n",
      "\n",
      "--- 0.24602293968200684 seconds ---\n"
     ]
    }
   ],
   "source": [
    "# Here is a query that doesn't use the partition key at all (against the parquet data)\n",
    "start_time = time.time()\n",
    "\n",
    "\n",
    "print(\"--- %s seconds ---\" % (time.time() - start_time))"
   ]
  },
  {
   "cell_type": "code",
   "execution_count": null,
   "metadata": {
    "colab": {
     "base_uri": "https://localhost:8080/"
    },
    "id": "e3wGOJK3Xrnu",
    "outputId": "cd9e090c-a449-43fb-ead2-7a4785f1c4d8"
   },
   "outputs": [
    {
     "name": "stdout",
     "output_type": "stream",
     "text": [
      "+-------------+-------+\n",
      "|UniqueCarrier|TailNum|\n",
      "+-------------+-------+\n",
      "|           WN| N712SW|\n",
      "+-------------+-------+\n",
      "\n",
      "--- 0.3094189167022705 seconds ---\n"
     ]
    }
   ],
   "source": [
    "# Here is a query that doesn't use the partition key at all (against the partitioned parquet data)\n",
    "start_time = time.time()\n",
    "\n",
    "\n",
    "print(\"--- %s seconds ---\" % (time.time() - start_time))"
   ]
  },
  {
   "cell_type": "code",
   "execution_count": null,
   "metadata": {
    "id": "oAzeQbNh4Ff3"
   },
   "outputs": [],
   "source": []
  }
 ],
 "metadata": {
  "colab": {
   "provenance": []
  },
  "kernelspec": {
   "display_name": "Python 3 (ipykernel)",
   "language": "python",
   "name": "python3"
  },
  "language_info": {
   "codemirror_mode": {
    "name": "ipython",
    "version": 3
   },
   "file_extension": ".py",
   "mimetype": "text/x-python",
   "name": "python",
   "nbconvert_exporter": "python",
   "pygments_lexer": "ipython3",
   "version": "3.10.4"
  }
 },
 "nbformat": 4,
 "nbformat_minor": 1
}
