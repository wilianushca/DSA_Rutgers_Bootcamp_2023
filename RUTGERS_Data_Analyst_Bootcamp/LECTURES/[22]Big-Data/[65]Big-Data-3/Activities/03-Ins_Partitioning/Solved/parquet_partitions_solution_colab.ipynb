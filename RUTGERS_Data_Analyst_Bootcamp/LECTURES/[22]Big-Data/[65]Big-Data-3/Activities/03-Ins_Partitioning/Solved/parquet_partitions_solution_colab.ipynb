{
 "cells": [
  {
   "cell_type": "code",
   "execution_count": 1,
   "metadata": {
    "colab": {
     "base_uri": "https://localhost:8080/"
    },
    "id": "w1m9uEbLTfhq",
    "outputId": "c7cb1b30-2e8e-4c17-cc5e-579ce992a55b"
   },
   "outputs": [
    {
     "name": "stdout",
     "output_type": "stream",
     "text": [
      "\r",
      "0% [Working]\r",
      "            \r",
      "Get:1 https://cloud.r-project.org/bin/linux/ubuntu focal-cran40/ InRelease [3,622 B]\n",
      "\r",
      "0% [Connecting to archive.ubuntu.com (185.125.190.36)] [Waiting for headers] [1\r",
      "0% [Connecting to archive.ubuntu.com (185.125.190.36)] [Waiting for headers] [W\r",
      "                                                                               \r",
      "Get:2 http://security.ubuntu.com/ubuntu focal-security InRelease [114 kB]\n",
      "\r",
      "0% [Connecting to archive.ubuntu.com (185.125.190.36)] [2 InRelease 8,380 B/114\r",
      "                                                                               \r",
      "Ign:3 https://developer.download.nvidia.com/compute/machine-learning/repos/ubuntu2004/x86_64  InRelease\n",
      "\r",
      "0% [Connecting to archive.ubuntu.com (185.125.190.36)] [2 InRelease 14.2 kB/114\r",
      "                                                                               \r",
      "Hit:4 https://developer.download.nvidia.com/compute/cuda/repos/ubuntu2004/x86_64  InRelease\n",
      "Hit:5 https://developer.download.nvidia.com/compute/machine-learning/repos/ubuntu2004/x86_64  Release\n",
      "Get:6 http://ppa.launchpad.net/c2d4u.team/c2d4u4.0+/ubuntu focal InRelease [18.1 kB]\n",
      "Hit:7 http://archive.ubuntu.com/ubuntu focal InRelease\n",
      "Get:8 http://archive.ubuntu.com/ubuntu focal-updates InRelease [114 kB]\n",
      "Hit:9 http://ppa.launchpad.net/cran/libgit2/ubuntu focal InRelease\n",
      "Get:10 http://ppa.launchpad.net/deadsnakes/ppa/ubuntu focal InRelease [18.1 kB]\n",
      "Get:11 http://archive.ubuntu.com/ubuntu focal-backports InRelease [108 kB]\n",
      "Hit:12 http://ppa.launchpad.net/graphics-drivers/ppa/ubuntu focal InRelease\n",
      "Get:14 http://security.ubuntu.com/ubuntu focal-security/main amd64 Packages [2,442 kB]\n",
      "Get:15 http://security.ubuntu.com/ubuntu focal-security/universe amd64 Packages [988 kB]\n",
      "Get:16 http://ppa.launchpad.net/c2d4u.team/c2d4u4.0+/ubuntu focal/main Sources [2,381 kB]\n",
      "Get:17 http://ppa.launchpad.net/c2d4u.team/c2d4u4.0+/ubuntu focal/main amd64 Packages [1,127 kB]\n",
      "Get:18 http://archive.ubuntu.com/ubuntu focal-updates/main amd64 Packages [2,920 kB]\n",
      "Get:19 http://archive.ubuntu.com/ubuntu focal-updates/universe amd64 Packages [1,290 kB]\n",
      "Get:20 http://ppa.launchpad.net/deadsnakes/ppa/ubuntu focal/main amd64 Packages [29.5 kB]\n",
      "Fetched 11.6 MB in 11s (1,045 kB/s)\n",
      "Reading package lists... Done\n"
     ]
    }
   ],
   "source": [
    "import os\n",
    "# Find the latest version of spark 3.x  from http://www.apache.org/dist/spark/ and enter as the spark version\n",
    "# For example:\n",
    "# spark_version = 'spark-3.4.0'\n",
    "spark_version = 'spark-3.4.0'\n",
    "os.environ['SPARK_VERSION']=spark_version\n",
    "\n",
    "# Install Spark and Java\n",
    "!apt-get update\n",
    "!apt-get install openjdk-11-jdk-headless -qq > /dev/null\n",
    "!wget -q http://www.apache.org/dist/spark/$SPARK_VERSION/$SPARK_VERSION-bin-hadoop3.tgz\n",
    "!tar xf $SPARK_VERSION-bin-hadoop3.tgz\n",
    "!pip install -q findspark\n",
    "\n",
    "# Set Environment Variables\n",
    "os.environ[\"JAVA_HOME\"] = \"/usr/lib/jvm/java-11-openjdk-amd64\"\n",
    "os.environ[\"SPARK_HOME\"] = f\"/content/{spark_version}-bin-hadoop3\"\n",
    "\n",
    "# Start a SparkSession\n",
    "import findspark\n",
    "findspark.init()"
   ]
  },
  {
   "cell_type": "code",
   "execution_count": 2,
   "metadata": {
    "id": "wdpzXrYLTgcq"
   },
   "outputs": [],
   "source": [
    "# Import packages\n",
    "from pyspark.sql import SparkSession\n",
    "import time\n",
    "\n",
    "# Create a SparkSession\n",
    "spark = SparkSession.builder\\\n",
    "    .appName(\"SparkSQL\")\\\n",
    "    .config(\"spark.sql.debug.maxToStringFields\", 2000)\\\n",
    "    .config(\"spark.driver.memory\", \"2g\")\\\n",
    "    .getOrCreate()"
   ]
  },
  {
   "cell_type": "code",
   "execution_count": 3,
   "metadata": {
    "colab": {
     "base_uri": "https://localhost:8080/"
    },
    "id": "SyGdKF4mTguN",
    "outputId": "e842126c-96a2-43ca-f518-cc33df373d70"
   },
   "outputs": [
    {
     "name": "stdout",
     "output_type": "stream",
     "text": [
      "+---+----+-----+----------+---------+-------+----------+-------+----------+-------------+---------+-------+-----------------+--------------+-------+--------+--------+------+----+--------+------+-------+---------+----------------+--------+------------+------------+--------+-------------+-----------------+\n",
      "| id|Year|Month|DayofMonth|DayOfWeek|DepTime|CRSDepTime|ArrTime|CRSArrTime|UniqueCarrier|FlightNum|TailNum|ActualElapsedTime|CRSElapsedTime|AirTime|ArrDelay|DepDelay|Origin|Dest|Distance|TaxiIn|TaxiOut|Cancelled|CancellationCode|Diverted|CarrierDelay|WeatherDelay|NASDelay|SecurityDelay|LateAircraftDelay|\n",
      "+---+----+-----+----------+---------+-------+----------+-------+----------+-------------+---------+-------+-----------------+--------------+-------+--------+--------+------+----+--------+------+-------+---------+----------------+--------+------------+------------+--------+-------------+-----------------+\n",
      "|  0|2008|    1|         3|        4|   2003|      1955|   2211|      2225|           WN|      335| N712SW|              128|           150|    116|     -14|       8|   IAD| TPA|     810|     4|      8|        0|               N|       0|        null|        null|    null|         null|             null|\n",
      "|  1|2008|    1|         3|        4|    754|       735|   1002|      1000|           WN|     3231| N772SW|              128|           145|    113|       2|      19|   IAD| TPA|     810|     5|     10|        0|               N|       0|        null|        null|    null|         null|             null|\n",
      "|  2|2008|    1|         3|        4|    628|       620|    804|       750|           WN|      448| N428WN|               96|            90|     76|      14|       8|   IND| BWI|     515|     3|     17|        0|               N|       0|        null|        null|    null|         null|             null|\n",
      "|  4|2008|    1|         3|        4|   1829|      1755|   1959|      1925|           WN|     3920| N464WN|               90|            90|     77|      34|      34|   IND| BWI|     515|     3|     10|        0|               N|       0|           2|           0|       0|            0|               32|\n",
      "|  5|2008|    1|         3|        4|   1940|      1915|   2121|      2110|           WN|      378| N726SW|              101|           115|     87|      11|      25|   IND| JAX|     688|     4|     10|        0|               N|       0|        null|        null|    null|         null|             null|\n",
      "|  6|2008|    1|         3|        4|   1937|      1830|   2037|      1940|           WN|      509| N763SW|              240|           250|    230|      57|      67|   IND| LAS|    1591|     3|      7|        0|               N|       0|          10|           0|       0|            0|               47|\n",
      "| 10|2008|    1|         3|        4|    706|       700|    916|       915|           WN|      100| N690SW|              130|           135|    106|       1|       6|   IND| MCO|     828|     5|     19|        0|               N|       0|        null|        null|    null|         null|             null|\n",
      "| 11|2008|    1|         3|        4|   1644|      1510|   1845|      1725|           WN|     1333| N334SW|              121|           135|    107|      80|      94|   IND| MCO|     828|     6|      8|        0|               N|       0|           8|           0|       0|            0|               72|\n",
      "| 15|2008|    1|         3|        4|   1029|      1020|   1021|      1010|           WN|     2272| N263WN|               52|            50|     37|      11|       9|   IND| MDW|     162|     6|      9|        0|               N|       0|        null|        null|    null|         null|             null|\n",
      "| 16|2008|    1|         3|        4|   1452|      1425|   1640|      1625|           WN|      675| N286WN|              228|           240|    213|      15|      27|   IND| PHX|    1489|     7|      8|        0|               N|       0|           3|           0|       0|            0|               12|\n",
      "| 17|2008|    1|         3|        4|    754|       745|    940|       955|           WN|     1144| N778SW|              226|           250|    205|     -15|       9|   IND| PHX|    1489|     5|     16|        0|               N|       0|        null|        null|    null|         null|             null|\n",
      "| 18|2008|    1|         3|        4|   1323|      1255|   1526|      1510|           WN|        4| N674AA|              123|           135|    110|      16|      28|   IND| TPA|     838|     4|      9|        0|               N|       0|           0|           0|       0|            0|               16|\n",
      "| 19|2008|    1|         3|        4|   1416|      1325|   1512|      1435|           WN|       54| N643SW|               56|            70|     49|      37|      51|   ISP| BWI|     220|     2|      5|        0|               N|       0|          12|           0|       0|            0|               25|\n",
      "| 21|2008|    1|         3|        4|   1657|      1625|   1754|      1735|           WN|      623| N724SW|               57|            70|     47|      19|      32|   ISP| BWI|     220|     5|      5|        0|               N|       0|           7|           0|       0|            0|               12|\n",
      "| 22|2008|    1|         3|        4|   1900|      1840|   1956|      1950|           WN|      717| N786SW|               56|            70|     49|       6|      20|   ISP| BWI|     220|     2|      5|        0|               N|       0|        null|        null|    null|         null|             null|\n",
      "| 23|2008|    1|         3|        4|   1039|      1030|   1133|      1140|           WN|     1244| N714CB|               54|            70|     47|      -7|       9|   ISP| BWI|     220|     2|      5|        0|               N|       0|        null|        null|    null|         null|             null|\n",
      "| 25|2008|    1|         3|        4|   1520|      1455|   1619|      1605|           WN|     2553| N394SW|               59|            70|     50|      14|      25|   ISP| BWI|     220|     2|      7|        0|               N|       0|        null|        null|    null|         null|             null|\n",
      "| 26|2008|    1|         3|        4|   1422|      1255|   1657|      1610|           WN|      188| N215WN|              155|           195|    143|      47|      87|   ISP| FLL|    1093|     6|      6|        0|               N|       0|          40|           0|       0|            0|                7|\n",
      "| 27|2008|    1|         3|        4|   1954|      1925|   2239|      2235|           WN|     1754| N243WN|              165|           190|    155|       4|      29|   ISP| FLL|    1093|     3|      7|        0|               N|       0|        null|        null|    null|         null|             null|\n",
      "| 30|2008|    1|         3|        4|   2107|      1945|   2334|      2230|           WN|      362| N798SW|              147|           165|    134|      64|      82|   ISP| MCO|     972|     6|      7|        0|               N|       0|           5|           0|       0|            0|               59|\n",
      "+---+----+-----+----------+---------+-------+----------+-------+----------+-------------+---------+-------+-----------------+--------------+-------+--------+--------+------+----+--------+------+-------+---------+----------------+--------+------------+------------+--------+-------------+-----------------+\n",
      "only showing top 20 rows\n",
      "\n"
     ]
    }
   ],
   "source": [
    "# Read in data from S3 Bucket\n",
    "from pyspark import SparkFiles\n",
    "url = \"https://2u-data-curriculum-team.s3.amazonaws.com/dataviz-classroom/v1.2/22-big-data/3/DelayedFlights.csv\"\n",
    "spark.sparkContext.addFile(url)\n",
    "df = spark.read.csv(SparkFiles.get(\"DelayedFlights.csv\"), sep=\",\", header=True)\n",
    "df.show()"
   ]
  },
  {
   "cell_type": "code",
   "execution_count": 4,
   "metadata": {
    "id": "SDIRdbad1r2X"
   },
   "outputs": [],
   "source": [
    "# Create a temporary view\n",
    "df.createOrReplaceTempView('delays')"
   ]
  },
  {
   "cell_type": "code",
   "execution_count": 5,
   "metadata": {
    "colab": {
     "base_uri": "https://localhost:8080/"
    },
    "id": "daHsHUbSTzaj",
    "outputId": "d2b65757-9d8f-409d-91b2-6fc862a73a3b"
   },
   "outputs": [
    {
     "name": "stdout",
     "output_type": "stream",
     "text": [
      "+-------------+-------------------+--------+\n",
      "|UniqueCarrier|sum(CRSElapsedTime)|count(1)|\n",
      "+-------------+-------------------+--------+\n",
      "|           UA|        1.3998834E7|   82022|\n",
      "|           AA|        1.7721836E7|  103120|\n",
      "|           NW|          6761017.0|   48410|\n",
      "|           EV|          4284049.0|   42782|\n",
      "|           B6|          4169064.0|   22868|\n",
      "|           DL|          8245701.0|   48888|\n",
      "|           OO|          6883377.0|   73680|\n",
      "|           F9|          2338358.0|   16006|\n",
      "|           YV|          3216400.0|   34890|\n",
      "|           US|          8759953.0|   53873|\n",
      "|           AQ|            99698.0|     750|\n",
      "|           MQ|          7710479.0|   82505|\n",
      "|           OH|          3318613.0|   29152|\n",
      "|           HA|           345580.0|    2597|\n",
      "|           XE|          7386620.0|   62539|\n",
      "|           AS|          2527656.0|   16553|\n",
      "|           FL|          4807695.0|   37201|\n",
      "|           CO|          8693653.0|   44282|\n",
      "|           WN|        2.4182455E7|  214624|\n",
      "|           9E|          3255692.0|   31833|\n",
      "+-------------+-------------------+--------+\n",
      "\n",
      "--- 5.739180326461792 seconds ---\n"
     ]
    }
   ],
   "source": [
    "# Run a sql query that groups the data on UniqueCarrier\n",
    "# note the time functions will track the time it takes to load and run the data\n",
    "# we are only interested in the time it take to run so run this cell twice.\n",
    "start_time = time.time()\n",
    "\n",
    "spark.sql(\"\"\"select UniqueCarrier,sum(CRSElapsedTime), count(*) from delays group by 1\"\"\").show()\n",
    "\n",
    "print(\"--- %s seconds ---\" % (time.time() - start_time))"
   ]
  },
  {
   "cell_type": "code",
   "execution_count": 6,
   "metadata": {
    "id": "EVQQPzgiUgTg"
   },
   "outputs": [],
   "source": [
    "# Write out the data in parquet format\n",
    "df.write.parquet('parquet_delayed', mode='overwrite')"
   ]
  },
  {
   "cell_type": "code",
   "execution_count": 7,
   "metadata": {
    "id": "1fjWZBkMUuIQ"
   },
   "outputs": [],
   "source": [
    "# Read in our new parquet formatted data\n",
    "p_df=spark.read.parquet('parquet_delayed')"
   ]
  },
  {
   "cell_type": "code",
   "execution_count": 8,
   "metadata": {
    "id": "O9Vj-1tAVMxZ"
   },
   "outputs": [],
   "source": [
    "# A parquet formatted DataFrame has all the same methods as a row-based dataframe\n",
    "# We can convert the dataframe to a view.\n",
    "p_df.createOrReplaceTempView('p_delays')"
   ]
  },
  {
   "cell_type": "code",
   "execution_count": 9,
   "metadata": {
    "colab": {
     "base_uri": "https://localhost:8080/"
    },
    "id": "W1upPNu4VFnm",
    "outputId": "d79893de-c059-43e9-cf0c-d458f85181d5"
   },
   "outputs": [
    {
     "name": "stdout",
     "output_type": "stream",
     "text": [
      "+-------------+--------+\n",
      "|UniqueCarrier|count(1)|\n",
      "+-------------+--------+\n",
      "|           UA|   82022|\n",
      "|           AA|  103120|\n",
      "|           NW|   48410|\n",
      "|           EV|   42782|\n",
      "|           B6|   22868|\n",
      "|           DL|   48888|\n",
      "|           OO|   73680|\n",
      "|           F9|   16006|\n",
      "|           YV|   34890|\n",
      "|           US|   53873|\n",
      "|           AQ|     750|\n",
      "|           MQ|   82505|\n",
      "|           OH|   29152|\n",
      "|           HA|    2597|\n",
      "|           XE|   62539|\n",
      "|           AS|   16553|\n",
      "|           FL|   37201|\n",
      "|           CO|   44282|\n",
      "|           WN|  214624|\n",
      "|           9E|   31833|\n",
      "+-------------+--------+\n",
      "\n",
      "--- 1.7447712421417236 seconds ---\n"
     ]
    }
   ],
   "source": [
    "start_time = time.time()\n",
    "\n",
    "spark.sql(\"\"\"select UniqueCarrier, count(*) from p_delays group by 1\"\"\").show()\n",
    "\n",
    "print(\"--- %s seconds ---\" % (time.time() - start_time))"
   ]
  },
  {
   "cell_type": "code",
   "execution_count": 10,
   "metadata": {
    "colab": {
     "base_uri": "https://localhost:8080/"
    },
    "id": "dYigWiix1_vm",
    "outputId": "9a18feeb-11e8-4691-d6e0-4fd5b2d8493f"
   },
   "outputs": [
    {
     "name": "stdout",
     "output_type": "stream",
     "text": [
      "+-------------+-------------------+--------+\n",
      "|UniqueCarrier|sum(CRSElapsedTime)|count(1)|\n",
      "+-------------+-------------------+--------+\n",
      "|           UA|        1.3998834E7|   82022|\n",
      "|           AA|        1.7721836E7|  103120|\n",
      "|           NW|          6761017.0|   48410|\n",
      "|           EV|          4284049.0|   42782|\n",
      "|           B6|          4169064.0|   22868|\n",
      "|           DL|          8245701.0|   48888|\n",
      "|           OO|          6883377.0|   73680|\n",
      "|           F9|          2338358.0|   16006|\n",
      "|           YV|          3216400.0|   34890|\n",
      "|           US|          8759953.0|   53873|\n",
      "|           AQ|            99698.0|     750|\n",
      "|           MQ|          7710479.0|   82505|\n",
      "|           OH|          3318613.0|   29152|\n",
      "|           HA|           345580.0|    2597|\n",
      "|           XE|          7386620.0|   62539|\n",
      "|           AS|          2527656.0|   16553|\n",
      "|           FL|          4807695.0|   37201|\n",
      "|           CO|          8693653.0|   44282|\n",
      "|           WN|        2.4182455E7|  214624|\n",
      "|           9E|          3255692.0|   31833|\n",
      "+-------------+-------------------+--------+\n",
      "\n",
      "--- 2.0337612628936768 seconds ---\n"
     ]
    }
   ],
   "source": [
    "# Here is another sample\n",
    "start_time = time.time()\n",
    "\n",
    "spark.sql(\"\"\"select UniqueCarrier,sum(CRSElapsedTime), count(*) from p_delays group by 1\"\"\").show()\n",
    "\n",
    "print(\"--- %s seconds ---\" % (time.time() - start_time))"
   ]
  },
  {
   "cell_type": "code",
   "execution_count": 11,
   "metadata": {
    "id": "RxtycEtOVQrZ"
   },
   "outputs": [],
   "source": [
    "# Partition our data by UniqueCarrier\n",
    "df.write.partitionBy(\"UniqueCarrier\").mode(\"overwrite\").parquet(\"delayed_partitioned\")"
   ]
  },
  {
   "cell_type": "code",
   "execution_count": 12,
   "metadata": {
    "id": "TMpsNLamXM9N"
   },
   "outputs": [],
   "source": [
    "# Read in our new parquet formatted data\n",
    "p_df_p=spark.read.parquet('delayed_partitioned')"
   ]
  },
  {
   "cell_type": "code",
   "execution_count": 13,
   "metadata": {
    "id": "KX3wglAtWEbI"
   },
   "outputs": [],
   "source": [
    "# Convert the DataFrame to a view.\n",
    "p_df_p.createOrReplaceTempView('p_delays_p')"
   ]
  },
  {
   "cell_type": "code",
   "execution_count": 14,
   "metadata": {
    "colab": {
     "base_uri": "https://localhost:8080/"
    },
    "id": "LOR5HfhRVzmG",
    "outputId": "a18fa340-3cab-4741-e4a1-0e03f98a7c0b"
   },
   "outputs": [
    {
     "name": "stdout",
     "output_type": "stream",
     "text": [
      "+-------------+--------+\n",
      "|UniqueCarrier|count(1)|\n",
      "+-------------+--------+\n",
      "|           UA|   82022|\n",
      "|           AA|  103120|\n",
      "|           NW|   48410|\n",
      "|           DL|   48888|\n",
      "|           OO|   73680|\n",
      "|           US|   53873|\n",
      "|           MQ|   82505|\n",
      "|           XE|   62539|\n",
      "|           CO|   44282|\n",
      "|           WN|  214624|\n",
      "|           EV|   42782|\n",
      "|           B6|   22868|\n",
      "|           F9|   16006|\n",
      "|           YV|   34890|\n",
      "|           AQ|     750|\n",
      "|           OH|   29152|\n",
      "|           HA|    2597|\n",
      "|           AS|   16553|\n",
      "|           FL|   37201|\n",
      "|           9E|   31833|\n",
      "+-------------+--------+\n",
      "\n",
      "--- 1.2399756908416748 seconds ---\n"
     ]
    }
   ],
   "source": [
    "# Query the partitioned data on the Partition key.\n",
    "start_time = time.time()\n",
    "\n",
    "spark.sql(\"\"\"select UniqueCarrier, count(*) from p_delays_p group by 1\"\"\").show()\n",
    "\n",
    "print(\"--- %s seconds ---\" % (time.time() - start_time))"
   ]
  },
  {
   "cell_type": "code",
   "execution_count": 15,
   "metadata": {
    "colab": {
     "base_uri": "https://localhost:8080/"
    },
    "id": "w1LbeemvWsRa",
    "outputId": "6a2c7fe3-eb6f-4808-e279-1f293522acea"
   },
   "outputs": [
    {
     "name": "stdout",
     "output_type": "stream",
     "text": [
      "+-------------+-------------------+\n",
      "|UniqueCarrier|sum(CRSElapsedTime)|\n",
      "+-------------+-------------------+\n",
      "|           UA|        1.3998834E7|\n",
      "|           AA|        1.7721836E7|\n",
      "|           NW|          6761017.0|\n",
      "|           DL|          8245701.0|\n",
      "|           OO|          6883377.0|\n",
      "|           US|          8759953.0|\n",
      "|           MQ|          7710479.0|\n",
      "|           XE|          7386620.0|\n",
      "|           CO|          8693653.0|\n",
      "|           WN|        2.4182455E7|\n",
      "|           EV|          4284049.0|\n",
      "|           B6|          4169064.0|\n",
      "|           F9|          2338358.0|\n",
      "|           YV|          3216400.0|\n",
      "|           AQ|            99698.0|\n",
      "|           OH|          3318613.0|\n",
      "|           HA|           345580.0|\n",
      "|           AS|          2527656.0|\n",
      "|           FL|          4807695.0|\n",
      "|           9E|          3255692.0|\n",
      "+-------------+-------------------+\n",
      "\n",
      "--- 1.8216934204101562 seconds ---\n"
     ]
    }
   ],
   "source": [
    "# Grouping by partition key and aggregating data.\n",
    "start_time = time.time()\n",
    "\n",
    "spark.sql(\"\"\"select UniqueCarrier,sum(CRSElapsedTime) from p_delays_p group by 1\"\"\").show()\n",
    "\n",
    "print(\"--- %s seconds ---\" % (time.time() - start_time))"
   ]
  },
  {
   "cell_type": "code",
   "execution_count": 16,
   "metadata": {
    "colab": {
     "base_uri": "https://localhost:8080/"
    },
    "id": "e3wGOJK3Xrnu",
    "outputId": "fa0a7bfe-0723-49fd-8d3f-ad5fde71ea6d"
   },
   "outputs": [
    {
     "name": "stdout",
     "output_type": "stream",
     "text": [
      "+-------------+-------------+\n",
      "|UniqueCarrier|total_delayed|\n",
      "+-------------+-------------+\n",
      "|           US|    2077273.0|\n",
      "+-------------+-------------+\n",
      "\n",
      "--- 0.5609829425811768 seconds ---\n"
     ]
    }
   ],
   "source": [
    "# Another query filtering on the key.\n",
    "start_time = time.time()\n",
    "spark.sql(\"\"\"Select UniqueCarrier, sum(DepDelay) as total_delayed from p_delays_p where UniqueCarrier='US' group by 1\"\"\").show()\n",
    "print(\"--- %s seconds ---\" % (time.time() - start_time))"
   ]
  },
  {
   "cell_type": "code",
   "execution_count": 17,
   "metadata": {
    "colab": {
     "base_uri": "https://localhost:8080/"
    },
    "id": "FhBFOFWe2aEs",
    "outputId": "5ffe50a1-bd31-478b-d5d4-2761cfc1b2e4"
   },
   "outputs": [
    {
     "name": "stdout",
     "output_type": "stream",
     "text": [
      "+-------------+-------------+\n",
      "|UniqueCarrier|total_delayed|\n",
      "+-------------+-------------+\n",
      "|           US|    2077273.0|\n",
      "+-------------+-------------+\n",
      "\n",
      "--- 0.8344180583953857 seconds ---\n"
     ]
    }
   ],
   "source": [
    "# Same query as above against the parquet (non-partitioned) data.\n",
    "start_time = time.time()\n",
    "spark.sql(\"\"\"Select UniqueCarrier, sum(DepDelay) as total_delayed from p_delays where UniqueCarrier='US' group by 1\"\"\").show()\n",
    "print(\"--- %s seconds ---\" % (time.time() - start_time))"
   ]
  },
  {
   "cell_type": "code",
   "execution_count": 18,
   "metadata": {
    "colab": {
     "base_uri": "https://localhost:8080/"
    },
    "id": "xdQekaM02cX5",
    "outputId": "ccf566d7-52de-41a8-bdcb-73aebc6da2e0"
   },
   "outputs": [
    {
     "name": "stdout",
     "output_type": "stream",
     "text": [
      "+-------------+-------+\n",
      "|UniqueCarrier|TailNum|\n",
      "+-------------+-------+\n",
      "|           WN| N712SW|\n",
      "+-------------+-------+\n",
      "\n",
      "--- 0.8952834606170654 seconds ---\n"
     ]
    }
   ],
   "source": [
    "# Here is a query that doesn't use the partition key at all (against the parquet data)\n",
    "start_time = time.time()\n",
    "spark.sql(\"\"\"Select distinct UniqueCarrier, TailNum from p_delays where TailNum='N712SW' \"\"\").show()\n",
    "print(\"--- %s seconds ---\" % (time.time() - start_time))"
   ]
  },
  {
   "cell_type": "code",
   "execution_count": 19,
   "metadata": {
    "colab": {
     "base_uri": "https://localhost:8080/"
    },
    "id": "9FXXTzci2e5W",
    "outputId": "d43ca207-7baf-49e3-9ee0-b750ecca09c4"
   },
   "outputs": [
    {
     "name": "stdout",
     "output_type": "stream",
     "text": [
      "+-------------+-------+\n",
      "|UniqueCarrier|TailNum|\n",
      "+-------------+-------+\n",
      "|           WN| N712SW|\n",
      "+-------------+-------+\n",
      "\n",
      "--- 0.7348916530609131 seconds ---\n"
     ]
    }
   ],
   "source": [
    "# Here is a query that doesn't use the partition key at all (against the partitioned parquet data)\n",
    "start_time = time.time()\n",
    "spark.sql(\"\"\"Select distinct UniqueCarrier, TailNum from p_delays_p where TailNum='N712SW' \"\"\").show()\n",
    "print(\"--- %s seconds ---\" % (time.time() - start_time))"
   ]
  },
  {
   "cell_type": "code",
   "execution_count": 19,
   "metadata": {
    "id": "9652Mii42hya"
   },
   "outputs": [],
   "source": []
  }
 ],
 "metadata": {
  "colab": {
   "provenance": []
  },
  "kernelspec": {
   "display_name": "Python 3 (ipykernel)",
   "language": "python",
   "name": "python3"
  },
  "language_info": {
   "codemirror_mode": {
    "name": "ipython",
    "version": 3
   },
   "file_extension": ".py",
   "mimetype": "text/x-python",
   "name": "python",
   "nbconvert_exporter": "python",
   "pygments_lexer": "ipython3",
   "version": "3.10.4"
  }
 },
 "nbformat": 4,
 "nbformat_minor": 1
}
