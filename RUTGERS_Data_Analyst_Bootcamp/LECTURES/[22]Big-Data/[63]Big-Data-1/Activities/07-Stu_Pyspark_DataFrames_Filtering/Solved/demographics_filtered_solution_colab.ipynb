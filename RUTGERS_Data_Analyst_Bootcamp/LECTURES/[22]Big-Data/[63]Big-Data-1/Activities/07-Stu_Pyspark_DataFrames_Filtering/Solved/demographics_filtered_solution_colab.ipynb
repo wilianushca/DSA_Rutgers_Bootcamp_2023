{
 "cells": [
  {
   "cell_type": "code",
   "execution_count": 1,
   "metadata": {
    "colab": {
     "base_uri": "https://localhost:8080/"
    },
    "id": "XTc61chZZy5F",
    "outputId": "037ae418-63d2-438c-e400-8f7663ffac4b"
   },
   "outputs": [
    {
     "name": "stdout",
     "output_type": "stream",
     "text": [
      "\r",
      "0% [Working]\r",
      "            \r",
      "Get:1 http://security.ubuntu.com/ubuntu focal-security InRelease [114 kB]\n",
      "\r",
      "0% [Waiting for headers] [1 InRelease 0 B/114 kB 0%] [Connected to cloud.r-proj\r",
      "                                                                               \r",
      "Get:2 http://ppa.launchpad.net/c2d4u.team/c2d4u4.0+/ubuntu focal InRelease [18.1 kB]\n",
      "\r",
      "0% [Waiting for headers] [1 InRelease 0 B/114 kB 0%] [Connected to cloud.r-proj\r",
      "0% [Waiting for headers] [1 InRelease 114 kB/114 kB 100%] [Connected to cloud.r\r",
      "                                                                               \r",
      "Hit:3 http://archive.ubuntu.com/ubuntu focal InRelease\n",
      "\r",
      "                                                                               \r",
      "Get:4 http://archive.ubuntu.com/ubuntu focal-updates InRelease [114 kB]\n",
      "\r",
      "                                                                               \r",
      "Get:5 https://cloud.r-project.org/bin/linux/ubuntu focal-cran40/ InRelease [3,622 B]\n",
      "\r",
      "                                                                               \r",
      "Hit:6 http://ppa.launchpad.net/cran/libgit2/ubuntu focal InRelease\n",
      "\r",
      "                                                                               \r",
      "Get:7 http://ppa.launchpad.net/deadsnakes/ppa/ubuntu focal InRelease [18.1 kB]\n",
      "\r",
      "0% [Waiting for headers] [Waiting for headers] [7 InRelease 14.2 kB/18.1 kB 78%\r",
      "0% [Waiting for headers] [Waiting for headers] [Connecting to ppa.launchpad.net\r",
      "                                                                               \r",
      "Get:8 http://archive.ubuntu.com/ubuntu focal-backports InRelease [108 kB]\n",
      "Hit:9 http://ppa.launchpad.net/graphics-drivers/ppa/ubuntu focal InRelease\n",
      "Ign:10 https://developer.download.nvidia.com/compute/machine-learning/repos/ubuntu2004/x86_64  InRelease\n",
      "Hit:11 https://developer.download.nvidia.com/compute/cuda/repos/ubuntu2004/x86_64  InRelease\n",
      "Hit:12 https://developer.download.nvidia.com/compute/machine-learning/repos/ubuntu2004/x86_64  Release\n",
      "Get:13 http://ppa.launchpad.net/c2d4u.team/c2d4u4.0+/ubuntu focal/main Sources [2,381 kB]\n",
      "Get:14 http://ppa.launchpad.net/c2d4u.team/c2d4u4.0+/ubuntu focal/main amd64 Packages [1,127 kB]\n",
      "Get:15 http://archive.ubuntu.com/ubuntu focal-updates/main amd64 Packages [2,920 kB]\n",
      "Get:16 http://archive.ubuntu.com/ubuntu focal-updates/restricted amd64 Packages [2,009 kB]\n",
      "Get:17 http://archive.ubuntu.com/ubuntu focal-updates/universe amd64 Packages [1,290 kB]\n",
      "Get:18 http://security.ubuntu.com/ubuntu focal-security/universe amd64 Packages [988 kB]\n",
      "Get:19 http://security.ubuntu.com/ubuntu focal-security/main amd64 Packages [2,442 kB]\n",
      "Get:20 http://security.ubuntu.com/ubuntu focal-security/restricted amd64 Packages [1,882 kB]\n",
      "Get:21 http://ppa.launchpad.net/deadsnakes/ppa/ubuntu focal/main amd64 Packages [29.5 kB]\n",
      "Fetched 15.4 MB in 9s (1,729 kB/s)\n",
      "Reading package lists... Done\n"
     ]
    }
   ],
   "source": [
    "import os\n",
    "# Find the latest version of spark 3.x  from http://www.apache.org/dist/spark/ and enter as the spark version\n",
    "# For example:\n",
    "# spark_version = 'spark-3.4.0'\n",
    "spark_version = 'spark-3.4.0'\n",
    "os.environ['SPARK_VERSION']=spark_version\n",
    "\n",
    "# Install Spark and Java\n",
    "!apt-get update\n",
    "!apt-get install openjdk-11-jdk-headless -qq > /dev/null\n",
    "!wget -q http://www.apache.org/dist/spark/$SPARK_VERSION/$SPARK_VERSION-bin-hadoop3.tgz\n",
    "!tar xf $SPARK_VERSION-bin-hadoop3.tgz\n",
    "!pip install -q findspark\n",
    "\n",
    "# Set Environment Variables\n",
    "os.environ[\"JAVA_HOME\"] = \"/usr/lib/jvm/java-11-openjdk-amd64\"\n",
    "os.environ[\"SPARK_HOME\"] = f\"/content/{spark_version}-bin-hadoop3\"\n",
    "\n",
    "# Start a SparkSession\n",
    "import findspark\n",
    "findspark.init()"
   ]
  },
  {
   "cell_type": "code",
   "execution_count": 2,
   "metadata": {
    "id": "fz9FFdrHB6TO"
   },
   "outputs": [],
   "source": [
    "# Start Spark session\n",
    "from pyspark.sql import SparkSession\n",
    "spark = SparkSession.builder.appName(\"demographicsFilter\").getOrCreate()"
   ]
  },
  {
   "cell_type": "code",
   "execution_count": 3,
   "metadata": {
    "colab": {
     "base_uri": "https://localhost:8080/"
    },
    "id": "fJ8AzEZdZvuX",
    "outputId": "4698dcd9-b6ab-4902-f6a0-c122bc6789ae"
   },
   "outputs": [
    {
     "name": "stdout",
     "output_type": "stream",
     "text": [
      "+---+-----------------+---+--------+---------+--------+--------------------+---------------+------+--------------------+\n",
      "| id|             name|age|height_m|weight_kg|children|          occupation|academic_degree|salary|            location|\n",
      "+---+-----------------+---+--------+---------+--------+--------------------+---------------+------+--------------------+\n",
      "|  1|    Glad Gavrieli| 38|    1.52|       74|       0|Computer Systems ...|       Bachelor|    78|           Louisiana|\n",
      "|  2|  Henrieta Fittes| 34|    1.72|       39|       4|             Teacher|         Master|    44|            Illinois|\n",
      "|  3|   Peyton Dulanty| 24|    1.80|       47|       5|Senior Quality En...|            PhD|    44|      North Carolina|\n",
      "|  4|     Denna Morgen| 48|    1.81|       71|       5|   Account Executive|         Master|    81|          California|\n",
      "|  5|    Camella Izaks| 34|    1.65|       60|       1|   Director of Sales|            PhD|    76|                Ohio|\n",
      "|  6|     Shara Esposi| 49|    1.50|       52|       2|     Sales Associate|         Master|    68|            Virginia|\n",
      "|  7|Saunderson Gudgen| 64|    1.93|       47|       0|Sales Representative|         Master|    85|            New York|\n",
      "|  8|Aldrich Rosendorf| 42|    1.77|       66|       0|        Developer II|            PhD|    84|District of Columbia|\n",
      "|  9| Edlin Washington| 50|    1.74|       52|       4|     Design Engineer|         Master|    88|              Oregon|\n",
      "| 10| Anders Penwright| 55|    1.98|       90|       2|     Project Manager|       Bachelor|   116|             Georgia|\n",
      "| 11|   Ruthie Cubbini| 67|    1.52|       55|       4|     Data Coordiator|            PhD|    51|District of Columbia|\n",
      "| 12|  Juliet Harbidge| 66|    1.61|       49|       2|             Actuary|            PhD|    66|         Mississippi|\n",
      "| 13|  Jeannine Kelner| 30|    1.80|       81|       1|       Programmer II|       Bachelor|    90|              Hawaii|\n",
      "| 14|  Roi Gristhwaite| 66|    1.86|       90|       1|    Product Engineer|       Bachelor|    40|           Tennessee|\n",
      "| 15|      Brant Stark| 58|    1.94|       53|       4|Sales Representative|       Bachelor|    96|      North Carolina|\n",
      "| 16|   Donny Rankling| 26|    1.51|       39|       1|Physical Therapy ...|       Bachelor|   116|            Virginia|\n",
      "| 17|     Dov Gavaghan| 27|    1.58|       68|       5|Computer Systems ...|       Bachelor|    74|                Utah|\n",
      "| 18|    Rosanne Wreak| 37|    1.76|       81|       2|Payment Adjustmen...|         Master|   103|             Florida|\n",
      "| 19|    Belva Spraggs| 50|    1.65|       80|       2|             Teacher|       Bachelor|    46|             Georgia|\n",
      "| 20|      Welch Lease| 21|    1.57|       79|       4|Mechanical System...|         Master|   114|       Massachusetts|\n",
      "+---+-----------------+---+--------+---------+--------+--------------------+---------------+------+--------------------+\n",
      "only showing top 20 rows\n",
      "\n"
     ]
    }
   ],
   "source": [
    "# Read in data from S3 Buckets\n",
    "from pyspark import SparkFiles\n",
    "url = \"https://2u-data-curriculum-team.s3.amazonaws.com/dataviz-classroom/v1.2/22-big-data/1/demographics.csv\"\n",
    "spark.sparkContext.addFile(url)\n",
    "df = spark.read.csv(SparkFiles.get(\"demographics.csv\"), sep=\",\", header=True)\n",
    "\n",
    "# Show DataFrame\n",
    "df.show()"
   ]
  },
  {
   "cell_type": "code",
   "execution_count": 4,
   "metadata": {
    "colab": {
     "base_uri": "https://localhost:8080/"
    },
    "id": "7J5i9w29e7Dw",
    "outputId": "bf4a3356-e9a2-4239-9679-bad2ba8c7104"
   },
   "outputs": [
    {
     "name": "stdout",
     "output_type": "stream",
     "text": [
      "root\n",
      " |-- id: string (nullable = true)\n",
      " |-- name: string (nullable = true)\n",
      " |-- age: string (nullable = true)\n",
      " |-- height_m: string (nullable = true)\n",
      " |-- weight_kg: string (nullable = true)\n",
      " |-- children: string (nullable = true)\n",
      " |-- occupation: string (nullable = true)\n",
      " |-- academic_degree: string (nullable = true)\n",
      " |-- salary: string (nullable = true)\n",
      " |-- location: string (nullable = true)\n",
      "\n"
     ]
    }
   ],
   "source": [
    "df.printSchema()"
   ]
  },
  {
   "cell_type": "code",
   "execution_count": 5,
   "metadata": {
    "id": "7bPeZUerfNve"
   },
   "outputs": [],
   "source": [
    "# You will have to convert the data types of the following columns when you use Colab.\n",
    "from pyspark.sql.types import IntegerType, DoubleType\n",
    "df = df.withColumn(\"id\", df[\"id\"].cast(IntegerType()))\n",
    "df = df.withColumn(\"age\", df[\"age\"].cast(IntegerType()))\n",
    "df = df.withColumn(\"weight_kg\", df[\"weight_kg\"].cast(IntegerType()))\n",
    "df = df.withColumn(\"children\", df[\"children\"].cast(IntegerType()))\n",
    "df = df.withColumn(\"salary\", df[\"salary\"].cast(IntegerType()))\n",
    "df = df.withColumn(\"height_m\", df[\"height_m\"].cast(DoubleType()))\n"
   ]
  },
  {
   "cell_type": "code",
   "execution_count": 6,
   "metadata": {
    "colab": {
     "base_uri": "https://localhost:8080/"
    },
    "id": "NBW4TWKPfw_5",
    "outputId": "202e27ff-b278-4fc9-c6ef-0275e763d94a"
   },
   "outputs": [
    {
     "name": "stdout",
     "output_type": "stream",
     "text": [
      "root\n",
      " |-- id: integer (nullable = true)\n",
      " |-- name: string (nullable = true)\n",
      " |-- age: integer (nullable = true)\n",
      " |-- height_m: double (nullable = true)\n",
      " |-- weight_kg: integer (nullable = true)\n",
      " |-- children: integer (nullable = true)\n",
      " |-- occupation: string (nullable = true)\n",
      " |-- academic_degree: string (nullable = true)\n",
      " |-- salary: integer (nullable = true)\n",
      " |-- location: string (nullable = true)\n",
      "\n"
     ]
    }
   ],
   "source": [
    "df.printSchema()"
   ]
  },
  {
   "cell_type": "code",
   "execution_count": 7,
   "metadata": {
    "colab": {
     "base_uri": "https://localhost:8080/"
    },
    "id": "HZFco7ARZvuf",
    "outputId": "e72d57be-32a9-4bc6-ba2e-a4ed1119273a"
   },
   "outputs": [
    {
     "name": "stdout",
     "output_type": "stream",
     "text": [
      "+-----------------+------+\n",
      "|       occupation|Salary|\n",
      "+-----------------+------+\n",
      "|Chemical Engineer|   120|\n",
      "+-----------------+------+\n",
      "\n"
     ]
    }
   ],
   "source": [
    "# What occupation had the highest salary?\n",
    "df.orderBy(df[\"Salary\"].desc()).select(\"occupation\", \"Salary\").limit(1).show()"
   ]
  },
  {
   "cell_type": "code",
   "execution_count": 8,
   "metadata": {
    "colab": {
     "base_uri": "https://localhost:8080/"
    },
    "id": "wdj33caiZvuj",
    "outputId": "08e079a9-28f6-4d06-de91-37cbba544164"
   },
   "outputs": [
    {
     "name": "stdout",
     "output_type": "stream",
     "text": [
      "+----------------+------+\n",
      "|      occupation|Salary|\n",
      "+----------------+------+\n",
      "|Product Engineer|    40|\n",
      "+----------------+------+\n",
      "\n"
     ]
    }
   ],
   "source": [
    "# What occupation had the lowest salary?\n",
    "df.orderBy(df[\"Salary\"]).select(\"occupation\", \"Salary\").limit(1).show()"
   ]
  },
  {
   "cell_type": "code",
   "execution_count": 9,
   "metadata": {
    "colab": {
     "base_uri": "https://localhost:8080/"
    },
    "id": "CifAfVSzZvun",
    "outputId": "f8896250-78e2-449a-fcd5-de168e55941f"
   },
   "outputs": [
    {
     "name": "stdout",
     "output_type": "stream",
     "text": [
      "+-----------+\n",
      "|avg(Salary)|\n",
      "+-----------+\n",
      "|     79.475|\n",
      "+-----------+\n",
      "\n"
     ]
    }
   ],
   "source": [
    "# What is the mean salary of this dataset?\n",
    "from pyspark.sql.functions import mean\n",
    "df.select(mean(\"Salary\")).show()"
   ]
  },
  {
   "cell_type": "code",
   "execution_count": 10,
   "metadata": {
    "colab": {
     "base_uri": "https://localhost:8080/"
    },
    "id": "_G8P0_Pba69K",
    "outputId": "6e16c59e-60d8-481d-8f8a-8bc15553ee19"
   },
   "outputs": [
    {
     "name": "stdout",
     "output_type": "stream",
     "text": [
      "+-----------+-----------+\n",
      "|max(Salary)|min(Salary)|\n",
      "+-----------+-----------+\n",
      "|        120|         40|\n",
      "+-----------+-----------+\n",
      "\n"
     ]
    }
   ],
   "source": [
    "# What is the max and min of the Salary column?\n",
    "from pyspark.sql.functions import max, min\n",
    "df.select(max(\"Salary\"), min(\"Salary\")).show()"
   ]
  },
  {
   "cell_type": "code",
   "execution_count": 11,
   "metadata": {
    "colab": {
     "base_uri": "https://localhost:8080/"
    },
    "id": "KHyNTIS7Zvur",
    "outputId": "3bf91407-ed8a-4433-e62a-e91d98766d76"
   },
   "outputs": [
    {
     "name": "stdout",
     "output_type": "stream",
     "text": [
      "+--------------------+\n",
      "|          occupation|\n",
      "+--------------------+\n",
      "|   Account Executive|\n",
      "|Sales Representative|\n",
      "|        Developer II|\n",
      "|     Design Engineer|\n",
      "|     Project Manager|\n",
      "|       Programmer II|\n",
      "|Sales Representative|\n",
      "|Physical Therapy ...|\n",
      "|Payment Adjustmen...|\n",
      "|Mechanical System...|\n",
      "|     Media Manager I|\n",
      "|   Account Executive|\n",
      "|           Professor|\n",
      "|Community Outreac...|\n",
      "| Clinical Specialist|\n",
      "|Human Resources A...|\n",
      "|Nuclear Power Eng...|\n",
      "|      Civil Engineer|\n",
      "|Human Resources M...|\n",
      "|Senior Cost Accou...|\n",
      "+--------------------+\n",
      "only showing top 20 rows\n",
      "\n"
     ]
    }
   ],
   "source": [
    "# Show all of the occupations where salaries were above 80k\n",
    "from pyspark.sql.functions import count\n",
    "df.filter(\"Salary > 80\").select(\"occupation\").show()"
   ]
  },
  {
   "cell_type": "code",
   "execution_count": 12,
   "metadata": {
    "colab": {
     "base_uri": "https://localhost:8080/"
    },
    "id": "VAmRujSRZvuv",
    "outputId": "f5100fde-1f08-4851-a16b-2364d9efb2fa"
   },
   "outputs": [
    {
     "name": "stdout",
     "output_type": "stream",
     "text": [
      "+---------------+------------------+------------------+\n",
      "|academic_degree|          avg(age)|     avg(height_m)|\n",
      "+---------------+------------------+------------------+\n",
      "|            PhD| 42.87818696883853|1.7537393767705372|\n",
      "|         Master|42.105095541401276|1.7606050955414014|\n",
      "|       Bachelor| 43.85585585585586|1.7371771771771771|\n",
      "+---------------+------------------+------------------+\n",
      "\n"
     ]
    }
   ],
   "source": [
    "# BONUS\n",
    "# What is the average age and height for each academic degree type?\n",
    "# HINT: You will need to use `groupby` to solve this\n",
    "avg_df = df.groupBy(\"academic_degree\").avg()\n",
    "avg_df.select(\"academic_degree\", \"avg(age)\", \"avg(height_m)\").show()"
   ]
  },
  {
   "cell_type": "code",
   "execution_count": 12,
   "metadata": {
    "id": "9UeorfXUc-X7"
   },
   "outputs": [],
   "source": []
  }
 ],
 "metadata": {
  "anaconda-cloud": {},
  "colab": {
   "provenance": []
  },
  "kernelspec": {
   "display_name": "Python 3 (ipykernel)",
   "language": "python",
   "name": "python3"
  },
  "language_info": {
   "codemirror_mode": {
    "name": "ipython",
    "version": 3
   },
   "file_extension": ".py",
   "mimetype": "text/x-python",
   "name": "python",
   "nbconvert_exporter": "python",
   "pygments_lexer": "ipython3",
   "version": "3.10.4"
  },
  "varInspector": {
   "cols": {
    "lenName": 16,
    "lenType": 16,
    "lenVar": 40
   },
   "kernels_config": {
    "python": {
     "delete_cmd_postfix": "",
     "delete_cmd_prefix": "del ",
     "library": "var_list.py",
     "varRefreshCmd": "print(var_dic_list())"
    },
    "r": {
     "delete_cmd_postfix": ") ",
     "delete_cmd_prefix": "rm(",
     "library": "var_list.r",
     "varRefreshCmd": "cat(var_dic_list()) "
    }
   },
   "types_to_exclude": [
    "module",
    "function",
    "builtin_function_or_method",
    "instance",
    "_Feature"
   ],
   "window_display": false
  }
 },
 "nbformat": 4,
 "nbformat_minor": 1
}
