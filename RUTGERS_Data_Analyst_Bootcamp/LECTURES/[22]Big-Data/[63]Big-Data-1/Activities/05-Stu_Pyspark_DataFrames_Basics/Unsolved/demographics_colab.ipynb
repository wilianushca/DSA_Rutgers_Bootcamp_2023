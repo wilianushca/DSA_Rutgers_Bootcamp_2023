{
 "cells": [
  {
   "cell_type": "code",
   "execution_count": null,
   "metadata": {
    "id": "XTc61chZZy5F"
   },
   "outputs": [],
   "source": [
    "import os\n",
    "# Find the latest version of spark 3.x  from http://www.apache.org/dist/spark/ and enter as the spark version\n",
    "# For example:\n",
    "# spark_version = 'spark-3.4.0'\n",
    "spark_version = 'spark-3.4.0'\n",
    "os.environ['SPARK_VERSION']=spark_version\n",
    "\n",
    "# Install Spark and Java\n",
    "!apt-get update\n",
    "!apt-get install openjdk-11-jdk-headless -qq > /dev/null\n",
    "!wget -q http://www.apache.org/dist/spark/$SPARK_VERSION/$SPARK_VERSION-bin-hadoop3.tgz\n",
    "!tar xf $SPARK_VERSION-bin-hadoop3.tgz\n",
    "!pip install -q findspark\n",
    "\n",
    "# Set Environment Variables\n",
    "os.environ[\"JAVA_HOME\"] = \"/usr/lib/jvm/java-11-openjdk-amd64\"\n",
    "os.environ[\"SPARK_HOME\"] = f\"/content/{spark_version}-bin-hadoop3\"\n",
    "\n",
    "# Start a SparkSession\n",
    "import findspark\n",
    "findspark.init()"
   ]
  },
  {
   "cell_type": "code",
   "execution_count": null,
   "metadata": {
    "id": "fz9FFdrHB6TO",
    "outputId": "e91986fa-f044-40d4-8c1a-14c13e3692d0"
   },
   "outputs": [
    {
     "name": "stderr",
     "output_type": "stream",
     "text": [
      "Using Spark's default log4j profile: org/apache/spark/log4j-defaults.properties\n",
      "Setting default log level to \"WARN\".\n",
      "To adjust logging level use sc.setLogLevel(newLevel). For SparkR, use setLogLevel(newLevel).\n",
      "22/11/07 11:55:47 WARN NativeCodeLoader: Unable to load native-hadoop library for your platform... using builtin-java classes where applicable\n"
     ]
    }
   ],
   "source": [
    "# Start Spark session\n",
    "from pyspark.sql import SparkSession\n",
    "spark = SparkSession.builder.appName(\"Demographics\").getOrCreate()"
   ]
  },
  {
   "cell_type": "code",
   "execution_count": null,
   "metadata": {
    "colab": {
     "base_uri": "https://localhost:8080/"
    },
    "id": "fJ8AzEZdZvuX",
    "outputId": "c71e50af-abee-4e79-9516-a8ff1744cc8d"
   },
   "outputs": [
    {
     "name": "stdout",
     "output_type": "stream",
     "text": [
      "+---+-----------------+---+--------+---------+--------+--------------------+---------------+------+--------------------+\n",
      "| id|             name|age|height_m|weight_kg|children|          occupation|academic_degree|salary|            location|\n",
      "+---+-----------------+---+--------+---------+--------+--------------------+---------------+------+--------------------+\n",
      "|  1|    Glad Gavrieli| 38|    1.52|       74|       0|Computer Systems ...|       Bachelor|    78|           Louisiana|\n",
      "|  2|  Henrieta Fittes| 34|    1.72|       39|       4|             Teacher|         Master|    44|            Illinois|\n",
      "|  3|   Peyton Dulanty| 24|     1.8|       47|       5|Senior Quality En...|            PhD|    44|      North Carolina|\n",
      "|  4|     Denna Morgen| 48|    1.81|       71|       5|   Account Executive|         Master|    81|          California|\n",
      "|  5|    Camella Izaks| 34|    1.65|       60|       1|   Director of Sales|            PhD|    76|                Ohio|\n",
      "|  6|     Shara Esposi| 49|     1.5|       52|       2|     Sales Associate|         Master|    68|            Virginia|\n",
      "|  7|Saunderson Gudgen| 64|    1.93|       47|       0|Sales Representative|         Master|    85|            New York|\n",
      "|  8|Aldrich Rosendorf| 42|    1.77|       66|       0|        Developer II|            PhD|    84|District of Columbia|\n",
      "|  9| Edlin Washington| 50|    1.74|       52|       4|     Design Engineer|         Master|    88|              Oregon|\n",
      "| 10| Anders Penwright| 55|    1.98|       90|       2|     Project Manager|       Bachelor|   116|             Georgia|\n",
      "| 11|   Ruthie Cubbini| 67|    1.52|       55|       4|     Data Coordiator|            PhD|    51|District of Columbia|\n",
      "| 12|  Juliet Harbidge| 66|    1.61|       49|       2|             Actuary|            PhD|    66|         Mississippi|\n",
      "| 13|  Jeannine Kelner| 30|     1.8|       81|       1|       Programmer II|       Bachelor|    90|              Hawaii|\n",
      "| 14|  Roi Gristhwaite| 66|    1.86|       90|       1|    Product Engineer|       Bachelor|    40|           Tennessee|\n",
      "| 15|      Brant Stark| 58|    1.94|       53|       4|Sales Representative|       Bachelor|    96|      North Carolina|\n",
      "| 16|   Donny Rankling| 26|    1.51|       39|       1|Physical Therapy ...|       Bachelor|   116|            Virginia|\n",
      "| 17|     Dov Gavaghan| 27|    1.58|       68|       5|Computer Systems ...|       Bachelor|    74|                Utah|\n",
      "| 18|    Rosanne Wreak| 37|    1.76|       81|       2|Payment Adjustmen...|         Master|   103|             Florida|\n",
      "| 19|    Belva Spraggs| 50|    1.65|       80|       2|             Teacher|       Bachelor|    46|             Georgia|\n",
      "| 20|      Welch Lease| 21|    1.57|       79|       4|Mechanical System...|         Master|   114|       Massachusetts|\n",
      "+---+-----------------+---+--------+---------+--------+--------------------+---------------+------+--------------------+\n",
      "only showing top 20 rows\n",
      "\n"
     ]
    }
   ],
   "source": [
    "# Read in data from S3 Buckets\n",
    "from pyspark import SparkFiles\n",
    "url = \"https://2u-data-curriculum-team.s3.amazonaws.com/dataviz-classroom/v1.2/22-big-data/1/demographics.csv\"\n",
    "spark.sparkContext.addFile(url)\n",
    "df = spark.read.csv(SparkFiles.get(\"demographics.csv\"), sep=\",\", header=True)\n",
    "\n",
    "# Show DataFrame\n",
    "df.show()"
   ]
  },
  {
   "cell_type": "code",
   "execution_count": null,
   "metadata": {
    "colab": {
     "base_uri": "https://localhost:8080/"
    },
    "id": "HZFco7ARZvuf",
    "outputId": "3faf344c-829e-4a17-d796-de35bb57c517"
   },
   "outputs": [
    {
     "data": {
      "text/plain": [
       "['id',\n",
       " 'name',\n",
       " 'age',\n",
       " 'height_m',\n",
       " 'weight_kg',\n",
       " 'children',\n",
       " 'occupation',\n",
       " 'academic_degree',\n",
       " 'salary',\n",
       " 'location']"
      ]
     },
     "execution_count": 4,
     "metadata": {},
     "output_type": "execute_result"
    }
   ],
   "source": [
    "# Print the column names\n"
   ]
  },
  {
   "cell_type": "code",
   "execution_count": null,
   "metadata": {
    "colab": {
     "base_uri": "https://localhost:8080/"
    },
    "id": "wdj33caiZvuj",
    "outputId": "e2f17d69-76d2-4f61-c12c-53d59969333b"
   },
   "outputs": [
    {
     "name": "stdout",
     "output_type": "stream",
     "text": [
      "+---+-----------------+---+--------+---------+--------+--------------------+---------------+------+--------------------+\n",
      "| id|             name|age|height_m|weight_kg|children|          occupation|academic_degree|salary|            location|\n",
      "+---+-----------------+---+--------+---------+--------+--------------------+---------------+------+--------------------+\n",
      "|  1|    Glad Gavrieli| 38|    1.52|       74|       0|Computer Systems ...|       Bachelor|    78|           Louisiana|\n",
      "|  2|  Henrieta Fittes| 34|    1.72|       39|       4|             Teacher|         Master|    44|            Illinois|\n",
      "|  3|   Peyton Dulanty| 24|     1.8|       47|       5|Senior Quality En...|            PhD|    44|      North Carolina|\n",
      "|  4|     Denna Morgen| 48|    1.81|       71|       5|   Account Executive|         Master|    81|          California|\n",
      "|  5|    Camella Izaks| 34|    1.65|       60|       1|   Director of Sales|            PhD|    76|                Ohio|\n",
      "|  6|     Shara Esposi| 49|     1.5|       52|       2|     Sales Associate|         Master|    68|            Virginia|\n",
      "|  7|Saunderson Gudgen| 64|    1.93|       47|       0|Sales Representative|         Master|    85|            New York|\n",
      "|  8|Aldrich Rosendorf| 42|    1.77|       66|       0|        Developer II|            PhD|    84|District of Columbia|\n",
      "|  9| Edlin Washington| 50|    1.74|       52|       4|     Design Engineer|         Master|    88|              Oregon|\n",
      "| 10| Anders Penwright| 55|    1.98|       90|       2|     Project Manager|       Bachelor|   116|             Georgia|\n",
      "+---+-----------------+---+--------+---------+--------+--------------------+---------------+------+--------------------+\n",
      "only showing top 10 rows\n",
      "\n"
     ]
    }
   ],
   "source": [
    "# Print out the first 10 rows\n"
   ]
  },
  {
   "cell_type": "code",
   "execution_count": null,
   "metadata": {
    "colab": {
     "base_uri": "https://localhost:8080/"
    },
    "id": "CifAfVSzZvun",
    "outputId": "91426d66-47d7-4ba3-d1e9-ffb3bc9679f5"
   },
   "outputs": [
    {
     "name": "stdout",
     "output_type": "stream",
     "text": [
      "+-------+------------------+-------------------+------------------+\n",
      "|summary|               age|           height_m|         weight_kg|\n",
      "+-------+------------------+-------------------+------------------+\n",
      "|  count|              1000|               1000|              1000|\n",
      "|   mean|            42.961|  1.750380000000002|            64.308|\n",
      "| stddev|14.166869067623207|0.14157152997018183|15.840077147667067|\n",
      "|    min|                18|                1.5|                38|\n",
      "|    max|                67|                2.0|                90|\n",
      "+-------+------------------+-------------------+------------------+\n",
      "\n"
     ]
    }
   ],
   "source": [
    "# Select the age, height_meter, and weight_kg columns and use describe to show the summary statistics\n"
   ]
  },
  {
   "cell_type": "code",
   "execution_count": null,
   "metadata": {
    "colab": {
     "base_uri": "https://localhost:8080/"
    },
    "id": "KHyNTIS7Zvur",
    "outputId": "c4287191-9ecc-4e26-edae-939d15af5cf8"
   },
   "outputs": [
    {
     "name": "stdout",
     "output_type": "stream",
     "text": [
      "root\n",
      " |-- id: string (nullable = true)\n",
      " |-- name: string (nullable = true)\n",
      " |-- age: string (nullable = true)\n",
      " |-- height_m: string (nullable = true)\n",
      " |-- weight_kg: string (nullable = true)\n",
      " |-- children: string (nullable = true)\n",
      " |-- occupation: string (nullable = true)\n",
      " |-- academic_degree: string (nullable = true)\n",
      " |-- salary: string (nullable = true)\n",
      " |-- location: string (nullable = true)\n",
      "\n"
     ]
    }
   ],
   "source": [
    "# Print the schema to see the types\n"
   ]
  },
  {
   "cell_type": "code",
   "execution_count": null,
   "metadata": {
    "colab": {
     "base_uri": "https://localhost:8080/"
    },
    "id": "VAmRujSRZvuv",
    "outputId": "7d66af11-cebc-4db4-99bc-7b4ccad2c69b"
   },
   "outputs": [
    {
     "name": "stdout",
     "output_type": "stream",
     "text": [
      "+-----------+\n",
      "|Salary (1k)|\n",
      "+-----------+\n",
      "|         78|\n",
      "|         44|\n",
      "|         44|\n",
      "|         81|\n",
      "|         76|\n",
      "|         68|\n",
      "|         85|\n",
      "|         84|\n",
      "|         88|\n",
      "|        116|\n",
      "|         51|\n",
      "|         66|\n",
      "|         90|\n",
      "|         40|\n",
      "|         96|\n",
      "|        116|\n",
      "|         74|\n",
      "|        103|\n",
      "|         46|\n",
      "|        114|\n",
      "+-----------+\n",
      "only showing top 20 rows\n",
      "\n"
     ]
    }
   ],
   "source": [
    "# Rename the Salary column to `Salary (1k)` and show only this new column\n"
   ]
  },
  {
   "cell_type": "code",
   "execution_count": null,
   "metadata": {
    "colab": {
     "base_uri": "https://localhost:8080/"
    },
    "id": "VYoi9OvwZvu0",
    "outputId": "cf107e89-b5f8-4fe6-b854-0bc9d20d18d1"
   },
   "outputs": [
    {
     "name": "stdout",
     "output_type": "stream",
     "text": [
      "+--------+-----------+\n",
      "|  Salary|Salary (1k)|\n",
      "+--------+-----------+\n",
      "| 78000.0|         78|\n",
      "| 44000.0|         44|\n",
      "| 44000.0|         44|\n",
      "| 81000.0|         81|\n",
      "| 76000.0|         76|\n",
      "| 68000.0|         68|\n",
      "| 85000.0|         85|\n",
      "| 84000.0|         84|\n",
      "| 88000.0|         88|\n",
      "|116000.0|        116|\n",
      "| 51000.0|         51|\n",
      "| 66000.0|         66|\n",
      "| 90000.0|         90|\n",
      "| 40000.0|         40|\n",
      "| 96000.0|         96|\n",
      "|116000.0|        116|\n",
      "| 74000.0|         74|\n",
      "|103000.0|        103|\n",
      "| 46000.0|         46|\n",
      "|114000.0|        114|\n",
      "+--------+-----------+\n",
      "only showing top 20 rows\n",
      "\n"
     ]
    }
   ],
   "source": [
    "# Create a new column called `Salary` where the values are the `Salary (1k)` * 1000\n",
    "# Show the columns `Salary` and `Salary (1k)`\n"
   ]
  },
  {
   "cell_type": "code",
   "execution_count": null,
   "metadata": {
    "id": "JIuQ3MqhaXWE"
   },
   "outputs": [],
   "source": []
  }
 ],
 "metadata": {
  "anaconda-cloud": {},
  "colab": {
   "provenance": []
  },
  "kernelspec": {
   "display_name": "Python 3 (ipykernel)",
   "language": "python",
   "name": "python3"
  },
  "language_info": {
   "codemirror_mode": {
    "name": "ipython",
    "version": 3
   },
   "file_extension": ".py",
   "mimetype": "text/x-python",
   "name": "python",
   "nbconvert_exporter": "python",
   "pygments_lexer": "ipython3",
   "version": "3.10.4"
  },
  "varInspector": {
   "cols": {
    "lenName": 16,
    "lenType": 16,
    "lenVar": 40
   },
   "kernels_config": {
    "python": {
     "delete_cmd_postfix": "",
     "delete_cmd_prefix": "del ",
     "library": "var_list.py",
     "varRefreshCmd": "print(var_dic_list())"
    },
    "r": {
     "delete_cmd_postfix": ") ",
     "delete_cmd_prefix": "rm(",
     "library": "var_list.r",
     "varRefreshCmd": "cat(var_dic_list()) "
    }
   },
   "types_to_exclude": [
    "module",
    "function",
    "builtin_function_or_method",
    "instance",
    "_Feature"
   ],
   "window_display": false
  }
 },
 "nbformat": 4,
 "nbformat_minor": 1
}
