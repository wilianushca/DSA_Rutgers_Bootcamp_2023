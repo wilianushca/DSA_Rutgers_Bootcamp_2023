{
 "cells": [
  {
   "cell_type": "code",
   "execution_count": 1,
   "metadata": {
    "colab": {
     "base_uri": "https://localhost:8080/"
    },
    "id": "quc4esHQ3Cqs",
    "outputId": "41725f3c-fa3d-425d-8e90-c7a548e245c7"
   },
   "outputs": [],
   "source": [
    "# Import findspark and initialize. \n",
    "import findspark\n",
    "findspark.init()"
   ]
  },
  {
   "cell_type": "code",
   "execution_count": 2,
   "metadata": {},
   "outputs": [
    {
     "name": "stderr",
     "output_type": "stream",
     "text": [
      "Setting default log level to \"WARN\".\n",
      "To adjust logging level use sc.setLogLevel(newLevel). For SparkR, use setLogLevel(newLevel).\n",
      "23/08/11 15:10:53 WARN NativeCodeLoader: Unable to load native-hadoop library for your platform... using builtin-java classes where applicable\n"
     ]
    }
   ],
   "source": [
    "# Start Spark session\n",
    "from pyspark.sql import SparkSession\n",
    "spark = SparkSession.builder.appName(\"DelayedFlightsView\").getOrCreate()"
   ]
  },
  {
   "cell_type": "code",
   "execution_count": 3,
   "metadata": {
    "colab": {
     "base_uri": "https://localhost:8080/"
    },
    "id": "83jgwDv73h3R",
    "outputId": "cacb0d7e-20f1-4972-e59f-81b265e95afc"
   },
   "outputs": [
    {
     "name": "stderr",
     "output_type": "stream",
     "text": [
      "23/08/11 15:11:10 WARN GarbageCollectionMetrics: To enable non-built-in garbage collector(s) List(G1 Concurrent GC), users should configure it(them) to spark.eventLog.gcMetrics.youngGenerationGarbageCollectors or spark.eventLog.gcMetrics.oldGenerationGarbageCollectors\n",
      "23/08/11 15:11:20 WARN package: Truncated the string representation of a plan since it was too large. This behavior can be adjusted by setting 'spark.sql.debug.maxToStringFields'.\n"
     ]
    },
    {
     "name": "stdout",
     "output_type": "stream",
     "text": [
      "+---+----+-----+----------+---------+-------+----------+-------+----------+-------------+---------+-------+-----------------+--------------+-------+--------+--------+------+----+--------+------+-------+---------+----------------+--------+------------+------------+--------+-------------+-----------------+\n",
      "| id|Year|Month|DayofMonth|DayOfWeek|DepTime|CRSDepTime|ArrTime|CRSArrTime|UniqueCarrier|FlightNum|TailNum|ActualElapsedTime|CRSElapsedTime|AirTime|ArrDelay|DepDelay|Origin|Dest|Distance|TaxiIn|TaxiOut|Cancelled|CancellationCode|Diverted|CarrierDelay|WeatherDelay|NASDelay|SecurityDelay|LateAircraftDelay|\n",
      "+---+----+-----+----------+---------+-------+----------+-------+----------+-------------+---------+-------+-----------------+--------------+-------+--------+--------+------+----+--------+------+-------+---------+----------------+--------+------------+------------+--------+-------------+-----------------+\n",
      "|  0|2008|    1|         3|        4|   2003|      1955|   2211|      2225|           WN|      335| N712SW|              128|           150|    116|     -14|       8|   IAD| TPA|     810|     4|      8|        0|               N|       0|        null|        null|    null|         null|             null|\n",
      "|  1|2008|    1|         3|        4|    754|       735|   1002|      1000|           WN|     3231| N772SW|              128|           145|    113|       2|      19|   IAD| TPA|     810|     5|     10|        0|               N|       0|        null|        null|    null|         null|             null|\n",
      "|  2|2008|    1|         3|        4|    628|       620|    804|       750|           WN|      448| N428WN|               96|            90|     76|      14|       8|   IND| BWI|     515|     3|     17|        0|               N|       0|        null|        null|    null|         null|             null|\n",
      "|  4|2008|    1|         3|        4|   1829|      1755|   1959|      1925|           WN|     3920| N464WN|               90|            90|     77|      34|      34|   IND| BWI|     515|     3|     10|        0|               N|       0|           2|           0|       0|            0|               32|\n",
      "|  5|2008|    1|         3|        4|   1940|      1915|   2121|      2110|           WN|      378| N726SW|              101|           115|     87|      11|      25|   IND| JAX|     688|     4|     10|        0|               N|       0|        null|        null|    null|         null|             null|\n",
      "|  6|2008|    1|         3|        4|   1937|      1830|   2037|      1940|           WN|      509| N763SW|              240|           250|    230|      57|      67|   IND| LAS|    1591|     3|      7|        0|               N|       0|          10|           0|       0|            0|               47|\n",
      "| 10|2008|    1|         3|        4|    706|       700|    916|       915|           WN|      100| N690SW|              130|           135|    106|       1|       6|   IND| MCO|     828|     5|     19|        0|               N|       0|        null|        null|    null|         null|             null|\n",
      "| 11|2008|    1|         3|        4|   1644|      1510|   1845|      1725|           WN|     1333| N334SW|              121|           135|    107|      80|      94|   IND| MCO|     828|     6|      8|        0|               N|       0|           8|           0|       0|            0|               72|\n",
      "| 15|2008|    1|         3|        4|   1029|      1020|   1021|      1010|           WN|     2272| N263WN|               52|            50|     37|      11|       9|   IND| MDW|     162|     6|      9|        0|               N|       0|        null|        null|    null|         null|             null|\n",
      "| 16|2008|    1|         3|        4|   1452|      1425|   1640|      1625|           WN|      675| N286WN|              228|           240|    213|      15|      27|   IND| PHX|    1489|     7|      8|        0|               N|       0|           3|           0|       0|            0|               12|\n",
      "| 17|2008|    1|         3|        4|    754|       745|    940|       955|           WN|     1144| N778SW|              226|           250|    205|     -15|       9|   IND| PHX|    1489|     5|     16|        0|               N|       0|        null|        null|    null|         null|             null|\n",
      "| 18|2008|    1|         3|        4|   1323|      1255|   1526|      1510|           WN|        4| N674AA|              123|           135|    110|      16|      28|   IND| TPA|     838|     4|      9|        0|               N|       0|           0|           0|       0|            0|               16|\n",
      "| 19|2008|    1|         3|        4|   1416|      1325|   1512|      1435|           WN|       54| N643SW|               56|            70|     49|      37|      51|   ISP| BWI|     220|     2|      5|        0|               N|       0|          12|           0|       0|            0|               25|\n",
      "| 21|2008|    1|         3|        4|   1657|      1625|   1754|      1735|           WN|      623| N724SW|               57|            70|     47|      19|      32|   ISP| BWI|     220|     5|      5|        0|               N|       0|           7|           0|       0|            0|               12|\n",
      "| 22|2008|    1|         3|        4|   1900|      1840|   1956|      1950|           WN|      717| N786SW|               56|            70|     49|       6|      20|   ISP| BWI|     220|     2|      5|        0|               N|       0|        null|        null|    null|         null|             null|\n",
      "| 23|2008|    1|         3|        4|   1039|      1030|   1133|      1140|           WN|     1244| N714CB|               54|            70|     47|      -7|       9|   ISP| BWI|     220|     2|      5|        0|               N|       0|        null|        null|    null|         null|             null|\n",
      "| 25|2008|    1|         3|        4|   1520|      1455|   1619|      1605|           WN|     2553| N394SW|               59|            70|     50|      14|      25|   ISP| BWI|     220|     2|      7|        0|               N|       0|        null|        null|    null|         null|             null|\n",
      "| 26|2008|    1|         3|        4|   1422|      1255|   1657|      1610|           WN|      188| N215WN|              155|           195|    143|      47|      87|   ISP| FLL|    1093|     6|      6|        0|               N|       0|          40|           0|       0|            0|                7|\n",
      "| 27|2008|    1|         3|        4|   1954|      1925|   2239|      2235|           WN|     1754| N243WN|              165|           190|    155|       4|      29|   ISP| FLL|    1093|     3|      7|        0|               N|       0|        null|        null|    null|         null|             null|\n",
      "| 30|2008|    1|         3|        4|   2107|      1945|   2334|      2230|           WN|      362| N798SW|              147|           165|    134|      64|      82|   ISP| MCO|     972|     6|      7|        0|               N|       0|           5|           0|       0|            0|               59|\n",
      "+---+----+-----+----------+---------+-------+----------+-------+----------+-------------+---------+-------+-----------------+--------------+-------+--------+--------+------+----+--------+------+-------+---------+----------------+--------+------------+------------+--------+-------------+-----------------+\n",
      "only showing top 20 rows\n",
      "\n"
     ]
    }
   ],
   "source": [
    "# Read in data. \n",
    "from pyspark import SparkFiles\n",
    "url = \"https://2u-data-curriculum-team.s3.amazonaws.com/dataviz-classroom/v1.2/22-big-data/3/DelayedFlights.csv\"\n",
    "spark.sparkContext.addFile(url)\n",
    "df = spark.read.csv(SparkFiles.get(\"DelayedFlights.csv\"), sep=\",\", header=True)\n",
    "df.show()"
   ]
  },
  {
   "cell_type": "code",
   "execution_count": 4,
   "metadata": {
    "id": "_j5nmOX23rRo"
   },
   "outputs": [],
   "source": [
    "# Create a temporary view\n",
    "df.createOrReplaceTempView('delays')"
   ]
  },
  {
   "cell_type": "code",
   "execution_count": 5,
   "metadata": {
    "colab": {
     "base_uri": "https://localhost:8080/"
    },
    "id": "G8F9xBpp7Hzm",
    "outputId": "f113d46a-26b3-4ebe-d97f-cb7f337cab1e"
   },
   "outputs": [
    {
     "name": "stdout",
     "output_type": "stream",
     "text": [
      "+-------------+------+\n",
      "|UniqueCarrier|Origin|\n",
      "+-------------+------+\n",
      "|           XE|   ABQ|\n",
      "|           XE|   MCI|\n",
      "|           XE|   ABQ|\n",
      "|           XE|   MCI|\n",
      "|           XE|   CRW|\n",
      "|           XE|   MEM|\n",
      "|           XE|   RDU|\n",
      "|           XE|   BHM|\n",
      "|           XE|   MKE|\n",
      "|           XE|   LFT|\n",
      "|           XE|   BRO|\n",
      "|           XE|   ICT|\n",
      "|           XE|   MCI|\n",
      "|           XE|   MSP|\n",
      "|           XE|   BNA|\n",
      "|           XE|   SDF|\n",
      "|           XE|   JAX|\n",
      "|           XE|   ORF|\n",
      "|           XE|   BNA|\n",
      "|           XE|   ICT|\n",
      "+-------------+------+\n",
      "only showing top 20 rows\n",
      "\n"
     ]
    }
   ],
   "source": [
    "# Get the first five airline carriers and their origin that will arrive at George Bush Intercontinental Airport (IAH) in Houston. \n",
    "# Hint: Pass in the airport code as a string.\n",
    "spark.sql(\"SELECT UniqueCarrier, Origin FROM delays WHERE Dest='IAH'\").show()"
   ]
  },
  {
   "cell_type": "code",
   "execution_count": 6,
   "metadata": {
    "colab": {
     "base_uri": "https://localhost:8080/"
    },
    "id": "yG_0Nm4BA_QB",
    "outputId": "2d306d6b-5396-4ccd-e6b0-9b1652ba0ea0"
   },
   "outputs": [
    {
     "name": "stdout",
     "output_type": "stream",
     "text": [
      "+-------------+------+----+\n",
      "|UniqueCarrier|Origin|Dest|\n",
      "+-------------+------+----+\n",
      "|           WN|   IAD| TPA|\n",
      "|           WN|   IAD| TPA|\n",
      "|           WN|   IND| BWI|\n",
      "|           WN|   IND| BWI|\n",
      "|           WN|   IND| JAX|\n",
      "|           WN|   IND| LAS|\n",
      "|           WN|   IND| MCO|\n",
      "|           WN|   IND| MCO|\n",
      "|           WN|   IND| MDW|\n",
      "|           WN|   IND| PHX|\n",
      "|           WN|   IND| PHX|\n",
      "|           WN|   IND| TPA|\n",
      "|           WN|   ISP| BWI|\n",
      "|           WN|   ISP| BWI|\n",
      "|           WN|   ISP| BWI|\n",
      "|           WN|   ISP| BWI|\n",
      "|           WN|   ISP| BWI|\n",
      "|           WN|   ISP| FLL|\n",
      "|           WN|   ISP| FLL|\n",
      "|           WN|   ISP| MCO|\n",
      "+-------------+------+----+\n",
      "only showing top 20 rows\n",
      "\n"
     ]
    }
   ],
   "source": [
    "# Get all the origin and destination of all the Southwest (WN) flights.\n",
    "spark.sql(\"SELECT UniqueCarrier, Origin, Dest FROM delays WHERE UniqueCarrier=='WN'\").show()"
   ]
  },
  {
   "cell_type": "code",
   "execution_count": 7,
   "metadata": {},
   "outputs": [
    {
     "name": "stderr",
     "output_type": "stream",
     "text": [
      "\r",
      "[Stage 4:>                                                          (0 + 8) / 8]\r"
     ]
    },
    {
     "name": "stdout",
     "output_type": "stream",
     "text": [
      "+-------------+------+----+--------------+\n",
      "|UniqueCarrier|Origin|Dest|CRSElapsedTime|\n",
      "+-------------+------+----+--------------+\n",
      "|           OO|   ORD| FSD|            99|\n",
      "|           XE|   XNA| IAH|            99|\n",
      "|           US|   CLT| MCO|            99|\n",
      "|           XE|   CLE| BNA|            99|\n",
      "|           FL|   ATL| CAK|            99|\n",
      "|           XE|   IAH| MGM|            99|\n",
      "|           US|   SLC| PHX|            99|\n",
      "|           XE|   CLE| MHT|            99|\n",
      "|           AS|   OAK| PDX|            99|\n",
      "|           XE|   CLE| MHT|            99|\n",
      "+-------------+------+----+--------------+\n",
      "\n"
     ]
    },
    {
     "name": "stderr",
     "output_type": "stream",
     "text": [
      "\r",
      "[Stage 4:=======>                                                   (1 + 7) / 8]\r",
      "\r",
      "                                                                                \r"
     ]
    }
   ],
   "source": [
    "# Get the carrier, the origin, the destination, and the elapsed time of the 10 flights in descending order.\n",
    "spark.sql(\"SELECT UniqueCarrier, Origin, Dest, CRSElapsedTime FROM delays ORDER BY CRSElapsedTime DESC LIMIT 10\").show()"
   ]
  },
  {
   "cell_type": "code",
   "execution_count": 8,
   "metadata": {},
   "outputs": [
    {
     "name": "stderr",
     "output_type": "stream",
     "text": [
      "[Stage 5:=======>                                                   (1 + 7) / 8]\r"
     ]
    },
    {
     "name": "stdout",
     "output_type": "stream",
     "text": [
      "+-------------+--------------+\n",
      "|UniqueCarrier|Total_Diverted|\n",
      "+-------------+--------------+\n",
      "|           WN|         739.0|\n",
      "|           AA|         469.0|\n",
      "|           MQ|         370.0|\n",
      "|           XE|         293.0|\n",
      "|           OO|         292.0|\n",
      "|           UA|         244.0|\n",
      "|           DL|         196.0|\n",
      "|           US|         189.0|\n",
      "|           FL|         179.0|\n",
      "|           9E|         155.0|\n",
      "|           NW|         145.0|\n",
      "|           YV|         130.0|\n",
      "|           CO|         130.0|\n",
      "|           AS|         125.0|\n",
      "|           OH|         104.0|\n",
      "|           B6|          97.0|\n",
      "|           F9|          29.0|\n",
      "|           AQ|           6.0|\n",
      "|           HA|           4.0|\n",
      "|           EV|           0.0|\n",
      "+-------------+--------------+\n",
      "\n"
     ]
    },
    {
     "name": "stderr",
     "output_type": "stream",
     "text": [
      "\r",
      "                                                                                \r"
     ]
    }
   ],
   "source": [
    "# Get the total number of diverted flights from each airline carrier, and group the results by carrier \n",
    "# Order by the total number of diverted flights in descending order.\n",
    "spark.sql(\"SELECT UniqueCarrier, SUM(Diverted) AS Total_Diverted FROM delays GROUP BY UniqueCarrier ORDER BY Total_Diverted DESC\").show()"
   ]
  },
  {
   "cell_type": "code",
   "execution_count": 9,
   "metadata": {
    "id": "khAGegwu-a6a"
   },
   "outputs": [
    {
     "name": "stderr",
     "output_type": "stream",
     "text": [
      "[Stage 8:=======>                                                   (1 + 7) / 8]\r"
     ]
    },
    {
     "name": "stdout",
     "output_type": "stream",
     "text": [
      "+-------------+------------------+------------------+\n",
      "|UniqueCarrier|       AvgArrDelay|       AvgDepDelay|\n",
      "+-------------+------------------+------------------+\n",
      "|           UA| 49.28722883905207| 50.31698812513716|\n",
      "|           NW| 45.91269035532995| 41.70838669696344|\n",
      "|           EV| 43.73542611378617| 45.39245477069796|\n",
      "|           DL| 38.02667789369917|37.734883816069384|\n",
      "|           OO| 46.39657709707309| 45.18429695982628|\n",
      "|           F9|26.108155473493145|  25.6334499562664|\n",
      "|           YV| 58.51809551208285| 58.29157351676698|\n",
      "|           US| 35.11325534609939| 38.55870287528075|\n",
      "|           MQ| 47.34964387897973|  44.9969698806133|\n",
      "|           OH| 48.05260258881851| 46.26107985729967|\n",
      "|           HA|33.811415349016585| 34.00154023873701|\n",
      "|           XE| 49.51955145712174| 49.27562001311182|\n",
      "|           FL|42.621279239371184|41.083868713206634|\n",
      "|           WN|30.125679687682634| 34.08278198151185|\n",
      "|           AA| 47.79455631216452|   46.840312257564|\n",
      "|           B6| 49.45584295814852| 50.69227741822634|\n",
      "|           AQ| 21.25537634408602|             26.68|\n",
      "|           AS|36.114195276357435|38.888600253730445|\n",
      "|           CO| 38.92512230476535|41.107583216656884|\n",
      "|           9E|47.996243449712736| 48.38912449345019|\n",
      "+-------------+------------------+------------------+\n",
      "\n"
     ]
    },
    {
     "name": "stderr",
     "output_type": "stream",
     "text": [
      "\r",
      "                                                                                \r"
     ]
    }
   ],
   "source": [
    "# Get the average time for delayed departures and arrivals for each carrier.\n",
    "# Group the results by the carrier.\n",
    "query = \"\"\"\n",
    "SELECT UniqueCarrier, AVG(ArrDelay) AS AvgArrDelay, AVG(DepDelay) AS AvgDepDelay\n",
    "FROM delays\n",
    "GROUP BY UniqueCarrier\n",
    "\"\"\"\n",
    "spark.sql(query).show()"
   ]
  },
  {
   "cell_type": "code",
   "execution_count": null,
   "metadata": {},
   "outputs": [],
   "source": []
  }
 ],
 "metadata": {
  "colab": {
   "collapsed_sections": [],
   "name": "Amazon_Vine_Temporary_View_solution.ipynb",
   "provenance": []
  },
  "kernelspec": {
   "display_name": "Python 3 (ipykernel)",
   "language": "python",
   "name": "python3"
  },
  "language_info": {
   "codemirror_mode": {
    "name": "ipython",
    "version": 3
   },
   "file_extension": ".py",
   "mimetype": "text/x-python",
   "name": "python",
   "nbconvert_exporter": "python",
   "pygments_lexer": "ipython3",
   "version": "3.9.15"
  }
 },
 "nbformat": 4,
 "nbformat_minor": 1
}
