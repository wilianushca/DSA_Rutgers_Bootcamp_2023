{
 "cells": [
  {
   "cell_type": "code",
   "execution_count": 1,
   "metadata": {
    "colab": {
     "base_uri": "https://localhost:8080/"
    },
    "id": "sw2Jr5lXFWIH",
    "outputId": "85ec80a8-8e9a-49c9-df10-b22b44eb8671",
    "vscode": {
     "languageId": "python"
    }
   },
   "outputs": [],
   "source": [
    "# Import findspark and initialize. \n",
    "import findspark\n",
    "findspark.init()"
   ]
  },
  {
   "cell_type": "code",
   "execution_count": 2,
   "metadata": {
    "id": "YPVEwydNFZss",
    "vscode": {
     "languageId": "python"
    }
   },
   "outputs": [
    {
     "name": "stderr",
     "output_type": "stream",
     "text": [
      "Setting default log level to \"WARN\".\n",
      "To adjust logging level use sc.setLogLevel(newLevel). For SparkR, use setLogLevel(newLevel).\n"
     ]
    },
    {
     "name": "stdout",
     "output_type": "stream",
     "text": [
      "23/02/08 11:33:54 WARN NativeCodeLoader: Unable to load native-hadoop library for your platform... using builtin-java classes where applicable\n"
     ]
    }
   ],
   "source": [
    "# Import packages\n",
    "from pyspark.sql import SparkSession\n",
    "from pyspark.sql import Row\n",
    "from pyspark.sql.types import StructType,StructField,StringType, DateType,IntegerType\n",
    "\n",
    "# Create a SparkSession\n",
    "spark = SparkSession.builder.appName(\"SparkSQL\").getOrCreate()"
   ]
  },
  {
   "cell_type": "code",
   "execution_count": 3,
   "metadata": {},
   "outputs": [
    {
     "name": "stderr",
     "output_type": "stream",
     "text": [
      "                                                                                \r"
     ]
    },
    {
     "name": "stdout",
     "output_type": "stream",
     "text": [
      "+---+--------------------+---+---+------+------+--------------+---+-----------+----+------+-----------+--------------------+--------------------+-----+\n",
      "| ID|                Name|Sex|Age|Height|Weight|          Team|NOC|      Games|Year|Season|       City|               Sport|               Event|Medal|\n",
      "+---+--------------------+---+---+------+------+--------------+---+-----------+----+------+-----------+--------------------+--------------------+-----+\n",
      "|  1|           A Dijiang|  M| 24|   180|    80|         China|CHN|1992 Summer|1992|Summer|  Barcelona|          Basketball|Basketball Men's ...|   NA|\n",
      "|  2|            A Lamusi|  M| 23|   170|    60|         China|CHN|2012 Summer|2012|Summer|     London|                Judo|Judo Men's Extra-...|   NA|\n",
      "|  3| Gunnar Nielsen Aaby|  M| 24|    NA|    NA|       Denmark|DEN|1920 Summer|1920|Summer|  Antwerpen|            Football|Football Men's Fo...|   NA|\n",
      "|  4|Edgar Lindenau Aabye|  M| 34|    NA|    NA|Denmark/Sweden|DEN|1900 Summer|1900|Summer|      Paris|          Tug-Of-War|Tug-Of-War Men's ...| Gold|\n",
      "|  5|Christine Jacoba ...|  F| 21|   185|    82|   Netherlands|NED|1988 Winter|1988|Winter|    Calgary|       Speed Skating|Speed Skating Wom...|   NA|\n",
      "|  5|Christine Jacoba ...|  F| 21|   185|    82|   Netherlands|NED|1988 Winter|1988|Winter|    Calgary|       Speed Skating|Speed Skating Wom...|   NA|\n",
      "|  5|Christine Jacoba ...|  F| 25|   185|    82|   Netherlands|NED|1992 Winter|1992|Winter|Albertville|       Speed Skating|Speed Skating Wom...|   NA|\n",
      "|  5|Christine Jacoba ...|  F| 25|   185|    82|   Netherlands|NED|1992 Winter|1992|Winter|Albertville|       Speed Skating|Speed Skating Wom...|   NA|\n",
      "|  5|Christine Jacoba ...|  F| 27|   185|    82|   Netherlands|NED|1994 Winter|1994|Winter|Lillehammer|       Speed Skating|Speed Skating Wom...|   NA|\n",
      "|  5|Christine Jacoba ...|  F| 27|   185|    82|   Netherlands|NED|1994 Winter|1994|Winter|Lillehammer|       Speed Skating|Speed Skating Wom...|   NA|\n",
      "|  6|     Per Knut Aaland|  M| 31|   188|    75| United States|USA|1992 Winter|1992|Winter|Albertville|Cross Country Skiing|Cross Country Ski...|   NA|\n",
      "|  6|     Per Knut Aaland|  M| 31|   188|    75| United States|USA|1992 Winter|1992|Winter|Albertville|Cross Country Skiing|Cross Country Ski...|   NA|\n",
      "|  6|     Per Knut Aaland|  M| 31|   188|    75| United States|USA|1992 Winter|1992|Winter|Albertville|Cross Country Skiing|Cross Country Ski...|   NA|\n",
      "|  6|     Per Knut Aaland|  M| 31|   188|    75| United States|USA|1992 Winter|1992|Winter|Albertville|Cross Country Skiing|Cross Country Ski...|   NA|\n",
      "|  6|     Per Knut Aaland|  M| 33|   188|    75| United States|USA|1994 Winter|1994|Winter|Lillehammer|Cross Country Skiing|Cross Country Ski...|   NA|\n",
      "|  6|     Per Knut Aaland|  M| 33|   188|    75| United States|USA|1994 Winter|1994|Winter|Lillehammer|Cross Country Skiing|Cross Country Ski...|   NA|\n",
      "|  6|     Per Knut Aaland|  M| 33|   188|    75| United States|USA|1994 Winter|1994|Winter|Lillehammer|Cross Country Skiing|Cross Country Ski...|   NA|\n",
      "|  6|     Per Knut Aaland|  M| 33|   188|    75| United States|USA|1994 Winter|1994|Winter|Lillehammer|Cross Country Skiing|Cross Country Ski...|   NA|\n",
      "|  7|        John Aalberg|  M| 31|   183|    72| United States|USA|1992 Winter|1992|Winter|Albertville|Cross Country Skiing|Cross Country Ski...|   NA|\n",
      "|  7|        John Aalberg|  M| 31|   183|    72| United States|USA|1992 Winter|1992|Winter|Albertville|Cross Country Skiing|Cross Country Ski...|   NA|\n",
      "+---+--------------------+---+---+------+------+--------------+---+-----------+----+------+-----------+--------------------+--------------------+-----+\n",
      "only showing top 20 rows\n",
      "\n"
     ]
    }
   ],
   "source": [
    "# Read in data from S3 Buckets\n",
    "from pyspark import SparkFiles\n",
    "url = \"https://2u-data-curriculum-team.s3.amazonaws.com/dataviz-classroom/v1.2/22-big-data/2/athlete_events.csv\"\n",
    "spark.sparkContext.addFile(url)\n",
    "df = spark.read.csv(SparkFiles.get(\"athlete_events.csv\"), header=True, inferSchema=True, quote=\"\\\"\", escape=\"\\\"\")\n",
    "\n",
    "# Show DataFrame\n",
    "df.show()"
   ]
  },
  {
   "cell_type": "code",
   "execution_count": 4,
   "metadata": {
    "id": "3_hMkh2sT8jm",
    "vscode": {
     "languageId": "python"
    }
   },
   "outputs": [],
   "source": [
    "#Create a temporary view.\n",
    "df.createOrReplaceTempView('games')"
   ]
  },
  {
   "cell_type": "code",
   "execution_count": 5,
   "metadata": {
    "colab": {
     "base_uri": "https://localhost:8080/"
    },
    "id": "XUJVk6fQYTyy",
    "outputId": "468fa29f-4126-47d7-9adc-bb883e6563c4",
    "vscode": {
     "languageId": "python"
    }
   },
   "outputs": [
    {
     "name": "stderr",
     "output_type": "stream",
     "text": [
      "\r",
      "[Stage 3:=======>                                                   (1 + 7) / 8]\r"
     ]
    },
    {
     "name": "stdout",
     "output_type": "stream",
     "text": [
      "+---------------------+\n",
      "|count(DISTINCT sport)|\n",
      "+---------------------+\n",
      "|                   34|\n",
      "+---------------------+\n",
      "\n"
     ]
    },
    {
     "name": "stderr",
     "output_type": "stream",
     "text": [
      "\r",
      "                                                                                \r"
     ]
    }
   ],
   "source": [
    "# Get the numover of distinct sports played in 2016\n",
    "spark.sql(\"SELECT count(distinct sport) FROM games WHERE year=2016\").show()"
   ]
  },
  {
   "cell_type": "code",
   "execution_count": 6,
   "metadata": {
    "colab": {
     "base_uri": "https://localhost:8080/"
    },
    "id": "tXyNWna1ci1v",
    "outputId": "c4c2bfd1-bd55-47db-ca6f-44fbcd56c9f2",
    "vscode": {
     "languageId": "python"
    }
   },
   "outputs": [
    {
     "name": "stdout",
     "output_type": "stream",
     "text": [
      "+---------------------+\n",
      "|count(DISTINCT sport)|\n",
      "+---------------------+\n",
      "|                   32|\n",
      "+---------------------+\n",
      "\n"
     ]
    }
   ],
   "source": [
    "# Get the number of distinct sports played in 2012\n",
    "spark.sql(\"SELECT count(distinct sport) FROM games WHERE year=2012\").show()"
   ]
  },
  {
   "cell_type": "code",
   "execution_count": 7,
   "metadata": {
    "colab": {
     "base_uri": "https://localhost:8080/"
    },
    "id": "gmuokNVHe_SH",
    "outputId": "54ae6849-1ee8-44ec-f240-c56d70eb0aad",
    "vscode": {
     "languageId": "python"
    }
   },
   "outputs": [
    {
     "name": "stdout",
     "output_type": "stream",
     "text": [
      "+------------+\n",
      "|       sport|\n",
      "+------------+\n",
      "|        Golf|\n",
      "|Rugby Sevens|\n",
      "+------------+\n",
      "\n"
     ]
    }
   ],
   "source": [
    "# Write a subquery to get the distinct sports played in 2016 but not in 2012.\n",
    "spark.sql(\"\"\"\n",
    "    SELECT DISTINCT sport \n",
    "    FROM games \n",
    "    WHERE year=2016 AND sport NOT IN \n",
    "      (SELECT DISTINCT sport \n",
    "      FROM games \n",
    "      WHERE year=2012)\n",
    "    \"\"\").show()"
   ]
  },
  {
   "cell_type": "code",
   "execution_count": 8,
   "metadata": {
    "colab": {
     "base_uri": "https://localhost:8080/"
    },
    "id": "Nclw6gcIdcAG",
    "outputId": "8c301ebb-ed09-4f6e-ddaf-26fc3ff2eb6b",
    "vscode": {
     "languageId": "python"
    }
   },
   "outputs": [
    {
     "name": "stdout",
     "output_type": "stream",
     "text": [
      "+------------+\n",
      "|       sport|\n",
      "+------------+\n",
      "|        Golf|\n",
      "|Rugby Sevens|\n",
      "+------------+\n",
      "\n"
     ]
    }
   ],
   "source": [
    "# Another option could be using an EXCEPT\n",
    "spark.sql(\"\"\"\n",
    "    SELECT DISTINCT sport \n",
    "    FROM games \n",
    "    WHERE year=2016 \n",
    "    EXCEPT\n",
    "        SELECT \n",
    "      distinct\n",
    "      sport \n",
    "    FROM games \n",
    "    WHERE year=2012\n",
    "    \"\"\").show()"
   ]
  },
  {
   "cell_type": "markdown",
   "metadata": {
    "id": "tis9fkizgn1q"
   },
   "source": [
    "Question 2: Which sports have been played since the first summer Olympics?"
   ]
  },
  {
   "cell_type": "code",
   "execution_count": 9,
   "metadata": {
    "colab": {
     "base_uri": "https://localhost:8080/"
    },
    "id": "Y1edN4Jlfack",
    "outputId": "7384844c-f673-43d0-f4d0-df5c510c0f50",
    "vscode": {
     "languageId": "python"
    }
   },
   "outputs": [
    {
     "name": "stdout",
     "output_type": "stream",
     "text": [
      "+---------+\n",
      "|min(year)|\n",
      "+---------+\n",
      "|     1896|\n",
      "+---------+\n",
      "\n"
     ]
    }
   ],
   "source": [
    "# Get the year of the earliest Olympics in our data\n",
    "spark.sql(\"\"\"SELECT min(year) FROM games\"\"\").show()"
   ]
  },
  {
   "cell_type": "code",
   "execution_count": 10,
   "metadata": {
    "colab": {
     "base_uri": "https://localhost:8080/"
    },
    "id": "av4Lem9VhKh8",
    "outputId": "e14bf775-10e7-4470-8c72-5838f62c0d40",
    "vscode": {
     "languageId": "python"
    }
   },
   "outputs": [
    {
     "name": "stdout",
     "output_type": "stream",
     "text": [
      "+-------------+\n",
      "|        sport|\n",
      "+-------------+\n",
      "|   Gymnastics|\n",
      "|       Tennis|\n",
      "|     Swimming|\n",
      "|    Athletics|\n",
      "|     Shooting|\n",
      "|      Cycling|\n",
      "|      Fencing|\n",
      "|    Wrestling|\n",
      "|Weightlifting|\n",
      "+-------------+\n",
      "\n"
     ]
    }
   ],
   "source": [
    "# Get the sports that were played in the earliest Olympic games in our data\n",
    "spark.sql(\"\"\"\n",
    "      SELECT \n",
    "      DISTINCT sport \n",
    "      FROM games \n",
    "      WHERE year=1896\"\"\").show()"
   ]
  },
  {
   "cell_type": "code",
   "execution_count": 11,
   "metadata": {
    "colab": {
     "base_uri": "https://localhost:8080/"
    },
    "id": "nUqJkqWzhZ67",
    "outputId": "88ec4be6-2d8c-49c3-b94c-8fca893acaeb",
    "vscode": {
     "languageId": "python"
    }
   },
   "outputs": [
    {
     "name": "stdout",
     "output_type": "stream",
     "text": [
      "+-------------+\n",
      "|        sport|\n",
      "+-------------+\n",
      "|   Gymnastics|\n",
      "|       Tennis|\n",
      "|     Swimming|\n",
      "|    Athletics|\n",
      "|     Shooting|\n",
      "|    Wrestling|\n",
      "|Weightlifting|\n",
      "|      Cycling|\n",
      "|      Fencing|\n",
      "+-------------+\n",
      "\n"
     ]
    }
   ],
   "source": [
    "# Determine which sports were in both the 1896 Olympics and the 2016 Olympics\n",
    "spark.sql(\"\"\"\n",
    "  SELECT \n",
    "    DISTINCT \n",
    "      a.sport \n",
    "  FROM games a \n",
    "    JOIN \n",
    "        (SELECT DISTINCT sport FROM games WHERE year=1896) b \n",
    "    ON \n",
    "      a.sport=b.sport \n",
    "  WHERE a.year=2016\"\"\").show()"
   ]
  },
  {
   "cell_type": "markdown",
   "metadata": {
    "id": "GP4dn8pGjBVF"
   },
   "source": [
    "Question 3: Who are the top 5 athletes that won most gold, silver and bronze medals?"
   ]
  },
  {
   "cell_type": "code",
   "execution_count": 12,
   "metadata": {
    "colab": {
     "base_uri": "https://localhost:8080/"
    },
    "id": "fUDuMDVjjQcy",
    "outputId": "7886b832-d7cc-4208-ce33-fe0fce3d46c5",
    "vscode": {
     "languageId": "python"
    }
   },
   "outputs": [
    {
     "name": "stdout",
     "output_type": "stream",
     "text": [
      "+----------------------------------+-----+----------+\n",
      "|Name                              |medal|medalCount|\n",
      "+----------------------------------+-----+----------+\n",
      "|Michael Fred Phelps, II           |Gold |23        |\n",
      "|Raymond Clarence \"Ray\" Ewry       |Gold |10        |\n",
      "|Larysa Semenivna Latynina (Diriy-)|Gold |9         |\n",
      "|Frederick Carlton \"Carl\" Lewis    |Gold |9         |\n",
      "|Mark Andrew Spitz                 |Gold |9         |\n",
      "+----------------------------------+-----+----------+\n",
      "\n"
     ]
    },
    {
     "name": "stderr",
     "output_type": "stream",
     "text": [
      "\r",
      "[Stage 39:===========================================>              (6 + 2) / 8]\r",
      "\r",
      "                                                                                \r"
     ]
    }
   ],
   "source": [
    "# Who are the top 5 Gold medal winners in the Olympics \n",
    "spark.sql(\"\"\"\n",
    "SELECT \n",
    "  Name,\n",
    "  medal, \n",
    "  count(*) as medalCount \n",
    "FROM games \n",
    "WHERE medal ='Gold' GROUP BY Name, medal \n",
    "ORDER BY medalCount desc\n",
    "LIMIT 5 \n",
    "\"\"\").show(truncate=False)\n"
   ]
  },
  {
   "cell_type": "code",
   "execution_count": 13,
   "metadata": {
    "colab": {
     "base_uri": "https://localhost:8080/"
    },
    "id": "dCoDsurkP7Q3",
    "outputId": "e43aed35-7fe7-45c6-9340-c5196598dfa3",
    "vscode": {
     "languageId": "python"
    }
   },
   "outputs": [
    {
     "name": "stdout",
     "output_type": "stream",
     "text": [
      "+-------------------------------+------+----------+\n",
      "|Name                           |medal |medalCount|\n",
      "+-------------------------------+------+----------+\n",
      "|Aleksandr Nikolayevich Dityatin|Silver|6         |\n",
      "|Shirley Frances Babashoff      |Silver|6         |\n",
      "|Aleksandr Vladimirovich Popov  |Silver|6         |\n",
      "|Mikhail Yakovlevich Voronin    |Silver|6         |\n",
      "|Yang Yang                      |Silver|6         |\n",
      "+-------------------------------+------+----------+\n",
      "\n"
     ]
    }
   ],
   "source": [
    "# Who are the top 5 Silver medal winners\n",
    "spark.sql(\"\"\"\n",
    "SELECT \n",
    "  Name,\n",
    "  medal, \n",
    "  count(*) as medalCount \n",
    "FROM games \n",
    "WHERE medal ='Silver' GROUP BY Name, medal \n",
    "ORDER BY medalCount desc\n",
    "LIMIT 5 \n",
    "\"\"\").show(truncate=False)\n"
   ]
  },
  {
   "cell_type": "code",
   "execution_count": 14,
   "metadata": {
    "colab": {
     "base_uri": "https://localhost:8080/"
    },
    "id": "GNdWgmuwRw8A",
    "outputId": "a3fd110c-2c3e-4666-e850-f529fe325621",
    "vscode": {
     "languageId": "python"
    }
   },
   "outputs": [
    {
     "name": "stdout",
     "output_type": "stream",
     "text": [
      "+------------------------+------+----------+\n",
      "|Name                    |medal |medalCount|\n",
      "+------------------------+------+----------+\n",
      "|Heikki Ilmari Savolainen|Bronze|6         |\n",
      "|Harri Tapani Kirvesniemi|Bronze|6         |\n",
      "|Merlene Joyce Ottey-Page|Bronze|6         |\n",
      "|Aleksey Yuryevich Nemov |Bronze|6         |\n",
      "|Franziska van Almsick   |Bronze|6         |\n",
      "+------------------------+------+----------+\n",
      "\n"
     ]
    }
   ],
   "source": [
    "# Who are the top 5 Bronze medal winners\n",
    "spark.sql(\"\"\"\n",
    "SELECT \n",
    "  Name,\n",
    "  medal, \n",
    "  count(*) as medalCount \n",
    "FROM games \n",
    "WHERE medal ='Bronze' GROUP BY Name, medal \n",
    "ORDER BY medalCount desc\n",
    "LIMIT 5 \n",
    "\"\"\").show(truncate=False)"
   ]
  },
  {
   "cell_type": "markdown",
   "metadata": {
    "id": "Val6hYwgS7ma"
   },
   "source": [
    "Output the gold medal winners to csv\n",
    "\n",
    "Hint: since we have aggregated our data it is safe to go back to pandas"
   ]
  },
  {
   "cell_type": "code",
   "execution_count": 15,
   "metadata": {
    "id": "8M9WPLOiSOWm",
    "vscode": {
     "languageId": "python"
    }
   },
   "outputs": [],
   "source": [
    "import pandas as pd\n",
    "\n",
    "pandas_df=spark.sql(\"\"\"\n",
    "SELECT \n",
    "  Name,\n",
    "  medal, \n",
    "  count(*) as medalCount \n",
    "FROM games \n",
    "WHERE medal ='Gold' GROUP BY Name, medal \n",
    "ORDER BY medalCount desc\n",
    "LIMIT 5 \n",
    "\"\"\").toPandas()\n",
    "\n",
    "pandas_df.to_csv('top5Gold.csv')"
   ]
  },
  {
   "cell_type": "code",
   "execution_count": null,
   "metadata": {
    "id": "JfaKSZ-PTTMR",
    "vscode": {
     "languageId": "python"
    }
   },
   "outputs": [],
   "source": []
  }
 ],
 "metadata": {
  "colab": {
   "collapsed_sections": [],
   "name": "Olympic_Analysis_Solved.ipynb",
   "provenance": []
  },
  "kernelspec": {
   "display_name": "Python 3 (ipykernel)",
   "language": "python",
   "name": "python3"
  },
  "language_info": {
   "codemirror_mode": {
    "name": "ipython",
    "version": 3
   },
   "file_extension": ".py",
   "mimetype": "text/x-python",
   "name": "python",
   "nbconvert_exporter": "python",
   "pygments_lexer": "ipython3",
   "version": "3.10.4"
  }
 },
 "nbformat": 4,
 "nbformat_minor": 1
}
