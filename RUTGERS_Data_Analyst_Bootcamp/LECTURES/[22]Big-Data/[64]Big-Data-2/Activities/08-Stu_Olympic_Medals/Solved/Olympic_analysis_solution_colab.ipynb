{
 "cells": [
  {
   "cell_type": "code",
   "execution_count": 1,
   "metadata": {
    "colab": {
     "base_uri": "https://localhost:8080/"
    },
    "id": "sw2Jr5lXFWIH",
    "outputId": "76019ad7-974c-4726-8370-c118146f45b4",
    "vscode": {
     "languageId": "python"
    }
   },
   "outputs": [
    {
     "name": "stdout",
     "output_type": "stream",
     "text": [
      "\r",
      "0% [Working]\r",
      "            \r",
      "Get:1 https://cloud.r-project.org/bin/linux/ubuntu focal-cran40/ InRelease [3,622 B]\n",
      "\r",
      "0% [Connecting to archive.ubuntu.com (185.125.190.39)] [Waiting for headers] [1\r",
      "0% [Connecting to archive.ubuntu.com (185.125.190.39)] [Waiting for headers] [W\r",
      "                                                                               \r",
      "Get:2 http://security.ubuntu.com/ubuntu focal-security InRelease [114 kB]\n",
      "\r",
      "0% [Connecting to archive.ubuntu.com (185.125.190.39)] [2 InRelease 14.2 kB/114\r",
      "                                                                               \r",
      "Ign:3 https://developer.download.nvidia.com/compute/machine-learning/repos/ubuntu2004/x86_64  InRelease\n",
      "\r",
      "0% [Connecting to archive.ubuntu.com (185.125.190.39)] [2 InRelease 14.2 kB/114\r",
      "                                                                               \r",
      "Hit:4 https://developer.download.nvidia.com/compute/cuda/repos/ubuntu2004/x86_64  InRelease\n",
      "Hit:5 https://developer.download.nvidia.com/compute/machine-learning/repos/ubuntu2004/x86_64  Release\n",
      "Get:6 http://ppa.launchpad.net/c2d4u.team/c2d4u4.0+/ubuntu focal InRelease [18.1 kB]\n",
      "Hit:7 http://archive.ubuntu.com/ubuntu focal InRelease\n",
      "Get:8 http://archive.ubuntu.com/ubuntu focal-updates InRelease [114 kB]\n",
      "Hit:9 http://ppa.launchpad.net/cran/libgit2/ubuntu focal InRelease\n",
      "Get:10 http://ppa.launchpad.net/deadsnakes/ppa/ubuntu focal InRelease [18.1 kB]\n",
      "Get:11 http://archive.ubuntu.com/ubuntu focal-backports InRelease [108 kB]\n",
      "Hit:12 http://ppa.launchpad.net/graphics-drivers/ppa/ubuntu focal InRelease\n",
      "Get:14 http://security.ubuntu.com/ubuntu focal-security/main amd64 Packages [2,442 kB]\n",
      "Get:15 http://security.ubuntu.com/ubuntu focal-security/universe amd64 Packages [988 kB]\n",
      "Get:16 http://ppa.launchpad.net/c2d4u.team/c2d4u4.0+/ubuntu focal/main Sources [2,381 kB]\n",
      "Get:17 http://ppa.launchpad.net/c2d4u.team/c2d4u4.0+/ubuntu focal/main amd64 Packages [1,127 kB]\n",
      "Get:18 http://archive.ubuntu.com/ubuntu focal-updates/main amd64 Packages [2,920 kB]\n",
      "Get:19 http://ppa.launchpad.net/deadsnakes/ppa/ubuntu focal/main amd64 Packages [29.5 kB]\n",
      "Get:20 http://archive.ubuntu.com/ubuntu focal-updates/universe amd64 Packages [1,290 kB]\n",
      "Fetched 11.6 MB in 9s (1,249 kB/s)\n",
      "Reading package lists... Done\n"
     ]
    }
   ],
   "source": [
    "import os\n",
    "# Find the latest version of spark 3.x  from http://www.apache.org/dist/spark/ and enter as the spark version\n",
    "# For example:\n",
    "# spark_version = 'spark-3.4.0'\n",
    "spark_version = 'spark-3.4.0'\n",
    "os.environ['SPARK_VERSION']=spark_version\n",
    "\n",
    "# Install Spark and Java\n",
    "!apt-get update\n",
    "!apt-get install openjdk-11-jdk-headless -qq > /dev/null\n",
    "!wget -q http://www.apache.org/dist/spark/$SPARK_VERSION/$SPARK_VERSION-bin-hadoop3.tgz\n",
    "!tar xf $SPARK_VERSION-bin-hadoop3.tgz\n",
    "!pip install -q findspark\n",
    "\n",
    "# Set Environment Variables\n",
    "os.environ[\"JAVA_HOME\"] = \"/usr/lib/jvm/java-11-openjdk-amd64\"\n",
    "os.environ[\"SPARK_HOME\"] = f\"/content/{spark_version}-bin-hadoop3\"\n",
    "\n",
    "# Start a SparkSession\n",
    "import findspark\n",
    "findspark.init()"
   ]
  },
  {
   "cell_type": "code",
   "execution_count": 2,
   "metadata": {
    "id": "YPVEwydNFZss",
    "vscode": {
     "languageId": "python"
    }
   },
   "outputs": [],
   "source": [
    "# Import packages\n",
    "from pyspark.sql import SparkSession\n",
    "from pyspark.sql import Row\n",
    "from pyspark.sql.types import StructType,StructField,StringType, DateType,IntegerType\n",
    "\n",
    "# Create a SparkSession\n",
    "spark = SparkSession.builder.appName(\"SparkSQL\").getOrCreate()"
   ]
  },
  {
   "cell_type": "code",
   "execution_count": 3,
   "metadata": {
    "colab": {
     "base_uri": "https://localhost:8080/"
    },
    "id": "QNnoYbEqFh6W",
    "outputId": "90b7c387-2f96-4c72-8a2b-5e0d78117d88",
    "vscode": {
     "languageId": "python"
    }
   },
   "outputs": [
    {
     "name": "stdout",
     "output_type": "stream",
     "text": [
      "+---+--------------------+---+---+------+------+--------------+---+-----------+----+------+-----------+--------------------+--------------------+-----+\n",
      "| ID|                Name|Sex|Age|Height|Weight|          Team|NOC|      Games|Year|Season|       City|               Sport|               Event|Medal|\n",
      "+---+--------------------+---+---+------+------+--------------+---+-----------+----+------+-----------+--------------------+--------------------+-----+\n",
      "|  1|           A Dijiang|  M| 24|   180|    80|         China|CHN|1992 Summer|1992|Summer|  Barcelona|          Basketball|Basketball Men's ...|   NA|\n",
      "|  2|            A Lamusi|  M| 23|   170|    60|         China|CHN|2012 Summer|2012|Summer|     London|                Judo|Judo Men's Extra-...|   NA|\n",
      "|  3| Gunnar Nielsen Aaby|  M| 24|    NA|    NA|       Denmark|DEN|1920 Summer|1920|Summer|  Antwerpen|            Football|Football Men's Fo...|   NA|\n",
      "|  4|Edgar Lindenau Aabye|  M| 34|    NA|    NA|Denmark/Sweden|DEN|1900 Summer|1900|Summer|      Paris|          Tug-Of-War|Tug-Of-War Men's ...| Gold|\n",
      "|  5|Christine Jacoba ...|  F| 21|   185|    82|   Netherlands|NED|1988 Winter|1988|Winter|    Calgary|       Speed Skating|Speed Skating Wom...|   NA|\n",
      "|  5|Christine Jacoba ...|  F| 21|   185|    82|   Netherlands|NED|1988 Winter|1988|Winter|    Calgary|       Speed Skating|Speed Skating Wom...|   NA|\n",
      "|  5|Christine Jacoba ...|  F| 25|   185|    82|   Netherlands|NED|1992 Winter|1992|Winter|Albertville|       Speed Skating|Speed Skating Wom...|   NA|\n",
      "|  5|Christine Jacoba ...|  F| 25|   185|    82|   Netherlands|NED|1992 Winter|1992|Winter|Albertville|       Speed Skating|Speed Skating Wom...|   NA|\n",
      "|  5|Christine Jacoba ...|  F| 27|   185|    82|   Netherlands|NED|1994 Winter|1994|Winter|Lillehammer|       Speed Skating|Speed Skating Wom...|   NA|\n",
      "|  5|Christine Jacoba ...|  F| 27|   185|    82|   Netherlands|NED|1994 Winter|1994|Winter|Lillehammer|       Speed Skating|Speed Skating Wom...|   NA|\n",
      "|  6|     Per Knut Aaland|  M| 31|   188|    75| United States|USA|1992 Winter|1992|Winter|Albertville|Cross Country Skiing|Cross Country Ski...|   NA|\n",
      "|  6|     Per Knut Aaland|  M| 31|   188|    75| United States|USA|1992 Winter|1992|Winter|Albertville|Cross Country Skiing|Cross Country Ski...|   NA|\n",
      "|  6|     Per Knut Aaland|  M| 31|   188|    75| United States|USA|1992 Winter|1992|Winter|Albertville|Cross Country Skiing|Cross Country Ski...|   NA|\n",
      "|  6|     Per Knut Aaland|  M| 31|   188|    75| United States|USA|1992 Winter|1992|Winter|Albertville|Cross Country Skiing|Cross Country Ski...|   NA|\n",
      "|  6|     Per Knut Aaland|  M| 33|   188|    75| United States|USA|1994 Winter|1994|Winter|Lillehammer|Cross Country Skiing|Cross Country Ski...|   NA|\n",
      "|  6|     Per Knut Aaland|  M| 33|   188|    75| United States|USA|1994 Winter|1994|Winter|Lillehammer|Cross Country Skiing|Cross Country Ski...|   NA|\n",
      "|  6|     Per Knut Aaland|  M| 33|   188|    75| United States|USA|1994 Winter|1994|Winter|Lillehammer|Cross Country Skiing|Cross Country Ski...|   NA|\n",
      "|  6|     Per Knut Aaland|  M| 33|   188|    75| United States|USA|1994 Winter|1994|Winter|Lillehammer|Cross Country Skiing|Cross Country Ski...|   NA|\n",
      "|  7|        John Aalberg|  M| 31|   183|    72| United States|USA|1992 Winter|1992|Winter|Albertville|Cross Country Skiing|Cross Country Ski...|   NA|\n",
      "|  7|        John Aalberg|  M| 31|   183|    72| United States|USA|1992 Winter|1992|Winter|Albertville|Cross Country Skiing|Cross Country Ski...|   NA|\n",
      "+---+--------------------+---+---+------+------+--------------+---+-----------+----+------+-----------+--------------------+--------------------+-----+\n",
      "only showing top 20 rows\n",
      "\n"
     ]
    }
   ],
   "source": [
    "# Read in data from S3 Buckets\n",
    "from pyspark import SparkFiles\n",
    "url = \"https://2u-data-curriculum-team.s3.amazonaws.com/dataviz-classroom/v1.2/22-big-data/2/athlete_events.csv\"\n",
    "spark.sparkContext.addFile(url)\n",
    "df = spark.read.csv(SparkFiles.get(\"athlete_events.csv\"), header=True, inferSchema=True, quote=\"\\\"\", escape=\"\\\"\")\n",
    "\n",
    "# Show DataFrame\n",
    "df.show()"
   ]
  },
  {
   "cell_type": "code",
   "execution_count": 4,
   "metadata": {
    "id": "3_hMkh2sT8jm",
    "vscode": {
     "languageId": "python"
    }
   },
   "outputs": [],
   "source": [
    "#Create a temporary view.\n",
    "df.createOrReplaceTempView('games')"
   ]
  },
  {
   "cell_type": "code",
   "execution_count": 5,
   "metadata": {
    "colab": {
     "base_uri": "https://localhost:8080/"
    },
    "id": "XUJVk6fQYTyy",
    "outputId": "b970c5e9-0751-4947-bc58-1d6ce4984005",
    "vscode": {
     "languageId": "python"
    }
   },
   "outputs": [
    {
     "name": "stdout",
     "output_type": "stream",
     "text": [
      "+---------------------+\n",
      "|count(DISTINCT sport)|\n",
      "+---------------------+\n",
      "|                   34|\n",
      "+---------------------+\n",
      "\n"
     ]
    }
   ],
   "source": [
    "# Get the numover of distinct sports played in 2016\n",
    "spark.sql(\"SELECT count(distinct sport) FROM games WHERE year=2016\").show()"
   ]
  },
  {
   "cell_type": "code",
   "execution_count": 6,
   "metadata": {
    "colab": {
     "base_uri": "https://localhost:8080/"
    },
    "id": "tXyNWna1ci1v",
    "outputId": "8e3ad3e3-c10d-46da-a135-9a6e52ec447d",
    "vscode": {
     "languageId": "python"
    }
   },
   "outputs": [
    {
     "name": "stdout",
     "output_type": "stream",
     "text": [
      "+---------------------+\n",
      "|count(DISTINCT sport)|\n",
      "+---------------------+\n",
      "|                   32|\n",
      "+---------------------+\n",
      "\n"
     ]
    }
   ],
   "source": [
    "# Get the number of distinct sports played in 2012\n",
    "spark.sql(\"SELECT count(distinct sport) FROM games WHERE year=2012\").show()"
   ]
  },
  {
   "cell_type": "code",
   "execution_count": 7,
   "metadata": {
    "colab": {
     "base_uri": "https://localhost:8080/"
    },
    "id": "gmuokNVHe_SH",
    "outputId": "28bb5480-04ad-467d-e09f-2d457e846b74",
    "vscode": {
     "languageId": "python"
    }
   },
   "outputs": [
    {
     "name": "stdout",
     "output_type": "stream",
     "text": [
      "+------------+\n",
      "|       sport|\n",
      "+------------+\n",
      "|        Golf|\n",
      "|Rugby Sevens|\n",
      "+------------+\n",
      "\n"
     ]
    }
   ],
   "source": [
    "# Write a subquery to get the distinct sports played in 2016 but not in 2012.\n",
    "spark.sql(\"\"\"\n",
    "    SELECT DISTINCT sport \n",
    "    FROM games \n",
    "    WHERE year=2016 AND sport NOT IN \n",
    "      (SELECT DISTINCT sport \n",
    "      FROM games \n",
    "      WHERE year=2012)\n",
    "    \"\"\").show()"
   ]
  },
  {
   "cell_type": "code",
   "execution_count": 8,
   "metadata": {
    "colab": {
     "base_uri": "https://localhost:8080/"
    },
    "id": "Nclw6gcIdcAG",
    "outputId": "104ff042-9ff1-4931-d30e-102f415982f0",
    "vscode": {
     "languageId": "python"
    }
   },
   "outputs": [
    {
     "name": "stdout",
     "output_type": "stream",
     "text": [
      "+------------+\n",
      "|       sport|\n",
      "+------------+\n",
      "|        Golf|\n",
      "|Rugby Sevens|\n",
      "+------------+\n",
      "\n"
     ]
    }
   ],
   "source": [
    "# Another option could be using an EXCEPT\n",
    "spark.sql(\"\"\"\n",
    "    SELECT DISTINCT sport \n",
    "    FROM games \n",
    "    WHERE year=2016 \n",
    "    EXCEPT\n",
    "        SELECT \n",
    "      distinct\n",
    "      sport \n",
    "    FROM games \n",
    "    WHERE year=2012\n",
    "    \"\"\").show()"
   ]
  },
  {
   "cell_type": "code",
   "execution_count": 9,
   "metadata": {
    "colab": {
     "base_uri": "https://localhost:8080/"
    },
    "id": "Y1edN4Jlfack",
    "outputId": "48b3d9fc-08a1-4367-9b2a-b7803f260cd2",
    "vscode": {
     "languageId": "python"
    }
   },
   "outputs": [
    {
     "name": "stdout",
     "output_type": "stream",
     "text": [
      "+---------+\n",
      "|min(year)|\n",
      "+---------+\n",
      "|     1896|\n",
      "+---------+\n",
      "\n"
     ]
    }
   ],
   "source": [
    "# Get the year of the earliest Olympics in our data\n",
    "spark.sql(\"\"\"SELECT min(year) FROM games\"\"\").show()"
   ]
  },
  {
   "cell_type": "code",
   "execution_count": 10,
   "metadata": {
    "colab": {
     "base_uri": "https://localhost:8080/"
    },
    "id": "av4Lem9VhKh8",
    "outputId": "af0c728a-03a2-4e03-89a9-c34470006f07",
    "vscode": {
     "languageId": "python"
    }
   },
   "outputs": [
    {
     "name": "stdout",
     "output_type": "stream",
     "text": [
      "+-------------+\n",
      "|        sport|\n",
      "+-------------+\n",
      "|   Gymnastics|\n",
      "|       Tennis|\n",
      "|     Swimming|\n",
      "|    Athletics|\n",
      "|     Shooting|\n",
      "|    Wrestling|\n",
      "|Weightlifting|\n",
      "|      Cycling|\n",
      "|      Fencing|\n",
      "+-------------+\n",
      "\n"
     ]
    }
   ],
   "source": [
    "# Get the sports that were played in the earliest Olympic games in our data\n",
    "spark.sql(\"\"\"\n",
    "      SELECT \n",
    "      DISTINCT sport \n",
    "      FROM games \n",
    "      WHERE year=1896\"\"\").show()"
   ]
  },
  {
   "cell_type": "code",
   "execution_count": 11,
   "metadata": {
    "colab": {
     "base_uri": "https://localhost:8080/"
    },
    "id": "nUqJkqWzhZ67",
    "outputId": "761fb2c9-dd16-410b-8cda-c03b6786beed",
    "vscode": {
     "languageId": "python"
    }
   },
   "outputs": [
    {
     "name": "stdout",
     "output_type": "stream",
     "text": [
      "+-------------+\n",
      "|        sport|\n",
      "+-------------+\n",
      "|   Gymnastics|\n",
      "|       Tennis|\n",
      "|     Swimming|\n",
      "|    Athletics|\n",
      "|     Shooting|\n",
      "|    Wrestling|\n",
      "|Weightlifting|\n",
      "|      Cycling|\n",
      "|      Fencing|\n",
      "+-------------+\n",
      "\n"
     ]
    }
   ],
   "source": [
    "# Determine which sports were in both the 1896 Olympics and the 2016 Olympics\n",
    "spark.sql(\"\"\"\n",
    "  SELECT \n",
    "    DISTINCT \n",
    "      a.sport \n",
    "  FROM games a \n",
    "    JOIN \n",
    "        (SELECT DISTINCT sport FROM games WHERE year=1896) b \n",
    "    ON \n",
    "      a.sport=b.sport \n",
    "  WHERE a.year=2016\"\"\").show()"
   ]
  },
  {
   "cell_type": "code",
   "execution_count": 12,
   "metadata": {
    "colab": {
     "base_uri": "https://localhost:8080/"
    },
    "id": "fUDuMDVjjQcy",
    "outputId": "2ceb48e2-33ec-454b-a533-140ed156e325",
    "vscode": {
     "languageId": "python"
    }
   },
   "outputs": [
    {
     "name": "stdout",
     "output_type": "stream",
     "text": [
      "+----------------------------------+-----+----------+\n",
      "|Name                              |medal|medalCount|\n",
      "+----------------------------------+-----+----------+\n",
      "|Michael Fred Phelps, II           |Gold |23        |\n",
      "|Raymond Clarence \"Ray\" Ewry       |Gold |10        |\n",
      "|Frederick Carlton \"Carl\" Lewis    |Gold |9         |\n",
      "|Larysa Semenivna Latynina (Diriy-)|Gold |9         |\n",
      "|Mark Andrew Spitz                 |Gold |9         |\n",
      "+----------------------------------+-----+----------+\n",
      "\n"
     ]
    }
   ],
   "source": [
    "# Who are the top 5 Gold medal winners in the Olympics \n",
    "spark.sql(\"\"\"\n",
    "SELECT \n",
    "  Name,\n",
    "  medal, \n",
    "  count(*) as medalCount \n",
    "FROM games \n",
    "WHERE medal ='Gold' GROUP BY Name, medal \n",
    "ORDER BY medalCount desc\n",
    "LIMIT 5 \n",
    "\"\"\").show(truncate=False)\n"
   ]
  },
  {
   "cell_type": "code",
   "execution_count": 13,
   "metadata": {
    "colab": {
     "base_uri": "https://localhost:8080/"
    },
    "id": "dCoDsurkP7Q3",
    "outputId": "de6adda8-fcc9-41bd-d55d-c1abc3c229f2",
    "vscode": {
     "languageId": "python"
    }
   },
   "outputs": [
    {
     "name": "stdout",
     "output_type": "stream",
     "text": [
      "+-------------------------------+------+----------+\n",
      "|Name                           |medal |medalCount|\n",
      "+-------------------------------+------+----------+\n",
      "|Shirley Frances Babashoff      |Silver|6         |\n",
      "|Aleksandr Nikolayevich Dityatin|Silver|6         |\n",
      "|Aleksandr Vladimirovich Popov  |Silver|6         |\n",
      "|Mikhail Yakovlevich Voronin    |Silver|6         |\n",
      "|Yang Yang                      |Silver|6         |\n",
      "+-------------------------------+------+----------+\n",
      "\n"
     ]
    }
   ],
   "source": [
    "# Who are the top 5 Silver medal winners\n",
    "spark.sql(\"\"\"\n",
    "SELECT \n",
    "  Name,\n",
    "  medal, \n",
    "  count(*) as medalCount \n",
    "FROM games \n",
    "WHERE medal ='Silver' GROUP BY Name, medal \n",
    "ORDER BY medalCount desc\n",
    "LIMIT 5 \n",
    "\"\"\").show(truncate=False)\n"
   ]
  },
  {
   "cell_type": "code",
   "execution_count": 14,
   "metadata": {
    "colab": {
     "base_uri": "https://localhost:8080/"
    },
    "id": "GNdWgmuwRw8A",
    "outputId": "481f26f3-9dfa-4365-e680-127b8ace57dd",
    "vscode": {
     "languageId": "python"
    }
   },
   "outputs": [
    {
     "name": "stdout",
     "output_type": "stream",
     "text": [
      "+------------------------+------+----------+\n",
      "|Name                    |medal |medalCount|\n",
      "+------------------------+------+----------+\n",
      "|Harri Tapani Kirvesniemi|Bronze|6         |\n",
      "|Heikki Ilmari Savolainen|Bronze|6         |\n",
      "|Merlene Joyce Ottey-Page|Bronze|6         |\n",
      "|Franziska van Almsick   |Bronze|6         |\n",
      "|Aleksey Yuryevich Nemov |Bronze|6         |\n",
      "+------------------------+------+----------+\n",
      "\n"
     ]
    }
   ],
   "source": [
    "# Who are the top 5 Bronze medal winners\n",
    "spark.sql(\"\"\"\n",
    "SELECT \n",
    "  Name,\n",
    "  medal, \n",
    "  count(*) as medalCount \n",
    "FROM games \n",
    "WHERE medal ='Bronze' GROUP BY Name, medal \n",
    "ORDER BY medalCount desc\n",
    "LIMIT 5 \n",
    "\"\"\").show(truncate=False)"
   ]
  },
  {
   "cell_type": "code",
   "execution_count": 15,
   "metadata": {
    "id": "8M9WPLOiSOWm",
    "vscode": {
     "languageId": "python"
    }
   },
   "outputs": [],
   "source": [
    "import pandas as pd\n",
    "\n",
    "pandas_df=spark.sql(\"\"\"\n",
    "SELECT \n",
    "  Name,\n",
    "  medal, \n",
    "  count(*) as medalCount \n",
    "FROM games \n",
    "WHERE medal ='Gold' GROUP BY Name, medal \n",
    "ORDER BY medalCount desc\n",
    "LIMIT 5 \n",
    "\"\"\").toPandas()\n",
    "\n",
    "pandas_df.to_csv('top5Gold.csv')"
   ]
  },
  {
   "cell_type": "code",
   "execution_count": 15,
   "metadata": {
    "id": "JfaKSZ-PTTMR",
    "vscode": {
     "languageId": "python"
    }
   },
   "outputs": [],
   "source": []
  }
 ],
 "metadata": {
  "colab": {
   "provenance": []
  },
  "kernelspec": {
   "display_name": "Python 3 (ipykernel)",
   "language": "python",
   "name": "python3"
  },
  "language_info": {
   "codemirror_mode": {
    "name": "ipython",
    "version": 3
   },
   "file_extension": ".py",
   "mimetype": "text/x-python",
   "name": "python",
   "nbconvert_exporter": "python",
   "pygments_lexer": "ipython3",
   "version": "3.10.4"
  }
 },
 "nbformat": 4,
 "nbformat_minor": 1
}
