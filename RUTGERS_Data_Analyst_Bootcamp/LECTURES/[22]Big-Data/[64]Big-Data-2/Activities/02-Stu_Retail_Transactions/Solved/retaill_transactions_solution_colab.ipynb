{
 "cells": [
  {
   "cell_type": "code",
   "execution_count": 1,
   "metadata": {
    "colab": {
     "base_uri": "https://localhost:8080/"
    },
    "id": "jgCQ-Iiae9V3",
    "outputId": "581ba6c7-2d88-4e89-e3d3-334141cc0e95"
   },
   "outputs": [
    {
     "name": "stdout",
     "output_type": "stream",
     "text": [
      "\r",
      "0% [Working]\r",
      "            \r",
      "Get:1 http://security.ubuntu.com/ubuntu focal-security InRelease [114 kB]\n",
      "\r",
      "            \r",
      "Get:2 https://cloud.r-project.org/bin/linux/ubuntu focal-cran40/ InRelease [3,622 B]\n",
      "\r",
      "0% [Connecting to archive.ubuntu.com (185.125.190.39)] [1 InRelease 14.2 kB/114\r",
      "0% [Connecting to archive.ubuntu.com (185.125.190.39)] [1 InRelease 14.2 kB/114\r",
      "                                                                               \r",
      "Ign:3 https://developer.download.nvidia.com/compute/machine-learning/repos/ubuntu2004/x86_64  InRelease\n",
      "\r",
      "0% [Waiting for headers] [1 InRelease 48.9 kB/114 kB 43%] [Waiting for headers]\r",
      "                                                                               \r",
      "Hit:4 https://developer.download.nvidia.com/compute/cuda/repos/ubuntu2004/x86_64  InRelease\n",
      "\r",
      "0% [Waiting for headers] [1 InRelease 66.3 kB/114 kB 58%] [Waiting for headers]\r",
      "                                                                               \r",
      "Hit:5 https://developer.download.nvidia.com/compute/machine-learning/repos/ubuntu2004/x86_64  Release\n",
      "\r",
      "0% [Waiting for headers] [1 InRelease 83.7 kB/114 kB 74%] [Waiting for headers]\r",
      "                                                                               \r",
      "0% [Waiting for headers] [Waiting for headers]\r",
      "                                              \r",
      "Hit:6 http://archive.ubuntu.com/ubuntu focal InRelease\n",
      "Get:7 http://ppa.launchpad.net/c2d4u.team/c2d4u4.0+/ubuntu focal InRelease [18.1 kB]\n",
      "Get:8 http://archive.ubuntu.com/ubuntu focal-updates InRelease [114 kB]\n",
      "Hit:9 http://ppa.launchpad.net/cran/libgit2/ubuntu focal InRelease\n",
      "Get:10 http://archive.ubuntu.com/ubuntu focal-backports InRelease [108 kB]\n",
      "Get:11 http://ppa.launchpad.net/deadsnakes/ppa/ubuntu focal InRelease [18.1 kB]\n",
      "Hit:12 http://ppa.launchpad.net/graphics-drivers/ppa/ubuntu focal InRelease\n",
      "Get:14 http://security.ubuntu.com/ubuntu focal-security/universe amd64 Packages [988 kB]\n",
      "Get:15 http://security.ubuntu.com/ubuntu focal-security/main amd64 Packages [2,442 kB]\n",
      "Get:16 http://ppa.launchpad.net/c2d4u.team/c2d4u4.0+/ubuntu focal/main Sources [2,381 kB]\n",
      "Get:17 http://archive.ubuntu.com/ubuntu focal-updates/universe amd64 Packages [1,290 kB]\n",
      "Get:18 http://ppa.launchpad.net/c2d4u.team/c2d4u4.0+/ubuntu focal/main amd64 Packages [1,127 kB]\n",
      "Get:19 http://archive.ubuntu.com/ubuntu focal-updates/main amd64 Packages [2,920 kB]\n",
      "Get:20 http://ppa.launchpad.net/deadsnakes/ppa/ubuntu focal/main amd64 Packages [29.5 kB]\n",
      "Fetched 11.6 MB in 8s (1,388 kB/s)\n",
      "Reading package lists... Done\n"
     ]
    }
   ],
   "source": [
    "import os\n",
    "# Find the latest version of spark 3.x  from http://www.apache.org/dist/spark/ and enter as the spark version\n",
    "# For example:\n",
    "# spark_version = 'spark-3.4.0'\n",
    "spark_version = 'spark-3.4.0'\n",
    "os.environ['SPARK_VERSION']=spark_version\n",
    "\n",
    "# Install Spark and Java\n",
    "!apt-get update\n",
    "!apt-get install openjdk-11-jdk-headless -qq > /dev/null\n",
    "!wget -q http://www.apache.org/dist/spark/$SPARK_VERSION/$SPARK_VERSION-bin-hadoop3.tgz\n",
    "!tar xf $SPARK_VERSION-bin-hadoop3.tgz\n",
    "!pip install -q findspark\n",
    "\n",
    "# Set Environment Variables\n",
    "os.environ[\"JAVA_HOME\"] = \"/usr/lib/jvm/java-11-openjdk-amd64\"\n",
    "os.environ[\"SPARK_HOME\"] = f\"/content/{spark_version}-bin-hadoop3\"\n",
    "\n",
    "# Start a SparkSession\n",
    "import findspark\n",
    "findspark.init()"
   ]
  },
  {
   "cell_type": "code",
   "execution_count": 2,
   "metadata": {
    "id": "iyS6M8jxfjqO"
   },
   "outputs": [],
   "source": [
    "# Start Spark session\n",
    "from pyspark.sql import SparkSession\n",
    "spark = SparkSession.builder.appName(\"Retail Transactions\").getOrCreate()"
   ]
  },
  {
   "cell_type": "code",
   "execution_count": 3,
   "metadata": {
    "colab": {
     "base_uri": "https://localhost:8080/"
    },
    "id": "azmN3W3UgATw",
    "outputId": "6de7ec8b-78b7-4800-f487-4de34584a339"
   },
   "outputs": [
    {
     "name": "stdout",
     "output_type": "stream",
     "text": [
      "+-----------+----------------+------------------+\n",
      "|customer_id|transaction_date|transaction_amount|\n",
      "+-----------+----------------+------------------+\n",
      "|     CS5295|       11-Feb-13|                35|\n",
      "|     CS4768|       15-Mar-15|                39|\n",
      "|     CS2122|       26-Feb-13|                52|\n",
      "|     CS1217|       16-Nov-11|                99|\n",
      "|     CS1850|       20-Nov-13|                78|\n",
      "|     CS5539|       26-Mar-14|                81|\n",
      "|     CS2724|       06-Feb-12|                93|\n",
      "|     CS5902|       30-Jan-15|                89|\n",
      "|     CS6040|       08-Jan-13|                76|\n",
      "|     CS3802|       20-Aug-13|                75|\n",
      "|     CS3494|       02-Jul-13|                94|\n",
      "|     CS3780|       25-Mar-13|                80|\n",
      "|     CS1171|       03-Nov-12|                59|\n",
      "|     CS2892|       12-May-13|                43|\n",
      "|     CS5552|       29-Dec-14|                78|\n",
      "|     CS6043|       15-Jan-14|                98|\n",
      "|     CS4147|       08-Jul-13|                81|\n",
      "|     CS4655|       30-Dec-13|                93|\n",
      "|     CS3904|       20-Jul-14|               103|\n",
      "|     CS4102|       09-Jul-11|                96|\n",
      "+-----------+----------------+------------------+\n",
      "only showing top 20 rows\n",
      "\n"
     ]
    }
   ],
   "source": [
    "# Read in data from S3 Buckets\n",
    "from pyspark import SparkFiles\n",
    "url = \"https://2u-data-curriculum-team.s3.amazonaws.com/dataviz-classroom/v1.2/22-big-data/2/retail_transactions.csv\"\n",
    "spark.sparkContext.addFile(url)\n",
    "df = spark.read.csv(SparkFiles.get(\"retail_transactions.csv\"), sep=\",\", header=True)\n",
    "\n",
    "# Show DataFrame\n",
    "df.show()"
   ]
  },
  {
   "cell_type": "code",
   "execution_count": 4,
   "metadata": {
    "id": "93GVMklb2J8F"
   },
   "outputs": [],
   "source": [
    "# Convert the \"transaction_amount\" column from the string type to the `float` type.\n",
    "amountUpdated = df.withColumn(\"transaction_amount\", df[\"transaction_amount\"].cast('float'))"
   ]
  },
  {
   "cell_type": "code",
   "execution_count": 5,
   "metadata": {
    "colab": {
     "base_uri": "https://localhost:8080/"
    },
    "id": "GWI53_992QUs",
    "outputId": "dd31988f-4ac2-4751-8198-9c4adae0bcd7"
   },
   "outputs": [
    {
     "name": "stdout",
     "output_type": "stream",
     "text": [
      "+-----------+-----------------------+\n",
      "|customer_id|avg(transaction_amount)|\n",
      "+-----------+-----------------------+\n",
      "|     CS6001|      69.57894736842105|\n",
      "|     CS3128|                   64.0|\n",
      "|     CS5241|      64.05263157894737|\n",
      "|     CS3155|                  74.32|\n",
      "|     CS2754|      74.45454545454545|\n",
      "|     CS3950|      65.73684210526316|\n",
      "|     CS5130|                  66.64|\n",
      "|     CS3935|      67.34782608695652|\n",
      "|     CS3083|      62.88235294117647|\n",
      "|     CS3587|      69.80952380952381|\n",
      "|     CS2282|      69.14285714285714|\n",
      "|     CS1664|                  78.16|\n",
      "|     CS1802|      70.85185185185185|\n",
      "|     CS2412|                  67.75|\n",
      "|     CS4335|                   66.0|\n",
      "|     CS3997|      69.63157894736842|\n",
      "|     CS4915|                   67.0|\n",
      "|     CS3993|                  69.25|\n",
      "|     CS2811|      65.29411764705883|\n",
      "|     CS6062|      64.33333333333333|\n",
      "+-----------+-----------------------+\n",
      "only showing top 20 rows\n",
      "\n"
     ]
    }
   ],
   "source": [
    "# Find the average \"transaction_amount\" value by grouping by \"customer_id\" value.\n",
    "amountUpdated.groupBy('customer_id').avg().show()"
   ]
  },
  {
   "cell_type": "code",
   "execution_count": 6,
   "metadata": {
    "colab": {
     "base_uri": "https://localhost:8080/"
    },
    "id": "zpzZQn4R2VT1",
    "outputId": "4df87f31-3731-4339-bb6a-fa65275d1190"
   },
   "outputs": [
    {
     "name": "stdout",
     "output_type": "stream",
     "text": [
      "+-----------+-----------------------+\n",
      "|customer_id|max(transaction_amount)|\n",
      "+-----------+-----------------------+\n",
      "|     CS6001|                  105.0|\n",
      "|     CS3128|                  100.0|\n",
      "|     CS5241|                   94.0|\n",
      "|     CS3155|                  105.0|\n",
      "|     CS2754|                  104.0|\n",
      "|     CS3950|                  105.0|\n",
      "|     CS5130|                  104.0|\n",
      "|     CS3935|                  104.0|\n",
      "|     CS3083|                   94.0|\n",
      "|     CS3587|                  105.0|\n",
      "|     CS2282|                   97.0|\n",
      "|     CS1664|                  105.0|\n",
      "|     CS1802|                  104.0|\n",
      "|     CS2412|                  102.0|\n",
      "|     CS4335|                   96.0|\n",
      "|     CS3997|                   99.0|\n",
      "|     CS4915|                  102.0|\n",
      "|     CS3993|                  103.0|\n",
      "|     CS2811|                   96.0|\n",
      "|     CS6062|                  100.0|\n",
      "+-----------+-----------------------+\n",
      "only showing top 20 rows\n",
      "\n"
     ]
    }
   ],
   "source": [
    "# Find the maximum \"transaction_amount\" value per customer by grouping by \"customer_id\" value.\n",
    "amountUpdated.groupBy('customer_id').max().show()"
   ]
  },
  {
   "cell_type": "code",
   "execution_count": 7,
   "metadata": {
    "colab": {
     "base_uri": "https://localhost:8080/"
    },
    "id": "aNRVy0712etO",
    "outputId": "e3b11a80-de24-49c4-a40b-6d6ac79abe8d"
   },
   "outputs": [
    {
     "name": "stdout",
     "output_type": "stream",
     "text": [
      "+-----------+-----------------------+\n",
      "|customer_id|sum(transaction_amount)|\n",
      "+-----------+-----------------------+\n",
      "|     CS6001|                 1322.0|\n",
      "|     CS3128|                 1472.0|\n",
      "|     CS5241|                 1217.0|\n",
      "|     CS3155|                 1858.0|\n",
      "|     CS2754|                 1638.0|\n",
      "|     CS3950|                 1249.0|\n",
      "|     CS5130|                 1666.0|\n",
      "|     CS3935|                 1549.0|\n",
      "|     CS3083|                 1069.0|\n",
      "|     CS3587|                 1466.0|\n",
      "|     CS2282|                 1452.0|\n",
      "|     CS1664|                 1954.0|\n",
      "|     CS1802|                 1913.0|\n",
      "|     CS2412|                 1084.0|\n",
      "|     CS4335|                  660.0|\n",
      "|     CS3997|                 1323.0|\n",
      "|     CS4915|                 1541.0|\n",
      "|     CS3993|                 1385.0|\n",
      "|     CS2811|                 1110.0|\n",
      "|     CS6062|                  772.0|\n",
      "+-----------+-----------------------+\n",
      "only showing top 20 rows\n",
      "\n"
     ]
    }
   ],
   "source": [
    "# Find the sum of the \"transaction_amount\" values per customer by grouping by \"customer_id\" value.\n",
    "amountUpdated.groupBy('customer_id').sum().show()"
   ]
  },
  {
   "cell_type": "code",
   "execution_count": 8,
   "metadata": {
    "colab": {
     "base_uri": "https://localhost:8080/"
    },
    "id": "6XO6Zvhf2jaN",
    "outputId": "17445299-6554-45a6-a1d3-d6725bbaec82"
   },
   "outputs": [
    {
     "name": "stdout",
     "output_type": "stream",
     "text": [
      "+----------------+-----------------------+\n",
      "|transaction_date|avg(transaction_amount)|\n",
      "+----------------+-----------------------+\n",
      "|       01-Feb-15|      62.19277108433735|\n",
      "|       20-Feb-12|      66.10344827586206|\n",
      "|       22-Jul-12|                   67.0|\n",
      "|       17-Jan-15|      62.89655172413793|\n",
      "|       28-Aug-11|      63.70754716981132|\n",
      "|       29-Jul-12|                   64.7|\n",
      "|       17-Jan-14|                   62.3|\n",
      "|       12-Jun-13|      68.32530120481928|\n",
      "|       23-Oct-12|      65.56666666666666|\n",
      "|       02-Nov-12|      65.55445544554455|\n",
      "|       06-Mar-14|       64.3529411764706|\n",
      "|       11-Sep-12|      68.19540229885058|\n",
      "|       29-Dec-13|      67.68656716417911|\n",
      "|       14-Feb-13|     63.857142857142854|\n",
      "|       18-Aug-13|       67.5764705882353|\n",
      "|       09-Jan-14|      67.68888888888888|\n",
      "|       28-May-11|      72.83720930232558|\n",
      "|       26-Oct-13|      66.19354838709677|\n",
      "|       21-Nov-11|      65.57142857142857|\n",
      "|       12-Feb-13|                   64.5|\n",
      "+----------------+-----------------------+\n",
      "only showing top 20 rows\n",
      "\n"
     ]
    }
   ],
   "source": [
    "# Find the average \"transaction_amount\" value per \"transaction_date\" value.\n",
    "amountUpdated.groupBy('transaction_date').avg().show()"
   ]
  },
  {
   "cell_type": "code",
   "execution_count": 9,
   "metadata": {
    "colab": {
     "base_uri": "https://localhost:8080/"
    },
    "id": "gWnvAAG425B9",
    "outputId": "93a623f5-699d-460a-860c-83f28a6171b4"
   },
   "outputs": [
    {
     "name": "stdout",
     "output_type": "stream",
     "text": [
      "+----------------+-----------------------+\n",
      "|transaction_date|sum(transaction_amount)|\n",
      "+----------------+-----------------------+\n",
      "|       01-Feb-15|                 5162.0|\n",
      "|       20-Feb-12|                 5751.0|\n",
      "|       22-Jul-12|                 6164.0|\n",
      "|       17-Jan-15|                 3648.0|\n",
      "|       28-Aug-11|                 6753.0|\n",
      "|       29-Jul-12|                 5176.0|\n",
      "|       17-Jan-14|                 4361.0|\n",
      "|       12-Jun-13|                 5671.0|\n",
      "|       23-Oct-12|                 5901.0|\n",
      "|       02-Nov-12|                 6621.0|\n",
      "|       06-Mar-14|                 5470.0|\n",
      "|       11-Sep-12|                 5933.0|\n",
      "|       29-Dec-13|                 4535.0|\n",
      "|       14-Feb-13|                 4470.0|\n",
      "|       18-Aug-13|                 5744.0|\n",
      "|       09-Jan-14|                 6092.0|\n",
      "|       28-May-11|                 6264.0|\n",
      "|       26-Oct-13|                 6156.0|\n",
      "|       21-Nov-11|                 5508.0|\n",
      "|       12-Feb-13|                 4902.0|\n",
      "+----------------+-----------------------+\n",
      "only showing top 20 rows\n",
      "\n"
     ]
    }
   ],
   "source": [
    "# Find the sum of \"transaction_amount\" values per \"transaction_date\" value.\n",
    "amountUpdated.groupBy('transaction_date').sum().show()"
   ]
  },
  {
   "cell_type": "code",
   "execution_count": 10,
   "metadata": {
    "colab": {
     "base_uri": "https://localhost:8080/"
    },
    "id": "VX7UfA-G246l",
    "outputId": "2523f618-79ac-42ad-d107-d24a766610ec"
   },
   "outputs": [
    {
     "name": "stdout",
     "output_type": "stream",
     "text": [
      "+----------------+-----------------------+\n",
      "|transaction_date|max(transaction_amount)|\n",
      "+----------------+-----------------------+\n",
      "|       01-Feb-15|                  105.0|\n",
      "|       20-Feb-12|                  105.0|\n",
      "|       22-Jul-12|                  105.0|\n",
      "|       17-Jan-15|                  105.0|\n",
      "|       28-Aug-11|                  105.0|\n",
      "|       29-Jul-12|                  104.0|\n",
      "|       17-Jan-14|                  104.0|\n",
      "|       12-Jun-13|                  105.0|\n",
      "|       23-Oct-12|                  105.0|\n",
      "|       02-Nov-12|                  105.0|\n",
      "|       06-Mar-14|                  105.0|\n",
      "|       11-Sep-12|                  105.0|\n",
      "|       29-Dec-13|                  105.0|\n",
      "|       14-Feb-13|                  103.0|\n",
      "|       18-Aug-13|                  105.0|\n",
      "|       09-Jan-14|                  105.0|\n",
      "|       28-May-11|                  105.0|\n",
      "|       26-Oct-13|                  105.0|\n",
      "|       21-Nov-11|                  105.0|\n",
      "|       12-Feb-13|                  105.0|\n",
      "+----------------+-----------------------+\n",
      "only showing top 20 rows\n",
      "\n"
     ]
    }
   ],
   "source": [
    "# Find the maximum \"transaction_amount\" value per \"transaction_date\" value.\n",
    "amountUpdated.groupBy('transaction_date').max().show()"
   ]
  },
  {
   "cell_type": "code",
   "execution_count": 10,
   "metadata": {
    "id": "brzQq-FEL1kD"
   },
   "outputs": [],
   "source": []
  }
 ],
 "metadata": {
  "colab": {
   "provenance": []
  },
  "kernelspec": {
   "display_name": "Python 3 (ipykernel)",
   "language": "python",
   "name": "python3"
  },
  "language_info": {
   "codemirror_mode": {
    "name": "ipython",
    "version": 3
   },
   "file_extension": ".py",
   "mimetype": "text/x-python",
   "name": "python",
   "nbconvert_exporter": "python",
   "pygments_lexer": "ipython3",
   "version": "3.10.4"
  },
  "vscode": {
   "interpreter": {
    "hash": "aee8b7b246df8f9039afb4144a1f6fd8d2ca17a180786b69acc140d282b71a49"
   }
  }
 },
 "nbformat": 4,
 "nbformat_minor": 1
}
