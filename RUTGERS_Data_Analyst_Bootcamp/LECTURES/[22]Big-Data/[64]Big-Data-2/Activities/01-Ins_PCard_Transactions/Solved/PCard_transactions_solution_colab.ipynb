{
 "cells": [
  {
   "cell_type": "code",
   "execution_count": 1,
   "metadata": {
    "colab": {
     "base_uri": "https://localhost:8080/"
    },
    "id": "TRYa0HhhhaGG",
    "outputId": "070981ab-940c-48da-b8a7-8e703ec1aff1"
   },
   "outputs": [
    {
     "name": "stdout",
     "output_type": "stream",
     "text": [
      "\r",
      "0% [Working]\r",
      "            \r",
      "Get:1 http://security.ubuntu.com/ubuntu focal-security InRelease [114 kB]\n",
      "\r",
      "0% [Connecting to archive.ubuntu.com (185.125.190.39)] [1 InRelease 8,192 B/114\r",
      "                                                                               \r",
      "Get:2 https://cloud.r-project.org/bin/linux/ubuntu focal-cran40/ InRelease [3,622 B]\n",
      "\r",
      "0% [Connecting to archive.ubuntu.com (185.125.190.39)] [1 InRelease 95.3 kB/114\r",
      "0% [Connecting to archive.ubuntu.com (185.125.190.39)] [1 InRelease 114 kB/114 \r",
      "0% [Waiting for headers] [Waiting for headers] [Connecting to ppa.launchpad.net\r",
      "                                                                               \r",
      "Hit:3 http://archive.ubuntu.com/ubuntu focal InRelease\n",
      "\r",
      "                                                                               \r",
      "0% [Waiting for headers] [Waiting for headers] [Waiting for headers]\r",
      "                                                                    \r",
      "Get:4 http://ppa.launchpad.net/c2d4u.team/c2d4u4.0+/ubuntu focal InRelease [18.1 kB]\n",
      "\r",
      "0% [Waiting for headers] [Waiting for headers] [4 InRelease 4,096 B/18.1 kB 23%\r",
      "                                                                               \r",
      "Ign:5 https://developer.download.nvidia.com/compute/machine-learning/repos/ubuntu2004/x86_64  InRelease\n",
      "\r",
      "0% [Waiting for headers] [Waiting for headers] [4 InRelease 14.2 kB/18.1 kB 78%\r",
      "                                                                               \r",
      "Hit:6 https://developer.download.nvidia.com/compute/cuda/repos/ubuntu2004/x86_64  InRelease\n",
      "\r",
      "                                                                               \r",
      "0% [Waiting for headers] [4 InRelease 14.2 kB/18.1 kB 78%]\r",
      "                                                          \r",
      "Get:7 http://archive.ubuntu.com/ubuntu focal-updates InRelease [114 kB]\n",
      "Hit:8 https://developer.download.nvidia.com/compute/machine-learning/repos/ubuntu2004/x86_64  Release\n",
      "Hit:9 http://ppa.launchpad.net/cran/libgit2/ubuntu focal InRelease\n",
      "Get:10 http://ppa.launchpad.net/deadsnakes/ppa/ubuntu focal InRelease [18.1 kB]\n",
      "Get:11 http://archive.ubuntu.com/ubuntu focal-backports InRelease [108 kB]\n",
      "Hit:12 http://ppa.launchpad.net/graphics-drivers/ppa/ubuntu focal InRelease\n",
      "Get:13 http://security.ubuntu.com/ubuntu focal-security/main amd64 Packages [2,442 kB]\n",
      "Get:14 http://security.ubuntu.com/ubuntu focal-security/universe amd64 Packages [988 kB]\n",
      "Get:16 http://ppa.launchpad.net/c2d4u.team/c2d4u4.0+/ubuntu focal/main Sources [2,381 kB]\n",
      "Get:17 http://ppa.launchpad.net/c2d4u.team/c2d4u4.0+/ubuntu focal/main amd64 Packages [1,127 kB]\n",
      "Get:18 http://archive.ubuntu.com/ubuntu focal-updates/main amd64 Packages [2,920 kB]\n",
      "Get:19 http://archive.ubuntu.com/ubuntu focal-updates/universe amd64 Packages [1,290 kB]\n",
      "Get:20 http://ppa.launchpad.net/deadsnakes/ppa/ubuntu focal/main amd64 Packages [29.5 kB]\n",
      "Fetched 11.6 MB in 6s (1,886 kB/s)\n",
      "Reading package lists... Done\n"
     ]
    }
   ],
   "source": [
    "import os\n",
    "# Find the latest version of spark 3.x  from http://www.apache.org/dist/spark/ and enter as the spark version\n",
    "# For example:\n",
    "# spark_version = 'spark-3.4.0'\n",
    "spark_version = 'spark-3.4.0'\n",
    "os.environ['SPARK_VERSION']=spark_version\n",
    "\n",
    "# Install Spark and Java\n",
    "!apt-get update\n",
    "!apt-get install openjdk-11-jdk-headless -qq > /dev/null\n",
    "!wget -q http://www.apache.org/dist/spark/$SPARK_VERSION/$SPARK_VERSION-bin-hadoop3.tgz\n",
    "!tar xf $SPARK_VERSION-bin-hadoop3.tgz\n",
    "!pip install -q findspark\n",
    "\n",
    "# Set Environment Variables\n",
    "os.environ[\"JAVA_HOME\"] = \"/usr/lib/jvm/java-11-openjdk-amd64\"\n",
    "os.environ[\"SPARK_HOME\"] = f\"/content/{spark_version}-bin-hadoop3\"\n",
    "\n",
    "# Start a SparkSession\n",
    "import findspark\n",
    "findspark.init()"
   ]
  },
  {
   "cell_type": "code",
   "execution_count": 2,
   "metadata": {
    "id": "PI2Ck8-XmCg9"
   },
   "outputs": [],
   "source": [
    "# Start a Spark session\n",
    "from pyspark.sql import SparkSession\n",
    "spark = SparkSession.builder.appName(\"PCard Transactions\").getOrCreate()"
   ]
  },
  {
   "cell_type": "code",
   "execution_count": 3,
   "metadata": {
    "colab": {
     "base_uri": "https://localhost:8080/"
    },
    "id": "WeAgnm-7kqs6",
    "outputId": "5969b3d9-1f8f-4138-c4e9-8190702037bc"
   },
   "outputs": [
    {
     "name": "stdout",
     "output_type": "stream",
     "text": [
      "+----------+-------------+--------------------+--------------------+------------------------+--------------------+------+--------------------+--------------------+--------------------+----------------------------+\n",
      "|Year-Month|Agency Number|         Agency Name|Cardholder Last Name|Cardholder First Initial|         Description|Amount|              Vendor|    Transaction Date|         Posted Date|Merchant Category Code (MCC)|\n",
      "+----------+-------------+--------------------+--------------------+------------------------+--------------------+------+--------------------+--------------------+--------------------+----------------------------+\n",
      "|    201307|         1000|OKLAHOMA STATE UN...|               Mason|                       C|    GENERAL PURCHASE|   890|               NACAS|07/30/2013 12:00:...|07/31/2013 12:00:...|        CHARITABLE AND SO...|\n",
      "|    201307|         1000|OKLAHOMA STATE UN...|               Mason|                       C|        ROOM CHARGES|368.96|      SHERATON HOTEL|07/30/2013 12:00:...|07/31/2013 12:00:...|                    SHERATON|\n",
      "|    201307|         1000|OKLAHOMA STATE UN...|              Massey|                       J|    GENERAL PURCHASE|165.82|      SEARS.COM 9300|07/29/2013 12:00:...|07/31/2013 12:00:...|        DIRCT MARKETING/D...|\n",
      "|    201307|         1000|OKLAHOMA STATE UN...|              Massey|                       T|    GENERAL PURCHASE| 96.39|      WAL-MART #0137|07/30/2013 12:00:...|07/31/2013 12:00:...|        GROCERY STORES,AN...|\n",
      "|    201307|         1000|OKLAHOMA STATE UN...|       Mauro-Herrera|                       M|HAMMERMILL COPY P...|125.96|      STAPLES DIRECT|07/30/2013 12:00:...|07/31/2013 12:00:...|        STATIONERY, OFFIC...|\n",
      "|    201307|         1000|OKLAHOMA STATE UN...|       Mauro-Herrera|                       M|    GENERAL PURCHASE|394.28|KYOCERA DOCUMENT ...|07/29/2013 12:00:...|07/31/2013 12:00:...|        OFFICE, PHOTOGRAP...|\n",
      "|    201307|         1000|OKLAHOMA STATE UN...|                Mays|                       B|    GENERAL PURCHASE| 19.87|      WAL-MART #0137|07/30/2013 12:00:...|07/31/2013 12:00:...|        GROCERY STORES,AN...|\n",
      "|    201307|         1000|OKLAHOMA STATE UN...|                Mays|                       B|    GENERAL PURCHASE|  10.1|     DAYLIGHT DONUTS|07/29/2013 12:00:...|07/31/2013 12:00:...|        FAST FOOD RESTAUR...|\n",
      "|    201307|         1000|OKLAHOMA STATE UN...|            McCarthy|                       D|    GENERAL PURCHASE| 142.6|UFIRST  LAUNDRY SVCS|07/30/2013 12:00:...|07/31/2013 12:00:...|        MENS, WOMENS AND ...|\n",
      "|    201307|         1000|OKLAHOMA STATE UN...|             McClurg|                       L|AT&T SERVICE PAYM...| 29.99|           AT&T DATA|07/30/2013 12:00:...|07/31/2013 12:00:...|        TELECOMMUNICATION...|\n",
      "|    201307|         1000|OKLAHOMA STATE UN...|             McGowin|                       R|    GENERAL PURCHASE|278.23|       RANDY'S FOODS|07/29/2013 12:00:...|07/31/2013 12:00:...|        FREEZER AND LOCKE...|\n",
      "|    201307|         1000|OKLAHOMA STATE UN...|               McKee|                       P|    GENERAL PURCHASE| 127.8|DEARINGER PRINTIN...|07/30/2013 12:00:...|07/31/2013 12:00:...|        MISCELLANEOUS AND...|\n",
      "|    201307|         1000|OKLAHOMA STATE UN...|            McLemore|                       A|    GENERAL PURCHASE|572.27|GIDDINGS MACHINE CO.|07/30/2013 12:00:...|07/31/2013 12:00:...|        COMMERCIAL EQUIPM...|\n",
      "|    201307|         1000|OKLAHOMA STATE UN...|             McMurry|                       S|50-LB PLAY SAND B...|  12.9|        LOWES #00241|07/30/2013 12:00:...|07/31/2013 12:00:...|        HOME SUPPLY WAREH...|\n",
      "|    201307|         1000|OKLAHOMA STATE UN...|              Meints|                       K|    GENERAL PURCHASE|   445|OK DEPT OF VO-TEC...|07/30/2013 12:00:...|07/31/2013 12:00:...|        GOVERNMENT SERVIC...|\n",
      "|    201307|         1000|OKLAHOMA STATE UN...|           Mohiuddin|                       A|    GENERAL PURCHASE|452.91| TFS THERMOASHEVILLE|07/31/2013 12:00:...|07/31/2013 12:00:...|        DENTAL/LABORATORY...|\n",
      "|    201307|         1000|OKLAHOMA STATE UN...|           Mohiuddin|                       I|    GENERAL PURCHASE|  2425|WESTERN EQUIPMENT...|07/29/2013 12:00:...|07/31/2013 12:00:...|             HARDWARE STORES|\n",
      "|    201307|         1000|OKLAHOMA STATE UN...|           Mohiuddin|                       I|    GENERAL PURCHASE|  2425|WESTERN EQUIPMENT...|07/29/2013 12:00:...|07/31/2013 12:00:...|             HARDWARE STORES|\n",
      "|    201307|         1000|OKLAHOMA STATE UN...|         Mollenhauer|                       R|    GENERAL PURCHASE|  7.63|   HOBBY-LOBBY #0005|07/29/2013 12:00:...|07/31/2013 12:00:...|        HOBBY,TOY,AND GAM...|\n",
      "|    201307|         1000|OKLAHOMA STATE UN...|          MONTGOMERY|                       R|    GENERAL PURCHASE| 18.97|      WAL-MART #0121|07/30/2013 12:00:...|07/31/2013 12:00:...|        GROCERY STORES,AN...|\n",
      "+----------+-------------+--------------------+--------------------+------------------------+--------------------+------+--------------------+--------------------+--------------------+----------------------------+\n",
      "only showing top 20 rows\n",
      "\n"
     ]
    }
   ],
   "source": [
    "# Read in data from S3 Buckets\n",
    "from pyspark import SparkFiles\n",
    "url = \"https://2u-data-curriculum-team.s3.amazonaws.com/dataviz-classroom/v1.2/22-big-data/2/pcard_transactions.csv\"\n",
    "spark.sparkContext.addFile(url)\n",
    "df = spark.read.csv(SparkFiles.get(\"pcard_transactions.csv\"), sep=\",\", header=True)\n",
    "\n",
    "# Show DataFrame\n",
    "df.show()"
   ]
  },
  {
   "cell_type": "code",
   "execution_count": 4,
   "metadata": {
    "colab": {
     "base_uri": "https://localhost:8080/"
    },
    "id": "1qSjlxCQmCt-",
    "outputId": "8dceadae-3a34-4988-ec43-0537dddf0b35"
   },
   "outputs": [
    {
     "name": "stdout",
     "output_type": "stream",
     "text": [
      "root\n",
      " |-- Year-Month: string (nullable = true)\n",
      " |-- Agency Number: string (nullable = true)\n",
      " |-- Agency Name: string (nullable = true)\n",
      " |-- Cardholder Last Name: string (nullable = true)\n",
      " |-- Cardholder First Initial: string (nullable = true)\n",
      " |-- Description: string (nullable = true)\n",
      " |-- Amount: string (nullable = true)\n",
      " |-- Vendor: string (nullable = true)\n",
      " |-- Transaction Date: string (nullable = true)\n",
      " |-- Posted Date: string (nullable = true)\n",
      " |-- Merchant Category Code (MCC): string (nullable = true)\n",
      "\n"
     ]
    }
   ],
   "source": [
    "# Get the data types of the columns. \n",
    "df.printSchema()"
   ]
  },
  {
   "cell_type": "code",
   "execution_count": 5,
   "metadata": {
    "id": "HJEX_0jhUrKs"
   },
   "outputs": [],
   "source": [
    "# Create a new DataFrame with an \"Amount\" column as a float datatype. \n",
    "amountUpdated = df.withColumn(\"Amount\", df[\"Amount\"].cast('float'))"
   ]
  },
  {
   "cell_type": "code",
   "execution_count": 6,
   "metadata": {
    "colab": {
     "base_uri": "https://localhost:8080/"
    },
    "id": "hcCfoUZyvT79",
    "outputId": "260d2cea-4b01-45ce-b477-7434fbbe5f57"
   },
   "outputs": [
    {
     "name": "stdout",
     "output_type": "stream",
     "text": [
      "+--------------------+-----------+\n",
      "|         Agency Name|max(Amount)|\n",
      "+--------------------+-----------+\n",
      "|BOLL WEEVIL ERADI...|    1639.99|\n",
      "|   ROSE STATE COLEGE|     4580.0|\n",
      "|EMPLOYMENT SECURI...|   12872.19|\n",
      "|DEPARTMENT OF TOU...|   61000.72|\n",
      "|DEPARTMENT OF LIB...|     4000.0|\n",
      "|S. W. OKLA. ST. U...|   11073.09|\n",
      "|OKLAHOMA MILITARY...|  183367.94|\n",
      "| COMPSOURCE OKLAHOMA|     4995.0|\n",
      "|COUNCIL ON LAW EN...|    4547.92|\n",
      "|MERIT PROTECTION ...|     2550.0|\n",
      "|OKLAHOMA ABSTRACT...|      405.3|\n",
      "|SPEECH-LANGUAGE P...|      418.7|\n",
      "|     STATE TREASURER|     4875.0|\n",
      "|  HISTORICAL SOCIETY|    90108.0|\n",
      "|OK. LAW ENFORCE. ...|    7063.03|\n",
      "|DEPARTMENT OF VET...|   12395.03|\n",
      "|CONSERVATION COMM...|     4520.0|\n",
      "|MARGINALLY PROD. ...|     111.99|\n",
      "|STATE ELECTION BOARD|    58875.0|\n",
      "|OKLAHOMA ACCOUNTA...|    2165.68|\n",
      "+--------------------+-----------+\n",
      "only showing top 20 rows\n",
      "\n"
     ]
    }
   ],
   "source": [
    "# Group the data on the Agency Name and get the maximum of the \"Amount.\"\n",
    "amountUpdated.groupBy('Agency Name').max().show()"
   ]
  },
  {
   "cell_type": "code",
   "execution_count": 7,
   "metadata": {
    "colab": {
     "base_uri": "https://localhost:8080/"
    },
    "id": "I9-GoCzjWj3H",
    "outputId": "4f87bde1-b517-4b09-c658-7bc64be190a0"
   },
   "outputs": [
    {
     "name": "stdout",
     "output_type": "stream",
     "text": [
      "+--------------------+------------------+\n",
      "|         Agency Name|       sum(Amount)|\n",
      "+--------------------+------------------+\n",
      "|BOLL WEEVIL ERADI...|  18689.0999147892|\n",
      "|   ROSE STATE COLEGE| 233808.7006199453|\n",
      "|EMPLOYMENT SECURI...| 416517.2709596157|\n",
      "|DEPARTMENT OF TOU...| 5971885.291795868|\n",
      "|DEPARTMENT OF LIB...| 179487.1599612832|\n",
      "|S. W. OKLA. ST. U...| 1423548.999507472|\n",
      "|OKLAHOMA MILITARY...|3697283.2271535005|\n",
      "| COMPSOURCE OKLAHOMA|351460.51985532045|\n",
      "|COUNCIL ON LAW EN...|189667.93968850374|\n",
      "|MERIT PROTECTION ...| 7984.070019245148|\n",
      "|OKLAHOMA ABSTRACT...|1821.1800107955933|\n",
      "|SPEECH-LANGUAGE P...| 4198.130038261414|\n",
      "|     STATE TREASURER| 84117.73010754585|\n",
      "|  HISTORICAL SOCIETY|1587215.1306678057|\n",
      "|OK. LAW ENFORCE. ...|  33194.2096862793|\n",
      "|DEPARTMENT OF VET...| 4242096.650280096|\n",
      "|CONSERVATION COMM...| 166412.8598972559|\n",
      "|MARGINALLY PROD. ...|111.98999786376953|\n",
      "|STATE ELECTION BOARD| 167896.3599333465|\n",
      "|OKLAHOMA ACCOUNTA...|18057.079823493958|\n",
      "+--------------------+------------------+\n",
      "only showing top 20 rows\n",
      "\n"
     ]
    }
   ],
   "source": [
    "# Group the data on the Agency Name and get the total of the \"Amount.\"\n",
    "amountUpdated.groupBy('Agency Name').sum().show()"
   ]
  },
  {
   "cell_type": "code",
   "execution_count": 8,
   "metadata": {
    "colab": {
     "base_uri": "https://localhost:8080/"
    },
    "id": "JdZsvE0DWTZf",
    "outputId": "613e93a7-38c6-4812-a9b5-5366257df3fb"
   },
   "outputs": [
    {
     "name": "stdout",
     "output_type": "stream",
     "text": [
      "+--------------------+------------------+\n",
      "|         Agency Name|       sum(Amount)|\n",
      "+--------------------+------------------+\n",
      "|BOLL WEEVIL ERADI...|  18689.0999147892|\n",
      "|   ROSE STATE COLEGE| 233808.7006199453|\n",
      "|EMPLOYMENT SECURI...| 416517.2709596157|\n",
      "|DEPARTMENT OF TOU...| 5971885.291795868|\n",
      "|DEPARTMENT OF LIB...| 179487.1599612832|\n",
      "|S. W. OKLA. ST. U...| 1423548.999507472|\n",
      "|OKLAHOMA MILITARY...|3697283.2271535005|\n",
      "| COMPSOURCE OKLAHOMA|351460.51985532045|\n",
      "|COUNCIL ON LAW EN...|189667.93968850374|\n",
      "|MERIT PROTECTION ...| 7984.070019245148|\n",
      "|OKLAHOMA ABSTRACT...|1821.1800107955933|\n",
      "|SPEECH-LANGUAGE P...| 4198.130038261414|\n",
      "|     STATE TREASURER| 84117.73010754585|\n",
      "|  HISTORICAL SOCIETY|1587215.1306678057|\n",
      "|OK. LAW ENFORCE. ...|  33194.2096862793|\n",
      "|DEPARTMENT OF VET...| 4242096.650280096|\n",
      "|CONSERVATION COMM...| 166412.8598972559|\n",
      "|MARGINALLY PROD. ...|111.98999786376953|\n",
      "|STATE ELECTION BOARD| 167896.3599333465|\n",
      "|OKLAHOMA ACCOUNTA...|18057.079823493958|\n",
      "+--------------------+------------------+\n",
      "only showing top 20 rows\n",
      "\n"
     ]
    }
   ],
   "source": [
    "# Group the data on the Agency Name and get the total of the \"Amount\" using the `agg()` function.\n",
    "agency_groups = amountUpdated.groupBy('Agency Name')\n",
    "agency_groups.agg({'Amount':'Sum'}).show()"
   ]
  },
  {
   "cell_type": "code",
   "execution_count": 9,
   "metadata": {
    "colab": {
     "base_uri": "https://localhost:8080/"
    },
    "id": "-nJDZ4-AX7hr",
    "outputId": "2a4f11f7-d820-49c2-b43b-7d5d70018f08"
   },
   "outputs": [
    {
     "name": "stdout",
     "output_type": "stream",
     "text": [
      "+--------------------+------------------+\n",
      "|         Agency Name|       avg(Amount)|\n",
      "+--------------------+------------------+\n",
      "|BOLL WEEVIL ERADI...|109.93588185170117|\n",
      "|   ROSE STATE COLEGE|285.48070893766214|\n",
      "|EMPLOYMENT SECURI...| 355.3901629348257|\n",
      "|DEPARTMENT OF TOU...|346.55787440783826|\n",
      "|DEPARTMENT OF LIB...|201.21878919426368|\n",
      "|S. W. OKLA. ST. U...|190.11071040430983|\n",
      "|OKLAHOMA MILITARY...| 651.0447661830428|\n",
      "| COMPSOURCE OKLAHOMA|224.43200501616886|\n",
      "|COUNCIL ON LAW EN...| 352.5426388262151|\n",
      "|MERIT PROTECTION ...|469.65117760265576|\n",
      "|OKLAHOMA ABSTRACT...|182.11800107955932|\n",
      "|SPEECH-LANGUAGE P...|31.097259542677136|\n",
      "|     STATE TREASURER| 364.1460177815838|\n",
      "|  HISTORICAL SOCIETY| 550.3519870554111|\n",
      "|OK. LAW ENFORCE. ...| 349.4127335397821|\n",
      "|DEPARTMENT OF VET...| 550.3498508406974|\n",
      "|CONSERVATION COMM...|263.31148717920235|\n",
      "|MARGINALLY PROD. ...|111.98999786376953|\n",
      "|STATE ELECTION BOARD| 739.6315415565925|\n",
      "|OKLAHOMA ACCOUNTA...|126.27328547897872|\n",
      "+--------------------+------------------+\n",
      "only showing top 20 rows\n",
      "\n"
     ]
    }
   ],
   "source": [
    "# Group the data on the Agency Name and get the average of the \"Amount\" using the agg() function.\n",
    "agency_groups.agg({'Amount':'Avg'}).show()"
   ]
  },
  {
   "cell_type": "code",
   "execution_count": 10,
   "metadata": {
    "colab": {
     "base_uri": "https://localhost:8080/"
    },
    "id": "Yd_-i2LYYE_O",
    "outputId": "5f63993f-437f-40be-9383-28e6c3c69ec1"
   },
   "outputs": [
    {
     "name": "stdout",
     "output_type": "stream",
     "text": [
      "+--------------------+-------------+\n",
      "|         Agency Name|count(Amount)|\n",
      "+--------------------+-------------+\n",
      "|BOLL WEEVIL ERADI...|          170|\n",
      "|   ROSE STATE COLEGE|          819|\n",
      "|EMPLOYMENT SECURI...|         1172|\n",
      "|DEPARTMENT OF TOU...|        17232|\n",
      "|DEPARTMENT OF LIB...|          892|\n",
      "|S. W. OKLA. ST. U...|         7488|\n",
      "|OKLAHOMA MILITARY...|         5679|\n",
      "| COMPSOURCE OKLAHOMA|         1566|\n",
      "|COUNCIL ON LAW EN...|          538|\n",
      "|MERIT PROTECTION ...|           17|\n",
      "|OKLAHOMA ABSTRACT...|           10|\n",
      "|SPEECH-LANGUAGE P...|          135|\n",
      "|     STATE TREASURER|          231|\n",
      "|  HISTORICAL SOCIETY|         2884|\n",
      "|OK. LAW ENFORCE. ...|           95|\n",
      "|DEPARTMENT OF VET...|         7708|\n",
      "|CONSERVATION COMM...|          632|\n",
      "|MARGINALLY PROD. ...|            1|\n",
      "|STATE ELECTION BOARD|          227|\n",
      "|OKLAHOMA ACCOUNTA...|          143|\n",
      "+--------------------+-------------+\n",
      "only showing top 20 rows\n",
      "\n"
     ]
    }
   ],
   "source": [
    "# Group the data on the Agency Name and get the count of transactions of the \"Amount\" using the agg() function.\n",
    "agency_groups.agg({'Amount':'count'}).show()"
   ]
  },
  {
   "cell_type": "code",
   "execution_count": 11,
   "metadata": {
    "colab": {
     "base_uri": "https://localhost:8080/"
    },
    "id": "P271-VziYVHE",
    "outputId": "95f7a8ba-4336-45ed-e5cb-01eba4d9aad9"
   },
   "outputs": [
    {
     "name": "stdout",
     "output_type": "stream",
     "text": [
      "+--------------------+-----------+\n",
      "|CardHolder Last Name|max(Amount)|\n",
      "+--------------------+-----------+\n",
      "|           Fairbanks|    3310.23|\n",
      "|           Worcester|       6.97|\n",
      "|              Eppler|     235.98|\n",
      "|               Abner|     1380.6|\n",
      "|               Tyler|     3939.5|\n",
      "|                Silk|     3288.0|\n",
      "|             Mudgett|     2342.0|\n",
      "|             JOHNSON|  103101.57|\n",
      "|              Grimes|     2000.0|\n",
      "|               Roach|   17118.46|\n",
      "|             Custard|    1195.01|\n",
      "|            Rawlings|    5400.75|\n",
      "|              ARNETT|     4995.0|\n",
      "|           BARKSDALE|      680.0|\n",
      "|                  XU|     2970.0|\n",
      "|            HOWERTON|    3508.46|\n",
      "|           MCCANLIES|   31279.29|\n",
      "|              GILROY|    2476.95|\n",
      "|            Callaham|     3775.0|\n",
      "|             Creager|    1062.24|\n",
      "+--------------------+-----------+\n",
      "only showing top 20 rows\n",
      "\n"
     ]
    }
   ],
   "source": [
    "# Group the data on the cardholder last name and get the maximum transaction per cardholder using the agg() function.\n",
    "lastname_groups = amountUpdated.groupBy('CardHolder Last Name')\n",
    "lastname_groups.agg({'Amount':'Max'}).show()"
   ]
  },
  {
   "cell_type": "code",
   "execution_count": 12,
   "metadata": {
    "colab": {
     "base_uri": "https://localhost:8080/"
    },
    "id": "xf9GaATqYs6q",
    "outputId": "9c27ce88-126e-46d1-a467-00862ad2f7e7"
   },
   "outputs": [
    {
     "name": "stdout",
     "output_type": "stream",
     "text": [
      "+--------------------+------------------+\n",
      "|CardHolder Last Name|       avg(Amount)|\n",
      "+--------------------+------------------+\n",
      "|           Fairbanks|441.81742568697246|\n",
      "|           Worcester| 5.734999895095825|\n",
      "|              Eppler|53.098823252846216|\n",
      "|               Abner| 178.2785699026925|\n",
      "|               Tyler| 435.9507018306799|\n",
      "|                Silk| 293.2611743702608|\n",
      "|             Mudgett| 187.5479070086812|\n",
      "|             JOHNSON| 421.0230957194851|\n",
      "|              Grimes|398.16411837409527|\n",
      "|               Roach| 737.5033726484879|\n",
      "|             Custard|234.92732082520212|\n",
      "|            Rawlings|498.77307654619216|\n",
      "|              ARNETT|289.10142089865707|\n",
      "|           BARKSDALE| 133.1273700814498|\n",
      "|                  XU|  455.950713865611|\n",
      "|            HOWERTON|398.45714359493047|\n",
      "|           MCCANLIES|  1878.50646034409|\n",
      "|              GILROY|246.38892486531248|\n",
      "|            Callaham| 401.3934002552392|\n",
      "|             Creager|122.80977259982716|\n",
      "+--------------------+------------------+\n",
      "only showing top 20 rows\n",
      "\n"
     ]
    }
   ],
   "source": [
    "# Get the average transaction per cardholder using the agg() function.\n",
    "lastname_groups.agg({'Amount':'Avg'}).show()"
   ]
  },
  {
   "cell_type": "code",
   "execution_count": 12,
   "metadata": {
    "id": "dHCKlhFQmCuD"
   },
   "outputs": [],
   "source": []
  }
 ],
 "metadata": {
  "colab": {
   "provenance": []
  },
  "kernelspec": {
   "display_name": "Python 3 (ipykernel)",
   "language": "python",
   "name": "python3"
  },
  "language_info": {
   "codemirror_mode": {
    "name": "ipython",
    "version": 3
   },
   "file_extension": ".py",
   "mimetype": "text/x-python",
   "name": "python",
   "nbconvert_exporter": "python",
   "pygments_lexer": "ipython3",
   "version": "3.10.4"
  }
 },
 "nbformat": 4,
 "nbformat_minor": 1
}
