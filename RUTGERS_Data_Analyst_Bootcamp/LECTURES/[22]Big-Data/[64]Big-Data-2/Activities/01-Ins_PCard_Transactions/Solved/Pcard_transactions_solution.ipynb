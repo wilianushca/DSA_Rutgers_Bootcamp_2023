{
 "cells": [
  {
   "cell_type": "code",
   "execution_count": 1,
   "metadata": {
    "colab": {
     "base_uri": "https://localhost:8080/"
    },
    "id": "TRYa0HhhhaGG",
    "outputId": "fb0d9c06-40fe-4269-e7d7-eb779da799d4"
   },
   "outputs": [],
   "source": [
    "# Import findspark and initialize. \n",
    "import findspark\n",
    "findspark.init()"
   ]
  },
  {
   "cell_type": "code",
   "execution_count": 2,
   "metadata": {
    "id": "PI2Ck8-XmCg9"
   },
   "outputs": [
    {
     "name": "stderr",
     "output_type": "stream",
     "text": [
      "Setting default log level to \"WARN\".\n",
      "To adjust logging level use sc.setLogLevel(newLevel). For SparkR, use setLogLevel(newLevel).\n"
     ]
    },
    {
     "name": "stdout",
     "output_type": "stream",
     "text": [
      "23/02/08 11:00:46 WARN NativeCodeLoader: Unable to load native-hadoop library for your platform... using builtin-java classes where applicable\n"
     ]
    }
   ],
   "source": [
    "# Start a Spark session\n",
    "from pyspark.sql import SparkSession\n",
    "spark = SparkSession.builder.appName(\"PCard Transactions\").getOrCreate()"
   ]
  },
  {
   "cell_type": "code",
   "execution_count": 3,
   "metadata": {
    "colab": {
     "base_uri": "https://localhost:8080/"
    },
    "id": "WeAgnm-7kqs6",
    "outputId": "2386ac93-6e1c-4de3-9a45-43ffedcb3860"
   },
   "outputs": [
    {
     "name": "stderr",
     "output_type": "stream",
     "text": [
      "                                                                                \r"
     ]
    },
    {
     "name": "stdout",
     "output_type": "stream",
     "text": [
      "+----------+-------------+--------------------+--------------------+------------------------+--------------------+------+--------------------+--------------------+--------------------+----------------------------+\n",
      "|Year-Month|Agency Number|         Agency Name|Cardholder Last Name|Cardholder First Initial|         Description|Amount|              Vendor|    Transaction Date|         Posted Date|Merchant Category Code (MCC)|\n",
      "+----------+-------------+--------------------+--------------------+------------------------+--------------------+------+--------------------+--------------------+--------------------+----------------------------+\n",
      "|    201307|         1000|OKLAHOMA STATE UN...|               Mason|                       C|    GENERAL PURCHASE|   890|               NACAS|07/30/2013 12:00:...|07/31/2013 12:00:...|        CHARITABLE AND SO...|\n",
      "|    201307|         1000|OKLAHOMA STATE UN...|               Mason|                       C|        ROOM CHARGES|368.96|      SHERATON HOTEL|07/30/2013 12:00:...|07/31/2013 12:00:...|                    SHERATON|\n",
      "|    201307|         1000|OKLAHOMA STATE UN...|              Massey|                       J|    GENERAL PURCHASE|165.82|      SEARS.COM 9300|07/29/2013 12:00:...|07/31/2013 12:00:...|        DIRCT MARKETING/D...|\n",
      "|    201307|         1000|OKLAHOMA STATE UN...|              Massey|                       T|    GENERAL PURCHASE| 96.39|      WAL-MART #0137|07/30/2013 12:00:...|07/31/2013 12:00:...|        GROCERY STORES,AN...|\n",
      "|    201307|         1000|OKLAHOMA STATE UN...|       Mauro-Herrera|                       M|HAMMERMILL COPY P...|125.96|      STAPLES DIRECT|07/30/2013 12:00:...|07/31/2013 12:00:...|        STATIONERY, OFFIC...|\n",
      "|    201307|         1000|OKLAHOMA STATE UN...|       Mauro-Herrera|                       M|    GENERAL PURCHASE|394.28|KYOCERA DOCUMENT ...|07/29/2013 12:00:...|07/31/2013 12:00:...|        OFFICE, PHOTOGRAP...|\n",
      "|    201307|         1000|OKLAHOMA STATE UN...|                Mays|                       B|    GENERAL PURCHASE| 19.87|      WAL-MART #0137|07/30/2013 12:00:...|07/31/2013 12:00:...|        GROCERY STORES,AN...|\n",
      "|    201307|         1000|OKLAHOMA STATE UN...|                Mays|                       B|    GENERAL PURCHASE|  10.1|     DAYLIGHT DONUTS|07/29/2013 12:00:...|07/31/2013 12:00:...|        FAST FOOD RESTAUR...|\n",
      "|    201307|         1000|OKLAHOMA STATE UN...|            McCarthy|                       D|    GENERAL PURCHASE| 142.6|UFIRST  LAUNDRY SVCS|07/30/2013 12:00:...|07/31/2013 12:00:...|        MENS, WOMENS AND ...|\n",
      "|    201307|         1000|OKLAHOMA STATE UN...|             McClurg|                       L|AT&T SERVICE PAYM...| 29.99|           AT&T DATA|07/30/2013 12:00:...|07/31/2013 12:00:...|        TELECOMMUNICATION...|\n",
      "|    201307|         1000|OKLAHOMA STATE UN...|             McGowin|                       R|    GENERAL PURCHASE|278.23|       RANDY'S FOODS|07/29/2013 12:00:...|07/31/2013 12:00:...|        FREEZER AND LOCKE...|\n",
      "|    201307|         1000|OKLAHOMA STATE UN...|               McKee|                       P|    GENERAL PURCHASE| 127.8|DEARINGER PRINTIN...|07/30/2013 12:00:...|07/31/2013 12:00:...|        MISCELLANEOUS AND...|\n",
      "|    201307|         1000|OKLAHOMA STATE UN...|            McLemore|                       A|    GENERAL PURCHASE|572.27|GIDDINGS MACHINE CO.|07/30/2013 12:00:...|07/31/2013 12:00:...|        COMMERCIAL EQUIPM...|\n",
      "|    201307|         1000|OKLAHOMA STATE UN...|             McMurry|                       S|50-LB PLAY SAND B...|  12.9|        LOWES #00241|07/30/2013 12:00:...|07/31/2013 12:00:...|        HOME SUPPLY WAREH...|\n",
      "|    201307|         1000|OKLAHOMA STATE UN...|              Meints|                       K|    GENERAL PURCHASE|   445|OK DEPT OF VO-TEC...|07/30/2013 12:00:...|07/31/2013 12:00:...|        GOVERNMENT SERVIC...|\n",
      "|    201307|         1000|OKLAHOMA STATE UN...|           Mohiuddin|                       A|    GENERAL PURCHASE|452.91| TFS THERMOASHEVILLE|07/31/2013 12:00:...|07/31/2013 12:00:...|        DENTAL/LABORATORY...|\n",
      "|    201307|         1000|OKLAHOMA STATE UN...|           Mohiuddin|                       I|    GENERAL PURCHASE|  2425|WESTERN EQUIPMENT...|07/29/2013 12:00:...|07/31/2013 12:00:...|             HARDWARE STORES|\n",
      "|    201307|         1000|OKLAHOMA STATE UN...|           Mohiuddin|                       I|    GENERAL PURCHASE|  2425|WESTERN EQUIPMENT...|07/29/2013 12:00:...|07/31/2013 12:00:...|             HARDWARE STORES|\n",
      "|    201307|         1000|OKLAHOMA STATE UN...|         Mollenhauer|                       R|    GENERAL PURCHASE|  7.63|   HOBBY-LOBBY #0005|07/29/2013 12:00:...|07/31/2013 12:00:...|        HOBBY,TOY,AND GAM...|\n",
      "|    201307|         1000|OKLAHOMA STATE UN...|          MONTGOMERY|                       R|    GENERAL PURCHASE| 18.97|      WAL-MART #0121|07/30/2013 12:00:...|07/31/2013 12:00:...|        GROCERY STORES,AN...|\n",
      "+----------+-------------+--------------------+--------------------+------------------------+--------------------+------+--------------------+--------------------+--------------------+----------------------------+\n",
      "only showing top 20 rows\n",
      "\n"
     ]
    }
   ],
   "source": [
    "# Read in data from S3 Buckets\n",
    "from pyspark import SparkFiles\n",
    "url = \"https://2u-data-curriculum-team.s3.amazonaws.com/dataviz-classroom/v1.2/22-big-data/2/pcard_transactions.csv\"\n",
    "spark.sparkContext.addFile(url)\n",
    "df = spark.read.csv(SparkFiles.get(\"pcard_transactions.csv\"), sep=\",\", header=True)\n",
    "\n",
    "# Show DataFrame\n",
    "df.show()"
   ]
  },
  {
   "cell_type": "code",
   "execution_count": 4,
   "metadata": {},
   "outputs": [
    {
     "name": "stdout",
     "output_type": "stream",
     "text": [
      "root\n",
      " |-- Year-Month: string (nullable = true)\n",
      " |-- Agency Number: string (nullable = true)\n",
      " |-- Agency Name: string (nullable = true)\n",
      " |-- Cardholder Last Name: string (nullable = true)\n",
      " |-- Cardholder First Initial: string (nullable = true)\n",
      " |-- Description: string (nullable = true)\n",
      " |-- Amount: string (nullable = true)\n",
      " |-- Vendor: string (nullable = true)\n",
      " |-- Transaction Date: string (nullable = true)\n",
      " |-- Posted Date: string (nullable = true)\n",
      " |-- Merchant Category Code (MCC): string (nullable = true)\n",
      "\n"
     ]
    }
   ],
   "source": [
    "# Get the data types of the columns. \n",
    "df.printSchema()"
   ]
  },
  {
   "cell_type": "code",
   "execution_count": 5,
   "metadata": {
    "id": "HJEX_0jhUrKs"
   },
   "outputs": [],
   "source": [
    "# Create a new DataFrame with an \"Amount\" column as a float datatype. \n",
    "amountUpdated = df.withColumn(\"Amount\", df[\"Amount\"].cast('float'))"
   ]
  },
  {
   "cell_type": "code",
   "execution_count": 6,
   "metadata": {
    "colab": {
     "base_uri": "https://localhost:8080/"
    },
    "id": "hcCfoUZyvT79",
    "outputId": "76754dc5-9bb8-41ca-b706-886e237c5773"
   },
   "outputs": [
    {
     "name": "stderr",
     "output_type": "stream",
     "text": [
      "[Stage 2:======================>                                    (3 + 5) / 8]\r"
     ]
    },
    {
     "name": "stdout",
     "output_type": "stream",
     "text": [
      "+--------------------+-----------+\n",
      "|         Agency Name|max(Amount)|\n",
      "+--------------------+-----------+\n",
      "|OKLAHOMA STATE UN...|   27967.38|\n",
      "|BOLL WEEVIL ERADI...|    1639.99|\n",
      "|EMPLOYMENT SECURI...|   12872.19|\n",
      "|OKLAHOMA MILITARY...|  183367.94|\n",
      "|MERIT PROTECTION ...|     2550.0|\n",
      "|OKLAHOMA ABSTRACT...|      405.3|\n",
      "|  HISTORICAL SOCIETY|    90108.0|\n",
      "|STATE ELECTION BOARD|    58875.0|\n",
      "|OKLAHOMA ACCOUNTA...|    2165.68|\n",
      "|  STATE ARTS COUNCIL|     2045.4|\n",
      "| DEPARTMENT OF MINES|     1850.0|\n",
      "|CORPORATION COMMI...|     6038.0|\n",
      "|            GOVERNOR|    3071.95|\n",
      "|DEPARTMENT OF EME...|     3200.0|\n",
      "|ST. BD. OF CHIROP...|     2466.0|\n",
      "|   ETHICS COMMISSION|     1027.8|\n",
      "|J. M. DAVIS ARMS ...|     635.93|\n",
      "|DISTRICT ATTORNEY...|     5000.0|\n",
      "|OKLAHOMA AERONAUT...|     3000.0|\n",
      "|PARDON AND PAROLE...|      577.0|\n",
      "+--------------------+-----------+\n",
      "only showing top 20 rows\n",
      "\n"
     ]
    },
    {
     "name": "stderr",
     "output_type": "stream",
     "text": [
      "\r",
      "                                                                                \r"
     ]
    }
   ],
   "source": [
    "# Group the data on the Agency Name and get the maximum of the \"Amount.\"\n",
    "amountUpdated.groupBy('Agency Name').max().show()"
   ]
  },
  {
   "cell_type": "code",
   "execution_count": 7,
   "metadata": {
    "colab": {
     "base_uri": "https://localhost:8080/"
    },
    "id": "I9-GoCzjWj3H",
    "outputId": "8dbeba3d-eed5-490f-a115-fbfecb8946e6"
   },
   "outputs": [
    {
     "name": "stdout",
     "output_type": "stream",
     "text": [
      "+--------------------+-------------------+\n",
      "|         Agency Name|        sum(Amount)|\n",
      "+--------------------+-------------------+\n",
      "|OKLAHOMA STATE UN...|3.377883993597806E7|\n",
      "|BOLL WEEVIL ERADI...|   18689.0999147892|\n",
      "|EMPLOYMENT SECURI...|  416517.2709596157|\n",
      "|OKLAHOMA MILITARY...| 3697283.2271535005|\n",
      "|MERIT PROTECTION ...|  7984.070019245148|\n",
      "|OKLAHOMA ABSTRACT...| 1821.1800107955933|\n",
      "|  HISTORICAL SOCIETY| 1587215.1306678057|\n",
      "|STATE ELECTION BOARD|  167896.3599333465|\n",
      "|OKLAHOMA ACCOUNTA...| 18057.079823493958|\n",
      "|  STATE ARTS COUNCIL|  47705.35992574692|\n",
      "| DEPARTMENT OF MINES|  28480.51993075013|\n",
      "|CORPORATION COMMI...| 208050.81010117382|\n",
      "|            GOVERNOR|   63720.0095512867|\n",
      "|DEPARTMENT OF EME...| 58851.640033721924|\n",
      "|ST. BD. OF CHIROP...|  25892.29986524582|\n",
      "|   ETHICS COMMISSION| 21327.539993047714|\n",
      "|J. M. DAVIS ARMS ...|  5135.909971237183|\n",
      "|DISTRICT ATTORNEY...|  156613.7489424944|\n",
      "|OKLAHOMA AERONAUT...|  49949.04994082451|\n",
      "|PARDON AND PAROLE...| 3854.1600222587585|\n",
      "+--------------------+-------------------+\n",
      "only showing top 20 rows\n",
      "\n"
     ]
    },
    {
     "name": "stderr",
     "output_type": "stream",
     "text": [
      "\r",
      "[Stage 5:=============================>                             (4 + 4) / 8]\r",
      "\r",
      "                                                                                \r"
     ]
    }
   ],
   "source": [
    "# Group the data on the Agency Name and get the total of the \"Amount.\"\n",
    "amountUpdated.groupBy('Agency Name').sum().show()"
   ]
  },
  {
   "cell_type": "code",
   "execution_count": 8,
   "metadata": {
    "colab": {
     "base_uri": "https://localhost:8080/"
    },
    "id": "JdZsvE0DWTZf",
    "outputId": "9f107cab-593f-483f-bb7a-da2c887e86e0"
   },
   "outputs": [
    {
     "name": "stdout",
     "output_type": "stream",
     "text": [
      "+--------------------+-------------------+\n",
      "|         Agency Name|        sum(Amount)|\n",
      "+--------------------+-------------------+\n",
      "|OKLAHOMA STATE UN...|3.377883993597806E7|\n",
      "|BOLL WEEVIL ERADI...|   18689.0999147892|\n",
      "|EMPLOYMENT SECURI...|  416517.2709596157|\n",
      "|OKLAHOMA MILITARY...| 3697283.2271535005|\n",
      "|MERIT PROTECTION ...|  7984.070019245148|\n",
      "|OKLAHOMA ABSTRACT...| 1821.1800107955933|\n",
      "|  HISTORICAL SOCIETY| 1587215.1306678057|\n",
      "|STATE ELECTION BOARD|  167896.3599333465|\n",
      "|OKLAHOMA ACCOUNTA...| 18057.079823493958|\n",
      "|  STATE ARTS COUNCIL|  47705.35992574692|\n",
      "| DEPARTMENT OF MINES|  28480.51993075013|\n",
      "|CORPORATION COMMI...| 208050.81010117382|\n",
      "|            GOVERNOR|   63720.0095512867|\n",
      "|DEPARTMENT OF EME...| 58851.640033721924|\n",
      "|ST. BD. OF CHIROP...|  25892.29986524582|\n",
      "|   ETHICS COMMISSION| 21327.539993047714|\n",
      "|J. M. DAVIS ARMS ...|  5135.909971237183|\n",
      "|DISTRICT ATTORNEY...|  156613.7489424944|\n",
      "|OKLAHOMA AERONAUT...|  49949.04994082451|\n",
      "|PARDON AND PAROLE...| 3854.1600222587585|\n",
      "+--------------------+-------------------+\n",
      "only showing top 20 rows\n",
      "\n"
     ]
    }
   ],
   "source": [
    "# Group the data on the Agency Name and get the total of the \"Amount\" using the `agg()` function.\n",
    "agency_groups = amountUpdated.groupBy('Agency Name')\n",
    "agency_groups.agg({'Amount':'Sum'}).show()"
   ]
  },
  {
   "cell_type": "code",
   "execution_count": 9,
   "metadata": {
    "colab": {
     "base_uri": "https://localhost:8080/"
    },
    "id": "-nJDZ4-AX7hr",
    "outputId": "378d514e-fdb0-4cc3-9345-8b947bd8b921"
   },
   "outputs": [
    {
     "name": "stdout",
     "output_type": "stream",
     "text": [
      "+--------------------+------------------+\n",
      "|         Agency Name|       avg(Amount)|\n",
      "+--------------------+------------------+\n",
      "|OKLAHOMA STATE UN...|291.20944813119587|\n",
      "|BOLL WEEVIL ERADI...|109.93588185170117|\n",
      "|EMPLOYMENT SECURI...| 355.3901629348257|\n",
      "|OKLAHOMA MILITARY...| 651.0447661830428|\n",
      "|MERIT PROTECTION ...|469.65117760265576|\n",
      "|OKLAHOMA ABSTRACT...|182.11800107955932|\n",
      "|  HISTORICAL SOCIETY| 550.3519870554111|\n",
      "|STATE ELECTION BOARD| 739.6315415565925|\n",
      "|OKLAHOMA ACCOUNTA...|126.27328547897872|\n",
      "|  STATE ARTS COUNCIL| 190.0611949232945|\n",
      "| DEPARTMENT OF MINES|212.54119351306068|\n",
      "|CORPORATION COMMI...|229.13084812904606|\n",
      "|            GOVERNOR|199.12502984777092|\n",
      "|DEPARTMENT OF EME...|246.24117168921308|\n",
      "|ST. BD. OF CHIROP...|190.38455783268984|\n",
      "|   ETHICS COMMISSION|156.82014700770378|\n",
      "|J. M. DAVIS ARMS ...|100.70411708308201|\n",
      "|DISTRICT ATTORNEY...|  241.315483732657|\n",
      "|OKLAHOMA AERONAUT...|229.12408229736013|\n",
      "|PARDON AND PAROLE...|192.70800111293792|\n",
      "+--------------------+------------------+\n",
      "only showing top 20 rows\n",
      "\n"
     ]
    },
    {
     "name": "stderr",
     "output_type": "stream",
     "text": [
      "\r",
      "[Stage 11:=====================>                                    (3 + 5) / 8]\r",
      "\r",
      "                                                                                \r"
     ]
    }
   ],
   "source": [
    "# Group the data on the Agency Name and get the average of the \"Amount\" using the agg() function.\n",
    "agency_groups.agg({'Amount':'Avg'}).show()"
   ]
  },
  {
   "cell_type": "code",
   "execution_count": 10,
   "metadata": {
    "colab": {
     "base_uri": "https://localhost:8080/"
    },
    "id": "Yd_-i2LYYE_O",
    "outputId": "58f27d84-cf51-4b69-a383-11c26e592c19"
   },
   "outputs": [
    {
     "name": "stdout",
     "output_type": "stream",
     "text": [
      "+--------------------+-------------+\n",
      "|         Agency Name|count(Amount)|\n",
      "+--------------------+-------------+\n",
      "|OKLAHOMA STATE UN...|       115995|\n",
      "|BOLL WEEVIL ERADI...|          170|\n",
      "|EMPLOYMENT SECURI...|         1172|\n",
      "|OKLAHOMA MILITARY...|         5679|\n",
      "|MERIT PROTECTION ...|           17|\n",
      "|OKLAHOMA ABSTRACT...|           10|\n",
      "|  HISTORICAL SOCIETY|         2884|\n",
      "|STATE ELECTION BOARD|          227|\n",
      "|OKLAHOMA ACCOUNTA...|          143|\n",
      "|  STATE ARTS COUNCIL|          251|\n",
      "| DEPARTMENT OF MINES|          134|\n",
      "|CORPORATION COMMI...|          908|\n",
      "|            GOVERNOR|          320|\n",
      "|DEPARTMENT OF EME...|          239|\n",
      "|ST. BD. OF CHIROP...|          136|\n",
      "|   ETHICS COMMISSION|          136|\n",
      "|J. M. DAVIS ARMS ...|           51|\n",
      "|DISTRICT ATTORNEY...|          649|\n",
      "|OKLAHOMA AERONAUT...|          218|\n",
      "|PARDON AND PAROLE...|           20|\n",
      "+--------------------+-------------+\n",
      "only showing top 20 rows\n",
      "\n"
     ]
    }
   ],
   "source": [
    "# Group the data on the Agency Name and get the count of transactions of the \"Amount\" using the agg() function.\n",
    "agency_groups.agg({'Amount':'count'}).show()"
   ]
  },
  {
   "cell_type": "code",
   "execution_count": 11,
   "metadata": {
    "colab": {
     "base_uri": "https://localhost:8080/"
    },
    "id": "P271-VziYVHE",
    "outputId": "32fd04ec-7f17-4f29-c93f-b4dbbc84460f"
   },
   "outputs": [
    {
     "name": "stderr",
     "output_type": "stream",
     "text": [
      "\r",
      "[Stage 17:>                                                         (0 + 8) / 8]\r",
      "\r",
      "[Stage 17:=======>                                                  (1 + 7) / 8]\r"
     ]
    },
    {
     "name": "stdout",
     "output_type": "stream",
     "text": [
      "+--------------------+-----------+\n",
      "|CardHolder Last Name|max(Amount)|\n",
      "+--------------------+-----------+\n",
      "|           Fairbanks|    3310.23|\n",
      "|           Worcester|       6.97|\n",
      "|              GILROY|    2476.95|\n",
      "|            Callaham|     3775.0|\n",
      "|             Creager|    1062.24|\n",
      "|               Dunne|    3812.62|\n",
      "|             Edmonds|     892.27|\n",
      "|            Wooliver|     1833.2|\n",
      "|               Gerlt|     3582.0|\n",
      "|             Guthals|     2113.5|\n",
      "|              Ownbey|    1335.09|\n",
      "|              Porter|    3655.99|\n",
      "|                Frie|    1341.65|\n",
      "|                Deal|     518.52|\n",
      "|            McDowell|     2000.0|\n",
      "|               Scott|     4157.0|\n",
      "|              Wilson|     5000.0|\n",
      "|            Wilbourn|    1463.21|\n",
      "|           Robertson|    7909.28|\n",
      "|                Goad|     3900.0|\n",
      "+--------------------+-----------+\n",
      "only showing top 20 rows\n",
      "\n"
     ]
    },
    {
     "name": "stderr",
     "output_type": "stream",
     "text": [
      "\r",
      "                                                                                \r"
     ]
    }
   ],
   "source": [
    "# Group the data on the cardholder last name and get the maximum transaction per cardholder using the agg() function.\n",
    "lastname_groups = amountUpdated.groupBy('CardHolder Last Name')\n",
    "lastname_groups.agg({'Amount':'Max'}).show()"
   ]
  },
  {
   "cell_type": "code",
   "execution_count": 12,
   "metadata": {
    "colab": {
     "base_uri": "https://localhost:8080/"
    },
    "id": "xf9GaATqYs6q",
    "outputId": "ef6b9435-810f-44db-c0ee-a96c6cda3769"
   },
   "outputs": [
    {
     "name": "stderr",
     "output_type": "stream",
     "text": [
      "[Stage 20:====================================>                     (5 + 3) / 8]\r"
     ]
    },
    {
     "name": "stdout",
     "output_type": "stream",
     "text": [
      "+--------------------+------------------+\n",
      "|CardHolder Last Name|       avg(Amount)|\n",
      "+--------------------+------------------+\n",
      "|           Fairbanks|441.81742568697246|\n",
      "|           Worcester| 5.734999895095825|\n",
      "|              GILROY|246.38892486531248|\n",
      "|            Callaham| 401.3934002552392|\n",
      "|             Creager|122.80977259982716|\n",
      "|               Dunne|503.36100047429403|\n",
      "|             Edmonds|118.90054634267634|\n",
      "|            Wooliver|427.08141817365373|\n",
      "|               Gerlt| 246.3202815844979|\n",
      "|             Guthals|179.90105317768297|\n",
      "|              Ownbey|452.52363204956055|\n",
      "|              Porter|182.50486135746235|\n",
      "|                Frie|361.63952436901275|\n",
      "|                Deal|123.70600147247315|\n",
      "|            McDowell| 383.4832420606871|\n",
      "|               Scott| 314.9947040113684|\n",
      "|              Wilson| 283.8881809467646|\n",
      "|            Wilbourn|171.29541704389783|\n",
      "|           Robertson|329.73286159785397|\n",
      "|                Goad| 299.3217814126234|\n",
      "+--------------------+------------------+\n",
      "only showing top 20 rows\n",
      "\n"
     ]
    },
    {
     "name": "stderr",
     "output_type": "stream",
     "text": [
      "\r",
      "                                                                                \r"
     ]
    }
   ],
   "source": [
    "# Get the average transaction per cardholder using the agg() function.\n",
    "lastname_groups.agg({'Amount':'Avg'}).show()"
   ]
  },
  {
   "cell_type": "code",
   "execution_count": null,
   "metadata": {},
   "outputs": [],
   "source": []
  }
 ],
 "metadata": {
  "colab": {
   "collapsed_sections": [],
   "name": "PCardTransactions.ipynb",
   "provenance": []
  },
  "kernelspec": {
   "display_name": "Python 3 (ipykernel)",
   "language": "python",
   "name": "python3"
  },
  "language_info": {
   "codemirror_mode": {
    "name": "ipython",
    "version": 3
   },
   "file_extension": ".py",
   "mimetype": "text/x-python",
   "name": "python",
   "nbconvert_exporter": "python",
   "pygments_lexer": "ipython3",
   "version": "3.10.4"
  }
 },
 "nbformat": 4,
 "nbformat_minor": 1
}
