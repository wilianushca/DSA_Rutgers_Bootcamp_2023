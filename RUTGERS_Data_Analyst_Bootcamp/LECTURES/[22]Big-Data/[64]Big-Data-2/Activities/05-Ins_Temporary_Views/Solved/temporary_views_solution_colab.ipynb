{
  "nbformat": 4,
  "nbformat_minor": 0,
  "metadata": {
    "colab": {
      "provenance": []
    },
    "kernelspec": {
      "name": "python3",
      "display_name": "Python 3"
    }
  },
  "cells": [
    {
      "cell_type": "code",
      "metadata": {
        "colab": {
          "base_uri": "https://localhost:8080/"
        },
        "id": "yTzIf7vEvBr_",
        "outputId": "e8c63871-8422-45ed-dcfb-10760e6477f4"
      },
      "source": [
        "import os\n",
        "# Find the latest version of spark 3.x  from http://www.apache.org/dist/spark/ and enter as the spark version\n",
        "# For example:\n",
        "# spark_version = 'spark-3.4.0'\n",
        "spark_version = 'spark-3.4.0'\n",
        "os.environ['SPARK_VERSION']=spark_version\n",
        "\n",
        "# Install Spark and Java\n",
        "!apt-get update\n",
        "!apt-get install openjdk-11-jdk-headless -qq > /dev/null\n",
        "!wget -q http://www.apache.org/dist/spark/$SPARK_VERSION/$SPARK_VERSION-bin-hadoop3.tgz\n",
        "!tar xf $SPARK_VERSION-bin-hadoop3.tgz\n",
        "!pip install -q findspark\n",
        "\n",
        "# Set Environment Variables\n",
        "os.environ[\"JAVA_HOME\"] = \"/usr/lib/jvm/java-11-openjdk-amd64\"\n",
        "os.environ[\"SPARK_HOME\"] = f\"/content/{spark_version}-bin-hadoop3\"\n",
        "\n",
        "# Start a SparkSession\n",
        "import findspark\n",
        "findspark.init()"
      ],
      "execution_count": 1,
      "outputs": [
        {
          "output_type": "stream",
          "name": "stdout",
          "text": [
            "Get:1 https://cloud.r-project.org/bin/linux/ubuntu focal-cran40/ InRelease [3,622 B]\n",
            "Ign:2 https://developer.download.nvidia.com/compute/machine-learning/repos/ubuntu2004/x86_64  InRelease\n",
            "Hit:3 https://developer.download.nvidia.com/compute/cuda/repos/ubuntu2004/x86_64  InRelease\n",
            "Hit:4 https://developer.download.nvidia.com/compute/machine-learning/repos/ubuntu2004/x86_64  Release\n",
            "Get:5 http://security.ubuntu.com/ubuntu focal-security InRelease [114 kB]\n",
            "Get:6 http://ppa.launchpad.net/c2d4u.team/c2d4u4.0+/ubuntu focal InRelease [18.1 kB]\n",
            "Hit:7 http://archive.ubuntu.com/ubuntu focal InRelease\n",
            "Get:8 http://archive.ubuntu.com/ubuntu focal-updates InRelease [114 kB]\n",
            "Hit:9 http://ppa.launchpad.net/cran/libgit2/ubuntu focal InRelease\n",
            "Get:11 http://ppa.launchpad.net/deadsnakes/ppa/ubuntu focal InRelease [18.1 kB]\n",
            "Get:12 http://archive.ubuntu.com/ubuntu focal-backports InRelease [108 kB]\n",
            "Hit:13 http://ppa.launchpad.net/graphics-drivers/ppa/ubuntu focal InRelease\n",
            "Get:14 http://ppa.launchpad.net/c2d4u.team/c2d4u4.0+/ubuntu focal/main Sources [2,381 kB]\n",
            "Get:15 http://security.ubuntu.com/ubuntu focal-security/universe amd64 Packages [988 kB]\n",
            "Get:16 http://archive.ubuntu.com/ubuntu focal-updates/universe amd64 Packages [1,290 kB]\n",
            "Get:17 http://ppa.launchpad.net/c2d4u.team/c2d4u4.0+/ubuntu focal/main amd64 Packages [1,127 kB]\n",
            "Get:18 http://security.ubuntu.com/ubuntu focal-security/main amd64 Packages [2,442 kB]\n",
            "Get:19 http://archive.ubuntu.com/ubuntu focal-updates/main amd64 Packages [2,920 kB]\n",
            "Get:20 http://ppa.launchpad.net/deadsnakes/ppa/ubuntu focal/main amd64 Packages [29.5 kB]\n",
            "Fetched 11.6 MB in 9s (1,279 kB/s)\n",
            "Reading package lists... Done\n"
          ]
        }
      ]
    },
    {
      "cell_type": "code",
      "metadata": {
        "id": "TzycIWC857fm"
      },
      "source": [
        "# Import packages\n",
        "from pyspark.sql import SparkSession\n",
        "from pyspark.sql import Row\n",
        "from pyspark.sql.types import StructType,StructField,StringType, DateType,IntegerType\n",
        "from pyspark import SparkFiles\n",
        "\n",
        "# Create a SparkSession\n",
        "spark = SparkSession.builder.appName(\"TempViews\").getOrCreate()"
      ],
      "execution_count": 2,
      "outputs": []
    },
    {
      "cell_type": "code",
      "metadata": {
        "id": "aW4fCNcS6yb0"
      },
      "source": [
        "# In this example we are going to read data directly from a github repo.\n",
        "url='https://raw.githubusercontent.com/datasets/five-thirty-eight-datasets/master/datasets/candy-power-ranking/data/candy-data.csv'"
      ],
      "execution_count": 3,
      "outputs": []
    },
    {
      "cell_type": "code",
      "metadata": {
        "id": "Rb-6Y_4FKT4h",
        "colab": {
          "base_uri": "https://localhost:8080/"
        },
        "outputId": "ef8793b9-a68e-4d2b-bf57-228fad5a3077"
      },
      "source": [
        "# SparkFiles will allow you to resolves paths to files added through `SparkContext.addFile`\n",
        "\n",
        "spark.sparkContext.addFile(url)\n",
        "candy_data = spark.read.option('header', 'true').csv(SparkFiles.get(\"candy-data.csv\"), inferSchema=True, sep=',', timestampFormat=\"mm/dd/yy\")\n",
        "\n",
        "# Show DataFrame\n",
        "candy_data.show()"
      ],
      "execution_count": 4,
      "outputs": [
        {
          "output_type": "stream",
          "name": "stdout",
          "text": [
            "+--------------------+---------+------+-------+--------------+------+----------------+----+---+--------+------------+------------+----------+\n",
            "|      competitorname|chocolate|fruity|caramel|peanutyalmondy|nougat|crispedricewafer|hard|bar|pluribus|sugarpercent|pricepercent|winpercent|\n",
            "+--------------------+---------+------+-------+--------------+------+----------------+----+---+--------+------------+------------+----------+\n",
            "|           100 grand|        1|     0|      1|             0|     0|               1|   0|  1|       0|  0.73199999|  0.86000001| 66.971725|\n",
            "|        3 musketeers|        1|     0|      0|             0|     1|               0|   0|  1|       0|  0.60399997|  0.51099998| 67.602936|\n",
            "|            one dime|        0|     0|      0|             0|     0|               0|   0|  0|       0|       0.011|       0.116| 32.261086|\n",
            "|         one quarter|        0|     0|      0|             0|     0|               0|   0|  0|       0|       0.011|  0.51099998| 46.116505|\n",
            "|           air heads|        0|     1|      0|             0|     0|               0|   0|  0|       0|  0.90600002|  0.51099998| 52.341465|\n",
            "|          almond joy|        1|     0|      0|             1|     0|               0|   0|  1|       0|       0.465|  0.76700002| 50.347546|\n",
            "|           baby ruth|        1|     0|      1|             1|     1|               0|   0|  1|       0|  0.60399997|  0.76700002| 56.914547|\n",
            "|  boston baked beans|        0|     0|      0|             1|     0|               0|   0|  0|       1|  0.31299999|  0.51099998| 23.417824|\n",
            "|          candy corn|        0|     0|      0|             0|     0|               0|   0|  0|       1|  0.90600002|  0.32499999| 38.010963|\n",
            "|  caramel apple pops|        0|     1|      1|             0|     0|               0|   0|  0|       0|  0.60399997|  0.32499999| 34.517681|\n",
            "|     charleston chew|        1|     0|      0|             0|     1|               0|   0|  1|       0|  0.60399997|  0.51099998| 38.975037|\n",
            "|chewey lemonhead ...|        0|     1|      0|             0|     0|               0|   0|  0|       1|  0.73199999|  0.51099998| 36.017628|\n",
            "|            chiclets|        0|     1|      0|             0|     0|               0|   0|  0|       1|       0.046|  0.32499999| 24.524988|\n",
            "|                dots|        0|     1|      0|             0|     0|               0|   0|  0|       1|  0.73199999|  0.51099998| 42.272076|\n",
            "|            dum dums|        0|     1|      0|             0|     0|               0|   1|  0|       0|  0.73199999| 0.034000002| 39.460556|\n",
            "|         fruit chews|        0|     1|      0|             0|     0|               0|   0|  0|       1|       0.127| 0.034000002| 43.088924|\n",
            "|             fun dip|        0|     1|      0|             0|     0|               0|   1|  0|       0|  0.73199999|  0.32499999| 39.185505|\n",
            "|          gobstopper|        0|     1|      0|             0|     0|               0|   1|  0|       1|  0.90600002|  0.45300001| 46.783348|\n",
            "|   haribo gold bears|        0|     1|      0|             0|     0|               0|   0|  0|       1|       0.465|       0.465|  57.11974|\n",
            "|   haribo happy cola|        0|     0|      0|             0|     0|               0|   0|  0|       1|       0.465|       0.465| 34.158958|\n",
            "+--------------------+---------+------+-------+--------------+------+----------------+----+---+--------+------------+------------+----------+\n",
            "only showing top 20 rows\n",
            "\n"
          ]
        }
      ]
    },
    {
      "cell_type": "code",
      "metadata": {
        "id": "Ez3gZbpH8KL5"
      },
      "source": [
        "# Create a temporary view. The temp view is a pre-requisite for Spark to allow you to read with sql.  \n",
        "candy_data.createOrReplaceTempView('candy')"
      ],
      "execution_count": 5,
      "outputs": []
    },
    {
      "cell_type": "code",
      "metadata": {
        "colab": {
          "base_uri": "https://localhost:8080/"
        },
        "id": "rk8t2SqSDHy2",
        "outputId": "586bad15-f26b-43b8-8631-56b3ed5dfd4f"
      },
      "source": [
        "#using sql in Spark just requires you to call spark.sql(<sql>) and showing the data.\n",
        "#here we are peeking at the data using SparkSQL\n",
        "spark.sql(\"select * from candy limit 10\").show()"
      ],
      "execution_count": 6,
      "outputs": [
        {
          "output_type": "stream",
          "name": "stdout",
          "text": [
            "+------------------+---------+------+-------+--------------+------+----------------+----+---+--------+------------+------------+----------+\n",
            "|    competitorname|chocolate|fruity|caramel|peanutyalmondy|nougat|crispedricewafer|hard|bar|pluribus|sugarpercent|pricepercent|winpercent|\n",
            "+------------------+---------+------+-------+--------------+------+----------------+----+---+--------+------------+------------+----------+\n",
            "|         100 grand|        1|     0|      1|             0|     0|               1|   0|  1|       0|  0.73199999|  0.86000001| 66.971725|\n",
            "|      3 musketeers|        1|     0|      0|             0|     1|               0|   0|  1|       0|  0.60399997|  0.51099998| 67.602936|\n",
            "|          one dime|        0|     0|      0|             0|     0|               0|   0|  0|       0|       0.011|       0.116| 32.261086|\n",
            "|       one quarter|        0|     0|      0|             0|     0|               0|   0|  0|       0|       0.011|  0.51099998| 46.116505|\n",
            "|         air heads|        0|     1|      0|             0|     0|               0|   0|  0|       0|  0.90600002|  0.51099998| 52.341465|\n",
            "|        almond joy|        1|     0|      0|             1|     0|               0|   0|  1|       0|       0.465|  0.76700002| 50.347546|\n",
            "|         baby ruth|        1|     0|      1|             1|     1|               0|   0|  1|       0|  0.60399997|  0.76700002| 56.914547|\n",
            "|boston baked beans|        0|     0|      0|             1|     0|               0|   0|  0|       1|  0.31299999|  0.51099998| 23.417824|\n",
            "|        candy corn|        0|     0|      0|             0|     0|               0|   0|  0|       1|  0.90600002|  0.32499999| 38.010963|\n",
            "|caramel apple pops|        0|     1|      1|             0|     0|               0|   0|  0|       0|  0.60399997|  0.32499999| 34.517681|\n",
            "+------------------+---------+------+-------+--------------+------+----------------+----+---+--------+------------+------------+----------+\n",
            "\n"
          ]
        }
      ]
    },
    {
      "cell_type": "code",
      "metadata": {
        "colab": {
          "base_uri": "https://localhost:8080/"
        },
        "id": "yKimg3-iDOWN",
        "outputId": "69b21711-25f3-401e-d829-3f71278f4e14"
      },
      "source": [
        "# Get the the first 10 highest \"winpercent\" in desencending order.\n",
        "spark.sql(\"SELECT * FROM candy ORDER BY winpercent DESC LIMIT 10\").show()"
      ],
      "execution_count": 7,
      "outputs": [
        {
          "output_type": "stream",
          "name": "stdout",
          "text": [
            "+--------------------+---------+------+-------+--------------+------+----------------+----+---+--------+------------+------------+----------+\n",
            "|      competitorname|chocolate|fruity|caramel|peanutyalmondy|nougat|crispedricewafer|hard|bar|pluribus|sugarpercent|pricepercent|winpercent|\n",
            "+--------------------+---------+------+-------+--------------+------+----------------+----+---+--------+------------+------------+----------+\n",
            "|reeses peanut but...|        1|     0|      0|             1|     0|               0|   0|  0|       0|  0.72000003|  0.65100002|  84.18029|\n",
            "|   reeses miniatures|        1|     0|      0|             1|     0|               0|   0|  0|       0| 0.034000002|  0.27900001| 81.866257|\n",
            "|                twix|        1|     0|      1|             0|     0|               1|   0|  1|       0|       0.546|  0.90600002| 81.642914|\n",
            "|             kit kat|        1|     0|      0|             0|     0|               1|   0|  1|       0|  0.31299999|  0.51099998|   76.7686|\n",
            "|            snickers|        1|     0|      1|             1|     1|               0|   0|  1|       0|       0.546|  0.65100002| 76.673782|\n",
            "|       reeses pieces|        1|     0|      0|             1|     0|               0|   0|  0|       1|  0.40599999|  0.65100002|  73.43499|\n",
            "|           milky way|        1|     0|      1|             0|     1|               0|   0|  1|       0|  0.60399997|  0.65100002| 73.099556|\n",
            "|reeses stuffed wi...|        1|     0|      0|             1|     0|               0|   0|  0|       0|  0.98799998|  0.65100002| 72.887901|\n",
            "|  peanut butter m&ms|        1|     0|      0|             1|     0|               0|   0|  0|       1|  0.82499999|  0.65100002|  71.46505|\n",
            "| nestle butterfinger|        1|     0|      0|             1|     0|               0|   0|  1|       0|  0.60399997|  0.76700002| 70.735641|\n",
            "+--------------------+---------+------+-------+--------------+------+----------------+----+---+--------+------------+------------+----------+\n",
            "\n"
          ]
        }
      ]
    },
    {
      "cell_type": "code",
      "source": [
        "# Get the candies that have chocolate and caramel and order by the lowest sugar percentage.\n",
        "spark.sql(\"SELECT * FROM candy WHERE chocolate==1 AND caramel==1 ORDER BY sugarpercent ASC\").show()"
      ],
      "metadata": {
        "colab": {
          "base_uri": "https://localhost:8080/"
        },
        "id": "1KlR_oVY-JFJ",
        "outputId": "724877df-d69c-40a8-b722-1a1532f6d6fb"
      },
      "execution_count": 8,
      "outputs": [
        {
          "output_type": "stream",
          "name": "stdout",
          "text": [
            "+--------------------+---------+------+-------+--------------+------+----------------+----+---+--------+------------+------------+----------+\n",
            "|      competitorname|chocolate|fruity|caramel|peanutyalmondy|nougat|crispedricewafer|hard|bar|pluribus|sugarpercent|pricepercent|winpercent|\n",
            "+--------------------+---------+------+-------+--------------+------+----------------+----+---+--------+------------+------------+----------+\n",
            "|           milk duds|        1|     0|      1|             0|     0|               0|   0|  0|       1|  0.30199999|  0.51099998| 55.064072|\n",
            "|                twix|        1|     0|      1|             0|     0|               1|   0|  1|       0|       0.546|  0.90600002| 81.642914|\n",
            "|            snickers|        1|     0|      1|             1|     1|               0|   0|  1|       0|       0.546|  0.65100002| 76.673782|\n",
            "|           baby ruth|        1|     0|      1|             1|     1|               0|   0|  1|       0|  0.60399997|  0.76700002| 56.914547|\n",
            "|    snickers crisper|        1|     0|      1|             1|     0|               1|   0|  1|       0|  0.60399997|  0.65100002| 59.529251|\n",
            "|           milky way|        1|     0|      1|             0|     1|               0|   0|  1|       0|  0.60399997|  0.65100002| 73.099556|\n",
            "|  milky way midnight|        1|     0|      1|             0|     1|               0|   0|  1|       0|  0.73199999|  0.44100001| 60.800701|\n",
            "|           100 grand|        1|     0|      1|             0|     0|               1|   0|  1|       0|  0.73199999|  0.86000001| 66.971725|\n",
            "|                rolo|        1|     0|      1|             0|     0|               0|   0|  0|       1|  0.86000001|  0.86000001| 65.716286|\n",
            "|milky way simply ...|        1|     0|      1|             0|     0|               0|   0|  1|       0|  0.96499997|  0.86000001|  64.35334|\n",
            "+--------------------+---------+------+-------+--------------+------+----------------+----+---+--------+------------+------------+----------+\n",
            "\n"
          ]
        }
      ]
    },
    {
      "cell_type": "code",
      "source": [
        "# Demonstrate how to write a SQL query on multiple lines. \n",
        "query = \"\"\"\n",
        "(SELECT * FROM candy \n",
        "WHERE chocolate==1 AND caramel==1 \n",
        "ORDER BY sugarpercent ASC)\n",
        "\"\"\"\n",
        "spark.sql(query).show()"
      ],
      "metadata": {
        "colab": {
          "base_uri": "https://localhost:8080/"
        },
        "id": "mg_TsDu--I6s",
        "outputId": "51435567-a441-4431-fa62-7002b76c5978"
      },
      "execution_count": 9,
      "outputs": [
        {
          "output_type": "stream",
          "name": "stdout",
          "text": [
            "+--------------------+---------+------+-------+--------------+------+----------------+----+---+--------+------------+------------+----------+\n",
            "|      competitorname|chocolate|fruity|caramel|peanutyalmondy|nougat|crispedricewafer|hard|bar|pluribus|sugarpercent|pricepercent|winpercent|\n",
            "+--------------------+---------+------+-------+--------------+------+----------------+----+---+--------+------------+------------+----------+\n",
            "|           milk duds|        1|     0|      1|             0|     0|               0|   0|  0|       1|  0.30199999|  0.51099998| 55.064072|\n",
            "|                twix|        1|     0|      1|             0|     0|               1|   0|  1|       0|       0.546|  0.90600002| 81.642914|\n",
            "|            snickers|        1|     0|      1|             1|     1|               0|   0|  1|       0|       0.546|  0.65100002| 76.673782|\n",
            "|           baby ruth|        1|     0|      1|             1|     1|               0|   0|  1|       0|  0.60399997|  0.76700002| 56.914547|\n",
            "|    snickers crisper|        1|     0|      1|             1|     0|               1|   0|  1|       0|  0.60399997|  0.65100002| 59.529251|\n",
            "|           milky way|        1|     0|      1|             0|     1|               0|   0|  1|       0|  0.60399997|  0.65100002| 73.099556|\n",
            "|  milky way midnight|        1|     0|      1|             0|     1|               0|   0|  1|       0|  0.73199999|  0.44100001| 60.800701|\n",
            "|           100 grand|        1|     0|      1|             0|     0|               1|   0|  1|       0|  0.73199999|  0.86000001| 66.971725|\n",
            "|                rolo|        1|     0|      1|             0|     0|               0|   0|  0|       1|  0.86000001|  0.86000001| 65.716286|\n",
            "|milky way simply ...|        1|     0|      1|             0|     0|               0|   0|  1|       0|  0.96499997|  0.86000001|  64.35334|\n",
            "+--------------------+---------+------+-------+--------------+------+----------------+----+---+--------+------------+------------+----------+\n",
            "\n"
          ]
        }
      ]
    },
    {
      "cell_type": "code",
      "source": [],
      "metadata": {
        "id": "BXIpKEGWBDPQ"
      },
      "execution_count": 9,
      "outputs": []
    }
  ]
}
