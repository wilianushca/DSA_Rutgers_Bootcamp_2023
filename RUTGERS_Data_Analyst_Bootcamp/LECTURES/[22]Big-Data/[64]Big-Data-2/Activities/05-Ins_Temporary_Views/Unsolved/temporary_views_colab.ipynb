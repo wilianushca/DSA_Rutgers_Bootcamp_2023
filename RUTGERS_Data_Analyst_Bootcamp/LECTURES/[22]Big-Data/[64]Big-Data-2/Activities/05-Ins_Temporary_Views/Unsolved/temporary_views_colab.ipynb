{
  "cells": [
    {
      "cell_type": "code",
      "execution_count": null,
      "metadata": {
        "id": "yTzIf7vEvBr_"
      },
      "outputs": [],
      "source": [
        "import os\n",
        "# Find the latest version of spark 3.x  from http://www.apache.org/dist/spark/ and enter as the spark version\n",
        "# For example:\n",
        "# spark_version = 'spark-3.4.0'\n",
        "spark_version = 'spark-3.4.0'\n",
        "os.environ['SPARK_VERSION']=spark_version\n",
        "\n",
        "# Install Spark and Java\n",
        "!apt-get update\n",
        "!apt-get install openjdk-11-jdk-headless -qq > /dev/null\n",
        "!wget -q http://www.apache.org/dist/spark/$SPARK_VERSION/$SPARK_VERSION-bin-hadoop3.tgz\n",
        "!tar xf $SPARK_VERSION-bin-hadoop3.tgz\n",
        "!pip install -q findspark\n",
        "\n",
        "# Set Environment Variables\n",
        "os.environ[\"JAVA_HOME\"] = \"/usr/lib/jvm/java-11-openjdk-amd64\"\n",
        "os.environ[\"SPARK_HOME\"] = f\"/content/{spark_version}-bin-hadoop3\"\n",
        "\n",
        "# Start a SparkSession\n",
        "import findspark\n",
        "findspark.init()"
      ]
    },
    {
      "cell_type": "code",
      "execution_count": null,
      "metadata": {
        "id": "TzycIWC857fm",
        "outputId": "3ce279ec-af2a-4bba-f50b-5ba36338d2c9"
      },
      "outputs": [
        {
          "name": "stderr",
          "output_type": "stream",
          "text": [
            "Using Spark's default log4j profile: org/apache/spark/log4j-defaults.properties\n",
            "Setting default log level to \"WARN\".\n",
            "To adjust logging level use sc.setLogLevel(newLevel). For SparkR, use setLogLevel(newLevel).\n",
            "22/11/09 15:13:54 WARN NativeCodeLoader: Unable to load native-hadoop library for your platform... using builtin-java classes where applicable\n",
            "22/11/09 15:13:55 WARN Utils: Service 'SparkUI' could not bind on port 4040. Attempting port 4041.\n"
          ]
        }
      ],
      "source": [
        "# Import packages\n",
        "from pyspark.sql import SparkSession\n",
        "from pyspark.sql import Row\n",
        "from pyspark.sql.types import StructType,StructField,StringType, DateType,IntegerType\n",
        "from pyspark import SparkFiles\n",
        "\n",
        "# Create a SparkSession\n",
        "spark = SparkSession.builder.appName(\"TempViews\").getOrCreate()"
      ]
    },
    {
      "cell_type": "code",
      "execution_count": null,
      "metadata": {
        "id": "aW4fCNcS6yb0"
      },
      "outputs": [],
      "source": [
        "# In this example we are going to read data directly from a github repo.\n",
        "url='https://raw.githubusercontent.com/datasets/five-thirty-eight-datasets/master/datasets/candy-power-ranking/data/candy-data.csv'"
      ]
    },
    {
      "cell_type": "code",
      "execution_count": null,
      "metadata": {
        "id": "Rb-6Y_4FKT4h",
        "outputId": "1a6d0fa1-28b8-46cc-c008-9ef13ae92cdc"
      },
      "outputs": [
        {
          "name": "stdout",
          "output_type": "stream",
          "text": [
            "+--------------------+---------+------+-------+--------------+------+----------------+----+---+--------+------------+------------+----------+\n",
            "|      competitorname|chocolate|fruity|caramel|peanutyalmondy|nougat|crispedricewafer|hard|bar|pluribus|sugarpercent|pricepercent|winpercent|\n",
            "+--------------------+---------+------+-------+--------------+------+----------------+----+---+--------+------------+------------+----------+\n",
            "|           100 grand|        1|     0|      1|             0|     0|               1|   0|  1|       0|  0.73199999|  0.86000001| 66.971725|\n",
            "|        3 musketeers|        1|     0|      0|             0|     1|               0|   0|  1|       0|  0.60399997|  0.51099998| 67.602936|\n",
            "|            one dime|        0|     0|      0|             0|     0|               0|   0|  0|       0|       0.011|       0.116| 32.261086|\n",
            "|         one quarter|        0|     0|      0|             0|     0|               0|   0|  0|       0|       0.011|  0.51099998| 46.116505|\n",
            "|           air heads|        0|     1|      0|             0|     0|               0|   0|  0|       0|  0.90600002|  0.51099998| 52.341465|\n",
            "|          almond joy|        1|     0|      0|             1|     0|               0|   0|  1|       0|       0.465|  0.76700002| 50.347546|\n",
            "|           baby ruth|        1|     0|      1|             1|     1|               0|   0|  1|       0|  0.60399997|  0.76700002| 56.914547|\n",
            "|  boston baked beans|        0|     0|      0|             1|     0|               0|   0|  0|       1|  0.31299999|  0.51099998| 23.417824|\n",
            "|          candy corn|        0|     0|      0|             0|     0|               0|   0|  0|       1|  0.90600002|  0.32499999| 38.010963|\n",
            "|  caramel apple pops|        0|     1|      1|             0|     0|               0|   0|  0|       0|  0.60399997|  0.32499999| 34.517681|\n",
            "|     charleston chew|        1|     0|      0|             0|     1|               0|   0|  1|       0|  0.60399997|  0.51099998| 38.975037|\n",
            "|chewey lemonhead ...|        0|     1|      0|             0|     0|               0|   0|  0|       1|  0.73199999|  0.51099998| 36.017628|\n",
            "|            chiclets|        0|     1|      0|             0|     0|               0|   0|  0|       1|       0.046|  0.32499999| 24.524988|\n",
            "|                dots|        0|     1|      0|             0|     0|               0|   0|  0|       1|  0.73199999|  0.51099998| 42.272076|\n",
            "|            dum dums|        0|     1|      0|             0|     0|               0|   1|  0|       0|  0.73199999| 0.034000002| 39.460556|\n",
            "|         fruit chews|        0|     1|      0|             0|     0|               0|   0|  0|       1|       0.127| 0.034000002| 43.088924|\n",
            "|             fun dip|        0|     1|      0|             0|     0|               0|   1|  0|       0|  0.73199999|  0.32499999| 39.185505|\n",
            "|          gobstopper|        0|     1|      0|             0|     0|               0|   1|  0|       1|  0.90600002|  0.45300001| 46.783348|\n",
            "|   haribo gold bears|        0|     1|      0|             0|     0|               0|   0|  0|       1|       0.465|       0.465|  57.11974|\n",
            "|   haribo happy cola|        0|     0|      0|             0|     0|               0|   0|  0|       1|       0.465|       0.465| 34.158958|\n",
            "+--------------------+---------+------+-------+--------------+------+----------------+----+---+--------+------------+------------+----------+\n",
            "only showing top 20 rows\n",
            "\n"
          ]
        }
      ],
      "source": [
        "# SparkFiles will allow you to resolves paths to files added through `SparkContext.addFile`\n",
        "\n",
        "spark.sparkContext.addFile(url)\n",
        "candy_data = spark.read.option('header', 'true').csv(SparkFiles.get(\"candy-data.csv\"), inferSchema=True, sep=',', timestampFormat=\"mm/dd/yy\")\n",
        "\n",
        "# Show DataFrame\n",
        "candy_data.show()"
      ]
    },
    {
      "cell_type": "code",
      "execution_count": null,
      "metadata": {
        "id": "Ez3gZbpH8KL5"
      },
      "outputs": [],
      "source": [
        "# Create a temporary view. The temp view is a pre-requisite for Spark to allow you to read with sql.  \n"
      ]
    },
    {
      "cell_type": "code",
      "execution_count": null,
      "metadata": {
        "colab": {
          "base_uri": "https://localhost:8080/"
        },
        "id": "rk8t2SqSDHy2",
        "outputId": "23269011-8bf3-4bdd-8693-d9ec5f6f176e"
      },
      "outputs": [
        {
          "name": "stdout",
          "output_type": "stream",
          "text": [
            "+------------------+---------+------+-------+--------------+------+----------------+----+---+--------+------------+------------+----------+\n",
            "|    competitorname|chocolate|fruity|caramel|peanutyalmondy|nougat|crispedricewafer|hard|bar|pluribus|sugarpercent|pricepercent|winpercent|\n",
            "+------------------+---------+------+-------+--------------+------+----------------+----+---+--------+------------+------------+----------+\n",
            "|         100 grand|        1|     0|      1|             0|     0|               1|   0|  1|       0|  0.73199999|  0.86000001| 66.971725|\n",
            "|      3 musketeers|        1|     0|      0|             0|     1|               0|   0|  1|       0|  0.60399997|  0.51099998| 67.602936|\n",
            "|          one dime|        0|     0|      0|             0|     0|               0|   0|  0|       0|       0.011|       0.116| 32.261086|\n",
            "|       one quarter|        0|     0|      0|             0|     0|               0|   0|  0|       0|       0.011|  0.51099998| 46.116505|\n",
            "|         air heads|        0|     1|      0|             0|     0|               0|   0|  0|       0|  0.90600002|  0.51099998| 52.341465|\n",
            "|        almond joy|        1|     0|      0|             1|     0|               0|   0|  1|       0|       0.465|  0.76700002| 50.347546|\n",
            "|         baby ruth|        1|     0|      1|             1|     1|               0|   0|  1|       0|  0.60399997|  0.76700002| 56.914547|\n",
            "|boston baked beans|        0|     0|      0|             1|     0|               0|   0|  0|       1|  0.31299999|  0.51099998| 23.417824|\n",
            "|        candy corn|        0|     0|      0|             0|     0|               0|   0|  0|       1|  0.90600002|  0.32499999| 38.010963|\n",
            "|caramel apple pops|        0|     1|      1|             0|     0|               0|   0|  0|       0|  0.60399997|  0.32499999| 34.517681|\n",
            "+------------------+---------+------+-------+--------------+------+----------------+----+---+--------+------------+------------+----------+\n",
            "\n"
          ]
        }
      ],
      "source": [
        "# Using sql in Spark just requires you to call spark.sql(<sql>) and showing the data.\n",
        "# Here we are peeking at the data using SparkSQL\n"
      ]
    },
    {
      "cell_type": "code",
      "execution_count": null,
      "metadata": {
        "colab": {
          "base_uri": "https://localhost:8080/"
        },
        "id": "yKimg3-iDOWN",
        "outputId": "ac20d878-b893-41f5-dbee-905561a73d7d"
      },
      "outputs": [
        {
          "name": "stdout",
          "output_type": "stream",
          "text": [
            "+--------------------+---------+------+-------+--------------+------+----------------+----+---+--------+------------+------------+----------+\n",
            "|      competitorname|chocolate|fruity|caramel|peanutyalmondy|nougat|crispedricewafer|hard|bar|pluribus|sugarpercent|pricepercent|winpercent|\n",
            "+--------------------+---------+------+-------+--------------+------+----------------+----+---+--------+------------+------------+----------+\n",
            "|reeses peanut but...|        1|     0|      0|             1|     0|               0|   0|  0|       0|  0.72000003|  0.65100002|  84.18029|\n",
            "|   reeses miniatures|        1|     0|      0|             1|     0|               0|   0|  0|       0| 0.034000002|  0.27900001| 81.866257|\n",
            "|                twix|        1|     0|      1|             0|     0|               1|   0|  1|       0|       0.546|  0.90600002| 81.642914|\n",
            "|             kit kat|        1|     0|      0|             0|     0|               1|   0|  1|       0|  0.31299999|  0.51099998|   76.7686|\n",
            "|            snickers|        1|     0|      1|             1|     1|               0|   0|  1|       0|       0.546|  0.65100002| 76.673782|\n",
            "|       reeses pieces|        1|     0|      0|             1|     0|               0|   0|  0|       1|  0.40599999|  0.65100002|  73.43499|\n",
            "|           milky way|        1|     0|      1|             0|     1|               0|   0|  1|       0|  0.60399997|  0.65100002| 73.099556|\n",
            "|reeses stuffed wi...|        1|     0|      0|             1|     0|               0|   0|  0|       0|  0.98799998|  0.65100002| 72.887901|\n",
            "|  peanut butter m&ms|        1|     0|      0|             1|     0|               0|   0|  0|       1|  0.82499999|  0.65100002|  71.46505|\n",
            "| nestle butterfinger|        1|     0|      0|             1|     0|               0|   0|  1|       0|  0.60399997|  0.76700002| 70.735641|\n",
            "+--------------------+---------+------+-------+--------------+------+----------------+----+---+--------+------------+------------+----------+\n",
            "\n"
          ]
        }
      ],
      "source": [
        "# Get the the first 10 highest \"winpercent\" in desencending order.\n"
      ]
    },
    {
      "cell_type": "code",
      "execution_count": null,
      "metadata": {
        "colab": {
          "base_uri": "https://localhost:8080/"
        },
        "id": "1KlR_oVY-JFJ",
        "outputId": "65e6a73e-21fc-4ff1-d3bf-76f7ccce2444"
      },
      "outputs": [
        {
          "name": "stdout",
          "output_type": "stream",
          "text": [
            "+--------------------+---------+------+-------+--------------+------+----------------+----+---+--------+------------+------------+----------+\n",
            "|      competitorname|chocolate|fruity|caramel|peanutyalmondy|nougat|crispedricewafer|hard|bar|pluribus|sugarpercent|pricepercent|winpercent|\n",
            "+--------------------+---------+------+-------+--------------+------+----------------+----+---+--------+------------+------------+----------+\n",
            "|           milk duds|        1|     0|      1|             0|     0|               0|   0|  0|       1|  0.30199999|  0.51099998| 55.064072|\n",
            "|                twix|        1|     0|      1|             0|     0|               1|   0|  1|       0|       0.546|  0.90600002| 81.642914|\n",
            "|            snickers|        1|     0|      1|             1|     1|               0|   0|  1|       0|       0.546|  0.65100002| 76.673782|\n",
            "|           baby ruth|        1|     0|      1|             1|     1|               0|   0|  1|       0|  0.60399997|  0.76700002| 56.914547|\n",
            "|    snickers crisper|        1|     0|      1|             1|     0|               1|   0|  1|       0|  0.60399997|  0.65100002| 59.529251|\n",
            "|           milky way|        1|     0|      1|             0|     1|               0|   0|  1|       0|  0.60399997|  0.65100002| 73.099556|\n",
            "|  milky way midnight|        1|     0|      1|             0|     1|               0|   0|  1|       0|  0.73199999|  0.44100001| 60.800701|\n",
            "|           100 grand|        1|     0|      1|             0|     0|               1|   0|  1|       0|  0.73199999|  0.86000001| 66.971725|\n",
            "|                rolo|        1|     0|      1|             0|     0|               0|   0|  0|       1|  0.86000001|  0.86000001| 65.716286|\n",
            "|milky way simply ...|        1|     0|      1|             0|     0|               0|   0|  1|       0|  0.96499997|  0.86000001|  64.35334|\n",
            "+--------------------+---------+------+-------+--------------+------+----------------+----+---+--------+------------+------------+----------+\n",
            "\n"
          ]
        }
      ],
      "source": [
        "# Get the candies that have chocolate and caramel and order by the lowest sugar percentage.\n"
      ]
    },
    {
      "cell_type": "code",
      "execution_count": null,
      "metadata": {
        "colab": {
          "base_uri": "https://localhost:8080/"
        },
        "id": "mg_TsDu--I6s",
        "outputId": "1fe408a3-a8e7-4a50-e4d7-762b8953e99e"
      },
      "outputs": [
        {
          "name": "stdout",
          "output_type": "stream",
          "text": [
            "+--------------------+---------+------+-------+--------------+------+----------------+----+---+--------+------------+------------+----------+\n",
            "|      competitorname|chocolate|fruity|caramel|peanutyalmondy|nougat|crispedricewafer|hard|bar|pluribus|sugarpercent|pricepercent|winpercent|\n",
            "+--------------------+---------+------+-------+--------------+------+----------------+----+---+--------+------------+------------+----------+\n",
            "|           milk duds|        1|     0|      1|             0|     0|               0|   0|  0|       1|  0.30199999|  0.51099998| 55.064072|\n",
            "|                twix|        1|     0|      1|             0|     0|               1|   0|  1|       0|       0.546|  0.90600002| 81.642914|\n",
            "|            snickers|        1|     0|      1|             1|     1|               0|   0|  1|       0|       0.546|  0.65100002| 76.673782|\n",
            "|           baby ruth|        1|     0|      1|             1|     1|               0|   0|  1|       0|  0.60399997|  0.76700002| 56.914547|\n",
            "|    snickers crisper|        1|     0|      1|             1|     0|               1|   0|  1|       0|  0.60399997|  0.65100002| 59.529251|\n",
            "|           milky way|        1|     0|      1|             0|     1|               0|   0|  1|       0|  0.60399997|  0.65100002| 73.099556|\n",
            "|  milky way midnight|        1|     0|      1|             0|     1|               0|   0|  1|       0|  0.73199999|  0.44100001| 60.800701|\n",
            "|           100 grand|        1|     0|      1|             0|     0|               1|   0|  1|       0|  0.73199999|  0.86000001| 66.971725|\n",
            "|                rolo|        1|     0|      1|             0|     0|               0|   0|  0|       1|  0.86000001|  0.86000001| 65.716286|\n",
            "|milky way simply ...|        1|     0|      1|             0|     0|               0|   0|  1|       0|  0.96499997|  0.86000001|  64.35334|\n",
            "+--------------------+---------+------+-------+--------------+------+----------------+----+---+--------+------------+------------+----------+\n",
            "\n"
          ]
        }
      ],
      "source": [
        "# Demonstrate how to write a SQL query on multiple lines. \n"
      ]
    },
    {
      "cell_type": "code",
      "execution_count": null,
      "metadata": {
        "id": "BXIpKEGWBDPQ"
      },
      "outputs": [],
      "source": []
    }
  ],
  "metadata": {
    "colab": {
      "provenance": []
    },
    "kernelspec": {
      "display_name": "PythonData",
      "language": "python",
      "name": "pythondata"
    },
    "language_info": {
      "codemirror_mode": {
        "name": "ipython",
        "version": 3
      },
      "file_extension": ".py",
      "mimetype": "text/x-python",
      "name": "python",
      "nbconvert_exporter": "python",
      "pygments_lexer": "ipython3",
      "version": "3.7.7"
    }
  },
  "nbformat": 4,
  "nbformat_minor": 0
}
