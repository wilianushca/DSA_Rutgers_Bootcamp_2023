{
 "cells": [
  {
   "cell_type": "code",
   "execution_count": 1,
   "metadata": {},
   "outputs": [],
   "source": [
    "# Import dependencies\n",
    "from splinter import Browser\n",
    "from bs4 import BeautifulSoup\n",
    "\n",
    "# Launch the browser\n",
    "browser = Browser('chrome')"
   ]
  },
  {
   "cell_type": "code",
   "execution_count": 2,
   "metadata": {},
   "outputs": [],
   "source": [
    "# Set the URL to visit to a variable\n",
    "url = \"https://stackoverflow.com/questions/tagged/python?sort=MostVotes&edited=true\"\n",
    "\n",
    "# Send the browser to the URL\n",
    "browser.visit(url)\n",
    "\n",
    "# Save the HTML from the browser\n",
    "html = browser.html\n",
    "\n",
    "# Create a BeautifulSoup object from the HTML\n",
    "soup = BeautifulSoup(html, 'html.parser')"
   ]
  },
  {
   "cell_type": "code",
   "execution_count": 3,
   "metadata": {},
   "outputs": [],
   "source": [
    "# Find all divs that contain a question\n",
    "question_divs = soup.find_all('div', class_=\"s-post-summary js-post-summary\")"
   ]
  },
  {
   "cell_type": "code",
   "execution_count": 4,
   "metadata": {},
   "outputs": [
    {
     "data": {
      "text/plain": [
       "'What does the \"yield\" keyword do?'"
      ]
     },
     "execution_count": 4,
     "metadata": {},
     "output_type": "execute_result"
    }
   ],
   "source": [
    "# Find the summary text of the first question\n",
    "question_divs[0].find(\"a\", class_=\"s-link\").text"
   ]
  },
  {
   "cell_type": "code",
   "execution_count": 5,
   "metadata": {},
   "outputs": [
    {
     "data": {
      "text/plain": [
       "'12486'"
      ]
     },
     "execution_count": 5,
     "metadata": {},
     "output_type": "execute_result"
    }
   ],
   "source": [
    "# Find the vote count text of the first question\n",
    "question_divs[0].find(\"span\", class_=\"s-post-summary--stats-item-number\").text"
   ]
  },
  {
   "cell_type": "code",
   "execution_count": 6,
   "metadata": {},
   "outputs": [
    {
     "data": {
      "text/plain": [
       "\"What is the use of the yield keyword in Python? What does it do?\\nFor example, I'm trying to understand this code1:\\ndef _get_child_candidates(self, distance, min_dist, max_dist):\\n    if self._leftchild ...\""
      ]
     },
     "execution_count": 6,
     "metadata": {},
     "output_type": "execute_result"
    }
   ],
   "source": [
    "# Find and strip the excerpt text of the first question\n",
    "question_divs[0].find(\"div\", class_=\"s-post-summary--content-excerpt\").text.strip()"
   ]
  },
  {
   "cell_type": "code",
   "execution_count": 7,
   "metadata": {},
   "outputs": [],
   "source": [
    "# Create an empty list to store the questions\n",
    "question_list = []"
   ]
  },
  {
   "cell_type": "code",
   "execution_count": 8,
   "metadata": {},
   "outputs": [],
   "source": [
    "# Create a for loop to extract the information\n",
    "for question in question_divs:\n",
    "    # Extract the summary\n",
    "    summary = question.find(\"a\", class_=\"s-link\").text\n",
    "    \n",
    "    # Extract the votes\n",
    "    votes = question.find(\"span\", class_=\"s-post-summary--stats-item-number\").text\n",
    "    \n",
    "    # Extract the excerpt\n",
    "    excerpt = question.find(\"div\", class_=\"s-post-summary--content-excerpt\").text.strip()\n",
    "    \n",
    "    # Create a dictionary to store the information\n",
    "    question_dict = {\"summary\": summary,\n",
    "                     \"votes\": int(votes),\n",
    "                     \"excerpt\": excerpt}\n",
    "    \n",
    "    # Append the dictionary to the question list\n",
    "    question_list.append(question_dict)"
   ]
  },
  {
   "cell_type": "code",
   "execution_count": 9,
   "metadata": {},
   "outputs": [
    {
     "data": {
      "text/plain": [
       "[{'summary': 'What does the \"yield\" keyword do?',\n",
       "  'votes': 12486,\n",
       "  'excerpt': \"What is the use of the yield keyword in Python? What does it do?\\nFor example, I'm trying to understand this code1:\\ndef _get_child_candidates(self, distance, min_dist, max_dist):\\n    if self._leftchild ...\"},\n",
       " {'summary': 'What does if __name__ == \"__main__\": do?',\n",
       "  'votes': 7906,\n",
       "  'excerpt': 'What does this do, and why should one include the if statement?\\nif __name__ == \"__main__\":\\n    print(\"Hello, World!\")\\nIf you are trying to close a question where someone should be ...'},\n",
       " {'summary': 'Does Python have a ternary conditional operator?',\n",
       "  'votes': 7623,\n",
       "  'excerpt': 'Is there a ternary conditional operator in Python?'},\n",
       " {'summary': 'What are metaclasses in Python?',\n",
       "  'votes': 7110,\n",
       "  'excerpt': 'What are metaclasses? What are they used for?'},\n",
       " {'summary': 'How do I check whether a file exists without exceptions?',\n",
       "  'votes': 6886,\n",
       "  'excerpt': 'How do I check whether a file exists or not, without using the try statement?'},\n",
       " {'summary': 'How do I merge two dictionaries in a single expression?',\n",
       "  'votes': 6614,\n",
       "  'excerpt': \"I want to merge two dictionaries into a new dictionary.\\nx = {'a': 1, 'b': 2}\\ny = {'b': 3, 'c': 4}\\nz = merge(x, y)\\n\\n>>> z\\n{'a': 1, 'b': 3, 'c': 4}\\n\\nWhenever a key k is present in both ...\"},\n",
       " {'summary': 'How do I execute a program or call a system command?',\n",
       "  'votes': 5900,\n",
       "  'excerpt': 'How do I call an external command within Python as if I had typed it in a shell or command prompt?'},\n",
       " {'summary': 'How can I safely create a directory (possibly including intermediate directories)?',\n",
       "  'votes': 5434,\n",
       "  'excerpt': 'I am writing a file using Python, and I want it to be placed in a specific path. How can I safely make sure that the path exists?\\nThat is: how can I check whether the folder exists, along with its ...'},\n",
       " {'summary': \"Accessing the index in 'for' loops\",\n",
       "  'votes': 5024,\n",
       "  'excerpt': 'How do I access the index while iterating over a sequence with a for loop?\\nxs = [8, 23, 45]\\n\\nfor x in xs:\\n    print(\"item #{} = {}\".format(index, x))\\n\\nDesired output:\\nitem #1 = 8\\nitem #2 = ...'},\n",
       " {'summary': 'How do I make a flat list out of a list of lists?',\n",
       "  'votes': 5017,\n",
       "  'excerpt': 'I have a list of lists like [[1, 2, 3], [4, 5, 6], [7], [8, 9]]. How can I flatten it to get [1, 2, 3, 4, 5, 6, 7, 8, 9]?\\n\\nIf your list of lists comes from a nested list comprehension, the problem can ...'},\n",
       " {'summary': 'Difference between @staticmethod and @classmethod',\n",
       "  'votes': 4488,\n",
       "  'excerpt': 'What is the difference between a method decorated with @staticmethod and one decorated with @classmethod?'},\n",
       " {'summary': 'Understanding slicing',\n",
       "  'votes': 4429,\n",
       "  'excerpt': \"How does Python's slice notation work? That is: when I write code like a[x:y:z], a[:], a[::2] etc., how can I understand which elements end up in the slice? Please include references where appropriate....\"},\n",
       " {'summary': 'Finding the index of an item in a list',\n",
       "  'votes': 4238,\n",
       "  'excerpt': 'Given a list [\"foo\", \"bar\", \"baz\"] and an item in the list \"bar\", how do I get its index 1?'},\n",
       " {'summary': \"Iterating over dictionaries using 'for' loops\",\n",
       "  'votes': 4086,\n",
       "  'excerpt': \"d = {'x': 1, 'y': 2, 'z': 3}\\n\\nfor key in d:\\n    print(key, 'corresponds to', d[key])\\n\\nHow does Python recognize that it needs only to read the key from the dictionary? Is key a special keyword, or is ...\"},\n",
       " {'summary': 'Using global variables in a function',\n",
       "  'votes': 3816,\n",
       "  'excerpt': 'How do I create or use a global variable inside a function?\\nHow do I use a global variable that was defined in one function inside other functions?\\n\\nFailing to use the global keyword where appropriate ...'}]"
      ]
     },
     "execution_count": 9,
     "metadata": {},
     "output_type": "execute_result"
    }
   ],
   "source": [
    "# Display the question list\n",
    "question_list"
   ]
  },
  {
   "cell_type": "code",
   "execution_count": 10,
   "metadata": {},
   "outputs": [],
   "source": [
    "# Close the browser\n",
    "browser.quit()"
   ]
  },
  {
   "cell_type": "code",
   "execution_count": null,
   "metadata": {},
   "outputs": [],
   "source": []
  }
 ],
 "metadata": {
  "kernelspec": {
   "display_name": "Python 3 (ipykernel)",
   "language": "python",
   "name": "python3"
  },
  "language_info": {
   "codemirror_mode": {
    "name": "ipython",
    "version": 3
   },
   "file_extension": ".py",
   "mimetype": "text/x-python",
   "name": "python",
   "nbconvert_exporter": "python",
   "pygments_lexer": "ipython3",
   "version": "3.10.4"
  }
 },
 "nbformat": 4,
 "nbformat_minor": 4
}
